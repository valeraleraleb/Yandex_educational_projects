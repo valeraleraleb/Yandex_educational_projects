{
 "cells": [
  {
   "cell_type": "markdown",
   "metadata": {
    "id": "E0vqbgi9ay0H"
   },
   "source": [
    "# Яндекс.Музыка"
   ]
  },
  {
   "cell_type": "markdown",
   "metadata": {
    "id": "VUC88oWjTJw2"
   },
   "source": [
    "Сравнение Москвы и Петербурга окружено мифами. Например:\n",
    " * Москва — мегаполис, подчинённый жёсткому ритму рабочей недели;\n",
    " * Петербург — культурная столица, со своими вкусами.\n",
    "\n",
    "На данных Яндекс.Музыки вы сравните поведение пользователей двух столиц.\n",
    "\n",
    "**Цель исследования** — проверьте три гипотезы:\n",
    "1. Активность пользователей зависит от дня недели. Причём в Москве и Петербурге это проявляется по-разному.\n",
    "2. В понедельник утром в Москве преобладают одни жанры, а в Петербурге — другие. Так же и вечером пятницы преобладают разные жанры — в зависимости от города. \n",
    "3. Москва и Петербург предпочитают разные жанры музыки. В Москве чаще слушают поп-музыку, в Петербурге — русский рэп.\n",
    "\n",
    "**Ход исследования**\n",
    "\n",
    "Данные о поведении пользователей вы получите из файла `yandex_music_project.csv`. О качестве данных ничего не известно. Поэтому перед проверкой гипотез понадобится обзор данных. \n",
    "\n",
    "Вы проверите данные на ошибки и оцените их влияние на исследование. Затем, на этапе предобработки вы поищете возможность исправить самые критичные ошибки данных.\n",
    " \n",
    "Таким образом, исследование пройдёт в три этапа:\n",
    " 1. Обзор данных.\n",
    " 2. Предобработка данных.\n",
    " 3. Проверка гипотез.\n",
    "\n"
   ]
  },
  {
   "cell_type": "markdown",
   "metadata": {
    "id": "Ml1hmfXC_Zcs"
   },
   "source": [
    "## Обзор данных\n",
    "\n",
    "Составьте первое представление о данных Яндекс.Музыки.\n",
    "\n",
    "\n"
   ]
  },
  {
   "cell_type": "markdown",
   "metadata": {
    "id": "57eAOGIz_Zcs"
   },
   "source": [
    "Основной инструмент аналитика — `pandas`. Импортируйте эту библиотеку."
   ]
  },
  {
   "cell_type": "code",
   "execution_count": 1,
   "metadata": {
    "id": "AXN7PHPN_Zcs"
   },
   "outputs": [],
   "source": [
    "# импорт библиотеки pandas\n",
    "import pandas as pd"
   ]
  },
  {
   "cell_type": "markdown",
   "metadata": {
    "id": "SG23P8tt_Zcs"
   },
   "source": [
    "Прочитайте файл `yandex_music_project.csv` из папки `/datasets` и сохраните его в переменной `df`:"
   ]
  },
  {
   "cell_type": "code",
   "execution_count": 2,
   "metadata": {
    "id": "fFVu7vqh_Zct"
   },
   "outputs": [],
   "source": [
    "# чтение файла с данными и сохранение в df\n",
    "df = pd.read_csv(\"https://code.s3.yandex.net/datasets/yandex_music_project.csv\")"
   ]
  },
  {
   "cell_type": "markdown",
   "metadata": {
    "id": "rDoOMd3uTqnZ"
   },
   "source": [
    "Выведите на экран первые десять строк таблицы:"
   ]
  },
  {
   "cell_type": "code",
   "execution_count": 3,
   "metadata": {
    "id": "oWTVX3gW_Zct"
   },
   "outputs": [
    {
     "data": {
      "text/html": [
       "<div>\n",
       "<style scoped>\n",
       "    .dataframe tbody tr th:only-of-type {\n",
       "        vertical-align: middle;\n",
       "    }\n",
       "\n",
       "    .dataframe tbody tr th {\n",
       "        vertical-align: top;\n",
       "    }\n",
       "\n",
       "    .dataframe thead th {\n",
       "        text-align: right;\n",
       "    }\n",
       "</style>\n",
       "<table border=\"1\" class=\"dataframe\">\n",
       "  <thead>\n",
       "    <tr style=\"text-align: right;\">\n",
       "      <th></th>\n",
       "      <th>userID</th>\n",
       "      <th>Track</th>\n",
       "      <th>artist</th>\n",
       "      <th>genre</th>\n",
       "      <th>City</th>\n",
       "      <th>time</th>\n",
       "      <th>Day</th>\n",
       "    </tr>\n",
       "  </thead>\n",
       "  <tbody>\n",
       "    <tr>\n",
       "      <td>0</td>\n",
       "      <td>FFB692EC</td>\n",
       "      <td>Kamigata To Boots</td>\n",
       "      <td>The Mass Missile</td>\n",
       "      <td>rock</td>\n",
       "      <td>Saint-Petersburg</td>\n",
       "      <td>20:28:33</td>\n",
       "      <td>Wednesday</td>\n",
       "    </tr>\n",
       "    <tr>\n",
       "      <td>1</td>\n",
       "      <td>55204538</td>\n",
       "      <td>Delayed Because of Accident</td>\n",
       "      <td>Andreas Rönnberg</td>\n",
       "      <td>rock</td>\n",
       "      <td>Moscow</td>\n",
       "      <td>14:07:09</td>\n",
       "      <td>Friday</td>\n",
       "    </tr>\n",
       "    <tr>\n",
       "      <td>2</td>\n",
       "      <td>20EC38</td>\n",
       "      <td>Funiculì funiculà</td>\n",
       "      <td>Mario Lanza</td>\n",
       "      <td>pop</td>\n",
       "      <td>Saint-Petersburg</td>\n",
       "      <td>20:58:07</td>\n",
       "      <td>Wednesday</td>\n",
       "    </tr>\n",
       "    <tr>\n",
       "      <td>3</td>\n",
       "      <td>A3DD03C9</td>\n",
       "      <td>Dragons in the Sunset</td>\n",
       "      <td>Fire + Ice</td>\n",
       "      <td>folk</td>\n",
       "      <td>Saint-Petersburg</td>\n",
       "      <td>08:37:09</td>\n",
       "      <td>Monday</td>\n",
       "    </tr>\n",
       "    <tr>\n",
       "      <td>4</td>\n",
       "      <td>E2DC1FAE</td>\n",
       "      <td>Soul People</td>\n",
       "      <td>Space Echo</td>\n",
       "      <td>dance</td>\n",
       "      <td>Moscow</td>\n",
       "      <td>08:34:34</td>\n",
       "      <td>Monday</td>\n",
       "    </tr>\n",
       "    <tr>\n",
       "      <td>5</td>\n",
       "      <td>842029A1</td>\n",
       "      <td>Преданная</td>\n",
       "      <td>IMPERVTOR</td>\n",
       "      <td>rusrap</td>\n",
       "      <td>Saint-Petersburg</td>\n",
       "      <td>13:09:41</td>\n",
       "      <td>Friday</td>\n",
       "    </tr>\n",
       "    <tr>\n",
       "      <td>6</td>\n",
       "      <td>4CB90AA5</td>\n",
       "      <td>True</td>\n",
       "      <td>Roman Messer</td>\n",
       "      <td>dance</td>\n",
       "      <td>Moscow</td>\n",
       "      <td>13:00:07</td>\n",
       "      <td>Wednesday</td>\n",
       "    </tr>\n",
       "    <tr>\n",
       "      <td>7</td>\n",
       "      <td>F03E1C1F</td>\n",
       "      <td>Feeling This Way</td>\n",
       "      <td>Polina Griffith</td>\n",
       "      <td>dance</td>\n",
       "      <td>Moscow</td>\n",
       "      <td>20:47:49</td>\n",
       "      <td>Wednesday</td>\n",
       "    </tr>\n",
       "    <tr>\n",
       "      <td>8</td>\n",
       "      <td>8FA1D3BE</td>\n",
       "      <td>И вновь продолжается бой</td>\n",
       "      <td>NaN</td>\n",
       "      <td>ruspop</td>\n",
       "      <td>Moscow</td>\n",
       "      <td>09:17:40</td>\n",
       "      <td>Friday</td>\n",
       "    </tr>\n",
       "    <tr>\n",
       "      <td>9</td>\n",
       "      <td>E772D5C0</td>\n",
       "      <td>Pessimist</td>\n",
       "      <td>NaN</td>\n",
       "      <td>dance</td>\n",
       "      <td>Saint-Petersburg</td>\n",
       "      <td>21:20:49</td>\n",
       "      <td>Wednesday</td>\n",
       "    </tr>\n",
       "  </tbody>\n",
       "</table>\n",
       "</div>"
      ],
      "text/plain": [
       "     userID                        Track            artist   genre  \\\n",
       "0  FFB692EC            Kamigata To Boots  The Mass Missile    rock   \n",
       "1  55204538  Delayed Because of Accident  Andreas Rönnberg    rock   \n",
       "2    20EC38            Funiculì funiculà       Mario Lanza     pop   \n",
       "3  A3DD03C9        Dragons in the Sunset        Fire + Ice    folk   \n",
       "4  E2DC1FAE                  Soul People        Space Echo   dance   \n",
       "5  842029A1                    Преданная         IMPERVTOR  rusrap   \n",
       "6  4CB90AA5                         True      Roman Messer   dance   \n",
       "7  F03E1C1F             Feeling This Way   Polina Griffith   dance   \n",
       "8  8FA1D3BE     И вновь продолжается бой               NaN  ruspop   \n",
       "9  E772D5C0                    Pessimist               NaN   dance   \n",
       "\n",
       "             City        time        Day  \n",
       "0  Saint-Petersburg  20:28:33  Wednesday  \n",
       "1            Moscow  14:07:09     Friday  \n",
       "2  Saint-Petersburg  20:58:07  Wednesday  \n",
       "3  Saint-Petersburg  08:37:09     Monday  \n",
       "4            Moscow  08:34:34     Monday  \n",
       "5  Saint-Petersburg  13:09:41     Friday  \n",
       "6            Moscow  13:00:07  Wednesday  \n",
       "7            Moscow  20:47:49  Wednesday  \n",
       "8            Moscow  09:17:40     Friday  \n",
       "9  Saint-Petersburg  21:20:49  Wednesday  "
      ]
     },
     "execution_count": 3,
     "metadata": {},
     "output_type": "execute_result"
    }
   ],
   "source": [
    "# получение первых 10 строк таблицы df\n",
    "df.head(10)"
   ]
  },
  {
   "cell_type": "markdown",
   "metadata": {
    "id": "EO73Kwic_Zct"
   },
   "source": [
    "Одной командой получить общую информацию о таблице:"
   ]
  },
  {
   "cell_type": "code",
   "execution_count": 4,
   "metadata": {
    "id": "DSf2kIb-_Zct"
   },
   "outputs": [
    {
     "name": "stdout",
     "output_type": "stream",
     "text": [
      "<class 'pandas.core.frame.DataFrame'>\n",
      "RangeIndex: 65079 entries, 0 to 65078\n",
      "Data columns (total 7 columns):\n",
      "  userID    65079 non-null object\n",
      "Track       63848 non-null object\n",
      "artist      57876 non-null object\n",
      "genre       63881 non-null object\n",
      "  City      65079 non-null object\n",
      "time        65079 non-null object\n",
      "Day         65079 non-null object\n",
      "dtypes: object(7)\n",
      "memory usage: 3.5+ MB\n"
     ]
    }
   ],
   "source": [
    "# получение общей информации о данных в таблице df\n",
    "df.info()"
   ]
  },
  {
   "cell_type": "markdown",
   "metadata": {
    "id": "TaQ2Iwbr_Zct"
   },
   "source": [
    "Итак, в таблице семь столбцов. Тип данных во всех столбцах — `object`.\n",
    "\n",
    "Согласно документации к данным:\n",
    "* `userID` — идентификатор пользователя;\n",
    "* `Track` — название трека;  \n",
    "* `artist` — имя исполнителя;\n",
    "* `genre` — название жанра;\n",
    "* `City` — город пользователя;\n",
    "* `time` — время начала прослушивания;\n",
    "* `Day` — день недели.\n",
    "\n",
    "В названиях колонок видны три нарушения стиля:\n",
    "1. Строчные буквы сочетаются с прописными.\n",
    "2. Встречаются пробелы.<b>\n",
    "3. Найдите ещё одну проблему в названии колонок и опишите её в этом пункте.</b>\n",
    "\n",
    "\n",
    "\n",
    "Количество значений в столбцах различается. Значит, в данных есть пропущенные значения.\n"
   ]
  },
  {
   "cell_type": "markdown",
   "metadata": {
    "id": "MCB6-dXG_Zct"
   },
   "source": [
    "**Выводы**\n",
    "\n",
    "В каждой строке таблицы — данные о прослушанном треке. Часть колонок описывает саму композицию: название, исполнителя и жанр. Остальные данные рассказывают о пользователе: из какого он города, когда он слушал музыку. \n",
    "\n",
    "Предварительно можно утверждать, что, данных достаточно для проверки гипотез. Но встречаются пропуски в данных, а в названиях колонок — расхождения с хорошим стилем.\n",
    "\n",
    "Чтобы двигаться дальше, нужно устранить проблемы в данных."
   ]
  },
  {
   "cell_type": "markdown",
   "metadata": {
    "id": "SjYF6Ub9_Zct"
   },
   "source": [
    "## Предобработка данных\n",
    "Исправьте стиль в заголовках столбцов, исключите пропуски. Затем проверьте данные на дубликаты."
   ]
  },
  {
   "cell_type": "markdown",
   "metadata": {
    "id": "dIaKXr29_Zct"
   },
   "source": [
    "### Стиль заголовков\n",
    "Выведите на экран названия столбцов:"
   ]
  },
  {
   "cell_type": "code",
   "execution_count": 5,
   "metadata": {
    "id": "oKOTdF_Q_Zct"
   },
   "outputs": [
    {
     "data": {
      "text/plain": [
       "Index(['  userID', 'Track', 'artist', 'genre', '  City  ', 'time', 'Day'], dtype='object')"
      ]
     },
     "execution_count": 5,
     "metadata": {},
     "output_type": "execute_result"
    }
   ],
   "source": [
    "# перечень названий столбцов таблицы df\n",
    "df.columns"
   ]
  },
  {
   "cell_type": "markdown",
   "metadata": {
    "id": "zj5534cv_Zct"
   },
   "source": [
    "Приведите названия в соответствие с хорошим стилем:\n",
    "* несколько слов в названии запишите в «змеином_регистре»,\n",
    "* все символы сделайте строчными,\n",
    "* устраните пробелы.\n",
    "\n",
    "Для этого переименуйте колонки так:\n",
    "* `'  userID'` → `'user_id'`;\n",
    "* `'Track'` → `'track'`;\n",
    "* `'  City  '` → `'city'`;\n",
    "* `'Day'` → `'day'`."
   ]
  },
  {
   "cell_type": "code",
   "execution_count": 6,
   "metadata": {
    "id": "ISlFqs5y_Zct"
   },
   "outputs": [],
   "source": [
    "# переименование столбцов\n",
    "df = df.rename(columns={'  userID': 'user_id', \n",
    "                          'Track': 'track', \n",
    "                          '  City  ': 'city',\n",
    "                          'Day': 'day'})"
   ]
  },
  {
   "cell_type": "markdown",
   "metadata": {
    "id": "1dqbh00J_Zct"
   },
   "source": [
    "Проверьте результат. Для этого ещё раз выведите на экран названия столбцов:"
   ]
  },
  {
   "cell_type": "code",
   "execution_count": 7,
   "metadata": {
    "id": "d4NOAmTW_Zct"
   },
   "outputs": [
    {
     "data": {
      "text/plain": [
       "Index(['user_id', 'track', 'artist', 'genre', 'city', 'time', 'day'], dtype='object')"
      ]
     },
     "execution_count": 7,
     "metadata": {},
     "output_type": "execute_result"
    }
   ],
   "source": [
    "# проверка результатов - перечень названий столбцов\n",
    "df.columns"
   ]
  },
  {
   "cell_type": "markdown",
   "metadata": {
    "id": "5ISfbcfY_Zct"
   },
   "source": [
    "### Пропуски значений\n",
    "Сначала посчитайте, сколько в таблице пропущенных значений. Для этого достаточно двух методов `pandas`:"
   ]
  },
  {
   "cell_type": "code",
   "execution_count": 8,
   "metadata": {
    "id": "RskX29qr_Zct"
   },
   "outputs": [
    {
     "data": {
      "text/plain": [
       "user_id       0\n",
       "track      1231\n",
       "artist     7203\n",
       "genre      1198\n",
       "city          0\n",
       "time          0\n",
       "day           0\n",
       "dtype: int64"
      ]
     },
     "execution_count": 8,
     "metadata": {},
     "output_type": "execute_result"
    }
   ],
   "source": [
    "# подсчёт пропусков\n",
    "df.isna().sum()"
   ]
  },
  {
   "cell_type": "markdown",
   "metadata": {
    "id": "qubhgnlO_Zct"
   },
   "source": [
    "Не все пропущенные значения влияют на исследование. Так в `track` и `artist` пропуски не важны для вашей работы. Достаточно заменить их явными обозначениями.\n",
    "\n",
    "Но пропуски в `genre` могут помешать сравнению музыкальных вкусов в Москве и Санкт-Петербурге. На практике было бы правильно установить причину пропусков и восстановить данные. Такой возможности нет в учебном проекте. Придётся:\n",
    "* заполнить и эти пропуски явными обозначениями,\n",
    "* оценить, насколько они повредят расчётам. "
   ]
  },
  {
   "cell_type": "markdown",
   "metadata": {
    "id": "fSv2laPA_Zct"
   },
   "source": [
    "Замените пропущенные значения в столбцах `track`, `artist` и `genre` на строку `'unknown'`. Для этого создайте список `columns_to_replace`, переберите его элементы циклом `for` и для каждого столбца выполните замену пропущенных значений:"
   ]
  },
  {
   "cell_type": "code",
   "execution_count": 9,
   "metadata": {},
   "outputs": [],
   "source": [
    "columns_to_replace = [\"track\", \"artist\", \"genre\"]\n",
    "\n",
    "for column in columns_to_replace:\n",
    "    df[column] = df[column].fillna('unknown') "
   ]
  },
  {
   "cell_type": "markdown",
   "metadata": {
    "id": "Ilsm-MZo_Zct"
   },
   "source": [
    "Убедитесь, что в таблице не осталось пропусков. Для этого ещё раз посчитайте пропущенные значения."
   ]
  },
  {
   "cell_type": "code",
   "execution_count": 10,
   "metadata": {
    "id": "Tq4nYRX4_Zct"
   },
   "outputs": [
    {
     "data": {
      "text/plain": [
       "user_id    0\n",
       "track      0\n",
       "artist     0\n",
       "genre      0\n",
       "city       0\n",
       "time       0\n",
       "day        0\n",
       "dtype: int64"
      ]
     },
     "execution_count": 10,
     "metadata": {},
     "output_type": "execute_result"
    }
   ],
   "source": [
    "# подсчёт пропусков\n",
    "df.isna().sum()"
   ]
  },
  {
   "cell_type": "markdown",
   "metadata": {
    "id": "BWKRtBJ3_Zct"
   },
   "source": [
    "### Дубликаты\n",
    "Посчитайте явные дубликаты в таблице одной командой:"
   ]
  },
  {
   "cell_type": "code",
   "execution_count": 11,
   "metadata": {
    "id": "36eES_S0_Zct"
   },
   "outputs": [
    {
     "data": {
      "text/plain": [
       "3826"
      ]
     },
     "execution_count": 11,
     "metadata": {},
     "output_type": "execute_result"
    }
   ],
   "source": [
    "# подсчёт явных дубликатов\n",
    "df.duplicated().sum()"
   ]
  },
  {
   "cell_type": "markdown",
   "metadata": {
    "id": "Ot25h6XR_Zct"
   },
   "source": [
    "Вызовите специальный метод `pandas`, чтобы удалить явные дубликаты:"
   ]
  },
  {
   "cell_type": "code",
   "execution_count": 12,
   "metadata": {
    "id": "exFHq6tt_Zct"
   },
   "outputs": [],
   "source": [
    "# удаление явных дубликатов (с удалением старых индексов и формированием новых)\n",
    "df = df.drop_duplicates().reset_index(drop=True) "
   ]
  },
  {
   "cell_type": "markdown",
   "metadata": {
    "id": "Im2YwBEG_Zct"
   },
   "source": [
    "Ещё раз посчитайте явные дубликаты в таблице — убедитесь, что полностью от них избавились:"
   ]
  },
  {
   "cell_type": "code",
   "execution_count": 13,
   "metadata": {
    "id": "-8PuNWQ0_Zct"
   },
   "outputs": [
    {
     "data": {
      "text/plain": [
       "0"
      ]
     },
     "execution_count": 13,
     "metadata": {},
     "output_type": "execute_result"
    }
   ],
   "source": [
    "# проверка на отсутствие дубликатов\n",
    "df.duplicated().sum()"
   ]
  },
  {
   "cell_type": "markdown",
   "metadata": {
    "id": "QlFBsxAr_Zct"
   },
   "source": [
    "Теперь избавьтесь от неявных дубликатов в колонке `genre`. Например, название одного и того же жанра может быть записано немного по-разному. Такие ошибки тоже повлияют на результат исследования."
   ]
  },
  {
   "cell_type": "markdown",
   "metadata": {
    "id": "eSjWwsOh_Zct"
   },
   "source": [
    "Выведите на экран список уникальных названий жанров, отсортированный в алфавитном порядке. Для этого:\n",
    "* извлеките нужный столбец датафрейма, \n",
    "* примените к нему метод сортировки,\n",
    "* для отсортированного столбца вызовите метод, который вернёт уникальные значения из столбца."
   ]
  },
  {
   "cell_type": "code",
   "execution_count": 14,
   "metadata": {
    "id": "JIUcqzZN_Zct"
   },
   "outputs": [
    {
     "data": {
      "text/plain": [
       "array(['rock', 'pop', 'folk', 'dance', 'rusrap', 'ruspop', 'world',\n",
       "       'electronic', 'unknown', 'alternative', 'children', 'rnb', 'hip',\n",
       "       'jazz', 'postrock', 'latin', 'classical', 'metal', 'reggae',\n",
       "       'tatar', 'blues', 'instrumental', 'rusrock', 'dnb', 'türk', 'post',\n",
       "       'country', 'psychedelic', 'conjazz', 'indie', 'posthardcore',\n",
       "       'local', 'avantgarde', 'punk', 'videogame', 'techno', 'house',\n",
       "       'christmas', 'melodic', 'caucasian', 'reggaeton', 'soundtrack',\n",
       "       'singer', 'ska', 'shanson', 'ambient', 'film', 'western', 'rap',\n",
       "       'beats', \"hard'n'heavy\", 'progmetal', 'minimal', 'contemporary',\n",
       "       'new', 'soul', 'holiday', 'german', 'tropical', 'fairytail',\n",
       "       'spiritual', 'urban', 'gospel', 'nujazz', 'folkmetal', 'trance',\n",
       "       'miscellaneous', 'anime', 'hardcore', 'progressive', 'chanson',\n",
       "       'numetal', 'vocal', 'estrada', 'russian', 'classicmetal',\n",
       "       'dubstep', 'club', 'deep', 'southern', 'black', 'folkrock',\n",
       "       'fitness', 'french', 'disco', 'religious', 'hiphop', 'drum',\n",
       "       'extrememetal', 'türkçe', 'experimental', 'easy', 'metalcore',\n",
       "       'modern', 'argentinetango', 'old', 'breaks', 'eurofolk',\n",
       "       'stonerrock', 'industrial', 'funk', 'jpop', 'middle', 'variété',\n",
       "       'other', 'adult', 'christian', 'gothic', 'international', 'muslim',\n",
       "       'relax', 'schlager', 'caribbean', 'ukrrock', 'nu', 'breakbeat',\n",
       "       'comedy', 'chill', 'newage', 'specialty', 'uzbek', 'k-pop',\n",
       "       'balkan', 'chinese', 'meditative', 'dub', 'power', 'death',\n",
       "       'grime', 'arabesk', 'romance', 'flamenco', 'leftfield', 'european',\n",
       "       'tech', 'newwave', 'dancehall', 'mpb', 'piano', 'top', 'bigroom',\n",
       "       'opera', 'celtic', 'tradjazz', 'acoustic', 'epicmetal', 'hip-hop',\n",
       "       'historisch', 'downbeat', 'downtempo', 'africa', 'audiobook',\n",
       "       'jewish', 'sängerportrait', 'deutschrock', 'eastern', 'action',\n",
       "       'future', 'electropop', 'folklore', 'bollywood', 'marschmusik',\n",
       "       'rnr', 'karaoke', 'indian', 'rancheras', 'электроника',\n",
       "       'afrikaans', 'tango', 'rhythm', 'sound', 'deutschspr', 'trip',\n",
       "       'lovers', 'choral', 'dancepop', 'podcasts', 'retro', 'smooth',\n",
       "       'mexican', 'brazilian', 'ïîï', 'mood', 'surf', 'author', 'gangsta',\n",
       "       'triphop', 'inspirational', 'idm', 'ethnic', 'bluegrass',\n",
       "       'broadway', 'animated', 'americana', 'karadeniz', 'rockabilly',\n",
       "       'colombian', 'self', 'hop', 'synthrock', 'sertanejo', 'japanese',\n",
       "       'canzone', 'swing', 'lounge', 'sport', 'korean', 'ragga',\n",
       "       'traditional', 'gitarre', 'frankreich', 'alternativepunk', 'emo',\n",
       "       'laiko', 'cantopop', 'glitch', 'documentary', 'rockalternative',\n",
       "       'thrash', 'hymn', 'oceania', 'rockother', 'popeurodance', 'dark',\n",
       "       'vi', 'grunge', 'hardstyle', 'samba', 'garage', 'soft', 'art',\n",
       "       'folktronica', 'entehno', 'mediterranean', 'chamber', 'cuban',\n",
       "       'taraftar', 'rockindie', 'gypsy', 'hardtechno', 'shoegazing',\n",
       "       'skarock', 'bossa', 'salsa', 'latino', 'worldbeat', 'malaysian',\n",
       "       'baile', 'ghazal', 'loungeelectronic', 'arabic', 'popelectronic',\n",
       "       'acid', 'kayokyoku', 'neoklassik', 'tribal', 'tanzorchester',\n",
       "       'native', 'independent', 'cantautori', 'handsup', 'poprussian',\n",
       "       'punjabi', 'synthpop', 'rave', 'französisch', 'quebecois',\n",
       "       'speech', 'soulful', 'teen', 'jam', 'ram', 'horror', 'scenic',\n",
       "       'orchestral', 'neue', 'roots', 'slow', 'jungle', 'indipop', 'axé',\n",
       "       'fado', 'showtunes', 'arena', 'irish', 'mandopop', 'forró',\n",
       "       'popdance', 'dirty', 'regional'], dtype=object)"
      ]
     },
     "execution_count": 14,
     "metadata": {},
     "output_type": "execute_result"
    }
   ],
   "source": [
    "# Просмотр уникальных названий жанров\n",
    "df['genre'].unique()"
   ]
  },
  {
   "cell_type": "code",
   "execution_count": 15,
   "metadata": {},
   "outputs": [
    {
     "name": "stdout",
     "output_type": "stream",
     "text": [
      "['hildren', 'hip', 'hiphop', 'hic', 'hill', 'hinese', 'hip-hop', 'historisch']\n",
      "['hip', 'hiphop', 'hip-hop']\n",
      "['hiphop', 'hip-hop', 'triphop', 'hop']\n",
      "\n",
      "['postrock', 'rusrock', 'folkrock', 'stonerrock', 'ukrrock', 'deutschrock', 'synthrock', 'skarock']\n",
      "['ruspop', 'jpop', 'electropop', 'dancepop', 'cantopop', 'synthpop', 'indipop', 'mandopop']\n"
     ]
    }
   ],
   "source": [
    "# самое простое, \n",
    "# + здесь огромное поле для творчества\n",
    "\n",
    "import re # здесь в виде исключения\n",
    "\n",
    "print(re.findall(r'hi[\\w+-]+', str(df.genre.unique())))\n",
    "print(re.findall(r'hip[\\w+-]{0,8}', str(df.genre.unique()))) # отличие в одной букве - p\n",
    "print(re.findall(r'[\\w+-]{0,10}hop', str(df.genre.unique())))\n",
    "print ('')\n",
    "print(re.findall(r'\\w+roc\\w+', str(df.genre.unique()), flags=re.MULTILINE)) \n",
    "print(re.findall(r'\\w+pop', str(df.genre.unique()), flags=re.MULTILINE)) \n"
   ]
  },
  {
   "cell_type": "markdown",
   "metadata": {
    "id": "qej-Qmuo_Zct"
   },
   "source": [
    "Просмотрите список и найдите неявные дубликаты названия `hiphop`. Это могут быть названия с ошибками или альтернативные названия того же жанра.\n",
    "\n",
    "Вы увидите следующие неявные дубликаты:\n",
    "* *hip*,\n",
    "* *hop*,\n",
    "* *hip-hop*."
   ]
  },
  {
   "attachments": {
    "hip_hop.JPG": {
     "image/jpeg": "[encoded data removed]"
    }
   },
   "cell_type": "markdown",
   "metadata": {},
   "source": [
    "![hip_hop.JPG](attachment:hip_hop.JPG)"
   ]
  },
  {
   "cell_type": "markdown",
   "metadata": {
    "id": "qej-Qmuo_Zct"
   },
   "source": [
    "Чтобы очистить от них таблицу, напишите функцию `replace_wrong_genres()` с двумя параметрами: \n",
    "* `wrong_genres` — список дубликатов,\n",
    "* `correct_genre` — строка с правильным значением.\n",
    "\n",
    "Функция должна исправить колонку `genre` в таблице `df`: заменить каждое значение из списка `wrong_genres` на значение из `correct_genre`."
   ]
  },
  {
   "cell_type": "code",
   "execution_count": 16,
   "metadata": {
    "id": "ErNDkmns_Zct"
   },
   "outputs": [],
   "source": [
    "# Функция для замены неявных дубликатов\n",
    "def replace_wrong_genres(wrong_genres, correct_genre):\n",
    "    for wrong_genre in wrong_genres:\n",
    "        df['genre'] = df['genre'].replace(wrong_genres, correct_genre)"
   ]
  },
  {
   "cell_type": "markdown",
   "metadata": {
    "id": "aDoBJxbA_Zct"
   },
   "source": [
    "Вызовите `replace_wrong_genres()` и передайте ей такие аргументы, чтобы она устранила неявные дубликаты: вместо `hip`, `hop` и `hip-hop` в таблице должно быть значение `hiphop`:"
   ]
  },
  {
   "cell_type": "code",
   "execution_count": 17,
   "metadata": {
    "id": "YN5i2hpmSo09"
   },
   "outputs": [],
   "source": [
    "# Устранение неявных дубликатов\n",
    "duplicates = ['hip', 'hop', 'hip-hop']\n",
    "correct = 'hiphop'\n",
    "\n",
    "replace_wrong_genres(duplicates, correct)"
   ]
  },
  {
   "cell_type": "markdown",
   "metadata": {
    "id": "zQKF16_RG15m"
   },
   "source": [
    "Проверьте, что заменили неправильные названия:\n",
    "\n",
    "*   hip\n",
    "*   hop\n",
    "*   hip-hop\n",
    "\n",
    "Выведите отсортированный список уникальных значений столбца `genre`:"
   ]
  },
  {
   "cell_type": "code",
   "execution_count": 18,
   "metadata": {
    "id": "wvixALnFG15m"
   },
   "outputs": [
    {
     "data": {
      "text/plain": [
       "array(['acid', 'acoustic', 'action', 'adult', 'africa', 'afrikaans',\n",
       "       'alternative', 'alternativepunk', 'ambient', 'americana',\n",
       "       'animated', 'anime', 'arabesk', 'arabic', 'arena',\n",
       "       'argentinetango', 'art', 'audiobook', 'author', 'avantgarde',\n",
       "       'axé', 'baile', 'balkan', 'beats', 'bigroom', 'black', 'bluegrass',\n",
       "       'blues', 'bollywood', 'bossa', 'brazilian', 'breakbeat', 'breaks',\n",
       "       'broadway', 'cantautori', 'cantopop', 'canzone', 'caribbean',\n",
       "       'caucasian', 'celtic', 'chamber', 'chanson', 'children', 'chill',\n",
       "       'chinese', 'choral', 'christian', 'christmas', 'classical',\n",
       "       'classicmetal', 'club', 'colombian', 'comedy', 'conjazz',\n",
       "       'contemporary', 'country', 'cuban', 'dance', 'dancehall',\n",
       "       'dancepop', 'dark', 'death', 'deep', 'deutschrock', 'deutschspr',\n",
       "       'dirty', 'disco', 'dnb', 'documentary', 'downbeat', 'downtempo',\n",
       "       'drum', 'dub', 'dubstep', 'eastern', 'easy', 'electronic',\n",
       "       'electropop', 'emo', 'entehno', 'epicmetal', 'estrada', 'ethnic',\n",
       "       'eurofolk', 'european', 'experimental', 'extrememetal', 'fado',\n",
       "       'fairytail', 'film', 'fitness', 'flamenco', 'folk', 'folklore',\n",
       "       'folkmetal', 'folkrock', 'folktronica', 'forró', 'frankreich',\n",
       "       'französisch', 'french', 'funk', 'future', 'gangsta', 'garage',\n",
       "       'german', 'ghazal', 'gitarre', 'glitch', 'gospel', 'gothic',\n",
       "       'grime', 'grunge', 'gypsy', 'handsup', \"hard'n'heavy\", 'hardcore',\n",
       "       'hardstyle', 'hardtechno', 'hiphop', 'historisch', 'holiday',\n",
       "       'horror', 'house', 'hymn', 'idm', 'independent', 'indian', 'indie',\n",
       "       'indipop', 'industrial', 'inspirational', 'instrumental',\n",
       "       'international', 'irish', 'jam', 'japanese', 'jazz', 'jewish',\n",
       "       'jpop', 'jungle', 'k-pop', 'karadeniz', 'karaoke', 'kayokyoku',\n",
       "       'korean', 'laiko', 'latin', 'latino', 'leftfield', 'local',\n",
       "       'lounge', 'loungeelectronic', 'lovers', 'malaysian', 'mandopop',\n",
       "       'marschmusik', 'meditative', 'mediterranean', 'melodic', 'metal',\n",
       "       'metalcore', 'mexican', 'middle', 'minimal', 'miscellaneous',\n",
       "       'modern', 'mood', 'mpb', 'muslim', 'native', 'neoklassik', 'neue',\n",
       "       'new', 'newage', 'newwave', 'nu', 'nujazz', 'numetal', 'oceania',\n",
       "       'old', 'opera', 'orchestral', 'other', 'piano', 'podcasts', 'pop',\n",
       "       'popdance', 'popelectronic', 'popeurodance', 'poprussian', 'post',\n",
       "       'posthardcore', 'postrock', 'power', 'progmetal', 'progressive',\n",
       "       'psychedelic', 'punjabi', 'punk', 'quebecois', 'ragga', 'ram',\n",
       "       'rancheras', 'rap', 'rave', 'reggae', 'reggaeton', 'regional',\n",
       "       'relax', 'religious', 'retro', 'rhythm', 'rnb', 'rnr', 'rock',\n",
       "       'rockabilly', 'rockalternative', 'rockindie', 'rockother',\n",
       "       'romance', 'roots', 'ruspop', 'rusrap', 'rusrock', 'russian',\n",
       "       'salsa', 'samba', 'scenic', 'schlager', 'self', 'sertanejo',\n",
       "       'shanson', 'shoegazing', 'showtunes', 'singer', 'ska', 'skarock',\n",
       "       'slow', 'smooth', 'soft', 'soul', 'soulful', 'sound', 'soundtrack',\n",
       "       'southern', 'specialty', 'speech', 'spiritual', 'sport',\n",
       "       'stonerrock', 'surf', 'swing', 'synthpop', 'synthrock',\n",
       "       'sängerportrait', 'tango', 'tanzorchester', 'taraftar', 'tatar',\n",
       "       'tech', 'techno', 'teen', 'thrash', 'top', 'traditional',\n",
       "       'tradjazz', 'trance', 'tribal', 'trip', 'triphop', 'tropical',\n",
       "       'türk', 'türkçe', 'ukrrock', 'unknown', 'urban', 'uzbek',\n",
       "       'variété', 'vi', 'videogame', 'vocal', 'western', 'world',\n",
       "       'worldbeat', 'ïîï', 'электроника'], dtype=object)"
      ]
     },
     "execution_count": 18,
     "metadata": {},
     "output_type": "execute_result"
    }
   ],
   "source": [
    "# Проверка на неявные дубликаты\n",
    "df['genre'].sort_values().unique()"
   ]
  },
  {
   "cell_type": "markdown",
   "metadata": {},
   "source": [
    "После сортировки, видно явно выпадающее значение на русском языке - 'электроника'.  \n",
    "**В задании нет указания на это исправление, но мне кажется это значение странным**,  \n",
    "поэтому я поменяю его на \"electronic\""
   ]
  },
  {
   "cell_type": "code",
   "execution_count": 19,
   "metadata": {},
   "outputs": [
    {
     "data": {
      "text/plain": [
       "array(['acid', 'acoustic', 'action', 'adult', 'africa', 'afrikaans',\n",
       "       'alternative', 'alternativepunk', 'ambient', 'americana',\n",
       "       'animated', 'anime', 'arabesk', 'arabic', 'arena',\n",
       "       'argentinetango', 'art', 'audiobook', 'author', 'avantgarde',\n",
       "       'axé', 'baile', 'balkan', 'beats', 'bigroom', 'black', 'bluegrass',\n",
       "       'blues', 'bollywood', 'bossa', 'brazilian', 'breakbeat', 'breaks',\n",
       "       'broadway', 'cantautori', 'cantopop', 'canzone', 'caribbean',\n",
       "       'caucasian', 'celtic', 'chamber', 'chanson', 'children', 'chill',\n",
       "       'chinese', 'choral', 'christian', 'christmas', 'classical',\n",
       "       'classicmetal', 'club', 'colombian', 'comedy', 'conjazz',\n",
       "       'contemporary', 'country', 'cuban', 'dance', 'dancehall',\n",
       "       'dancepop', 'dark', 'death', 'deep', 'deutschrock', 'deutschspr',\n",
       "       'dirty', 'disco', 'dnb', 'documentary', 'downbeat', 'downtempo',\n",
       "       'drum', 'dub', 'dubstep', 'eastern', 'easy', 'electronic',\n",
       "       'electropop', 'emo', 'entehno', 'epicmetal', 'estrada', 'ethnic',\n",
       "       'eurofolk', 'european', 'experimental', 'extrememetal', 'fado',\n",
       "       'fairytail', 'film', 'fitness', 'flamenco', 'folk', 'folklore',\n",
       "       'folkmetal', 'folkrock', 'folktronica', 'forró', 'frankreich',\n",
       "       'französisch', 'french', 'funk', 'future', 'gangsta', 'garage',\n",
       "       'german', 'ghazal', 'gitarre', 'glitch', 'gospel', 'gothic',\n",
       "       'grime', 'grunge', 'gypsy', 'handsup', \"hard'n'heavy\", 'hardcore',\n",
       "       'hardstyle', 'hardtechno', 'hiphop', 'historisch', 'holiday',\n",
       "       'horror', 'house', 'hymn', 'idm', 'independent', 'indian', 'indie',\n",
       "       'indipop', 'industrial', 'inspirational', 'instrumental',\n",
       "       'international', 'irish', 'jam', 'japanese', 'jazz', 'jewish',\n",
       "       'jpop', 'jungle', 'k-pop', 'karadeniz', 'karaoke', 'kayokyoku',\n",
       "       'korean', 'laiko', 'latin', 'latino', 'leftfield', 'local',\n",
       "       'lounge', 'loungeelectronic', 'lovers', 'malaysian', 'mandopop',\n",
       "       'marschmusik', 'meditative', 'mediterranean', 'melodic', 'metal',\n",
       "       'metalcore', 'mexican', 'middle', 'minimal', 'miscellaneous',\n",
       "       'modern', 'mood', 'mpb', 'muslim', 'native', 'neoklassik', 'neue',\n",
       "       'new', 'newage', 'newwave', 'nu', 'nujazz', 'numetal', 'oceania',\n",
       "       'old', 'opera', 'orchestral', 'other', 'piano', 'podcasts', 'pop',\n",
       "       'popdance', 'popelectronic', 'popeurodance', 'poprussian', 'post',\n",
       "       'posthardcore', 'postrock', 'power', 'progmetal', 'progressive',\n",
       "       'psychedelic', 'punjabi', 'punk', 'quebecois', 'ragga', 'ram',\n",
       "       'rancheras', 'rap', 'rave', 'reggae', 'reggaeton', 'regional',\n",
       "       'relax', 'religious', 'retro', 'rhythm', 'rnb', 'rnr', 'rock',\n",
       "       'rockabilly', 'rockalternative', 'rockindie', 'rockother',\n",
       "       'romance', 'roots', 'ruspop', 'rusrap', 'rusrock', 'russian',\n",
       "       'salsa', 'samba', 'scenic', 'schlager', 'self', 'sertanejo',\n",
       "       'shanson', 'shoegazing', 'showtunes', 'singer', 'ska', 'skarock',\n",
       "       'slow', 'smooth', 'soft', 'soul', 'soulful', 'sound', 'soundtrack',\n",
       "       'southern', 'specialty', 'speech', 'spiritual', 'sport',\n",
       "       'stonerrock', 'surf', 'swing', 'synthpop', 'synthrock',\n",
       "       'sängerportrait', 'tango', 'tanzorchester', 'taraftar', 'tatar',\n",
       "       'tech', 'techno', 'teen', 'thrash', 'top', 'traditional',\n",
       "       'tradjazz', 'trance', 'tribal', 'trip', 'triphop', 'tropical',\n",
       "       'türk', 'türkçe', 'ukrrock', 'unknown', 'urban', 'uzbek',\n",
       "       'variété', 'vi', 'videogame', 'vocal', 'western', 'world',\n",
       "       'worldbeat', 'ïîï'], dtype=object)"
      ]
     },
     "execution_count": 19,
     "metadata": {},
     "output_type": "execute_result"
    }
   ],
   "source": [
    "df['genre'] = df['genre'].replace(\"электроника\", \"electronic\")\n",
    "\n",
    "df['genre'].sort_values().unique()"
   ]
  },
  {
   "cell_type": "markdown",
   "metadata": {
    "id": "jz6a9-7HQUDd"
   },
   "source": [
    "**Выводы**\n",
    "\n",
    "Предобработка обнаружила три проблемы в данных:\n",
    "\n",
    "- нарушения в стиле заголовков,\n",
    "- пропущенные значения,\n",
    "- дубликаты — явные и неявные.\n",
    "\n",
    "Вы исправили заголовки, чтобы упростить работу с таблицей. Без дубликатов исследование станет более точным.\n",
    "\n",
    "Пропущенные значения вы заменили на `'unknown'`. Ещё предстоит увидеть, не повредят ли исследованию пропуски в колонке `genre`.\n",
    "\n",
    "Теперь можно перейти к проверке гипотез. "
   ]
  },
  {
   "cell_type": "markdown",
   "metadata": {
    "id": "WttZHXH0SqKk"
   },
   "source": [
    "## Проверка гипотез"
   ]
  },
  {
   "cell_type": "markdown",
   "metadata": {
    "id": "Im936VVi_Zcu"
   },
   "source": [
    "### Сравнение поведения пользователей двух столиц"
   ]
  },
  {
   "cell_type": "markdown",
   "metadata": {
    "id": "nwt_MuaL_Zcu"
   },
   "source": [
    "Первая гипотеза утверждает, что пользователи по-разному слушают музыку в Москве и Санкт-Петербурге. Проверьте это предположение по данным о трёх днях недели — понедельнике, среде и пятнице. Для этого:\n",
    "\n",
    "* Разделите пользователей Москвы и Санкт-Петербурга\n",
    "* Сравните, сколько треков послушала каждая группа пользователей в понедельник, среду и пятницу.\n"
   ]
  },
  {
   "cell_type": "markdown",
   "metadata": {
    "id": "8Dw_YMmT_Zcu"
   },
   "source": [
    "Для тренировки сначала выполните каждый из расчётов по отдельности. \n",
    "\n",
    "Оцените активность пользователей в каждом городе. Сгруппируйте данные по городу и посчитайте прослушивания в каждой группе.\n",
    "\n"
   ]
  },
  {
   "cell_type": "code",
   "execution_count": 20,
   "metadata": {
    "id": "0_Qs96oh_Zcu"
   },
   "outputs": [
    {
     "data": {
      "text/plain": [
       "city\n",
       "Moscow              42741\n",
       "Saint-Petersburg    18512\n",
       "Name: user_id, dtype: int64"
      ]
     },
     "execution_count": 20,
     "metadata": {},
     "output_type": "execute_result"
    }
   ],
   "source": [
    "# Подсчёт прослушиваний в каждом городе\n",
    "cities_count = df.groupby('city')['user_id'].count()\n",
    "cities_count"
   ]
  },
  {
   "cell_type": "markdown",
   "metadata": {
    "id": "dzli3w8o_Zcu"
   },
   "source": [
    "В Москве прослушиваний больше, чем в Петербурге. Из этого не следует, что московские пользователи чаще слушают музыку. Просто самих пользователей в Москве больше.\n",
    "\n",
    "Теперь сгруппируйте данные по дню недели и подсчитайте прослушивания в понедельник, среду и пятницу. Учтите, что в данных есть информация только о прослушиваниях только за эти дни.\n"
   ]
  },
  {
   "cell_type": "code",
   "execution_count": 21,
   "metadata": {
    "id": "uZMKjiJz_Zcu"
   },
   "outputs": [
    {
     "data": {
      "text/plain": [
       "day\n",
       "Friday       21840\n",
       "Monday       21354\n",
       "Wednesday    18059\n",
       "Name: user_id, dtype: int64"
      ]
     },
     "execution_count": 21,
     "metadata": {},
     "output_type": "execute_result"
    }
   ],
   "source": [
    "# Подсчёт прослушиваний в каждый из трёх дней\n",
    "days_count = df.groupby('day')['user_id'].count()\n",
    "days_count"
   ]
  },
  {
   "cell_type": "markdown",
   "metadata": {
    "id": "cC2tNrlL_Zcu"
   },
   "source": [
    "В среднем пользователи из двух городов менее активны по средам. Но картина может измениться, если рассмотреть каждый город в отдельности."
   ]
  },
  {
   "cell_type": "markdown",
   "metadata": {
    "id": "POzs8bGa_Zcu"
   },
   "source": [
    "Вы видели, как работает группировка по городу и по дням недели. Теперь напишите функцию, которая объединит два эти расчёта.\n",
    "\n",
    "Создайте функцию `number_tracks()`, которая посчитает прослушивания для заданного дня и города. Ей понадобятся два параметра:\n",
    "* день недели,\n",
    "* название города.\n",
    "\n",
    "В функции сохраните в переменную строки исходной таблицы, у которых значение:\n",
    "  * в колонке `day` равно параметру `day`,\n",
    "  * в колонке `city` равно параметру `city`.\n",
    "\n",
    "Для этого примените последовательную фильтрацию с логической индексацией.\n",
    "\n",
    "Затем посчитайте значения в столбце `user_id` получившейся таблицы. Результат сохраните в новую переменную. Верните эту переменную из функции."
   ]
  },
  {
   "cell_type": "code",
   "execution_count": 22,
   "metadata": {
    "id": "Nz3GdQB1_Zcu"
   },
   "outputs": [],
   "source": [
    "# <создание функции number_tracks()>\n",
    "# Объявляется функция с двумя параметрами: day, city.\n",
    "# В переменной track_list сохраняются те строки таблицы df, для которых \n",
    "# значение в столбце 'day' равно параметру day и одновременно значение\n",
    "# в столбце 'city' равно параметру city (используйте последовательную фильтрацию\n",
    "# с помощью логической индексации).\n",
    "# В переменной track_list_count сохраняется число значений столбца 'user_id',\n",
    "# рассчитанное методом count() для таблицы track_list.\n",
    "# Функция возвращает число - значение track_list_count.\n",
    "\n",
    "def number_tracks(day, city): \n",
    "    track_list = df[df[\"day\"] == day]\n",
    "    track_list = track_list[track_list[\"city\"] == city]\n",
    "    track_list_count = track_list['user_id'].count()\n",
    "    return track_list_count\n",
    "\n",
    "# Функция для подсчёта прослушиваний для конкретного города и дня.\n",
    "# С помощью последовательной фильтрации с логической индексацией она \n",
    "# сначала получит из исходной таблицы строки с нужным днём,\n",
    "# затем из результата отфильтрует строки с нужным городом,\n",
    "# методом count() посчитает количество значений в колонке user_id. \n",
    "# Это количество функция вернёт в качестве результата"
   ]
  },
  {
   "cell_type": "markdown",
   "metadata": {
    "id": "ytf7xFrFJQ2r"
   },
   "source": [
    "Вызовите `number_tracks()` шесть раз, меняя значение параметров — так, чтобы получить данные для каждого города в каждый из трёх дней."
   ]
  },
  {
   "cell_type": "code",
   "execution_count": 23,
   "metadata": {
    "id": "rJcRATNQ_Zcu",
    "scrolled": false
   },
   "outputs": [
    {
     "data": {
      "text/plain": [
       "15740"
      ]
     },
     "execution_count": 23,
     "metadata": {},
     "output_type": "execute_result"
    }
   ],
   "source": [
    "# количество прослушиваний в Москве по понедельникам\n",
    "mon_mos = number_tracks(\"Monday\", \"Moscow\")\n",
    "mon_mos"
   ]
  },
  {
   "cell_type": "code",
   "execution_count": 24,
   "metadata": {
    "id": "hq_ncZ5T_Zcu"
   },
   "outputs": [
    {
     "data": {
      "text/plain": [
       "5614"
      ]
     },
     "execution_count": 24,
     "metadata": {},
     "output_type": "execute_result"
    }
   ],
   "source": [
    "# количество прослушиваний в Санкт-Петербурге по понедельникам\n",
    "mon_sp = number_tracks(\"Monday\", \"Saint-Petersburg\")\n",
    "mon_sp"
   ]
  },
  {
   "cell_type": "code",
   "execution_count": 25,
   "metadata": {
    "id": "_NTy2VPU_Zcu"
   },
   "outputs": [
    {
     "data": {
      "text/plain": [
       "11056"
      ]
     },
     "execution_count": 25,
     "metadata": {},
     "output_type": "execute_result"
    }
   ],
   "source": [
    "# количество прослушиваний в Москве по средам\n",
    "wed_mos = number_tracks(\"Wednesday\", \"Moscow\")\n",
    "wed_mos"
   ]
  },
  {
   "cell_type": "code",
   "execution_count": 26,
   "metadata": {
    "id": "j2y3TAwo_Zcu"
   },
   "outputs": [
    {
     "data": {
      "text/plain": [
       "7003"
      ]
     },
     "execution_count": 26,
     "metadata": {},
     "output_type": "execute_result"
    }
   ],
   "source": [
    "# количество прослушиваний в Санкт-Петербурге по средам\n",
    "wed_sp = number_tracks(\"Wednesday\", \"Saint-Petersburg\")\n",
    "wed_sp"
   ]
  },
  {
   "cell_type": "code",
   "execution_count": 27,
   "metadata": {
    "id": "vYDw5u_K_Zcu"
   },
   "outputs": [
    {
     "data": {
      "text/plain": [
       "15945"
      ]
     },
     "execution_count": 27,
     "metadata": {},
     "output_type": "execute_result"
    }
   ],
   "source": [
    "# количество прослушиваний в Москве по пятницам\n",
    "fri_mos = number_tracks(\"Friday\", \"Moscow\")\n",
    "fri_mos"
   ]
  },
  {
   "cell_type": "code",
   "execution_count": 28,
   "metadata": {
    "id": "8_yzFtW3_Zcu"
   },
   "outputs": [
    {
     "data": {
      "text/plain": [
       "5895"
      ]
     },
     "execution_count": 28,
     "metadata": {},
     "output_type": "execute_result"
    }
   ],
   "source": [
    "# количество прослушиваний в Санкт-Петербурге по пятницам\n",
    "fri_sp = number_tracks(\"Friday\", \"Saint-Petersburg\")\n",
    "fri_sp"
   ]
  },
  {
   "cell_type": "markdown",
   "metadata": {},
   "source": [
    "**Проверка формул**"
   ]
  },
  {
   "cell_type": "code",
   "execution_count": 29,
   "metadata": {},
   "outputs": [
    {
     "name": "stdout",
     "output_type": "stream",
     "text": [
      "There are no errors\n"
     ]
    }
   ],
   "source": [
    "if (mon_mos + wed_mos + fri_mos) - (mon_sp + wed_sp + fri_sp) == cities_count[0] - cities_count[1]:\n",
    "    print(\"There are no errors\")\n",
    "else:\n",
    "    print(\"Bad news - search errors\")"
   ]
  },
  {
   "cell_type": "code",
   "execution_count": 30,
   "metadata": {},
   "outputs": [
    {
     "data": {
      "text/plain": [
       "18512"
      ]
     },
     "execution_count": 30,
     "metadata": {},
     "output_type": "execute_result"
    }
   ],
   "source": [
    "(\n",
    "    number_tracks(\"Monday\", \"Saint-Petersburg\")\n",
    "    + number_tracks(\"Wednesday\", \"Saint-Petersburg\")\n",
    "    + number_tracks(\"Friday\", \"Saint-Petersburg\")\n",
    "    )"
   ]
  },
  {
   "cell_type": "markdown",
   "metadata": {
    "id": "7QXffbO-_Zcu"
   },
   "source": [
    "Создайте c помощью конструктора `pd.DataFrame` таблицу, где\n",
    "* названия колонок — `['city', 'monday', 'wednesday', 'friday']`;\n",
    "* данные — результаты, которые вы получили с помощью `number_tracks`."
   ]
  },
  {
   "cell_type": "code",
   "execution_count": 31,
   "metadata": {
    "id": "APAcLpOr_Zcu"
   },
   "outputs": [
    {
     "data": {
      "text/html": [
       "<div>\n",
       "<style scoped>\n",
       "    .dataframe tbody tr th:only-of-type {\n",
       "        vertical-align: middle;\n",
       "    }\n",
       "\n",
       "    .dataframe tbody tr th {\n",
       "        vertical-align: top;\n",
       "    }\n",
       "\n",
       "    .dataframe thead th {\n",
       "        text-align: right;\n",
       "    }\n",
       "</style>\n",
       "<table border=\"1\" class=\"dataframe\">\n",
       "  <thead>\n",
       "    <tr style=\"text-align: right;\">\n",
       "      <th></th>\n",
       "      <th>city</th>\n",
       "      <th>monday</th>\n",
       "      <th>wednesday</th>\n",
       "      <th>friday</th>\n",
       "    </tr>\n",
       "  </thead>\n",
       "  <tbody>\n",
       "    <tr>\n",
       "      <td>0</td>\n",
       "      <td>Moscow</td>\n",
       "      <td>15740</td>\n",
       "      <td>11056</td>\n",
       "      <td>15945</td>\n",
       "    </tr>\n",
       "    <tr>\n",
       "      <td>1</td>\n",
       "      <td>Saint-Petersburg</td>\n",
       "      <td>5614</td>\n",
       "      <td>7003</td>\n",
       "      <td>5895</td>\n",
       "    </tr>\n",
       "  </tbody>\n",
       "</table>\n",
       "</div>"
      ],
      "text/plain": [
       "               city  monday  wednesday  friday\n",
       "0            Moscow   15740      11056   15945\n",
       "1  Saint-Petersburg    5614       7003    5895"
      ]
     },
     "execution_count": 31,
     "metadata": {},
     "output_type": "execute_result"
    }
   ],
   "source": [
    "# Таблица с результатами\n",
    "data = [[\"Moscow\", mon_mos, wed_mos, fri_mos],\n",
    "       [\"Saint-Petersburg\", mon_sp, wed_sp, fri_sp]]\n",
    "columns = ['city', 'monday', 'wednesday', 'friday']\n",
    "\n",
    "pd.DataFrame(data=data,columns=columns)"
   ]
  },
  {
   "cell_type": "code",
   "execution_count": 32,
   "metadata": {
    "id": "APAcLpOr_Zcu"
   },
   "outputs": [
    {
     "data": {
      "text/html": [
       "<div>\n",
       "<style scoped>\n",
       "    .dataframe tbody tr th:only-of-type {\n",
       "        vertical-align: middle;\n",
       "    }\n",
       "\n",
       "    .dataframe tbody tr th {\n",
       "        vertical-align: top;\n",
       "    }\n",
       "\n",
       "    .dataframe thead th {\n",
       "        text-align: right;\n",
       "    }\n",
       "</style>\n",
       "<table border=\"1\" class=\"dataframe\">\n",
       "  <thead>\n",
       "    <tr style=\"text-align: right;\">\n",
       "      <th></th>\n",
       "      <th>city</th>\n",
       "      <th>monday</th>\n",
       "      <th>wednesday</th>\n",
       "      <th>friday</th>\n",
       "    </tr>\n",
       "  </thead>\n",
       "  <tbody>\n",
       "    <tr>\n",
       "      <td>0</td>\n",
       "      <td>Moscow</td>\n",
       "      <td>15740</td>\n",
       "      <td>11056</td>\n",
       "      <td>15945</td>\n",
       "    </tr>\n",
       "    <tr>\n",
       "      <td>1</td>\n",
       "      <td>Saint-Petersburg</td>\n",
       "      <td>5614</td>\n",
       "      <td>7003</td>\n",
       "      <td>5895</td>\n",
       "    </tr>\n",
       "  </tbody>\n",
       "</table>\n",
       "</div>"
      ],
      "text/plain": [
       "               city  monday  wednesday  friday\n",
       "0            Moscow   15740      11056   15945\n",
       "1  Saint-Petersburg    5614       7003    5895"
      ]
     },
     "execution_count": 32,
     "metadata": {},
     "output_type": "execute_result"
    }
   ],
   "source": [
    "# Таблица с результатами второй вар.\n",
    "data = [[\"Moscow\", mon_mos, wed_mos, fri_mos],\n",
    "        \n",
    "       [\"Saint-Petersburg\", number_tracks(\"Monday\", \"Saint-Petersburg\"), number_tracks(\"Wednesday\", \"Saint-Petersburg\"),\n",
    "    number_tracks(\"Friday\", \"Saint-Petersburg\")]]\n",
    "\n",
    "columns = ['city', 'monday', 'wednesday', 'friday']\n",
    "\n",
    "pd.DataFrame(data=data,columns=columns)"
   ]
  },
  {
   "cell_type": "markdown",
   "metadata": {
    "id": "-EgPIHYu_Zcu"
   },
   "source": [
    "**Выводы**\n",
    "\n",
    "Данные показывают разницу поведения пользователей:\n",
    "\n",
    "- В Москве пик прослушиваний приходится на понедельник и пятницу, а в среду заметен спад.\n",
    "- В Петербурге, наоборот, больше слушают музыку по средам. Активность в понедельник и пятницу здесь почти в равной мере уступает среде.\n",
    "\n",
    "Значит, данные говорят в пользу первой гипотезы."
   ]
  },
  {
   "cell_type": "markdown",
   "metadata": {
    "id": "atZAxtq4_Zcu"
   },
   "source": [
    "### Музыка в начале и в конце недели"
   ]
  },
  {
   "cell_type": "markdown",
   "metadata": {
    "id": "eXrQqXFH_Zcu"
   },
   "source": [
    "Согласно второй гипотезе, утром в понедельник в Москве преобладают одни жанры, а в Петербурге — другие. Так же и вечером пятницы преобладают разные жанры — в зависимости от города."
   ]
  },
  {
   "cell_type": "markdown",
   "metadata": {
    "id": "S8UcW6Hw_Zcu"
   },
   "source": [
    "Сохраните таблицы с данными в две переменные:\n",
    "* по Москве — в `moscow_general`;\n",
    "* по Санкт-Петербургу — в `spb_general`."
   ]
  },
  {
   "cell_type": "code",
   "execution_count": 33,
   "metadata": {
    "id": "qeaFfM_P_Zcu"
   },
   "outputs": [
    {
     "data": {
      "text/html": [
       "<div>\n",
       "<style scoped>\n",
       "    .dataframe tbody tr th:only-of-type {\n",
       "        vertical-align: middle;\n",
       "    }\n",
       "\n",
       "    .dataframe tbody tr th {\n",
       "        vertical-align: top;\n",
       "    }\n",
       "\n",
       "    .dataframe thead th {\n",
       "        text-align: right;\n",
       "    }\n",
       "</style>\n",
       "<table border=\"1\" class=\"dataframe\">\n",
       "  <thead>\n",
       "    <tr style=\"text-align: right;\">\n",
       "      <th></th>\n",
       "      <th>user_id</th>\n",
       "      <th>track</th>\n",
       "      <th>artist</th>\n",
       "      <th>genre</th>\n",
       "      <th>city</th>\n",
       "      <th>time</th>\n",
       "      <th>day</th>\n",
       "    </tr>\n",
       "  </thead>\n",
       "  <tbody>\n",
       "    <tr>\n",
       "      <td>0</td>\n",
       "      <td>55204538</td>\n",
       "      <td>Delayed Because of Accident</td>\n",
       "      <td>Andreas Rönnberg</td>\n",
       "      <td>rock</td>\n",
       "      <td>Moscow</td>\n",
       "      <td>14:07:09</td>\n",
       "      <td>Friday</td>\n",
       "    </tr>\n",
       "    <tr>\n",
       "      <td>1</td>\n",
       "      <td>E2DC1FAE</td>\n",
       "      <td>Soul People</td>\n",
       "      <td>Space Echo</td>\n",
       "      <td>dance</td>\n",
       "      <td>Moscow</td>\n",
       "      <td>08:34:34</td>\n",
       "      <td>Monday</td>\n",
       "    </tr>\n",
       "    <tr>\n",
       "      <td>2</td>\n",
       "      <td>4CB90AA5</td>\n",
       "      <td>True</td>\n",
       "      <td>Roman Messer</td>\n",
       "      <td>dance</td>\n",
       "      <td>Moscow</td>\n",
       "      <td>13:00:07</td>\n",
       "      <td>Wednesday</td>\n",
       "    </tr>\n",
       "    <tr>\n",
       "      <td>3</td>\n",
       "      <td>F03E1C1F</td>\n",
       "      <td>Feeling This Way</td>\n",
       "      <td>Polina Griffith</td>\n",
       "      <td>dance</td>\n",
       "      <td>Moscow</td>\n",
       "      <td>20:47:49</td>\n",
       "      <td>Wednesday</td>\n",
       "    </tr>\n",
       "    <tr>\n",
       "      <td>4</td>\n",
       "      <td>8FA1D3BE</td>\n",
       "      <td>И вновь продолжается бой</td>\n",
       "      <td>unknown</td>\n",
       "      <td>ruspop</td>\n",
       "      <td>Moscow</td>\n",
       "      <td>09:17:40</td>\n",
       "      <td>Friday</td>\n",
       "    </tr>\n",
       "  </tbody>\n",
       "</table>\n",
       "</div>"
      ],
      "text/plain": [
       "    user_id                        track            artist   genre    city  \\\n",
       "0  55204538  Delayed Because of Accident  Andreas Rönnberg    rock  Moscow   \n",
       "1  E2DC1FAE                  Soul People        Space Echo   dance  Moscow   \n",
       "2  4CB90AA5                         True      Roman Messer   dance  Moscow   \n",
       "3  F03E1C1F             Feeling This Way   Polina Griffith   dance  Moscow   \n",
       "4  8FA1D3BE     И вновь продолжается бой           unknown  ruspop  Moscow   \n",
       "\n",
       "       time        day  \n",
       "0  14:07:09     Friday  \n",
       "1  08:34:34     Monday  \n",
       "2  13:00:07  Wednesday  \n",
       "3  20:47:49  Wednesday  \n",
       "4  09:17:40     Friday  "
      ]
     },
     "execution_count": 33,
     "metadata": {},
     "output_type": "execute_result"
    }
   ],
   "source": [
    "# получение таблицы moscow_general из тех строк таблицы df, \n",
    "# для которых значение в столбце 'city' равно 'Moscow'\n",
    "moscow_general = df[df['city'] == 'Moscow'].reset_index(drop=True)\n",
    "moscow_general.head()"
   ]
  },
  {
   "cell_type": "code",
   "execution_count": 34,
   "metadata": {
    "id": "ORaVRKto_Zcu"
   },
   "outputs": [
    {
     "data": {
      "text/html": [
       "<div>\n",
       "<style scoped>\n",
       "    .dataframe tbody tr th:only-of-type {\n",
       "        vertical-align: middle;\n",
       "    }\n",
       "\n",
       "    .dataframe tbody tr th {\n",
       "        vertical-align: top;\n",
       "    }\n",
       "\n",
       "    .dataframe thead th {\n",
       "        text-align: right;\n",
       "    }\n",
       "</style>\n",
       "<table border=\"1\" class=\"dataframe\">\n",
       "  <thead>\n",
       "    <tr style=\"text-align: right;\">\n",
       "      <th></th>\n",
       "      <th>user_id</th>\n",
       "      <th>track</th>\n",
       "      <th>artist</th>\n",
       "      <th>genre</th>\n",
       "      <th>city</th>\n",
       "      <th>time</th>\n",
       "      <th>day</th>\n",
       "    </tr>\n",
       "  </thead>\n",
       "  <tbody>\n",
       "    <tr>\n",
       "      <td>0</td>\n",
       "      <td>FFB692EC</td>\n",
       "      <td>Kamigata To Boots</td>\n",
       "      <td>The Mass Missile</td>\n",
       "      <td>rock</td>\n",
       "      <td>Saint-Petersburg</td>\n",
       "      <td>20:28:33</td>\n",
       "      <td>Wednesday</td>\n",
       "    </tr>\n",
       "    <tr>\n",
       "      <td>1</td>\n",
       "      <td>20EC38</td>\n",
       "      <td>Funiculì funiculà</td>\n",
       "      <td>Mario Lanza</td>\n",
       "      <td>pop</td>\n",
       "      <td>Saint-Petersburg</td>\n",
       "      <td>20:58:07</td>\n",
       "      <td>Wednesday</td>\n",
       "    </tr>\n",
       "    <tr>\n",
       "      <td>2</td>\n",
       "      <td>A3DD03C9</td>\n",
       "      <td>Dragons in the Sunset</td>\n",
       "      <td>Fire + Ice</td>\n",
       "      <td>folk</td>\n",
       "      <td>Saint-Petersburg</td>\n",
       "      <td>08:37:09</td>\n",
       "      <td>Monday</td>\n",
       "    </tr>\n",
       "    <tr>\n",
       "      <td>3</td>\n",
       "      <td>842029A1</td>\n",
       "      <td>Преданная</td>\n",
       "      <td>IMPERVTOR</td>\n",
       "      <td>rusrap</td>\n",
       "      <td>Saint-Petersburg</td>\n",
       "      <td>13:09:41</td>\n",
       "      <td>Friday</td>\n",
       "    </tr>\n",
       "    <tr>\n",
       "      <td>4</td>\n",
       "      <td>E772D5C0</td>\n",
       "      <td>Pessimist</td>\n",
       "      <td>unknown</td>\n",
       "      <td>dance</td>\n",
       "      <td>Saint-Petersburg</td>\n",
       "      <td>21:20:49</td>\n",
       "      <td>Wednesday</td>\n",
       "    </tr>\n",
       "  </tbody>\n",
       "</table>\n",
       "</div>"
      ],
      "text/plain": [
       "    user_id                  track            artist   genre  \\\n",
       "0  FFB692EC      Kamigata To Boots  The Mass Missile    rock   \n",
       "1    20EC38      Funiculì funiculà       Mario Lanza     pop   \n",
       "2  A3DD03C9  Dragons in the Sunset        Fire + Ice    folk   \n",
       "3  842029A1              Преданная         IMPERVTOR  rusrap   \n",
       "4  E772D5C0              Pessimist           unknown   dance   \n",
       "\n",
       "               city      time        day  \n",
       "0  Saint-Petersburg  20:28:33  Wednesday  \n",
       "1  Saint-Petersburg  20:58:07  Wednesday  \n",
       "2  Saint-Petersburg  08:37:09     Monday  \n",
       "3  Saint-Petersburg  13:09:41     Friday  \n",
       "4  Saint-Petersburg  21:20:49  Wednesday  "
      ]
     },
     "execution_count": 34,
     "metadata": {},
     "output_type": "execute_result"
    }
   ],
   "source": [
    "# получение таблицы spb_general из тех строк таблицы df,\n",
    "# для которых значение в столбце 'city' равно 'Saint-Petersburg'\n",
    "spb_general = df[df['city'] == 'Saint-Petersburg'].reset_index(drop=True)\n",
    "spb_general.head()"
   ]
  },
  {
   "cell_type": "markdown",
   "metadata": {
    "id": "MEJV-CX2_Zcu"
   },
   "source": [
    "Создайте функцию `genre_weekday()` с четырьмя параметрами:\n",
    "* таблица (датафрейм) с данными,\n",
    "* день недели,\n",
    "* начальная временная метка в формате 'hh:mm', \n",
    "* последняя временная метка в формате 'hh:mm'.\n",
    "\n",
    "Функция должна вернуть информацию о топ-10 жанров тех треков, которые прослушивали в указанный день, в промежутке между двумя отметками времени."
   ]
  },
  {
   "cell_type": "code",
   "execution_count": 35,
   "metadata": {
    "id": "laJT9BYl_Zcu"
   },
   "outputs": [],
   "source": [
    "# Объявление функции genre_weekday() с параметрами table, day, time1, time2,\n",
    "# которая возвращает информацию о самых популярных жанрах в указанный день в\n",
    "# заданное время:\n",
    "# 1) в переменную genre_df сохраняются те строки переданного датафрейма table, для\n",
    "#    которых одновременно:\n",
    "#    - значение в столбце day равно значению аргумента day\n",
    "#    - значение в столбце time больше значения аргумента time1\n",
    "#    - значение в столбце time меньше значения аргумента time2\n",
    "#    Используйте последовательную фильтрацию с помощью логической индексации.\n",
    "# 2) сгруппировать датафрейм genre_df по столбцу genre, взять один из его\n",
    "#    столбцов и посчитать методом count() количество записей для каждого из\n",
    "#    присутствующих жанров, получившийся Series записать в переменную\n",
    "#    genre_df_count\n",
    "# 3) отсортировать genre_df_count по убыванию встречаемости и сохранить\n",
    "#    в переменную genre_df_sorted\n",
    "# 4) вернуть Series из 10 первых значений genre_df_sorted, это будут топ-10\n",
    "#    популярных жанров (в указанный день, в заданное время)\n",
    "\n",
    "def genre_weekday(table, day, time1, time2):\n",
    "    genre_df = table[table['day'] == day]\n",
    "    genre_df = genre_df[genre_df['time'] > time1]\n",
    "    genre_df = genre_df[genre_df['time'] < time2]\n",
    "    genre_df_count = genre_df.groupby('genre')['user_id'].count()\n",
    "    genre_df_sorted = genre_df_count.sort_values(ascending=False)\n",
    "    return genre_df_sorted.head(10)"
   ]
  },
  {
   "cell_type": "markdown",
   "metadata": {
    "id": "la2s2_PF_Zcu"
   },
   "source": [
    "Cравните результаты функции `genre_weekday()` для Москвы и Санкт-Петербурга в понедельник утром (с 7:00 до 11:00) и в пятницу вечером (с 17:00 до 23:00):"
   ]
  },
  {
   "cell_type": "code",
   "execution_count": 36,
   "metadata": {
    "id": "yz7itPUQ_Zcu"
   },
   "outputs": [
    {
     "data": {
      "text/plain": [
       "genre\n",
       "pop            781\n",
       "dance          549\n",
       "electronic     480\n",
       "rock           474\n",
       "hiphop         286\n",
       "ruspop         186\n",
       "world          181\n",
       "rusrap         175\n",
       "alternative    164\n",
       "unknown        161\n",
       "Name: user_id, dtype: int64"
      ]
     },
     "execution_count": 36,
     "metadata": {},
     "output_type": "execute_result"
    }
   ],
   "source": [
    "# вызов функции для утра понедельника в Москве (вместо df — таблица moscow_general)\n",
    "# объекты, хранящие время, являются строками и сравниваются как строки\n",
    "# пример вызова: genre_weekday(moscow_general, 'Monday', '07:00', '11:00')\n",
    "mos_monday = genre_weekday(moscow_general, 'Monday', '07:00', '11:00')\n",
    "mos_monday"
   ]
  },
  {
   "cell_type": "code",
   "execution_count": 37,
   "metadata": {
    "id": "kwUcHPdy_Zcu"
   },
   "outputs": [
    {
     "data": {
      "text/plain": [
       "genre\n",
       "pop            218\n",
       "dance          182\n",
       "rock           162\n",
       "electronic     147\n",
       "hiphop          80\n",
       "ruspop          64\n",
       "alternative     58\n",
       "rusrap          55\n",
       "jazz            44\n",
       "classical       40\n",
       "Name: user_id, dtype: int64"
      ]
     },
     "execution_count": 37,
     "metadata": {},
     "output_type": "execute_result"
    }
   ],
   "source": [
    "# вызов функции для утра понедельника в Петербурге (вместо df — таблица spb_general)\n",
    "spb_monday = genre_weekday(spb_general, 'Monday', '07:00', '11:00')\n",
    "spb_monday"
   ]
  },
  {
   "cell_type": "code",
   "execution_count": 38,
   "metadata": {
    "id": "EzXVRE1o_Zcu"
   },
   "outputs": [
    {
     "data": {
      "text/plain": [
       "genre\n",
       "pop            713\n",
       "rock           517\n",
       "dance          495\n",
       "electronic     482\n",
       "hiphop         273\n",
       "world          208\n",
       "ruspop         170\n",
       "alternative    163\n",
       "classical      163\n",
       "rusrap         142\n",
       "Name: user_id, dtype: int64"
      ]
     },
     "execution_count": 38,
     "metadata": {},
     "output_type": "execute_result"
    }
   ],
   "source": [
    "# вызов функции для вечера пятницы в Москве\n",
    "mos_friday = genre_weekday(moscow_general, 'Friday', '17:00', '23:00')\n",
    "mos_friday"
   ]
  },
  {
   "cell_type": "code",
   "execution_count": 39,
   "metadata": {
    "id": "JZaEKu5v_Zcu"
   },
   "outputs": [
    {
     "data": {
      "text/plain": [
       "genre\n",
       "pop            256\n",
       "rock           216\n",
       "electronic     216\n",
       "dance          210\n",
       "hiphop          97\n",
       "alternative     63\n",
       "jazz            61\n",
       "classical       60\n",
       "rusrap          59\n",
       "world           54\n",
       "Name: user_id, dtype: int64"
      ]
     },
     "execution_count": 39,
     "metadata": {},
     "output_type": "execute_result"
    }
   ],
   "source": [
    "# вызов функции для вечера пятницы в Петербурге\n",
    "spb_friday = genre_weekday(spb_general, 'Friday', '17:00', '23:00')\n",
    "spb_friday"
   ]
  },
  {
   "cell_type": "code",
   "execution_count": 40,
   "metadata": {},
   "outputs": [
    {
     "data": {
      "text/html": [
       "<div>\n",
       "<style scoped>\n",
       "    .dataframe tbody tr th:only-of-type {\n",
       "        vertical-align: middle;\n",
       "    }\n",
       "\n",
       "    .dataframe tbody tr th {\n",
       "        vertical-align: top;\n",
       "    }\n",
       "\n",
       "    .dataframe thead th {\n",
       "        text-align: right;\n",
       "    }\n",
       "</style>\n",
       "<table border=\"1\" class=\"dataframe\">\n",
       "  <thead>\n",
       "    <tr style=\"text-align: right;\">\n",
       "      <th></th>\n",
       "      <th>mos_monday</th>\n",
       "      <th>spb_monday</th>\n",
       "      <th>mos_friday</th>\n",
       "      <th>spb_friday</th>\n",
       "    </tr>\n",
       "  </thead>\n",
       "  <tbody>\n",
       "    <tr>\n",
       "      <td>pop</td>\n",
       "      <td>781.0</td>\n",
       "      <td>218.0</td>\n",
       "      <td>713.0</td>\n",
       "      <td>256.0</td>\n",
       "    </tr>\n",
       "    <tr>\n",
       "      <td>dance</td>\n",
       "      <td>549.0</td>\n",
       "      <td>182.0</td>\n",
       "      <td>495.0</td>\n",
       "      <td>210.0</td>\n",
       "    </tr>\n",
       "    <tr>\n",
       "      <td>electronic</td>\n",
       "      <td>480.0</td>\n",
       "      <td>147.0</td>\n",
       "      <td>482.0</td>\n",
       "      <td>216.0</td>\n",
       "    </tr>\n",
       "    <tr>\n",
       "      <td>rock</td>\n",
       "      <td>474.0</td>\n",
       "      <td>162.0</td>\n",
       "      <td>517.0</td>\n",
       "      <td>216.0</td>\n",
       "    </tr>\n",
       "    <tr>\n",
       "      <td>hiphop</td>\n",
       "      <td>286.0</td>\n",
       "      <td>80.0</td>\n",
       "      <td>273.0</td>\n",
       "      <td>97.0</td>\n",
       "    </tr>\n",
       "    <tr>\n",
       "      <td>ruspop</td>\n",
       "      <td>186.0</td>\n",
       "      <td>64.0</td>\n",
       "      <td>170.0</td>\n",
       "      <td>NaN</td>\n",
       "    </tr>\n",
       "    <tr>\n",
       "      <td>world</td>\n",
       "      <td>181.0</td>\n",
       "      <td>NaN</td>\n",
       "      <td>208.0</td>\n",
       "      <td>54.0</td>\n",
       "    </tr>\n",
       "    <tr>\n",
       "      <td>rusrap</td>\n",
       "      <td>175.0</td>\n",
       "      <td>55.0</td>\n",
       "      <td>142.0</td>\n",
       "      <td>59.0</td>\n",
       "    </tr>\n",
       "    <tr>\n",
       "      <td>alternative</td>\n",
       "      <td>164.0</td>\n",
       "      <td>58.0</td>\n",
       "      <td>163.0</td>\n",
       "      <td>63.0</td>\n",
       "    </tr>\n",
       "    <tr>\n",
       "      <td>unknown</td>\n",
       "      <td>161.0</td>\n",
       "      <td>NaN</td>\n",
       "      <td>NaN</td>\n",
       "      <td>NaN</td>\n",
       "    </tr>\n",
       "    <tr>\n",
       "      <td>jazz</td>\n",
       "      <td>NaN</td>\n",
       "      <td>44.0</td>\n",
       "      <td>NaN</td>\n",
       "      <td>61.0</td>\n",
       "    </tr>\n",
       "    <tr>\n",
       "      <td>classical</td>\n",
       "      <td>NaN</td>\n",
       "      <td>40.0</td>\n",
       "      <td>163.0</td>\n",
       "      <td>60.0</td>\n",
       "    </tr>\n",
       "  </tbody>\n",
       "</table>\n",
       "</div>"
      ],
      "text/plain": [
       "             mos_monday  spb_monday  mos_friday  spb_friday\n",
       "pop               781.0       218.0       713.0       256.0\n",
       "dance             549.0       182.0       495.0       210.0\n",
       "electronic        480.0       147.0       482.0       216.0\n",
       "rock              474.0       162.0       517.0       216.0\n",
       "hiphop            286.0        80.0       273.0        97.0\n",
       "ruspop            186.0        64.0       170.0         NaN\n",
       "world             181.0         NaN       208.0        54.0\n",
       "rusrap            175.0        55.0       142.0        59.0\n",
       "alternative       164.0        58.0       163.0        63.0\n",
       "unknown           161.0         NaN         NaN         NaN\n",
       "jazz                NaN        44.0         NaN        61.0\n",
       "classical           NaN        40.0       163.0        60.0"
      ]
     },
     "execution_count": 40,
     "metadata": {},
     "output_type": "execute_result"
    }
   ],
   "source": [
    "# Таблица с результатами\n",
    "table = pd.concat([mos_monday, spb_monday, mos_friday,spb_friday], axis=1, sort=False)\n",
    "\n",
    "table = table.set_axis(['mos_monday', 'spb_monday', 'mos_friday', 'spb_friday'], axis=1, inplace=False)\n",
    "table\n",
    "#type(table)"
   ]
  },
  {
   "cell_type": "markdown",
   "metadata": {
    "id": "wrCe4MNX_Zcu"
   },
   "source": [
    "**Выводы**\n",
    "\n",
    "Если сравнить топ-10 жанров в понедельник утром, можно сделать такие выводы:\n",
    "\n",
    "1. В Москве и Петербурге слушают похожую музыку. Единственное отличие — в московский рейтинг вошёл жанр “world”, а в петербургский — джаз и классика.\n",
    "\n",
    "2. В Москве пропущенных значений оказалось так много, что значение `'unknown'` заняло десятое место среди самых популярных жанров. Значит, пропущенные значения занимают существенную долю в данных и угрожают достоверности исследования.\n",
    "\n",
    "Вечер пятницы не меняет эту картину. Некоторые жанры поднимаются немного выше, другие спускаются, но в целом топ-10 остаётся тем же самым.\n",
    "\n",
    "Таким образом, вторая гипотеза подтвердилась лишь частично:\n",
    "* Пользователи слушают похожую музыку в начале недели и в конце.\n",
    "* Разница между Москвой и Петербургом не слишком выражена. В Москве чаще слушают русскую популярную музыку, в Петербурге — джаз.\n",
    "\n",
    "Однако пропуски в данных ставят под сомнение этот результат. В Москве их так много, что рейтинг топ-10 мог бы выглядеть иначе, если бы не утерянные  данные о жанрах."
   ]
  },
  {
   "cell_type": "markdown",
   "metadata": {
    "id": "JolODAqr_Zcu"
   },
   "source": [
    "### Жанровые предпочтения в Москве и Петербурге\n",
    "\n",
    "Гипотеза: Петербург — столица рэпа, музыку этого жанра там слушают чаще, чем в Москве.  А Москва — город контрастов, в котором, тем не менее, преобладает поп-музыка."
   ]
  },
  {
   "cell_type": "markdown",
   "metadata": {
    "id": "DlegSvaT_Zcu"
   },
   "source": [
    "Сгруппируйте таблицу `moscow_general` по жанру и посчитайте прослушивания треков каждого жанра методом `count()`. Затем отсортируйте результат в порядке убывания и сохраните его в таблице `moscow_genres`."
   ]
  },
  {
   "cell_type": "code",
   "execution_count": 41,
   "metadata": {
    "id": "r19lIPke_Zcu"
   },
   "outputs": [],
   "source": [
    "# одной строкой: группировка таблицы moscow_general по столбцу 'genre', \n",
    "# подсчёт числа значений 'genre' в этой группировке методом count(), \n",
    "# сортировка получившегося Series в порядке убывания и сохранение в moscow_genres\n",
    "moscow_genres = moscow_general.groupby(\"genre\")['user_id'].count().sort_values(ascending=False)"
   ]
  },
  {
   "cell_type": "markdown",
   "metadata": {
    "id": "6kMuomxTiIr8"
   },
   "source": [
    "Выведите на экран первые десять строк `moscow_genres`:"
   ]
  },
  {
   "cell_type": "code",
   "execution_count": 42,
   "metadata": {
    "id": "WhCSooF8_Zcv"
   },
   "outputs": [
    {
     "data": {
      "text/plain": [
       "genre\n",
       "pop            5892\n",
       "dance          4435\n",
       "rock           3965\n",
       "electronic     3786\n",
       "hiphop         2096\n",
       "classical      1616\n",
       "world          1432\n",
       "alternative    1379\n",
       "ruspop         1372\n",
       "rusrap         1161\n",
       "Name: user_id, dtype: int64"
      ]
     },
     "execution_count": 42,
     "metadata": {},
     "output_type": "execute_result"
    }
   ],
   "source": [
    "# просмотр первых 10 строк moscow_genres\n",
    "top_mos = moscow_genres.head(10)\n",
    "top_mos"
   ]
  },
  {
   "cell_type": "markdown",
   "metadata": {
    "id": "cnPG2vnN_Zcv"
   },
   "source": [
    "Теперь повторите то же и для Петербурга.\n",
    "\n",
    "Сгруппируйте таблицу `spb_general` по жанру. Посчитайте прослушивания треков каждого жанра. Результат отсортируйте в порядке убывания и сохраните в таблице `spb_genres`:\n"
   ]
  },
  {
   "cell_type": "code",
   "execution_count": 43,
   "metadata": {
    "id": "gluLIpE7_Zcv"
   },
   "outputs": [],
   "source": [
    "# одной строкой: группировка таблицы spb_general по столбцу 'genre', \n",
    "# подсчёт числа значений 'genre' в этой группировке методом count(), \n",
    "# сортировка получившегося Series в порядке убывания и сохранение в spb_genres\n",
    "spb_genres = spb_general.groupby(\"genre\")['user_id'].count().sort_values(ascending=False)"
   ]
  },
  {
   "cell_type": "markdown",
   "metadata": {
    "id": "5Doha_ODgyQ8"
   },
   "source": [
    "Выведите на экран первые десять строк `spb_genres`:"
   ]
  },
  {
   "cell_type": "code",
   "execution_count": 44,
   "metadata": {
    "id": "uaGJHjVU_Zcv"
   },
   "outputs": [
    {
     "data": {
      "text/plain": [
       "genre\n",
       "pop            2431\n",
       "dance          1932\n",
       "rock           1879\n",
       "electronic     1737\n",
       "hiphop          960\n",
       "alternative     649\n",
       "classical       646\n",
       "rusrap          564\n",
       "ruspop          538\n",
       "world           515\n",
       "Name: user_id, dtype: int64"
      ]
     },
     "execution_count": 44,
     "metadata": {},
     "output_type": "execute_result"
    }
   ],
   "source": [
    "# просмотр первых 10 строк spb_genres\n",
    "top_spb = spb_genres.head(10)\n",
    "top_spb"
   ]
  },
  {
   "cell_type": "code",
   "execution_count": 45,
   "metadata": {},
   "outputs": [
    {
     "data": {
      "text/html": [
       "<div>\n",
       "<style scoped>\n",
       "    .dataframe tbody tr th:only-of-type {\n",
       "        vertical-align: middle;\n",
       "    }\n",
       "\n",
       "    .dataframe tbody tr th {\n",
       "        vertical-align: top;\n",
       "    }\n",
       "\n",
       "    .dataframe thead th {\n",
       "        text-align: right;\n",
       "    }\n",
       "</style>\n",
       "<table border=\"1\" class=\"dataframe\">\n",
       "  <thead>\n",
       "    <tr style=\"text-align: right;\">\n",
       "      <th></th>\n",
       "      <th>top_mos</th>\n",
       "      <th>top_spb</th>\n",
       "    </tr>\n",
       "  </thead>\n",
       "  <tbody>\n",
       "    <tr>\n",
       "      <td>pop</td>\n",
       "      <td>5892</td>\n",
       "      <td>2431</td>\n",
       "    </tr>\n",
       "    <tr>\n",
       "      <td>dance</td>\n",
       "      <td>4435</td>\n",
       "      <td>1932</td>\n",
       "    </tr>\n",
       "    <tr>\n",
       "      <td>rock</td>\n",
       "      <td>3965</td>\n",
       "      <td>1879</td>\n",
       "    </tr>\n",
       "    <tr>\n",
       "      <td>electronic</td>\n",
       "      <td>3786</td>\n",
       "      <td>1737</td>\n",
       "    </tr>\n",
       "    <tr>\n",
       "      <td>hiphop</td>\n",
       "      <td>2096</td>\n",
       "      <td>960</td>\n",
       "    </tr>\n",
       "    <tr>\n",
       "      <td>classical</td>\n",
       "      <td>1616</td>\n",
       "      <td>646</td>\n",
       "    </tr>\n",
       "    <tr>\n",
       "      <td>world</td>\n",
       "      <td>1432</td>\n",
       "      <td>515</td>\n",
       "    </tr>\n",
       "    <tr>\n",
       "      <td>alternative</td>\n",
       "      <td>1379</td>\n",
       "      <td>649</td>\n",
       "    </tr>\n",
       "    <tr>\n",
       "      <td>ruspop</td>\n",
       "      <td>1372</td>\n",
       "      <td>538</td>\n",
       "    </tr>\n",
       "    <tr>\n",
       "      <td>rusrap</td>\n",
       "      <td>1161</td>\n",
       "      <td>564</td>\n",
       "    </tr>\n",
       "  </tbody>\n",
       "</table>\n",
       "</div>"
      ],
      "text/plain": [
       "             top_mos  top_spb\n",
       "pop             5892     2431\n",
       "dance           4435     1932\n",
       "rock            3965     1879\n",
       "electronic      3786     1737\n",
       "hiphop          2096      960\n",
       "classical       1616      646\n",
       "world           1432      515\n",
       "alternative     1379      649\n",
       "ruspop          1372      538\n",
       "rusrap          1161      564"
      ]
     },
     "execution_count": 45,
     "metadata": {},
     "output_type": "execute_result"
    }
   ],
   "source": [
    "top_10 = pd.concat([top_mos, top_spb], axis=1, sort=False)\n",
    "\n",
    "top_10 = top_10.set_axis([\"top_mos\", \"top_spb\"], axis=1, inplace=False)\n",
    "top_10"
   ]
  },
  {
   "cell_type": "markdown",
   "metadata": {
    "id": "RY51YJYu_Zcv"
   },
   "source": [
    "**Выводы**"
   ]
  },
  {
   "cell_type": "markdown",
   "metadata": {
    "id": "nVhnJEm__Zcv"
   },
   "source": [
    "Гипотеза частично подтвердилась:\n",
    "* Поп-музыка — самый популярный жанр в Москве, как и предполагала гипотеза. Более того, в топ-10 жанров встречается близкий жанр — русская популярная музыка.\n",
    "* Вопреки ожиданиям, рэп одинаково популярен в Москве и Петербурге. \n"
   ]
  },
  {
   "cell_type": "markdown",
   "metadata": {
    "id": "ykKQ0N65_Zcv"
   },
   "source": [
    "## Итоги исследования"
   ]
  },
  {
   "cell_type": "markdown",
   "metadata": {
    "id": "tjUwbHb3_Zcv"
   },
   "source": [
    "Вы проверили три гипотезы и установили:\n",
    "\n",
    "1. День недели по-разному влияет на активность пользователей в Москве и Петербурге. \n",
    "\n",
    "Первая гипотеза полностью подтвердилась.\n",
    "\n",
    "2. Музыкальные предпочтения не сильно меняются в течение недели — будь то Москва или Петербург. Небольшие различия заметны в начале недели, по понедельникам:\n",
    "* в Москве слушают музыку жанра “world”,\n",
    "* в Петербурге — джаз и классику.\n",
    "\n",
    "Таким образом, вторая гипотеза подтвердилась лишь отчасти. Этот результат мог оказаться иным, если бы не пропуски в данных.\n",
    "\n",
    "3. Во вкусах пользователей Москвы и Петербурга больше общего чем различий. Вопреки ожиданиям, предпочтения жанров в Петербурге напоминают московские.\n",
    "\n",
    "Третья гипотеза не подтвердилась. Если различия в предпочтениях и существуют, на основной массе пользователей они незаметны.\n",
    "\n",
    "**На практике исследования содержат проверки статистических гипотез.**\n",
    "Из данных одного сервиса не всегда можно сделать вывод о всех жителях города.\n",
    "Проверки статистических гипотез покажут, насколько они достоверны, исходя из имеющихся данных. \n",
    "С методами проверок гипотез вы ещё познакомитесь в следующих темах."
   ]
  }
 ],
 "metadata": {
  "ExecuteTimeLog": [
   {
    "duration": 944,
    "start_time": "2022-02-13T13:10:59.306Z"
   },
   {
    "duration": 455,
    "start_time": "2022-02-13T13:11:37.901Z"
   },
   {
    "duration": 285,
    "start_time": "2022-02-13T13:11:45.013Z"
   },
   {
    "duration": 186,
    "start_time": "2022-02-13T13:12:02.222Z"
   },
   {
    "duration": 16,
    "start_time": "2022-02-13T13:12:16.696Z"
   },
   {
    "duration": 35,
    "start_time": "2022-02-13T13:12:40.845Z"
   },
   {
    "duration": 6,
    "start_time": "2022-02-13T13:17:19.278Z"
   },
   {
    "duration": 24,
    "start_time": "2022-02-13T13:19:34.697Z"
   },
   {
    "duration": 27,
    "start_time": "2022-02-13T13:19:40.703Z"
   },
   {
    "duration": 6,
    "start_time": "2022-02-13T13:20:02.828Z"
   },
   {
    "duration": 31,
    "start_time": "2022-02-13T13:20:45.179Z"
   },
   {
    "duration": 297,
    "start_time": "2022-02-13T13:29:11.228Z"
   },
   {
    "duration": 22,
    "start_time": "2022-02-13T13:32:04.031Z"
   },
   {
    "duration": 30,
    "start_time": "2022-02-13T13:32:12.612Z"
   },
   {
    "duration": 83,
    "start_time": "2022-02-13T13:33:59.673Z"
   },
   {
    "duration": 89,
    "start_time": "2022-02-13T13:35:00.799Z"
   },
   {
    "duration": 79,
    "start_time": "2022-02-13T13:35:13.080Z"
   },
   {
    "duration": 91,
    "start_time": "2022-02-13T13:35:16.386Z"
   },
   {
    "duration": 88,
    "start_time": "2022-02-13T13:35:27.150Z"
   },
   {
    "duration": 10,
    "start_time": "2022-02-13T13:36:19.533Z"
   },
   {
    "duration": 4,
    "start_time": "2022-02-13T13:43:37.811Z"
   },
   {
    "duration": 21,
    "start_time": "2022-02-13T13:46:17.010Z"
   },
   {
    "duration": 21,
    "start_time": "2022-02-13T13:46:21.526Z"
   },
   {
    "duration": 8,
    "start_time": "2022-02-13T13:53:58.165Z"
   },
   {
    "duration": 299,
    "start_time": "2022-02-13T13:54:30.158Z"
   },
   {
    "duration": 311,
    "start_time": "2022-02-13T13:54:52.408Z"
   },
   {
    "duration": 286,
    "start_time": "2022-02-13T13:54:55.244Z"
   },
   {
    "duration": 293,
    "start_time": "2022-02-13T13:55:29.678Z"
   },
   {
    "duration": 279,
    "start_time": "2022-02-13T13:55:35.253Z"
   },
   {
    "duration": 278,
    "start_time": "2022-02-13T13:55:51.595Z"
   },
   {
    "duration": 58,
    "start_time": "2022-02-13T13:56:30.982Z"
   },
   {
    "duration": 366,
    "start_time": "2022-02-13T13:57:47.056Z"
   },
   {
    "duration": 293,
    "start_time": "2022-02-13T14:00:39.684Z"
   },
   {
    "duration": 10,
    "start_time": "2022-02-13T14:01:39.827Z"
   },
   {
    "duration": 275,
    "start_time": "2022-02-13T14:02:53.240Z"
   },
   {
    "duration": 372,
    "start_time": "2022-02-13T14:03:32.881Z"
   },
   {
    "duration": 80,
    "start_time": "2022-02-13T14:04:58.601Z"
   },
   {
    "duration": 53,
    "start_time": "2022-02-13T14:06:19.961Z"
   },
   {
    "duration": 57,
    "start_time": "2022-02-13T14:06:54.669Z"
   },
   {
    "duration": 10,
    "start_time": "2022-02-13T14:07:15.789Z"
   },
   {
    "duration": 61,
    "start_time": "2022-02-13T14:13:45.964Z"
   },
   {
    "duration": 6,
    "start_time": "2022-02-13T14:18:30.316Z"
   },
   {
    "duration": 6,
    "start_time": "2022-02-13T14:18:36.447Z"
   },
   {
    "duration": 62,
    "start_time": "2022-02-13T14:19:03.598Z"
   },
   {
    "duration": 289,
    "start_time": "2022-02-13T14:19:19.157Z"
   },
   {
    "duration": 464,
    "start_time": "2022-02-13T14:19:50.566Z"
   },
   {
    "duration": 15,
    "start_time": "2022-02-13T14:20:04.765Z"
   },
   {
    "duration": 15,
    "start_time": "2022-02-13T14:23:33.448Z"
   },
   {
    "duration": 17,
    "start_time": "2022-02-13T14:26:07.104Z"
   },
   {
    "duration": 449,
    "start_time": "2022-02-13T14:27:54.314Z"
   },
   {
    "duration": 15,
    "start_time": "2022-02-13T14:28:04.386Z"
   },
   {
    "duration": 15,
    "start_time": "2022-02-13T14:28:25.597Z"
   },
   {
    "duration": 5,
    "start_time": "2022-02-13T14:41:05.477Z"
   },
   {
    "duration": 97,
    "start_time": "2022-02-13T14:41:46.585Z"
   },
   {
    "duration": 5,
    "start_time": "2022-02-13T14:42:20.324Z"
   },
   {
    "duration": 929,
    "start_time": "2022-02-13T14:42:23.130Z"
   },
   {
    "duration": 5,
    "start_time": "2022-02-13T14:43:09.668Z"
   },
   {
    "duration": 80,
    "start_time": "2022-02-13T14:43:13.020Z"
   },
   {
    "duration": 7,
    "start_time": "2022-02-13T14:43:57.153Z"
   },
   {
    "duration": 76,
    "start_time": "2022-02-13T14:43:59.793Z"
   },
   {
    "duration": 6,
    "start_time": "2022-02-13T14:45:47.817Z"
   },
   {
    "duration": 1732,
    "start_time": "2022-02-13T14:45:50.662Z"
   },
   {
    "duration": 5,
    "start_time": "2022-02-13T14:46:09.551Z"
   },
   {
    "duration": 863,
    "start_time": "2022-02-13T14:46:12.325Z"
   },
   {
    "duration": 5,
    "start_time": "2022-02-13T14:46:46.618Z"
   },
   {
    "duration": 31,
    "start_time": "2022-02-13T14:46:49.140Z"
   },
   {
    "duration": 25,
    "start_time": "2022-02-13T14:47:35.229Z"
   },
   {
    "duration": 5,
    "start_time": "2022-02-13T14:48:07.041Z"
   },
   {
    "duration": 21,
    "start_time": "2022-02-13T14:48:11.894Z"
   },
   {
    "duration": 18,
    "start_time": "2022-02-13T14:48:13.943Z"
   },
   {
    "duration": 21,
    "start_time": "2022-02-13T14:50:02.253Z"
   },
   {
    "duration": 25,
    "start_time": "2022-02-13T14:50:03.548Z"
   },
   {
    "duration": 23,
    "start_time": "2022-02-13T14:50:04.544Z"
   },
   {
    "duration": 18,
    "start_time": "2022-02-13T14:50:05.404Z"
   },
   {
    "duration": 21,
    "start_time": "2022-02-13T14:50:32.278Z"
   },
   {
    "duration": 29,
    "start_time": "2022-02-13T14:50:49.335Z"
   },
   {
    "duration": 312,
    "start_time": "2022-02-13T14:53:38.254Z"
   },
   {
    "duration": 8,
    "start_time": "2022-02-13T14:53:45.255Z"
   },
   {
    "duration": 6,
    "start_time": "2022-02-13T14:55:16.258Z"
   },
   {
    "duration": 299,
    "start_time": "2022-02-13T14:57:46.640Z"
   },
   {
    "duration": 305,
    "start_time": "2022-02-13T14:58:38.305Z"
   },
   {
    "duration": 13,
    "start_time": "2022-02-13T14:59:22.232Z"
   },
   {
    "duration": 13,
    "start_time": "2022-02-13T14:59:35.102Z"
   },
   {
    "duration": 327,
    "start_time": "2022-02-13T15:02:18.300Z"
   },
   {
    "duration": 28,
    "start_time": "2022-02-13T15:02:19.134Z"
   },
   {
    "duration": 18,
    "start_time": "2022-02-13T15:02:21.007Z"
   },
   {
    "duration": 21,
    "start_time": "2022-02-13T15:02:25.841Z"
   },
   {
    "duration": 19,
    "start_time": "2022-02-13T15:02:27.685Z"
   },
   {
    "duration": 22,
    "start_time": "2022-02-13T15:02:28.432Z"
   },
   {
    "duration": 405,
    "start_time": "2022-02-13T15:02:29.024Z"
   },
   {
    "duration": 22,
    "start_time": "2022-02-13T15:02:29.612Z"
   },
   {
    "duration": 18,
    "start_time": "2022-02-13T15:02:34.609Z"
   },
   {
    "duration": 22,
    "start_time": "2022-02-13T15:02:35.851Z"
   },
   {
    "duration": 20,
    "start_time": "2022-02-13T15:02:36.548Z"
   },
   {
    "duration": 6,
    "start_time": "2022-02-13T15:02:42.877Z"
   },
   {
    "duration": 13,
    "start_time": "2022-02-13T15:03:18.417Z"
   },
   {
    "duration": 44,
    "start_time": "2022-02-13T15:04:55.608Z"
   },
   {
    "duration": 45,
    "start_time": "2022-02-13T15:05:13.114Z"
   },
   {
    "duration": 25,
    "start_time": "2022-02-13T15:05:47.478Z"
   },
   {
    "duration": 41,
    "start_time": "2022-02-13T15:07:20.956Z"
   },
   {
    "duration": 161,
    "start_time": "2022-02-13T15:07:23.406Z"
   },
   {
    "duration": 27,
    "start_time": "2022-02-13T15:07:27.516Z"
   },
   {
    "duration": 5,
    "start_time": "2022-02-13T15:24:11.478Z"
   },
   {
    "duration": 7,
    "start_time": "2022-02-13T15:24:22.815Z"
   },
   {
    "duration": 8350,
    "start_time": "2022-02-13T15:24:59.437Z"
   },
   {
    "duration": 7,
    "start_time": "2022-02-13T15:25:45.170Z"
   },
   {
    "duration": 8,
    "start_time": "2022-02-13T15:26:08.325Z"
   },
   {
    "duration": 643,
    "start_time": "2022-02-13T15:26:12.940Z"
   },
   {
    "duration": 5,
    "start_time": "2022-02-13T15:26:39.029Z"
   },
   {
    "duration": 26,
    "start_time": "2022-02-13T15:26:42.804Z"
   },
   {
    "duration": 6,
    "start_time": "2022-02-13T15:26:45.726Z"
   },
   {
    "duration": 31,
    "start_time": "2022-02-13T15:26:48.979Z"
   },
   {
    "duration": 6,
    "start_time": "2022-02-13T15:27:57.718Z"
   },
   {
    "duration": 25,
    "start_time": "2022-02-13T15:28:00.568Z"
   },
   {
    "duration": 26,
    "start_time": "2022-02-13T15:28:57.276Z"
   },
   {
    "duration": 22,
    "start_time": "2022-02-13T15:29:49.867Z"
   },
   {
    "duration": 24,
    "start_time": "2022-02-13T15:29:59.771Z"
   },
   {
    "duration": 22,
    "start_time": "2022-02-13T15:31:47.909Z"
   },
   {
    "duration": 17,
    "start_time": "2022-02-13T15:31:55.498Z"
   },
   {
    "duration": 26,
    "start_time": "2022-02-13T15:33:17.049Z"
   },
   {
    "duration": 18,
    "start_time": "2022-02-13T15:33:31.803Z"
   },
   {
    "duration": 23,
    "start_time": "2022-02-13T15:34:02.441Z"
   },
   {
    "duration": 18,
    "start_time": "2022-02-13T15:34:38.148Z"
   },
   {
    "duration": 31,
    "start_time": "2022-02-13T15:35:29.065Z"
   },
   {
    "duration": 306,
    "start_time": "2022-02-13T15:40:48.736Z"
   },
   {
    "duration": 410,
    "start_time": "2022-02-13T15:46:34.922Z"
   },
   {
    "duration": 20,
    "start_time": "2022-02-13T15:46:42.360Z"
   },
   {
    "duration": 1085,
    "start_time": "2022-02-13T15:47:39.685Z"
   },
   {
    "duration": 924,
    "start_time": "2022-02-13T15:47:47.235Z"
   },
   {
    "duration": 282,
    "start_time": "2022-02-13T15:47:53.757Z"
   },
   {
    "duration": 15,
    "start_time": "2022-02-13T15:47:58.164Z"
   },
   {
    "duration": 705,
    "start_time": "2022-02-13T15:51:35.372Z"
   },
   {
    "duration": 482,
    "start_time": "2022-02-13T15:51:46.748Z"
   },
   {
    "duration": 288,
    "start_time": "2022-02-13T15:52:17.255Z"
   },
   {
    "duration": 24,
    "start_time": "2022-02-13T15:52:59.347Z"
   },
   {
    "duration": 21,
    "start_time": "2022-02-13T15:56:50.023Z"
   },
   {
    "duration": 20,
    "start_time": "2022-02-13T15:57:33.494Z"
   },
   {
    "duration": 26,
    "start_time": "2022-02-13T15:58:11.003Z"
   },
   {
    "duration": 21,
    "start_time": "2022-02-13T15:58:11.880Z"
   },
   {
    "duration": 26,
    "start_time": "2022-02-13T15:58:12.567Z"
   },
   {
    "duration": 18,
    "start_time": "2022-02-13T15:58:13.302Z"
   },
   {
    "duration": 17,
    "start_time": "2022-02-13T15:58:14.277Z"
   },
   {
    "duration": 14,
    "start_time": "2022-02-13T15:58:29.308Z"
   },
   {
    "duration": 28,
    "start_time": "2022-02-13T15:58:48.686Z"
   },
   {
    "duration": 23,
    "start_time": "2022-02-13T15:58:49.293Z"
   },
   {
    "duration": 25,
    "start_time": "2022-02-13T15:58:49.898Z"
   },
   {
    "duration": 19,
    "start_time": "2022-02-13T15:58:50.600Z"
   },
   {
    "duration": 20,
    "start_time": "2022-02-13T15:58:56.383Z"
   },
   {
    "duration": 20,
    "start_time": "2022-02-13T15:59:35.350Z"
   },
   {
    "duration": 24,
    "start_time": "2022-02-13T15:59:41.138Z"
   },
   {
    "duration": 18,
    "start_time": "2022-02-13T15:59:41.694Z"
   },
   {
    "duration": 36,
    "start_time": "2022-02-13T15:59:42.195Z"
   },
   {
    "duration": 19,
    "start_time": "2022-02-13T15:59:42.746Z"
   },
   {
    "duration": 18,
    "start_time": "2022-02-13T15:59:43.626Z"
   },
   {
    "duration": 8,
    "start_time": "2022-02-13T16:00:02.585Z"
   },
   {
    "duration": 23,
    "start_time": "2022-02-13T16:00:11.102Z"
   },
   {
    "duration": 7835,
    "start_time": "2022-02-13T16:00:24.760Z"
   },
   {
    "duration": 11,
    "start_time": "2022-02-13T16:00:35.108Z"
   },
   {
    "duration": 10,
    "start_time": "2022-02-13T16:01:00.457Z"
   },
   {
    "duration": 11,
    "start_time": "2022-02-13T16:02:13.628Z"
   },
   {
    "duration": 21,
    "start_time": "2022-02-13T16:02:19.501Z"
   },
   {
    "duration": 28,
    "start_time": "2022-02-13T16:02:40.187Z"
   },
   {
    "duration": 27,
    "start_time": "2022-02-13T16:08:09.313Z"
   },
   {
    "duration": 24,
    "start_time": "2022-02-13T16:08:56.087Z"
   },
   {
    "duration": 21,
    "start_time": "2022-02-13T16:09:21.637Z"
   },
   {
    "duration": 22,
    "start_time": "2022-02-13T16:09:55.499Z"
   },
   {
    "duration": 36,
    "start_time": "2022-02-13T16:10:54.417Z"
   },
   {
    "duration": 21,
    "start_time": "2022-02-13T16:10:54.986Z"
   },
   {
    "duration": 25,
    "start_time": "2022-02-13T16:10:55.577Z"
   },
   {
    "duration": 16,
    "start_time": "2022-02-13T16:10:56.221Z"
   },
   {
    "duration": 20,
    "start_time": "2022-02-13T16:10:58.289Z"
   },
   {
    "duration": 19,
    "start_time": "2022-02-13T16:11:19.432Z"
   },
   {
    "duration": 149,
    "start_time": "2022-02-13T16:15:23.530Z"
   },
   {
    "duration": 19,
    "start_time": "2022-02-13T16:15:39.631Z"
   },
   {
    "duration": 23,
    "start_time": "2022-02-13T16:15:48.269Z"
   },
   {
    "duration": 22,
    "start_time": "2022-02-13T16:15:58.959Z"
   },
   {
    "duration": 8,
    "start_time": "2022-02-13T16:16:15.480Z"
   },
   {
    "duration": 11,
    "start_time": "2022-02-13T16:16:17.513Z"
   },
   {
    "duration": 8,
    "start_time": "2022-02-13T16:16:19.731Z"
   },
   {
    "duration": 10,
    "start_time": "2022-02-13T16:17:10.253Z"
   },
   {
    "duration": 10,
    "start_time": "2022-02-13T16:17:13.948Z"
   },
   {
    "duration": 451,
    "start_time": "2022-02-13T16:17:16.531Z"
   },
   {
    "duration": 12,
    "start_time": "2022-02-13T16:17:33.784Z"
   },
   {
    "duration": 323,
    "start_time": "2022-02-13T16:17:37.016Z"
   },
   {
    "duration": 10,
    "start_time": "2022-02-13T16:17:56.620Z"
   },
   {
    "duration": 13,
    "start_time": "2022-02-13T16:18:07.412Z"
   },
   {
    "duration": 12,
    "start_time": "2022-02-13T16:18:34.564Z"
   },
   {
    "duration": 8,
    "start_time": "2022-02-13T16:18:40.690Z"
   },
   {
    "duration": 7,
    "start_time": "2022-02-13T16:19:37.960Z"
   },
   {
    "duration": 8,
    "start_time": "2022-02-13T16:19:54.020Z"
   },
   {
    "duration": 14,
    "start_time": "2022-02-13T16:24:17.434Z"
   },
   {
    "duration": 298,
    "start_time": "2022-02-13T16:28:52.495Z"
   },
   {
    "duration": 11,
    "start_time": "2022-02-13T16:29:36.882Z"
   },
   {
    "duration": 19,
    "start_time": "2022-02-13T16:29:46.042Z"
   },
   {
    "duration": 4,
    "start_time": "2022-02-13T16:30:35.480Z"
   },
   {
    "duration": 280,
    "start_time": "2022-02-13T16:30:35.491Z"
   },
   {
    "duration": 23,
    "start_time": "2022-02-13T16:30:35.775Z"
   },
   {
    "duration": 79,
    "start_time": "2022-02-13T16:30:35.803Z"
   },
   {
    "duration": 7,
    "start_time": "2022-02-13T16:30:35.886Z"
   },
   {
    "duration": 62,
    "start_time": "2022-02-13T16:30:35.896Z"
   },
   {
    "duration": 7,
    "start_time": "2022-02-13T16:30:35.961Z"
   },
   {
    "duration": 42,
    "start_time": "2022-02-13T16:30:35.971Z"
   },
   {
    "duration": 42,
    "start_time": "2022-02-13T16:30:36.020Z"
   },
   {
    "duration": 30,
    "start_time": "2022-02-13T16:30:36.065Z"
   },
   {
    "duration": 151,
    "start_time": "2022-02-13T16:30:36.100Z"
   },
   {
    "duration": 107,
    "start_time": "2022-02-13T16:30:36.255Z"
   },
   {
    "duration": 85,
    "start_time": "2022-02-13T16:30:36.365Z"
   },
   {
    "duration": 11,
    "start_time": "2022-02-13T16:30:36.453Z"
   },
   {
    "duration": 5,
    "start_time": "2022-02-13T16:30:36.467Z"
   },
   {
    "duration": 24,
    "start_time": "2022-02-13T16:30:36.475Z"
   },
   {
    "duration": 96,
    "start_time": "2022-02-13T16:30:36.502Z"
   },
   {
    "duration": 78,
    "start_time": "2022-02-13T16:30:36.601Z"
   },
   {
    "duration": 18,
    "start_time": "2022-02-13T16:30:36.682Z"
   },
   {
    "duration": 49,
    "start_time": "2022-02-13T16:30:36.703Z"
   },
   {
    "duration": 7,
    "start_time": "2022-02-13T16:30:36.755Z"
   },
   {
    "duration": 29,
    "start_time": "2022-02-13T16:30:36.764Z"
   },
   {
    "duration": 63,
    "start_time": "2022-02-13T16:30:36.797Z"
   },
   {
    "duration": 30,
    "start_time": "2022-02-13T16:30:36.868Z"
   },
   {
    "duration": 49,
    "start_time": "2022-02-13T16:30:36.902Z"
   },
   {
    "duration": 29,
    "start_time": "2022-02-13T16:30:36.955Z"
   },
   {
    "duration": 22,
    "start_time": "2022-02-13T16:30:36.987Z"
   },
   {
    "duration": 47,
    "start_time": "2022-02-13T16:30:37.012Z"
   },
   {
    "duration": 19,
    "start_time": "2022-02-13T16:30:37.062Z"
   },
   {
    "duration": 70,
    "start_time": "2022-02-13T16:30:37.085Z"
   },
   {
    "duration": 40,
    "start_time": "2022-02-13T16:30:37.158Z"
   },
   {
    "duration": 8,
    "start_time": "2022-02-13T16:30:37.202Z"
   },
   {
    "duration": 69,
    "start_time": "2022-02-13T16:30:37.213Z"
   },
   {
    "duration": 27,
    "start_time": "2022-02-13T16:30:37.285Z"
   },
   {
    "duration": 57,
    "start_time": "2022-02-13T16:30:37.316Z"
   },
   {
    "duration": 27,
    "start_time": "2022-02-13T16:30:37.376Z"
   },
   {
    "duration": 54,
    "start_time": "2022-02-13T16:30:37.406Z"
   },
   {
    "duration": 22,
    "start_time": "2022-02-13T16:30:37.463Z"
   },
   {
    "duration": 8,
    "start_time": "2022-02-13T16:30:37.489Z"
   },
   {
    "duration": 12,
    "start_time": "2022-02-13T16:30:37.500Z"
   },
   {
    "duration": 6,
    "start_time": "2022-02-13T16:30:37.548Z"
   },
   {
    "duration": 13,
    "start_time": "2022-02-13T16:30:37.557Z"
   },
   {
    "duration": 384,
    "start_time": "2022-02-20T00:26:19.637Z"
   },
   {
    "duration": 594,
    "start_time": "2022-02-20T00:26:24.625Z"
   },
   {
    "duration": 128,
    "start_time": "2022-02-20T00:26:25.221Z"
   },
   {
    "duration": 16,
    "start_time": "2022-02-20T00:26:25.351Z"
   },
   {
    "duration": 28,
    "start_time": "2022-02-20T00:26:25.368Z"
   },
   {
    "duration": 5,
    "start_time": "2022-02-20T00:26:25.397Z"
   },
   {
    "duration": 18,
    "start_time": "2022-02-20T00:26:25.403Z"
   },
   {
    "duration": 2,
    "start_time": "2022-02-20T00:26:25.423Z"
   },
   {
    "duration": 32,
    "start_time": "2022-02-20T00:26:25.428Z"
   },
   {
    "duration": 16,
    "start_time": "2022-02-20T00:26:25.462Z"
   },
   {
    "duration": 21,
    "start_time": "2022-02-20T00:26:25.480Z"
   },
   {
    "duration": 79,
    "start_time": "2022-02-20T00:26:25.502Z"
   },
   {
    "duration": 71,
    "start_time": "2022-02-20T00:26:25.583Z"
   },
   {
    "duration": 46,
    "start_time": "2022-02-20T00:26:25.656Z"
   },
   {
    "duration": 5,
    "start_time": "2022-02-20T00:26:25.704Z"
   },
   {
    "duration": 3,
    "start_time": "2022-02-20T00:26:25.711Z"
   },
   {
    "duration": 35,
    "start_time": "2022-02-20T00:26:25.715Z"
   },
   {
    "duration": 36,
    "start_time": "2022-02-20T00:26:25.751Z"
   },
   {
    "duration": 38,
    "start_time": "2022-02-20T00:26:25.789Z"
   },
   {
    "duration": 22,
    "start_time": "2022-02-20T00:26:25.828Z"
   },
   {
    "duration": 11,
    "start_time": "2022-02-20T00:26:25.852Z"
   },
   {
    "duration": 3,
    "start_time": "2022-02-20T00:26:25.864Z"
   },
   {
    "duration": 19,
    "start_time": "2022-02-20T00:26:25.869Z"
   },
   {
    "duration": 12,
    "start_time": "2022-02-20T00:26:25.891Z"
   },
   {
    "duration": 43,
    "start_time": "2022-02-20T00:26:25.905Z"
   },
   {
    "duration": 12,
    "start_time": "2022-02-20T00:26:25.950Z"
   },
   {
    "duration": 15,
    "start_time": "2022-02-20T00:26:25.963Z"
   },
   {
    "duration": 12,
    "start_time": "2022-02-20T00:26:25.980Z"
   },
   {
    "duration": 3,
    "start_time": "2022-02-20T00:26:25.993Z"
   },
   {
    "duration": 9,
    "start_time": "2022-02-20T00:26:25.998Z"
   },
   {
    "duration": 53,
    "start_time": "2022-02-20T00:26:26.008Z"
   },
   {
    "duration": 16,
    "start_time": "2022-02-20T00:26:26.062Z"
   },
   {
    "duration": 3,
    "start_time": "2022-02-20T00:26:26.080Z"
   },
   {
    "duration": 21,
    "start_time": "2022-02-20T00:26:26.085Z"
   },
   {
    "duration": 11,
    "start_time": "2022-02-20T00:26:26.107Z"
   },
   {
    "duration": 37,
    "start_time": "2022-02-20T00:26:26.119Z"
   },
   {
    "duration": 11,
    "start_time": "2022-02-20T00:26:26.157Z"
   },
   {
    "duration": 10,
    "start_time": "2022-02-20T00:26:26.169Z"
   },
   {
    "duration": 11,
    "start_time": "2022-02-20T00:26:26.181Z"
   },
   {
    "duration": 4,
    "start_time": "2022-02-20T00:26:26.194Z"
   },
   {
    "duration": 7,
    "start_time": "2022-02-20T00:26:26.200Z"
   },
   {
    "duration": 3,
    "start_time": "2022-02-20T00:26:26.209Z"
   },
   {
    "duration": 7,
    "start_time": "2022-02-20T00:26:26.245Z"
   },
   {
    "duration": 19,
    "start_time": "2022-02-20T00:26:47.880Z"
   },
   {
    "duration": 29,
    "start_time": "2022-02-20T00:27:07.481Z"
   },
   {
    "duration": 57,
    "start_time": "2022-02-20T00:27:37.339Z"
   },
   {
    "duration": 7,
    "start_time": "2022-02-20T00:27:51.987Z"
   },
   {
    "duration": 122,
    "start_time": "2022-02-20T00:30:25.435Z"
   },
   {
    "duration": 3,
    "start_time": "2022-02-20T00:30:44.867Z"
   },
   {
    "duration": 11,
    "start_time": "2022-02-20T00:35:47.973Z"
   },
   {
    "duration": 4,
    "start_time": "2022-02-20T00:36:03.855Z"
   },
   {
    "duration": 101,
    "start_time": "2022-02-20T00:39:12.534Z"
   },
   {
    "duration": 8,
    "start_time": "2022-02-20T00:39:30.445Z"
   },
   {
    "duration": 104,
    "start_time": "2022-02-20T00:39:59.159Z"
   },
   {
    "duration": 11,
    "start_time": "2022-02-20T00:41:44.034Z"
   },
   {
    "duration": 368,
    "start_time": "2022-02-20T00:43:07.396Z"
   },
   {
    "duration": 35,
    "start_time": "2022-02-20T00:43:12.709Z"
   },
   {
    "duration": 39,
    "start_time": "2022-02-20T00:43:54.110Z"
   },
   {
    "duration": 38,
    "start_time": "2022-02-20T00:44:28.008Z"
   },
   {
    "duration": 162,
    "start_time": "2022-02-20T00:44:47.177Z"
   },
   {
    "duration": 11,
    "start_time": "2022-02-20T00:44:53.833Z"
   },
   {
    "duration": 22,
    "start_time": "2022-02-20T00:45:01.041Z"
   },
   {
    "duration": 74,
    "start_time": "2022-02-20T00:47:27.221Z"
   },
   {
    "duration": 17,
    "start_time": "2022-02-20T00:48:16.408Z"
   },
   {
    "duration": 21,
    "start_time": "2022-02-20T00:48:39.401Z"
   },
   {
    "duration": 340,
    "start_time": "2022-02-20T00:49:09.274Z"
   },
   {
    "duration": 380,
    "start_time": "2022-02-20T00:49:17.946Z"
   },
   {
    "duration": 26,
    "start_time": "2022-02-20T00:49:35.099Z"
   },
   {
    "duration": 346,
    "start_time": "2022-02-20T00:49:49.323Z"
   },
   {
    "duration": 18,
    "start_time": "2022-02-20T00:49:54.748Z"
   },
   {
    "duration": 24,
    "start_time": "2022-02-20T00:50:39.356Z"
   },
   {
    "duration": 24,
    "start_time": "2022-02-20T00:50:49.006Z"
   },
   {
    "duration": 24,
    "start_time": "2022-02-20T00:51:02.461Z"
   },
   {
    "duration": 26,
    "start_time": "2022-02-20T00:51:38.695Z"
   },
   {
    "duration": 24,
    "start_time": "2022-02-20T00:51:55.928Z"
   },
   {
    "duration": 34,
    "start_time": "2022-02-20T00:53:14.562Z"
   },
   {
    "duration": 27,
    "start_time": "2022-02-20T00:53:30.519Z"
   },
   {
    "duration": 28,
    "start_time": "2022-02-20T00:53:59.541Z"
   },
   {
    "duration": 27,
    "start_time": "2022-02-20T00:54:08.764Z"
   },
   {
    "duration": 28,
    "start_time": "2022-02-20T00:54:13.412Z"
   },
   {
    "duration": 28,
    "start_time": "2022-02-20T00:54:31.342Z"
   },
   {
    "duration": 26,
    "start_time": "2022-02-20T00:55:15.600Z"
   },
   {
    "duration": 27,
    "start_time": "2022-02-20T00:55:31.576Z"
   },
   {
    "duration": 26,
    "start_time": "2022-02-20T00:55:35.695Z"
   },
   {
    "duration": 333,
    "start_time": "2022-02-20T00:57:23.028Z"
   },
   {
    "duration": 385,
    "start_time": "2022-02-20T00:59:37.457Z"
   },
   {
    "duration": 29,
    "start_time": "2022-02-20T00:59:41.872Z"
   },
   {
    "duration": 34,
    "start_time": "2022-02-20T00:59:58.528Z"
   },
   {
    "duration": 364,
    "start_time": "2022-02-20T01:00:39.779Z"
   },
   {
    "duration": 107,
    "start_time": "2022-02-20T01:01:06.044Z"
   },
   {
    "duration": 117,
    "start_time": "2022-02-20T01:01:11.155Z"
   },
   {
    "duration": 106,
    "start_time": "2022-02-20T01:01:13.764Z"
   },
   {
    "duration": 26,
    "start_time": "2022-02-20T01:01:20.236Z"
   },
   {
    "duration": 28,
    "start_time": "2022-02-20T01:01:28.116Z"
   },
   {
    "duration": 32,
    "start_time": "2022-02-20T01:01:55.181Z"
   },
   {
    "duration": 363,
    "start_time": "2022-02-20T01:02:01.782Z"
   },
   {
    "duration": 127,
    "start_time": "2022-02-20T01:02:12.725Z"
   },
   {
    "duration": 33,
    "start_time": "2022-02-20T01:02:40.312Z"
   },
   {
    "duration": 35,
    "start_time": "2022-02-20T01:03:12.096Z"
   },
   {
    "duration": 371,
    "start_time": "2022-02-20T01:03:34.334Z"
   },
   {
    "duration": 38,
    "start_time": "2022-02-20T01:04:08.427Z"
   },
   {
    "duration": 595,
    "start_time": "2022-02-20T01:05:51.110Z"
   },
   {
    "duration": 45,
    "start_time": "2022-02-20T01:06:01.031Z"
   },
   {
    "duration": 39,
    "start_time": "2022-02-20T01:06:18.998Z"
   },
   {
    "duration": 41,
    "start_time": "2022-02-20T01:06:58.033Z"
   },
   {
    "duration": 39,
    "start_time": "2022-02-20T01:07:04.945Z"
   },
   {
    "duration": 38,
    "start_time": "2022-02-20T01:07:32.914Z"
   },
   {
    "duration": 39,
    "start_time": "2022-02-20T01:07:43.651Z"
   },
   {
    "duration": 42,
    "start_time": "2022-02-20T01:07:55.083Z"
   },
   {
    "duration": 39,
    "start_time": "2022-02-20T01:08:24.820Z"
   },
   {
    "duration": 41,
    "start_time": "2022-02-20T01:08:30.780Z"
   },
   {
    "duration": 42,
    "start_time": "2022-02-20T01:08:36.725Z"
   },
   {
    "duration": 46,
    "start_time": "2022-02-20T01:09:01.396Z"
   },
   {
    "duration": 38,
    "start_time": "2022-02-20T01:09:14.525Z"
   },
   {
    "duration": 41,
    "start_time": "2022-02-20T01:09:27.686Z"
   },
   {
    "duration": 39,
    "start_time": "2022-02-20T01:09:33.190Z"
   },
   {
    "duration": 39,
    "start_time": "2022-02-20T01:09:42.854Z"
   },
   {
    "duration": 120,
    "start_time": "2022-02-20T01:11:48.787Z"
   },
   {
    "duration": 38,
    "start_time": "2022-02-20T01:12:33.701Z"
   },
   {
    "duration": 40,
    "start_time": "2022-02-20T01:12:58.949Z"
   },
   {
    "duration": 38,
    "start_time": "2022-02-20T01:13:13.958Z"
   },
   {
    "duration": 4,
    "start_time": "2022-02-20T01:13:37.207Z"
   },
   {
    "duration": 125,
    "start_time": "2022-02-20T01:13:41.447Z"
   },
   {
    "duration": 39,
    "start_time": "2022-02-20T01:13:54.480Z"
   },
   {
    "duration": 39,
    "start_time": "2022-02-20T01:22:24.803Z"
   },
   {
    "duration": 27,
    "start_time": "2022-02-20T01:23:11.771Z"
   },
   {
    "duration": 105,
    "start_time": "2022-02-20T01:24:38.447Z"
   },
   {
    "duration": 342,
    "start_time": "2022-02-20T01:24:52.120Z"
   },
   {
    "duration": 362,
    "start_time": "2022-02-20T01:25:33.787Z"
   },
   {
    "duration": 350,
    "start_time": "2022-02-20T01:25:35.921Z"
   },
   {
    "duration": 338,
    "start_time": "2022-02-20T01:25:53.522Z"
   },
   {
    "duration": 26,
    "start_time": "2022-02-20T01:25:57.227Z"
   },
   {
    "duration": 25,
    "start_time": "2022-02-20T01:26:45.948Z"
   },
   {
    "duration": 165,
    "start_time": "2022-02-20T01:26:55.197Z"
   },
   {
    "duration": 23,
    "start_time": "2022-02-20T01:26:58.660Z"
   },
   {
    "duration": 22,
    "start_time": "2022-02-20T01:27:07.964Z"
   },
   {
    "duration": 23,
    "start_time": "2022-02-20T01:27:18.797Z"
   },
   {
    "duration": 39,
    "start_time": "2022-02-20T01:27:38.630Z"
   },
   {
    "duration": 42,
    "start_time": "2022-02-20T01:28:01.767Z"
   },
   {
    "duration": 39,
    "start_time": "2022-02-20T01:28:07.543Z"
   },
   {
    "duration": 39,
    "start_time": "2022-02-20T01:28:34.279Z"
   },
   {
    "duration": 39,
    "start_time": "2022-02-20T01:28:45.775Z"
   },
   {
    "duration": 77,
    "start_time": "2022-02-20T01:29:18.402Z"
   },
   {
    "duration": 75,
    "start_time": "2022-02-20T01:29:48.026Z"
   },
   {
    "duration": 75,
    "start_time": "2022-02-20T01:30:05.931Z"
   },
   {
    "duration": 74,
    "start_time": "2022-02-20T01:30:25.454Z"
   },
   {
    "duration": 565,
    "start_time": "2022-02-20T01:31:57.577Z"
   },
   {
    "duration": 125,
    "start_time": "2022-02-20T01:31:58.146Z"
   },
   {
    "duration": 15,
    "start_time": "2022-02-20T01:31:58.273Z"
   },
   {
    "duration": 31,
    "start_time": "2022-02-20T01:31:58.290Z"
   },
   {
    "duration": 3,
    "start_time": "2022-02-20T01:31:58.323Z"
   },
   {
    "duration": 26,
    "start_time": "2022-02-20T01:31:58.328Z"
   },
   {
    "duration": 7,
    "start_time": "2022-02-20T01:31:58.356Z"
   },
   {
    "duration": 25,
    "start_time": "2022-02-20T01:31:58.365Z"
   },
   {
    "duration": 18,
    "start_time": "2022-02-20T01:31:58.392Z"
   },
   {
    "duration": 19,
    "start_time": "2022-02-20T01:31:58.412Z"
   },
   {
    "duration": 54,
    "start_time": "2022-02-20T01:31:58.445Z"
   },
   {
    "duration": 74,
    "start_time": "2022-02-20T01:31:58.501Z"
   },
   {
    "duration": 46,
    "start_time": "2022-02-20T01:31:58.576Z"
   },
   {
    "duration": 23,
    "start_time": "2022-02-20T01:31:58.624Z"
   },
   {
    "duration": 6,
    "start_time": "2022-02-20T01:31:58.648Z"
   },
   {
    "duration": 17,
    "start_time": "2022-02-20T01:31:58.655Z"
   },
   {
    "duration": 37,
    "start_time": "2022-02-20T01:31:58.673Z"
   },
   {
    "duration": 55,
    "start_time": "2022-02-20T01:31:58.711Z"
   },
   {
    "duration": 10,
    "start_time": "2022-02-20T01:31:58.768Z"
   },
   {
    "duration": 10,
    "start_time": "2022-02-20T01:31:58.779Z"
   },
   {
    "duration": 3,
    "start_time": "2022-02-20T01:31:58.791Z"
   },
   {
    "duration": 20,
    "start_time": "2022-02-20T01:31:58.795Z"
   },
   {
    "duration": 33,
    "start_time": "2022-02-20T01:31:58.818Z"
   },
   {
    "duration": 13,
    "start_time": "2022-02-20T01:31:58.853Z"
   },
   {
    "duration": 11,
    "start_time": "2022-02-20T01:31:58.868Z"
   },
   {
    "duration": 19,
    "start_time": "2022-02-20T01:31:58.880Z"
   },
   {
    "duration": 11,
    "start_time": "2022-02-20T01:31:58.900Z"
   },
   {
    "duration": 3,
    "start_time": "2022-02-20T01:31:58.913Z"
   },
   {
    "duration": 7,
    "start_time": "2022-02-20T01:31:58.946Z"
   },
   {
    "duration": 21,
    "start_time": "2022-02-20T01:31:58.955Z"
   },
   {
    "duration": 15,
    "start_time": "2022-02-20T01:31:58.978Z"
   },
   {
    "duration": 3,
    "start_time": "2022-02-20T01:31:58.995Z"
   },
   {
    "duration": 25,
    "start_time": "2022-02-20T01:31:59.000Z"
   },
   {
    "duration": 30,
    "start_time": "2022-02-20T01:31:59.026Z"
   },
   {
    "duration": 16,
    "start_time": "2022-02-20T01:31:59.058Z"
   },
   {
    "duration": 12,
    "start_time": "2022-02-20T01:31:59.075Z"
   },
   {
    "duration": 12,
    "start_time": "2022-02-20T01:31:59.089Z"
   },
   {
    "duration": 46,
    "start_time": "2022-02-20T01:31:59.103Z"
   },
   {
    "duration": 4,
    "start_time": "2022-02-20T01:31:59.151Z"
   },
   {
    "duration": 12,
    "start_time": "2022-02-20T01:31:59.156Z"
   },
   {
    "duration": 4,
    "start_time": "2022-02-20T01:31:59.170Z"
   },
   {
    "duration": 10,
    "start_time": "2022-02-20T01:31:59.175Z"
   },
   {
    "duration": 90,
    "start_time": "2022-02-20T01:31:59.186Z"
   },
   {
    "duration": 97,
    "start_time": "2022-02-20T07:10:05.713Z"
   },
   {
    "duration": 662,
    "start_time": "2022-02-20T07:48:30.583Z"
   },
   {
    "duration": 152,
    "start_time": "2022-02-20T07:48:32.087Z"
   },
   {
    "duration": 20,
    "start_time": "2022-02-20T07:48:33.537Z"
   },
   {
    "duration": 26,
    "start_time": "2022-02-20T07:48:36.445Z"
   },
   {
    "duration": 4,
    "start_time": "2022-02-20T07:48:45.575Z"
   },
   {
    "duration": 4,
    "start_time": "2022-02-20T07:48:57.713Z"
   },
   {
    "duration": 24,
    "start_time": "2022-02-20T07:48:59.785Z"
   },
   {
    "duration": 5,
    "start_time": "2022-02-20T07:49:04.000Z"
   },
   {
    "duration": 26,
    "start_time": "2022-02-20T07:49:05.739Z"
   },
   {
    "duration": 32,
    "start_time": "2022-02-20T07:49:28.395Z"
   },
   {
    "duration": 28,
    "start_time": "2022-02-20T07:49:36.792Z"
   },
   {
    "duration": 18,
    "start_time": "2022-02-20T07:50:14.769Z"
   },
   {
    "duration": 25,
    "start_time": "2022-02-20T07:50:17.904Z"
   },
   {
    "duration": 4,
    "start_time": "2022-02-20T07:51:59.900Z"
   },
   {
    "duration": 3,
    "start_time": "2022-02-20T07:52:50.337Z"
   },
   {
    "duration": 4,
    "start_time": "2022-02-20T07:52:57.402Z"
   },
   {
    "duration": 396,
    "start_time": "2022-02-20T07:54:30.233Z"
   },
   {
    "duration": 18,
    "start_time": "2022-02-20T07:54:42.801Z"
   },
   {
    "duration": 25,
    "start_time": "2022-02-20T07:54:50.349Z"
   },
   {
    "duration": 3,
    "start_time": "2022-02-20T08:15:34.709Z"
   },
   {
    "duration": 176,
    "start_time": "2022-02-20T08:15:34.716Z"
   },
   {
    "duration": 11,
    "start_time": "2022-02-20T08:15:34.894Z"
   },
   {
    "duration": 37,
    "start_time": "2022-02-20T08:15:34.907Z"
   },
   {
    "duration": 23,
    "start_time": "2022-02-20T08:15:34.946Z"
   },
   {
    "duration": 25,
    "start_time": "2022-02-20T08:15:34.971Z"
   },
   {
    "duration": 3,
    "start_time": "2022-02-20T08:15:34.998Z"
   },
   {
    "duration": 36,
    "start_time": "2022-02-20T08:15:35.003Z"
   },
   {
    "duration": 40,
    "start_time": "2022-02-20T08:15:35.043Z"
   },
   {
    "duration": 25,
    "start_time": "2022-02-20T08:15:35.086Z"
   },
   {
    "duration": 84,
    "start_time": "2022-02-20T08:15:35.113Z"
   },
   {
    "duration": 84,
    "start_time": "2022-02-20T08:15:35.199Z"
   },
   {
    "duration": 55,
    "start_time": "2022-02-20T08:15:35.285Z"
   },
   {
    "duration": 27,
    "start_time": "2022-02-20T08:15:35.342Z"
   },
   {
    "duration": 3,
    "start_time": "2022-02-20T08:15:35.371Z"
   },
   {
    "duration": 23,
    "start_time": "2022-02-20T08:15:35.376Z"
   },
   {
    "duration": 45,
    "start_time": "2022-02-20T08:15:35.401Z"
   },
   {
    "duration": 66,
    "start_time": "2022-02-20T08:15:35.448Z"
   },
   {
    "duration": 13,
    "start_time": "2022-02-20T08:15:35.516Z"
   },
   {
    "duration": 13,
    "start_time": "2022-02-20T08:15:35.531Z"
   },
   {
    "duration": 25,
    "start_time": "2022-02-20T08:15:35.546Z"
   },
   {
    "duration": 27,
    "start_time": "2022-02-20T08:15:35.574Z"
   },
   {
    "duration": 17,
    "start_time": "2022-02-20T08:15:35.603Z"
   },
   {
    "duration": 18,
    "start_time": "2022-02-20T08:15:35.625Z"
   },
   {
    "duration": 16,
    "start_time": "2022-02-20T08:15:35.670Z"
   },
   {
    "duration": 19,
    "start_time": "2022-02-20T08:15:35.688Z"
   },
   {
    "duration": 16,
    "start_time": "2022-02-20T08:15:35.709Z"
   },
   {
    "duration": 3,
    "start_time": "2022-02-20T08:15:35.727Z"
   },
   {
    "duration": 44,
    "start_time": "2022-02-20T08:15:35.732Z"
   },
   {
    "duration": 39,
    "start_time": "2022-02-20T08:15:35.778Z"
   },
   {
    "duration": 19,
    "start_time": "2022-02-20T08:15:35.819Z"
   },
   {
    "duration": 4,
    "start_time": "2022-02-20T08:15:35.840Z"
   },
   {
    "duration": 45,
    "start_time": "2022-02-20T08:15:35.845Z"
   },
   {
    "duration": 13,
    "start_time": "2022-02-20T08:15:35.891Z"
   },
   {
    "duration": 19,
    "start_time": "2022-02-20T08:15:35.906Z"
   },
   {
    "duration": 12,
    "start_time": "2022-02-20T08:15:35.927Z"
   },
   {
    "duration": 38,
    "start_time": "2022-02-20T08:15:35.940Z"
   },
   {
    "duration": 18,
    "start_time": "2022-02-20T08:15:35.980Z"
   },
   {
    "duration": 10,
    "start_time": "2022-02-20T08:15:36.000Z"
   },
   {
    "duration": 18,
    "start_time": "2022-02-20T08:15:36.012Z"
   },
   {
    "duration": 8,
    "start_time": "2022-02-20T08:15:36.031Z"
   },
   {
    "duration": 10,
    "start_time": "2022-02-20T08:15:36.041Z"
   },
   {
    "duration": 130,
    "start_time": "2022-02-20T08:15:36.053Z"
   },
   {
    "duration": 804,
    "start_time": "2022-02-21T03:32:51.827Z"
   },
   {
    "duration": 201,
    "start_time": "2022-02-21T03:32:52.634Z"
   },
   {
    "duration": 27,
    "start_time": "2022-02-21T03:32:52.839Z"
   },
   {
    "duration": 36,
    "start_time": "2022-02-21T03:32:52.869Z"
   },
   {
    "duration": 23,
    "start_time": "2022-02-21T03:32:52.907Z"
   },
   {
    "duration": 32,
    "start_time": "2022-02-21T03:32:52.933Z"
   },
   {
    "duration": 6,
    "start_time": "2022-02-21T03:32:52.967Z"
   },
   {
    "duration": 71,
    "start_time": "2022-02-21T03:32:52.976Z"
   },
   {
    "duration": 25,
    "start_time": "2022-02-21T03:32:53.052Z"
   },
   {
    "duration": 48,
    "start_time": "2022-02-21T03:32:53.080Z"
   },
   {
    "duration": 108,
    "start_time": "2022-02-21T03:32:53.131Z"
   },
   {
    "duration": 120,
    "start_time": "2022-02-21T03:32:53.242Z"
   },
   {
    "duration": 90,
    "start_time": "2022-02-21T03:32:53.364Z"
   },
   {
    "duration": 9,
    "start_time": "2022-02-21T03:32:53.457Z"
   },
   {
    "duration": 11,
    "start_time": "2022-02-21T03:32:53.468Z"
   },
   {
    "duration": 45,
    "start_time": "2022-02-21T03:32:53.481Z"
   },
   {
    "duration": 61,
    "start_time": "2022-02-21T03:32:53.528Z"
   },
   {
    "duration": 81,
    "start_time": "2022-02-21T03:32:53.591Z"
   },
   {
    "duration": 15,
    "start_time": "2022-02-21T03:32:53.674Z"
   },
   {
    "duration": 39,
    "start_time": "2022-02-21T03:32:53.692Z"
   },
   {
    "duration": 5,
    "start_time": "2022-02-21T03:32:53.734Z"
   },
   {
    "duration": 31,
    "start_time": "2022-02-21T03:32:53.741Z"
   },
   {
    "duration": 20,
    "start_time": "2022-02-21T03:32:53.774Z"
   },
   {
    "duration": 44,
    "start_time": "2022-02-21T03:32:53.796Z"
   },
   {
    "duration": 19,
    "start_time": "2022-02-21T03:32:53.843Z"
   },
   {
    "duration": 21,
    "start_time": "2022-02-21T03:32:53.865Z"
   },
   {
    "duration": 21,
    "start_time": "2022-02-21T03:32:53.928Z"
   },
   {
    "duration": 5,
    "start_time": "2022-02-21T03:32:53.952Z"
   },
   {
    "duration": 12,
    "start_time": "2022-02-21T03:32:53.960Z"
   },
   {
    "duration": 70,
    "start_time": "2022-02-21T03:32:53.975Z"
   },
   {
    "duration": 28,
    "start_time": "2022-02-21T03:32:54.048Z"
   },
   {
    "duration": 6,
    "start_time": "2022-02-21T03:32:54.079Z"
   },
   {
    "duration": 60,
    "start_time": "2022-02-21T03:32:54.088Z"
   },
   {
    "duration": 20,
    "start_time": "2022-02-21T03:32:54.150Z"
   },
   {
    "duration": 54,
    "start_time": "2022-02-21T03:32:54.173Z"
   },
   {
    "duration": 20,
    "start_time": "2022-02-21T03:32:54.230Z"
   },
   {
    "duration": 19,
    "start_time": "2022-02-21T03:32:54.252Z"
   },
   {
    "duration": 52,
    "start_time": "2022-02-21T03:32:54.274Z"
   },
   {
    "duration": 8,
    "start_time": "2022-02-21T03:32:54.329Z"
   },
   {
    "duration": 22,
    "start_time": "2022-02-21T03:32:54.340Z"
   },
   {
    "duration": 9,
    "start_time": "2022-02-21T03:32:54.365Z"
   },
   {
    "duration": 19,
    "start_time": "2022-02-21T03:32:54.377Z"
   },
   {
    "duration": 164,
    "start_time": "2022-02-21T03:32:54.399Z"
   },
   {
    "duration": 763,
    "start_time": "2022-02-21T03:42:55.951Z"
   },
   {
    "duration": 219,
    "start_time": "2022-02-21T03:42:56.717Z"
   },
   {
    "duration": 26,
    "start_time": "2022-02-21T03:42:56.939Z"
   },
   {
    "duration": 57,
    "start_time": "2022-02-21T03:42:56.969Z"
   },
   {
    "duration": 6,
    "start_time": "2022-02-21T03:42:57.029Z"
   },
   {
    "duration": 28,
    "start_time": "2022-02-21T03:42:57.037Z"
   },
   {
    "duration": 6,
    "start_time": "2022-02-21T03:42:57.068Z"
   },
   {
    "duration": 72,
    "start_time": "2022-02-21T03:42:57.076Z"
   },
   {
    "duration": 45,
    "start_time": "2022-02-21T03:42:57.152Z"
   },
   {
    "duration": 48,
    "start_time": "2022-02-21T03:42:57.200Z"
   },
   {
    "duration": 113,
    "start_time": "2022-02-21T03:42:57.250Z"
   },
   {
    "duration": 119,
    "start_time": "2022-02-21T03:42:57.365Z"
   },
   {
    "duration": 99,
    "start_time": "2022-02-21T03:42:57.487Z"
   },
   {
    "duration": 10,
    "start_time": "2022-02-21T03:42:57.588Z"
   },
   {
    "duration": 7,
    "start_time": "2022-02-21T03:42:57.600Z"
   },
   {
    "duration": 38,
    "start_time": "2022-02-21T03:42:57.609Z"
   },
   {
    "duration": 86,
    "start_time": "2022-02-21T03:42:57.650Z"
   },
   {
    "duration": 66,
    "start_time": "2022-02-21T03:42:57.738Z"
   },
   {
    "duration": 33,
    "start_time": "2022-02-21T03:42:57.806Z"
   },
   {
    "duration": 15,
    "start_time": "2022-02-21T03:42:57.842Z"
   },
   {
    "duration": 5,
    "start_time": "2022-02-21T03:42:57.859Z"
   },
   {
    "duration": 32,
    "start_time": "2022-02-21T03:42:57.867Z"
   },
   {
    "duration": 20,
    "start_time": "2022-02-21T03:42:57.927Z"
   },
   {
    "duration": 20,
    "start_time": "2022-02-21T03:42:57.950Z"
   },
   {
    "duration": 19,
    "start_time": "2022-02-21T03:42:57.973Z"
   },
   {
    "duration": 23,
    "start_time": "2022-02-21T03:42:58.028Z"
   },
   {
    "duration": 22,
    "start_time": "2022-02-21T03:42:58.056Z"
   },
   {
    "duration": 6,
    "start_time": "2022-02-21T03:42:58.081Z"
   },
   {
    "duration": 47,
    "start_time": "2022-02-21T03:42:58.089Z"
   },
   {
    "duration": 35,
    "start_time": "2022-02-21T03:42:58.138Z"
   },
   {
    "duration": 55,
    "start_time": "2022-02-21T03:42:58.176Z"
   },
   {
    "duration": 6,
    "start_time": "2022-02-21T03:42:58.233Z"
   },
   {
    "duration": 35,
    "start_time": "2022-02-21T03:42:58.241Z"
   },
   {
    "duration": 18,
    "start_time": "2022-02-21T03:42:58.279Z"
   },
   {
    "duration": 60,
    "start_time": "2022-02-21T03:42:58.300Z"
   },
   {
    "duration": 21,
    "start_time": "2022-02-21T03:42:58.363Z"
   },
   {
    "duration": 49,
    "start_time": "2022-02-21T03:42:58.387Z"
   },
   {
    "duration": 16,
    "start_time": "2022-02-21T03:42:58.438Z"
   },
   {
    "duration": 9,
    "start_time": "2022-02-21T03:42:58.456Z"
   },
   {
    "duration": 16,
    "start_time": "2022-02-21T03:42:58.468Z"
   },
   {
    "duration": 7,
    "start_time": "2022-02-21T03:42:58.487Z"
   },
   {
    "duration": 13,
    "start_time": "2022-02-21T03:42:58.527Z"
   },
   {
    "duration": 160,
    "start_time": "2022-02-21T03:42:58.543Z"
   },
   {
    "duration": 6643,
    "start_time": "2022-02-21T03:44:37.873Z"
   },
   {
    "duration": 6950,
    "start_time": "2022-02-21T03:44:50.466Z"
   },
   {
    "duration": 7493,
    "start_time": "2022-02-21T03:45:03.314Z"
   },
   {
    "duration": 792,
    "start_time": "2022-02-21T03:48:36.299Z"
   },
   {
    "duration": 202,
    "start_time": "2022-02-21T03:48:37.093Z"
   },
   {
    "duration": 31,
    "start_time": "2022-02-21T03:48:37.298Z"
   },
   {
    "duration": 34,
    "start_time": "2022-02-21T03:48:37.332Z"
   },
   {
    "duration": 5,
    "start_time": "2022-02-21T03:48:37.368Z"
   },
   {
    "duration": 62,
    "start_time": "2022-02-21T03:48:37.375Z"
   },
   {
    "duration": 5,
    "start_time": "2022-02-21T03:48:37.439Z"
   },
   {
    "duration": 35,
    "start_time": "2022-02-21T03:48:37.446Z"
   },
   {
    "duration": 52,
    "start_time": "2022-02-21T03:48:37.485Z"
   },
   {
    "duration": 30,
    "start_time": "2022-02-21T03:48:37.540Z"
   },
   {
    "duration": 110,
    "start_time": "2022-02-21T03:48:37.572Z"
   },
   {
    "duration": 116,
    "start_time": "2022-02-21T03:48:37.685Z"
   },
   {
    "duration": 82,
    "start_time": "2022-02-21T03:48:37.803Z"
   },
   {
    "duration": 9,
    "start_time": "2022-02-21T03:48:37.888Z"
   },
   {
    "duration": 29,
    "start_time": "2022-02-21T03:48:37.899Z"
   },
   {
    "duration": 38,
    "start_time": "2022-02-21T03:48:37.930Z"
   },
   {
    "duration": 64,
    "start_time": "2022-02-21T03:48:37.970Z"
   },
   {
    "duration": 62,
    "start_time": "2022-02-21T03:48:38.036Z"
   },
   {
    "duration": 36,
    "start_time": "2022-02-21T03:48:38.100Z"
   },
   {
    "duration": 14,
    "start_time": "2022-02-21T03:48:38.139Z"
   },
   {
    "duration": 4,
    "start_time": "2022-02-21T03:48:38.156Z"
   },
   {
    "duration": 27,
    "start_time": "2022-02-21T03:48:38.163Z"
   },
   {
    "duration": 49,
    "start_time": "2022-02-21T03:48:38.192Z"
   },
   {
    "duration": 19,
    "start_time": "2022-02-21T03:48:38.244Z"
   },
   {
    "duration": 19,
    "start_time": "2022-02-21T03:48:38.265Z"
   },
   {
    "duration": 57,
    "start_time": "2022-02-21T03:48:38.286Z"
   },
   {
    "duration": 21,
    "start_time": "2022-02-21T03:48:38.348Z"
   },
   {
    "duration": 5,
    "start_time": "2022-02-21T03:48:38.372Z"
   },
   {
    "duration": 49,
    "start_time": "2022-02-21T03:48:38.379Z"
   },
   {
    "duration": 35,
    "start_time": "2022-02-21T03:48:38.430Z"
   },
   {
    "duration": 26,
    "start_time": "2022-02-21T03:48:38.467Z"
   },
   {
    "duration": 6,
    "start_time": "2022-02-21T03:48:38.495Z"
   },
   {
    "duration": 33,
    "start_time": "2022-02-21T03:48:38.526Z"
   },
   {
    "duration": 17,
    "start_time": "2022-02-21T03:48:38.561Z"
   },
   {
    "duration": 47,
    "start_time": "2022-02-21T03:48:38.580Z"
   },
   {
    "duration": 17,
    "start_time": "2022-02-21T03:48:38.630Z"
   },
   {
    "duration": 18,
    "start_time": "2022-02-21T03:48:38.649Z"
   },
   {
    "duration": 12,
    "start_time": "2022-02-21T03:48:38.669Z"
   },
   {
    "duration": 41,
    "start_time": "2022-02-21T03:48:38.684Z"
   },
   {
    "duration": 9,
    "start_time": "2022-02-21T03:48:38.728Z"
   },
   {
    "duration": 7,
    "start_time": "2022-02-21T03:48:38.739Z"
   },
   {
    "duration": 24,
    "start_time": "2022-02-21T03:48:38.748Z"
   },
   {
    "duration": 149,
    "start_time": "2022-02-21T03:48:38.774Z"
   },
   {
    "duration": 5,
    "start_time": "2022-02-21T03:54:52.649Z"
   },
   {
    "duration": 5,
    "start_time": "2022-02-21T03:54:59.847Z"
   },
   {
    "duration": 352,
    "start_time": "2022-02-21T03:55:06.551Z"
   },
   {
    "duration": 5,
    "start_time": "2022-02-21T03:55:10.055Z"
   },
   {
    "duration": 5,
    "start_time": "2022-02-21T03:55:23.792Z"
   },
   {
    "duration": 5,
    "start_time": "2022-02-21T03:55:26.960Z"
   },
   {
    "duration": 103,
    "start_time": "2022-02-21T03:55:47.170Z"
   },
   {
    "duration": 5,
    "start_time": "2022-02-21T03:55:56.009Z"
   },
   {
    "duration": 10,
    "start_time": "2022-02-21T03:56:03.041Z"
   },
   {
    "duration": 3,
    "start_time": "2022-02-21T03:56:08.002Z"
   },
   {
    "duration": 6,
    "start_time": "2022-02-21T03:56:27.442Z"
   },
   {
    "duration": 5,
    "start_time": "2022-02-21T03:56:30.106Z"
   },
   {
    "duration": 5,
    "start_time": "2022-02-21T03:56:37.234Z"
   },
   {
    "duration": 5,
    "start_time": "2022-02-21T03:56:41.755Z"
   },
   {
    "duration": 5,
    "start_time": "2022-02-21T03:57:09.939Z"
   },
   {
    "duration": 5,
    "start_time": "2022-02-21T03:58:43.327Z"
   },
   {
    "duration": 5,
    "start_time": "2022-02-21T03:59:04.048Z"
   },
   {
    "duration": 4,
    "start_time": "2022-02-21T03:59:45.410Z"
   },
   {
    "duration": 5,
    "start_time": "2022-02-21T03:59:55.082Z"
   },
   {
    "duration": 4,
    "start_time": "2022-02-21T03:59:57.930Z"
   },
   {
    "duration": 5,
    "start_time": "2022-02-21T04:01:02.877Z"
   },
   {
    "duration": 5,
    "start_time": "2022-02-21T04:03:18.003Z"
   },
   {
    "duration": 6,
    "start_time": "2022-02-21T04:03:28.466Z"
   },
   {
    "duration": 6,
    "start_time": "2022-02-21T04:03:37.003Z"
   },
   {
    "duration": 7,
    "start_time": "2022-02-21T04:03:48.955Z"
   },
   {
    "duration": 7,
    "start_time": "2022-02-21T04:04:06.227Z"
   },
   {
    "duration": 7,
    "start_time": "2022-02-21T04:04:17.532Z"
   },
   {
    "duration": 308,
    "start_time": "2022-02-21T04:05:06.812Z"
   },
   {
    "duration": 5,
    "start_time": "2022-02-21T04:05:15.478Z"
   },
   {
    "duration": 257,
    "start_time": "2022-02-21T04:06:36.248Z"
   },
   {
    "duration": 10,
    "start_time": "2022-02-21T04:06:53.169Z"
   },
   {
    "duration": 9,
    "start_time": "2022-02-21T04:07:39.267Z"
   },
   {
    "duration": 767,
    "start_time": "2022-02-21T04:07:48.381Z"
   },
   {
    "duration": 202,
    "start_time": "2022-02-21T04:07:49.152Z"
   },
   {
    "duration": 27,
    "start_time": "2022-02-21T04:07:49.357Z"
   },
   {
    "duration": 57,
    "start_time": "2022-02-21T04:07:49.387Z"
   },
   {
    "duration": 5,
    "start_time": "2022-02-21T04:07:49.446Z"
   },
   {
    "duration": 28,
    "start_time": "2022-02-21T04:07:49.453Z"
   },
   {
    "duration": 5,
    "start_time": "2022-02-21T04:07:49.484Z"
   },
   {
    "duration": 30,
    "start_time": "2022-02-21T04:07:49.525Z"
   },
   {
    "duration": 23,
    "start_time": "2022-02-21T04:07:49.558Z"
   },
   {
    "duration": 55,
    "start_time": "2022-02-21T04:07:49.584Z"
   },
   {
    "duration": 98,
    "start_time": "2022-02-21T04:07:49.642Z"
   },
   {
    "duration": 114,
    "start_time": "2022-02-21T04:07:49.743Z"
   },
   {
    "duration": 106,
    "start_time": "2022-02-21T04:07:49.860Z"
   },
   {
    "duration": 13,
    "start_time": "2022-02-21T04:07:49.970Z"
   },
   {
    "duration": 40,
    "start_time": "2022-02-21T04:07:49.986Z"
   },
   {
    "duration": 5,
    "start_time": "2022-02-21T04:07:50.029Z"
   },
   {
    "duration": 25,
    "start_time": "2022-02-21T04:07:50.037Z"
   },
   {
    "duration": 83,
    "start_time": "2022-02-21T04:07:50.065Z"
   },
   {
    "duration": 83,
    "start_time": "2022-02-21T04:07:50.151Z"
   },
   {
    "duration": 18,
    "start_time": "2022-02-21T04:07:50.237Z"
   },
   {
    "duration": 18,
    "start_time": "2022-02-21T04:07:50.258Z"
   },
   {
    "duration": 5,
    "start_time": "2022-02-21T04:07:50.278Z"
   },
   {
    "duration": 24,
    "start_time": "2022-02-21T04:07:50.328Z"
   },
   {
    "duration": 21,
    "start_time": "2022-02-21T04:07:50.355Z"
   },
   {
    "duration": 48,
    "start_time": "2022-02-21T04:07:50.379Z"
   },
   {
    "duration": 20,
    "start_time": "2022-02-21T04:07:50.430Z"
   },
   {
    "duration": 33,
    "start_time": "2022-02-21T04:07:50.453Z"
   },
   {
    "duration": 61,
    "start_time": "2022-02-21T04:07:50.489Z"
   },
   {
    "duration": 5,
    "start_time": "2022-02-21T04:07:50.552Z"
   },
   {
    "duration": 18,
    "start_time": "2022-02-21T04:07:50.559Z"
   },
   {
    "duration": 63,
    "start_time": "2022-02-21T04:07:50.579Z"
   },
   {
    "duration": 25,
    "start_time": "2022-02-21T04:07:50.644Z"
   },
   {
    "duration": 5,
    "start_time": "2022-02-21T04:07:50.671Z"
   },
   {
    "duration": 63,
    "start_time": "2022-02-21T04:07:50.679Z"
   },
   {
    "duration": 27,
    "start_time": "2022-02-21T04:07:50.745Z"
   },
   {
    "duration": 51,
    "start_time": "2022-02-21T04:07:50.775Z"
   },
   {
    "duration": 18,
    "start_time": "2022-02-21T04:07:50.829Z"
   },
   {
    "duration": 19,
    "start_time": "2022-02-21T04:07:50.850Z"
   },
   {
    "duration": 56,
    "start_time": "2022-02-21T04:07:50.872Z"
   },
   {
    "duration": 9,
    "start_time": "2022-02-21T04:07:50.931Z"
   },
   {
    "duration": 18,
    "start_time": "2022-02-21T04:07:50.943Z"
   },
   {
    "duration": 7,
    "start_time": "2022-02-21T04:07:50.964Z"
   },
   {
    "duration": 24,
    "start_time": "2022-02-21T04:07:50.974Z"
   },
   {
    "duration": 152,
    "start_time": "2022-02-21T04:07:51.028Z"
   },
   {
    "duration": 752,
    "start_time": "2022-02-21T04:08:35.938Z"
   },
   {
    "duration": 195,
    "start_time": "2022-02-21T04:08:36.693Z"
   },
   {
    "duration": 39,
    "start_time": "2022-02-21T04:08:36.892Z"
   },
   {
    "duration": 34,
    "start_time": "2022-02-21T04:08:36.935Z"
   },
   {
    "duration": 6,
    "start_time": "2022-02-21T04:08:36.971Z"
   },
   {
    "duration": 62,
    "start_time": "2022-02-21T04:08:36.980Z"
   },
   {
    "duration": 18,
    "start_time": "2022-02-21T04:08:37.045Z"
   },
   {
    "duration": 41,
    "start_time": "2022-02-21T04:08:37.065Z"
   },
   {
    "duration": 33,
    "start_time": "2022-02-21T04:08:37.110Z"
   },
   {
    "duration": 31,
    "start_time": "2022-02-21T04:08:37.146Z"
   },
   {
    "duration": 111,
    "start_time": "2022-02-21T04:08:37.179Z"
   },
   {
    "duration": 120,
    "start_time": "2022-02-21T04:08:37.292Z"
   },
   {
    "duration": 87,
    "start_time": "2022-02-21T04:08:37.415Z"
   },
   {
    "duration": 22,
    "start_time": "2022-02-21T04:08:37.505Z"
   },
   {
    "duration": 10,
    "start_time": "2022-02-21T04:08:37.530Z"
   },
   {
    "duration": 11,
    "start_time": "2022-02-21T04:08:37.542Z"
   },
   {
    "duration": 51,
    "start_time": "2022-02-21T04:08:37.556Z"
   },
   {
    "duration": 68,
    "start_time": "2022-02-21T04:08:37.610Z"
   },
   {
    "duration": 80,
    "start_time": "2022-02-21T04:08:37.681Z"
   },
   {
    "duration": 15,
    "start_time": "2022-02-21T04:08:37.764Z"
   },
   {
    "duration": 16,
    "start_time": "2022-02-21T04:08:37.781Z"
   },
   {
    "duration": 5,
    "start_time": "2022-02-21T04:08:37.825Z"
   },
   {
    "duration": 32,
    "start_time": "2022-02-21T04:08:37.833Z"
   },
   {
    "duration": 34,
    "start_time": "2022-02-21T04:08:37.867Z"
   },
   {
    "duration": 30,
    "start_time": "2022-02-21T04:08:37.904Z"
   },
   {
    "duration": 27,
    "start_time": "2022-02-21T04:08:37.937Z"
   },
   {
    "duration": 22,
    "start_time": "2022-02-21T04:08:37.969Z"
   },
   {
    "duration": 46,
    "start_time": "2022-02-21T04:08:37.994Z"
   },
   {
    "duration": 6,
    "start_time": "2022-02-21T04:08:38.042Z"
   },
   {
    "duration": 20,
    "start_time": "2022-02-21T04:08:38.051Z"
   },
   {
    "duration": 62,
    "start_time": "2022-02-21T04:08:38.074Z"
   },
   {
    "duration": 25,
    "start_time": "2022-02-21T04:08:38.139Z"
   },
   {
    "duration": 6,
    "start_time": "2022-02-21T04:08:38.166Z"
   },
   {
    "duration": 60,
    "start_time": "2022-02-21T04:08:38.174Z"
   },
   {
    "duration": 20,
    "start_time": "2022-02-21T04:08:38.237Z"
   },
   {
    "duration": 24,
    "start_time": "2022-02-21T04:08:38.259Z"
   },
   {
    "duration": 51,
    "start_time": "2022-02-21T04:08:38.285Z"
   },
   {
    "duration": 18,
    "start_time": "2022-02-21T04:08:38.339Z"
   },
   {
    "duration": 17,
    "start_time": "2022-02-21T04:08:38.360Z"
   },
   {
    "duration": 11,
    "start_time": "2022-02-21T04:08:38.379Z"
   },
   {
    "duration": 39,
    "start_time": "2022-02-21T04:08:38.393Z"
   },
   {
    "duration": 11,
    "start_time": "2022-02-21T04:08:38.435Z"
   },
   {
    "duration": 32,
    "start_time": "2022-02-21T04:08:38.449Z"
   },
   {
    "duration": 152,
    "start_time": "2022-02-21T04:08:38.484Z"
   },
   {
    "duration": 11,
    "start_time": "2022-02-21T04:09:29.094Z"
   },
   {
    "duration": 799,
    "start_time": "2022-02-21T04:10:01.045Z"
   },
   {
    "duration": 213,
    "start_time": "2022-02-21T04:10:01.847Z"
   },
   {
    "duration": 28,
    "start_time": "2022-02-21T04:10:02.063Z"
   },
   {
    "duration": 59,
    "start_time": "2022-02-21T04:10:02.094Z"
   },
   {
    "duration": 15,
    "start_time": "2022-02-21T04:10:02.155Z"
   },
   {
    "duration": 34,
    "start_time": "2022-02-21T04:10:02.173Z"
   },
   {
    "duration": 17,
    "start_time": "2022-02-21T04:10:02.209Z"
   },
   {
    "duration": 35,
    "start_time": "2022-02-21T04:10:02.230Z"
   },
   {
    "duration": 46,
    "start_time": "2022-02-21T04:10:02.268Z"
   },
   {
    "duration": 74,
    "start_time": "2022-02-21T04:10:02.317Z"
   },
   {
    "duration": 109,
    "start_time": "2022-02-21T04:10:02.394Z"
   },
   {
    "duration": 122,
    "start_time": "2022-02-21T04:10:02.505Z"
   },
   {
    "duration": 97,
    "start_time": "2022-02-21T04:10:02.629Z"
   },
   {
    "duration": 10,
    "start_time": "2022-02-21T04:10:02.729Z"
   },
   {
    "duration": 12,
    "start_time": "2022-02-21T04:10:02.742Z"
   },
   {
    "duration": 5,
    "start_time": "2022-02-21T04:10:02.756Z"
   },
   {
    "duration": 24,
    "start_time": "2022-02-21T04:10:02.764Z"
   },
   {
    "duration": 92,
    "start_time": "2022-02-21T04:10:02.791Z"
   },
   {
    "duration": 90,
    "start_time": "2022-02-21T04:10:02.886Z"
   },
   {
    "duration": 18,
    "start_time": "2022-02-21T04:10:02.979Z"
   },
   {
    "duration": 40,
    "start_time": "2022-02-21T04:10:03.000Z"
   },
   {
    "duration": 10,
    "start_time": "2022-02-21T04:10:03.043Z"
   },
   {
    "duration": 29,
    "start_time": "2022-02-21T04:10:03.060Z"
   },
   {
    "duration": 49,
    "start_time": "2022-02-21T04:10:03.093Z"
   },
   {
    "duration": 26,
    "start_time": "2022-02-21T04:10:03.144Z"
   },
   {
    "duration": 20,
    "start_time": "2022-02-21T04:10:03.172Z"
   },
   {
    "duration": 53,
    "start_time": "2022-02-21T04:10:03.195Z"
   },
   {
    "duration": 39,
    "start_time": "2022-02-21T04:10:03.251Z"
   },
   {
    "duration": 20,
    "start_time": "2022-02-21T04:10:03.292Z"
   },
   {
    "duration": 28,
    "start_time": "2022-02-21T04:10:03.315Z"
   },
   {
    "duration": 41,
    "start_time": "2022-02-21T04:10:03.346Z"
   },
   {
    "duration": 37,
    "start_time": "2022-02-21T04:10:03.389Z"
   },
   {
    "duration": 6,
    "start_time": "2022-02-21T04:10:03.429Z"
   },
   {
    "duration": 57,
    "start_time": "2022-02-21T04:10:03.438Z"
   },
   {
    "duration": 28,
    "start_time": "2022-02-21T04:10:03.498Z"
   },
   {
    "duration": 28,
    "start_time": "2022-02-21T04:10:03.528Z"
   },
   {
    "duration": 20,
    "start_time": "2022-02-21T04:10:03.560Z"
   },
   {
    "duration": 60,
    "start_time": "2022-02-21T04:10:03.583Z"
   },
   {
    "duration": 33,
    "start_time": "2022-02-21T04:10:03.645Z"
   },
   {
    "duration": 25,
    "start_time": "2022-02-21T04:10:03.681Z"
   },
   {
    "duration": 31,
    "start_time": "2022-02-21T04:10:03.709Z"
   },
   {
    "duration": 20,
    "start_time": "2022-02-21T04:10:03.743Z"
   },
   {
    "duration": 34,
    "start_time": "2022-02-21T04:10:03.766Z"
   },
   {
    "duration": 148,
    "start_time": "2022-02-21T04:10:03.802Z"
   },
   {
    "duration": 1041,
    "start_time": "2022-02-21T04:11:56.414Z"
   },
   {
    "duration": 202,
    "start_time": "2022-02-21T04:11:57.458Z"
   },
   {
    "duration": 28,
    "start_time": "2022-02-21T04:11:57.664Z"
   },
   {
    "duration": 56,
    "start_time": "2022-02-21T04:11:57.695Z"
   },
   {
    "duration": 21,
    "start_time": "2022-02-21T04:11:57.754Z"
   },
   {
    "duration": 47,
    "start_time": "2022-02-21T04:11:57.778Z"
   },
   {
    "duration": 16,
    "start_time": "2022-02-21T04:11:57.828Z"
   },
   {
    "duration": 37,
    "start_time": "2022-02-21T04:11:57.847Z"
   },
   {
    "duration": 39,
    "start_time": "2022-02-21T04:11:57.888Z"
   },
   {
    "duration": 31,
    "start_time": "2022-02-21T04:11:57.930Z"
   },
   {
    "duration": 109,
    "start_time": "2022-02-21T04:11:57.964Z"
   },
   {
    "duration": 121,
    "start_time": "2022-02-21T04:11:58.076Z"
   },
   {
    "duration": 98,
    "start_time": "2022-02-21T04:11:58.199Z"
   },
   {
    "duration": 11,
    "start_time": "2022-02-21T04:11:58.300Z"
   },
   {
    "duration": 9,
    "start_time": "2022-02-21T04:11:58.327Z"
   },
   {
    "duration": 9,
    "start_time": "2022-02-21T04:11:58.339Z"
   },
   {
    "duration": 25,
    "start_time": "2022-02-21T04:11:58.350Z"
   },
   {
    "duration": 90,
    "start_time": "2022-02-21T04:11:58.378Z"
   },
   {
    "duration": 71,
    "start_time": "2022-02-21T04:11:58.471Z"
   },
   {
    "duration": 16,
    "start_time": "2022-02-21T04:11:58.545Z"
   },
   {
    "duration": 16,
    "start_time": "2022-02-21T04:11:58.564Z"
   },
   {
    "duration": 5,
    "start_time": "2022-02-21T04:11:58.583Z"
   },
   {
    "duration": 24,
    "start_time": "2022-02-21T04:11:58.628Z"
   },
   {
    "duration": 22,
    "start_time": "2022-02-21T04:11:58.656Z"
   },
   {
    "duration": 54,
    "start_time": "2022-02-21T04:11:58.681Z"
   },
   {
    "duration": 26,
    "start_time": "2022-02-21T04:11:58.738Z"
   },
   {
    "duration": 23,
    "start_time": "2022-02-21T04:11:58.772Z"
   },
   {
    "duration": 49,
    "start_time": "2022-02-21T04:11:58.799Z"
   },
   {
    "duration": 6,
    "start_time": "2022-02-21T04:11:58.851Z"
   },
   {
    "duration": 16,
    "start_time": "2022-02-21T04:11:58.860Z"
   },
   {
    "duration": 78,
    "start_time": "2022-02-21T04:11:58.879Z"
   },
   {
    "duration": 25,
    "start_time": "2022-02-21T04:11:58.959Z"
   },
   {
    "duration": 5,
    "start_time": "2022-02-21T04:11:58.987Z"
   },
   {
    "duration": 28,
    "start_time": "2022-02-21T04:11:59.026Z"
   },
   {
    "duration": 17,
    "start_time": "2022-02-21T04:11:59.057Z"
   },
   {
    "duration": 55,
    "start_time": "2022-02-21T04:11:59.077Z"
   },
   {
    "duration": 18,
    "start_time": "2022-02-21T04:11:59.134Z"
   },
   {
    "duration": 18,
    "start_time": "2022-02-21T04:11:59.154Z"
   },
   {
    "duration": 19,
    "start_time": "2022-02-21T04:11:59.175Z"
   },
   {
    "duration": 7,
    "start_time": "2022-02-21T04:11:59.225Z"
   },
   {
    "duration": 12,
    "start_time": "2022-02-21T04:11:59.236Z"
   },
   {
    "duration": 7,
    "start_time": "2022-02-21T04:11:59.250Z"
   },
   {
    "duration": 14,
    "start_time": "2022-02-21T04:11:59.260Z"
   },
   {
    "duration": 178,
    "start_time": "2022-02-21T04:11:59.277Z"
   },
   {
    "duration": 9,
    "start_time": "2022-02-21T04:13:03.045Z"
   },
   {
    "duration": 10,
    "start_time": "2022-02-21T04:13:16.518Z"
   },
   {
    "duration": 11,
    "start_time": "2022-02-21T04:14:19.729Z"
   },
   {
    "duration": 9,
    "start_time": "2022-02-21T04:14:36.666Z"
   },
   {
    "duration": 10,
    "start_time": "2022-02-21T04:15:10.874Z"
   },
   {
    "duration": 9,
    "start_time": "2022-02-21T04:15:19.602Z"
   },
   {
    "duration": 10,
    "start_time": "2022-02-21T04:15:59.789Z"
   },
   {
    "duration": 10,
    "start_time": "2022-02-21T04:16:29.493Z"
   },
   {
    "duration": 10,
    "start_time": "2022-02-21T04:16:33.629Z"
   },
   {
    "duration": 11,
    "start_time": "2022-02-21T04:16:37.581Z"
   },
   {
    "duration": 9,
    "start_time": "2022-02-21T04:16:56.566Z"
   },
   {
    "duration": 10,
    "start_time": "2022-02-21T04:17:01.463Z"
   },
   {
    "duration": 10,
    "start_time": "2022-02-21T04:17:06.366Z"
   },
   {
    "duration": 9,
    "start_time": "2022-02-21T04:17:10.127Z"
   },
   {
    "duration": 9,
    "start_time": "2022-02-21T05:33:10.950Z"
   },
   {
    "duration": 15,
    "start_time": "2022-02-21T05:33:41.807Z"
   },
   {
    "duration": 16,
    "start_time": "2022-02-21T05:34:24.119Z"
   },
   {
    "duration": 15,
    "start_time": "2022-02-21T05:34:48.872Z"
   },
   {
    "duration": 15,
    "start_time": "2022-02-21T05:35:09.568Z"
   },
   {
    "duration": 16,
    "start_time": "2022-02-21T05:35:25.841Z"
   },
   {
    "duration": 14,
    "start_time": "2022-02-21T05:35:40.387Z"
   },
   {
    "duration": 16,
    "start_time": "2022-02-21T05:36:10.770Z"
   },
   {
    "duration": 17,
    "start_time": "2022-02-21T05:36:24.332Z"
   },
   {
    "duration": 16,
    "start_time": "2022-02-21T05:36:45.307Z"
   },
   {
    "duration": 17,
    "start_time": "2022-02-21T05:39:55.785Z"
   },
   {
    "duration": 16,
    "start_time": "2022-02-21T05:40:06.930Z"
   },
   {
    "duration": 17,
    "start_time": "2022-02-21T05:40:25.299Z"
   },
   {
    "duration": 15,
    "start_time": "2022-02-21T05:40:43.348Z"
   },
   {
    "duration": 22,
    "start_time": "2022-02-21T05:41:22.166Z"
   },
   {
    "duration": 795,
    "start_time": "2022-02-21T05:41:33.606Z"
   },
   {
    "duration": 196,
    "start_time": "2022-02-21T05:41:34.403Z"
   },
   {
    "duration": 39,
    "start_time": "2022-02-21T05:41:34.605Z"
   },
   {
    "duration": 32,
    "start_time": "2022-02-21T05:41:34.647Z"
   },
   {
    "duration": 5,
    "start_time": "2022-02-21T05:41:34.682Z"
   },
   {
    "duration": 60,
    "start_time": "2022-02-21T05:41:34.690Z"
   },
   {
    "duration": 11,
    "start_time": "2022-02-21T05:41:34.753Z"
   },
   {
    "duration": 30,
    "start_time": "2022-02-21T05:41:34.768Z"
   },
   {
    "duration": 43,
    "start_time": "2022-02-21T05:41:34.802Z"
   },
   {
    "duration": 30,
    "start_time": "2022-02-21T05:41:34.847Z"
   },
   {
    "duration": 111,
    "start_time": "2022-02-21T05:41:34.880Z"
   },
   {
    "duration": 119,
    "start_time": "2022-02-21T05:41:34.993Z"
   },
   {
    "duration": 92,
    "start_time": "2022-02-21T05:41:35.115Z"
   },
   {
    "duration": 25,
    "start_time": "2022-02-21T05:41:35.210Z"
   },
   {
    "duration": 24,
    "start_time": "2022-02-21T05:41:35.238Z"
   },
   {
    "duration": 5,
    "start_time": "2022-02-21T05:41:35.265Z"
   },
   {
    "duration": 63,
    "start_time": "2022-02-21T05:41:35.273Z"
   },
   {
    "duration": 61,
    "start_time": "2022-02-21T05:41:35.338Z"
   },
   {
    "duration": 87,
    "start_time": "2022-02-21T05:41:35.402Z"
   },
   {
    "duration": 38,
    "start_time": "2022-02-21T05:41:35.492Z"
   },
   {
    "duration": 19,
    "start_time": "2022-02-21T05:41:35.533Z"
   },
   {
    "duration": 6,
    "start_time": "2022-02-21T05:41:35.555Z"
   },
   {
    "duration": 62,
    "start_time": "2022-02-21T05:41:35.564Z"
   },
   {
    "duration": 21,
    "start_time": "2022-02-21T05:41:35.628Z"
   },
   {
    "duration": 20,
    "start_time": "2022-02-21T05:41:35.652Z"
   },
   {
    "duration": 50,
    "start_time": "2022-02-21T05:41:35.678Z"
   },
   {
    "duration": 25,
    "start_time": "2022-02-21T05:41:35.731Z"
   },
   {
    "duration": 21,
    "start_time": "2022-02-21T05:41:35.758Z"
   },
   {
    "duration": 5,
    "start_time": "2022-02-21T05:41:35.782Z"
   },
   {
    "duration": 46,
    "start_time": "2022-02-21T05:41:35.790Z"
   },
   {
    "duration": 37,
    "start_time": "2022-02-21T05:41:35.839Z"
   },
   {
    "duration": 56,
    "start_time": "2022-02-21T05:41:35.878Z"
   },
   {
    "duration": 6,
    "start_time": "2022-02-21T05:41:35.936Z"
   },
   {
    "duration": 37,
    "start_time": "2022-02-21T05:41:35.944Z"
   },
   {
    "duration": 17,
    "start_time": "2022-02-21T05:41:35.984Z"
   },
   {
    "duration": 45,
    "start_time": "2022-02-21T05:41:36.004Z"
   },
   {
    "duration": 17,
    "start_time": "2022-02-21T05:41:36.051Z"
   },
   {
    "duration": 21,
    "start_time": "2022-02-21T05:41:36.070Z"
   },
   {
    "duration": 45,
    "start_time": "2022-02-21T05:41:36.094Z"
   },
   {
    "duration": 11,
    "start_time": "2022-02-21T05:41:36.141Z"
   },
   {
    "duration": 32,
    "start_time": "2022-02-21T05:41:36.155Z"
   },
   {
    "duration": 23,
    "start_time": "2022-02-21T05:41:36.190Z"
   },
   {
    "duration": 21,
    "start_time": "2022-02-21T05:41:36.215Z"
   },
   {
    "duration": 151,
    "start_time": "2022-02-21T05:41:36.239Z"
   },
   {
    "duration": 382,
    "start_time": "2022-02-21T05:41:48.399Z"
   },
   {
    "duration": 22,
    "start_time": "2022-02-21T05:41:59.015Z"
   },
   {
    "duration": 765,
    "start_time": "2022-02-21T05:42:05.775Z"
   },
   {
    "duration": 272,
    "start_time": "2022-02-21T05:42:06.543Z"
   },
   {
    "duration": 32,
    "start_time": "2022-02-21T05:42:06.818Z"
   },
   {
    "duration": 36,
    "start_time": "2022-02-21T05:42:06.853Z"
   },
   {
    "duration": 6,
    "start_time": "2022-02-21T05:42:06.892Z"
   },
   {
    "duration": 30,
    "start_time": "2022-02-21T05:42:06.928Z"
   },
   {
    "duration": 9,
    "start_time": "2022-02-21T05:42:06.961Z"
   },
   {
    "duration": 67,
    "start_time": "2022-02-21T05:42:06.974Z"
   },
   {
    "duration": 26,
    "start_time": "2022-02-21T05:42:07.045Z"
   },
   {
    "duration": 34,
    "start_time": "2022-02-21T05:42:07.073Z"
   },
   {
    "duration": 114,
    "start_time": "2022-02-21T05:42:07.127Z"
   },
   {
    "duration": 130,
    "start_time": "2022-02-21T05:42:07.243Z"
   },
   {
    "duration": 91,
    "start_time": "2022-02-21T05:42:07.375Z"
   },
   {
    "duration": 10,
    "start_time": "2022-02-21T05:42:07.468Z"
   },
   {
    "duration": 50,
    "start_time": "2022-02-21T05:42:07.481Z"
   },
   {
    "duration": 7,
    "start_time": "2022-02-21T05:42:07.535Z"
   },
   {
    "duration": 25,
    "start_time": "2022-02-21T05:42:07.545Z"
   },
   {
    "duration": 88,
    "start_time": "2022-02-21T05:42:07.572Z"
   },
   {
    "duration": 77,
    "start_time": "2022-02-21T05:42:07.662Z"
   },
   {
    "duration": 16,
    "start_time": "2022-02-21T05:42:07.742Z"
   },
   {
    "duration": 17,
    "start_time": "2022-02-21T05:42:07.760Z"
   },
   {
    "duration": 5,
    "start_time": "2022-02-21T05:42:07.779Z"
   },
   {
    "duration": 22,
    "start_time": "2022-02-21T05:42:07.830Z"
   },
   {
    "duration": 21,
    "start_time": "2022-02-21T05:42:07.856Z"
   },
   {
    "duration": 49,
    "start_time": "2022-02-21T05:42:07.880Z"
   },
   {
    "duration": 20,
    "start_time": "2022-02-21T05:42:07.931Z"
   },
   {
    "duration": 22,
    "start_time": "2022-02-21T05:42:07.953Z"
   },
   {
    "duration": 54,
    "start_time": "2022-02-21T05:42:07.978Z"
   },
   {
    "duration": 7,
    "start_time": "2022-02-21T05:42:08.035Z"
   },
   {
    "duration": 17,
    "start_time": "2022-02-21T05:42:08.045Z"
   },
   {
    "duration": 66,
    "start_time": "2022-02-21T05:42:08.065Z"
   },
   {
    "duration": 26,
    "start_time": "2022-02-21T05:42:08.134Z"
   },
   {
    "duration": 6,
    "start_time": "2022-02-21T05:42:08.163Z"
   },
   {
    "duration": 74,
    "start_time": "2022-02-21T05:42:08.172Z"
   },
   {
    "duration": 25,
    "start_time": "2022-02-21T05:42:08.249Z"
   },
   {
    "duration": 51,
    "start_time": "2022-02-21T05:42:08.278Z"
   },
   {
    "duration": 22,
    "start_time": "2022-02-21T05:42:08.331Z"
   },
   {
    "duration": 22,
    "start_time": "2022-02-21T05:42:08.356Z"
   },
   {
    "duration": 49,
    "start_time": "2022-02-21T05:42:08.382Z"
   },
   {
    "duration": 8,
    "start_time": "2022-02-21T05:42:08.434Z"
   },
   {
    "duration": 18,
    "start_time": "2022-02-21T05:42:08.445Z"
   },
   {
    "duration": 7,
    "start_time": "2022-02-21T05:42:08.466Z"
   },
   {
    "duration": 15,
    "start_time": "2022-02-21T05:42:08.476Z"
   },
   {
    "duration": 149,
    "start_time": "2022-02-21T05:42:08.526Z"
   },
   {
    "duration": 20,
    "start_time": "2022-02-21T05:42:42.403Z"
   },
   {
    "duration": 859,
    "start_time": "2022-02-21T05:42:50.258Z"
   },
   {
    "duration": 309,
    "start_time": "2022-02-21T05:42:51.120Z"
   },
   {
    "duration": 27,
    "start_time": "2022-02-21T05:42:51.433Z"
   },
   {
    "duration": 38,
    "start_time": "2022-02-21T05:42:51.462Z"
   },
   {
    "duration": 26,
    "start_time": "2022-02-21T05:42:51.502Z"
   },
   {
    "duration": 30,
    "start_time": "2022-02-21T05:42:51.530Z"
   },
   {
    "duration": 11,
    "start_time": "2022-02-21T05:42:51.563Z"
   },
   {
    "duration": 62,
    "start_time": "2022-02-21T05:42:51.577Z"
   },
   {
    "duration": 25,
    "start_time": "2022-02-21T05:42:51.644Z"
   },
   {
    "duration": 54,
    "start_time": "2022-02-21T05:42:51.672Z"
   },
   {
    "duration": 99,
    "start_time": "2022-02-21T05:42:51.729Z"
   },
   {
    "duration": 127,
    "start_time": "2022-02-21T05:42:51.831Z"
   },
   {
    "duration": 92,
    "start_time": "2022-02-21T05:42:51.961Z"
   },
   {
    "duration": 11,
    "start_time": "2022-02-21T05:42:52.055Z"
   },
   {
    "duration": 27,
    "start_time": "2022-02-21T05:42:52.068Z"
   },
   {
    "duration": 29,
    "start_time": "2022-02-21T05:42:52.098Z"
   },
   {
    "duration": 56,
    "start_time": "2022-02-21T05:42:52.130Z"
   },
   {
    "duration": 66,
    "start_time": "2022-02-21T05:42:52.189Z"
   },
   {
    "duration": 79,
    "start_time": "2022-02-21T05:42:52.257Z"
   },
   {
    "duration": 16,
    "start_time": "2022-02-21T05:42:52.338Z"
   },
   {
    "duration": 34,
    "start_time": "2022-02-21T05:42:52.357Z"
   },
   {
    "duration": 40,
    "start_time": "2022-02-21T05:42:52.393Z"
   },
   {
    "duration": 67,
    "start_time": "2022-02-21T05:42:52.436Z"
   },
   {
    "duration": 21,
    "start_time": "2022-02-21T05:42:52.506Z"
   },
   {
    "duration": 52,
    "start_time": "2022-02-21T05:42:52.529Z"
   },
   {
    "duration": 43,
    "start_time": "2022-02-21T05:42:52.583Z"
   },
   {
    "duration": 44,
    "start_time": "2022-02-21T05:42:52.633Z"
   },
   {
    "duration": 40,
    "start_time": "2022-02-21T05:42:52.680Z"
   },
   {
    "duration": 23,
    "start_time": "2022-02-21T05:42:52.722Z"
   },
   {
    "duration": 55,
    "start_time": "2022-02-21T05:42:52.747Z"
   },
   {
    "duration": 73,
    "start_time": "2022-02-21T05:42:52.804Z"
   },
   {
    "duration": 45,
    "start_time": "2022-02-21T05:42:52.879Z"
   },
   {
    "duration": 18,
    "start_time": "2022-02-21T05:42:52.927Z"
   },
   {
    "duration": 75,
    "start_time": "2022-02-21T05:42:52.947Z"
   },
   {
    "duration": 18,
    "start_time": "2022-02-21T05:42:53.024Z"
   },
   {
    "duration": 40,
    "start_time": "2022-02-21T05:42:53.044Z"
   },
   {
    "duration": 19,
    "start_time": "2022-02-21T05:42:53.086Z"
   },
   {
    "duration": 27,
    "start_time": "2022-02-21T05:42:53.108Z"
   },
   {
    "duration": 45,
    "start_time": "2022-02-21T05:42:53.138Z"
   },
   {
    "duration": 18,
    "start_time": "2022-02-21T05:42:53.186Z"
   },
   {
    "duration": 55,
    "start_time": "2022-02-21T05:42:53.206Z"
   },
   {
    "duration": 28,
    "start_time": "2022-02-21T05:42:53.264Z"
   },
   {
    "duration": 52,
    "start_time": "2022-02-21T05:42:53.295Z"
   },
   {
    "duration": 140,
    "start_time": "2022-02-21T05:42:53.351Z"
   },
   {
    "duration": 839,
    "start_time": "2022-02-21T05:43:41.084Z"
   },
   {
    "duration": 199,
    "start_time": "2022-02-21T05:43:41.926Z"
   },
   {
    "duration": 27,
    "start_time": "2022-02-21T05:43:42.129Z"
   },
   {
    "duration": 35,
    "start_time": "2022-02-21T05:43:42.159Z"
   },
   {
    "duration": 31,
    "start_time": "2022-02-21T05:43:42.197Z"
   },
   {
    "duration": 30,
    "start_time": "2022-02-21T05:43:42.231Z"
   },
   {
    "duration": 10,
    "start_time": "2022-02-21T05:43:42.263Z"
   },
   {
    "duration": 59,
    "start_time": "2022-02-21T05:43:42.277Z"
   },
   {
    "duration": 25,
    "start_time": "2022-02-21T05:43:42.339Z"
   },
   {
    "duration": 31,
    "start_time": "2022-02-21T05:43:42.367Z"
   },
   {
    "duration": 101,
    "start_time": "2022-02-21T05:43:42.426Z"
   },
   {
    "duration": 121,
    "start_time": "2022-02-21T05:43:42.530Z"
   },
   {
    "duration": 90,
    "start_time": "2022-02-21T05:43:42.654Z"
   },
   {
    "duration": 9,
    "start_time": "2022-02-21T05:43:42.747Z"
   },
   {
    "duration": 23,
    "start_time": "2022-02-21T05:43:42.758Z"
   },
   {
    "duration": 391,
    "start_time": "2022-02-21T05:43:42.783Z"
   },
   {
    "duration": -723,
    "start_time": "2022-02-21T05:43:43.901Z"
   },
   {
    "duration": -726,
    "start_time": "2022-02-21T05:43:43.905Z"
   },
   {
    "duration": -726,
    "start_time": "2022-02-21T05:43:43.907Z"
   },
   {
    "duration": -732,
    "start_time": "2022-02-21T05:43:43.914Z"
   },
   {
    "duration": -733,
    "start_time": "2022-02-21T05:43:43.917Z"
   },
   {
    "duration": -735,
    "start_time": "2022-02-21T05:43:43.921Z"
   },
   {
    "duration": -737,
    "start_time": "2022-02-21T05:43:43.924Z"
   },
   {
    "duration": -738,
    "start_time": "2022-02-21T05:43:43.926Z"
   },
   {
    "duration": -739,
    "start_time": "2022-02-21T05:43:43.929Z"
   },
   {
    "duration": -739,
    "start_time": "2022-02-21T05:43:43.931Z"
   },
   {
    "duration": -745,
    "start_time": "2022-02-21T05:43:43.938Z"
   },
   {
    "duration": -746,
    "start_time": "2022-02-21T05:43:43.941Z"
   },
   {
    "duration": -747,
    "start_time": "2022-02-21T05:43:43.944Z"
   },
   {
    "duration": -751,
    "start_time": "2022-02-21T05:43:43.950Z"
   },
   {
    "duration": -752,
    "start_time": "2022-02-21T05:43:43.953Z"
   },
   {
    "duration": -753,
    "start_time": "2022-02-21T05:43:43.956Z"
   },
   {
    "duration": -754,
    "start_time": "2022-02-21T05:43:43.959Z"
   },
   {
    "duration": -756,
    "start_time": "2022-02-21T05:43:43.962Z"
   },
   {
    "duration": -757,
    "start_time": "2022-02-21T05:43:43.965Z"
   },
   {
    "duration": -762,
    "start_time": "2022-02-21T05:43:43.972Z"
   },
   {
    "duration": -764,
    "start_time": "2022-02-21T05:43:43.975Z"
   },
   {
    "duration": -765,
    "start_time": "2022-02-21T05:43:43.978Z"
   },
   {
    "duration": -766,
    "start_time": "2022-02-21T05:43:43.980Z"
   },
   {
    "duration": -756,
    "start_time": "2022-02-21T05:43:43.983Z"
   },
   {
    "duration": -758,
    "start_time": "2022-02-21T05:43:43.986Z"
   },
   {
    "duration": -762,
    "start_time": "2022-02-21T05:43:43.992Z"
   },
   {
    "duration": -763,
    "start_time": "2022-02-21T05:43:43.995Z"
   },
   {
    "duration": -765,
    "start_time": "2022-02-21T05:43:43.998Z"
   },
   {
    "duration": -765,
    "start_time": "2022-02-21T05:43:44.000Z"
   },
   {
    "duration": 21,
    "start_time": "2022-02-21T05:44:02.195Z"
   },
   {
    "duration": 20,
    "start_time": "2022-02-21T05:44:17.356Z"
   },
   {
    "duration": 22,
    "start_time": "2022-02-21T05:44:33.068Z"
   },
   {
    "duration": 265,
    "start_time": "2022-02-21T05:44:48.053Z"
   },
   {
    "duration": 25,
    "start_time": "2022-02-21T05:44:59.621Z"
   },
   {
    "duration": 26,
    "start_time": "2022-02-21T05:45:05.557Z"
   },
   {
    "duration": 27,
    "start_time": "2022-02-21T05:46:22.200Z"
   },
   {
    "duration": 25,
    "start_time": "2022-02-21T05:46:46.691Z"
   },
   {
    "duration": 27,
    "start_time": "2022-02-21T05:47:16.451Z"
   },
   {
    "duration": 27,
    "start_time": "2022-02-21T05:47:24.642Z"
   },
   {
    "duration": 27,
    "start_time": "2022-02-21T05:48:21.565Z"
   },
   {
    "duration": 24,
    "start_time": "2022-02-21T05:48:36.774Z"
   },
   {
    "duration": 25,
    "start_time": "2022-02-21T05:49:01.496Z"
   },
   {
    "duration": 26,
    "start_time": "2022-02-21T05:49:12.062Z"
   },
   {
    "duration": 27,
    "start_time": "2022-02-21T05:49:39.487Z"
   },
   {
    "duration": 273,
    "start_time": "2022-02-21T05:49:57.640Z"
   },
   {
    "duration": 28,
    "start_time": "2022-02-21T05:50:03.889Z"
   },
   {
    "duration": 290,
    "start_time": "2022-02-21T05:50:08.529Z"
   },
   {
    "duration": 28,
    "start_time": "2022-02-21T05:50:12.377Z"
   },
   {
    "duration": 27,
    "start_time": "2022-02-21T05:50:26.761Z"
   },
   {
    "duration": 25,
    "start_time": "2022-02-21T05:50:36.609Z"
   },
   {
    "duration": 27,
    "start_time": "2022-02-21T05:51:24.660Z"
   },
   {
    "duration": 27,
    "start_time": "2022-02-21T05:51:32.379Z"
   },
   {
    "duration": 29,
    "start_time": "2022-02-21T05:51:59.044Z"
   },
   {
    "duration": 383,
    "start_time": "2022-02-21T05:53:37.704Z"
   },
   {
    "duration": 32,
    "start_time": "2022-02-21T05:53:43.368Z"
   },
   {
    "duration": 278,
    "start_time": "2022-02-21T05:55:54.799Z"
   },
   {
    "duration": 32,
    "start_time": "2022-02-21T05:56:18.464Z"
   },
   {
    "duration": 283,
    "start_time": "2022-02-21T05:56:41.831Z"
   },
   {
    "duration": 297,
    "start_time": "2022-02-21T05:57:23.081Z"
   },
   {
    "duration": 32,
    "start_time": "2022-02-21T05:57:25.952Z"
   },
   {
    "duration": 309,
    "start_time": "2022-02-21T05:57:35.536Z"
   },
   {
    "duration": 283,
    "start_time": "2022-02-21T05:57:45.529Z"
   },
   {
    "duration": 33,
    "start_time": "2022-02-21T05:57:54.001Z"
   },
   {
    "duration": 31,
    "start_time": "2022-02-21T05:57:58.745Z"
   },
   {
    "duration": 31,
    "start_time": "2022-02-21T05:58:08.594Z"
   },
   {
    "duration": 32,
    "start_time": "2022-02-21T05:58:14.689Z"
   },
   {
    "duration": 26,
    "start_time": "2022-02-21T05:58:22.978Z"
   },
   {
    "duration": 30,
    "start_time": "2022-02-21T05:58:45.283Z"
   },
   {
    "duration": 29,
    "start_time": "2022-02-21T05:58:52.571Z"
   },
   {
    "duration": 27,
    "start_time": "2022-02-21T05:58:56.755Z"
   },
   {
    "duration": 33,
    "start_time": "2022-02-21T05:59:09.340Z"
   },
   {
    "duration": 31,
    "start_time": "2022-02-21T05:59:22.300Z"
   },
   {
    "duration": 32,
    "start_time": "2022-02-21T05:59:26.244Z"
   },
   {
    "duration": 36,
    "start_time": "2022-02-21T06:00:06.542Z"
   },
   {
    "duration": 320,
    "start_time": "2022-02-21T06:00:12.542Z"
   },
   {
    "duration": 38,
    "start_time": "2022-02-21T06:00:24.751Z"
   },
   {
    "duration": 36,
    "start_time": "2022-02-21T06:01:38.786Z"
   },
   {
    "duration": 30,
    "start_time": "2022-02-21T06:01:47.673Z"
   },
   {
    "duration": 814,
    "start_time": "2022-02-21T06:02:14.511Z"
   },
   {
    "duration": 194,
    "start_time": "2022-02-21T06:02:15.328Z"
   },
   {
    "duration": 26,
    "start_time": "2022-02-21T06:02:15.530Z"
   },
   {
    "duration": 39,
    "start_time": "2022-02-21T06:02:15.559Z"
   },
   {
    "duration": 28,
    "start_time": "2022-02-21T06:02:15.600Z"
   },
   {
    "duration": 32,
    "start_time": "2022-02-21T06:02:15.631Z"
   },
   {
    "duration": 7,
    "start_time": "2022-02-21T06:02:15.666Z"
   },
   {
    "duration": 60,
    "start_time": "2022-02-21T06:02:15.678Z"
   },
   {
    "duration": 24,
    "start_time": "2022-02-21T06:02:15.741Z"
   },
   {
    "duration": 59,
    "start_time": "2022-02-21T06:02:15.767Z"
   },
   {
    "duration": 107,
    "start_time": "2022-02-21T06:02:15.829Z"
   },
   {
    "duration": 121,
    "start_time": "2022-02-21T06:02:15.939Z"
   },
   {
    "duration": 95,
    "start_time": "2022-02-21T06:02:16.063Z"
   },
   {
    "duration": 9,
    "start_time": "2022-02-21T06:02:16.160Z"
   },
   {
    "duration": 31,
    "start_time": "2022-02-21T06:02:16.171Z"
   },
   {
    "duration": 4,
    "start_time": "2022-02-21T06:02:16.226Z"
   },
   {
    "duration": 27,
    "start_time": "2022-02-21T06:02:16.232Z"
   },
   {
    "duration": 78,
    "start_time": "2022-02-21T06:02:16.261Z"
   },
   {
    "duration": 64,
    "start_time": "2022-02-21T06:02:16.341Z"
   },
   {
    "duration": 31,
    "start_time": "2022-02-21T06:02:16.408Z"
   },
   {
    "duration": 18,
    "start_time": "2022-02-21T06:02:16.442Z"
   },
   {
    "duration": 5,
    "start_time": "2022-02-21T06:02:16.463Z"
   },
   {
    "duration": 59,
    "start_time": "2022-02-21T06:02:16.471Z"
   },
   {
    "duration": 20,
    "start_time": "2022-02-21T06:02:16.533Z"
   },
   {
    "duration": 20,
    "start_time": "2022-02-21T06:02:16.555Z"
   },
   {
    "duration": 48,
    "start_time": "2022-02-21T06:02:16.580Z"
   },
   {
    "duration": 24,
    "start_time": "2022-02-21T06:02:16.631Z"
   },
   {
    "duration": 21,
    "start_time": "2022-02-21T06:02:16.657Z"
   },
   {
    "duration": 4,
    "start_time": "2022-02-21T06:02:16.681Z"
   },
   {
    "duration": 12,
    "start_time": "2022-02-21T06:02:16.727Z"
   },
   {
    "duration": 32,
    "start_time": "2022-02-21T06:02:16.741Z"
   },
   {
    "duration": 55,
    "start_time": "2022-02-21T06:02:16.775Z"
   },
   {
    "duration": 6,
    "start_time": "2022-02-21T06:02:16.832Z"
   },
   {
    "duration": 32,
    "start_time": "2022-02-21T06:02:16.840Z"
   },
   {
    "duration": 18,
    "start_time": "2022-02-21T06:02:16.875Z"
   },
   {
    "duration": 53,
    "start_time": "2022-02-21T06:02:16.896Z"
   },
   {
    "duration": 20,
    "start_time": "2022-02-21T06:02:16.952Z"
   },
   {
    "duration": 53,
    "start_time": "2022-02-21T06:02:16.975Z"
   },
   {
    "duration": 12,
    "start_time": "2022-02-21T06:02:17.031Z"
   },
   {
    "duration": 7,
    "start_time": "2022-02-21T06:02:17.046Z"
   },
   {
    "duration": 12,
    "start_time": "2022-02-21T06:02:17.055Z"
   },
   {
    "duration": 6,
    "start_time": "2022-02-21T06:02:17.070Z"
   },
   {
    "duration": 56,
    "start_time": "2022-02-21T06:02:17.078Z"
   },
   {
    "duration": 152,
    "start_time": "2022-02-21T06:02:17.137Z"
   },
   {
    "duration": 45,
    "start_time": "2022-02-21T06:04:50.889Z"
   },
   {
    "duration": 47,
    "start_time": "2022-02-21T06:05:39.067Z"
   },
   {
    "duration": 47,
    "start_time": "2022-02-21T06:06:39.613Z"
   },
   {
    "duration": 55,
    "start_time": "2022-02-21T06:06:52.709Z"
   },
   {
    "duration": 57,
    "start_time": "2022-02-21T06:08:49.906Z"
   },
   {
    "duration": 57,
    "start_time": "2022-02-21T06:09:20.524Z"
   },
   {
    "duration": 831,
    "start_time": "2022-02-21T06:19:39.014Z"
   },
   {
    "duration": 203,
    "start_time": "2022-02-21T06:19:39.848Z"
   },
   {
    "duration": 26,
    "start_time": "2022-02-21T06:19:40.054Z"
   },
   {
    "duration": 50,
    "start_time": "2022-02-21T06:19:40.083Z"
   },
   {
    "duration": 6,
    "start_time": "2022-02-21T06:19:40.136Z"
   },
   {
    "duration": 30,
    "start_time": "2022-02-21T06:19:40.145Z"
   },
   {
    "duration": 5,
    "start_time": "2022-02-21T06:19:40.178Z"
   },
   {
    "duration": 65,
    "start_time": "2022-02-21T06:19:40.186Z"
   },
   {
    "duration": 31,
    "start_time": "2022-02-21T06:19:40.255Z"
   },
   {
    "duration": 53,
    "start_time": "2022-02-21T06:19:40.289Z"
   },
   {
    "duration": 109,
    "start_time": "2022-02-21T06:19:40.345Z"
   },
   {
    "duration": 128,
    "start_time": "2022-02-21T06:19:40.456Z"
   },
   {
    "duration": 96,
    "start_time": "2022-02-21T06:19:40.587Z"
   },
   {
    "duration": 10,
    "start_time": "2022-02-21T06:19:40.686Z"
   },
   {
    "duration": 49,
    "start_time": "2022-02-21T06:19:40.699Z"
   },
   {
    "duration": 4,
    "start_time": "2022-02-21T06:19:40.750Z"
   },
   {
    "duration": 23,
    "start_time": "2022-02-21T06:19:40.757Z"
   },
   {
    "duration": 90,
    "start_time": "2022-02-21T06:19:40.783Z"
   },
   {
    "duration": 85,
    "start_time": "2022-02-21T06:19:40.876Z"
   },
   {
    "duration": 16,
    "start_time": "2022-02-21T06:19:40.963Z"
   },
   {
    "duration": 27,
    "start_time": "2022-02-21T06:19:40.982Z"
   },
   {
    "duration": 5,
    "start_time": "2022-02-21T06:19:41.027Z"
   },
   {
    "duration": 31,
    "start_time": "2022-02-21T06:19:41.035Z"
   },
   {
    "duration": 27,
    "start_time": "2022-02-21T06:19:41.068Z"
   },
   {
    "duration": 26,
    "start_time": "2022-02-21T06:19:41.127Z"
   },
   {
    "duration": 22,
    "start_time": "2022-02-21T06:19:41.156Z"
   },
   {
    "duration": 61,
    "start_time": "2022-02-21T06:19:41.184Z"
   },
   {
    "duration": 21,
    "start_time": "2022-02-21T06:19:41.248Z"
   },
   {
    "duration": 5,
    "start_time": "2022-02-21T06:19:41.271Z"
   },
   {
    "duration": 87,
    "start_time": "2022-02-21T06:19:41.279Z"
   },
   {
    "duration": 12,
    "start_time": "2022-02-21T06:19:41.368Z"
   },
   {
    "duration": 76,
    "start_time": "2022-02-21T06:19:41.383Z"
   },
   {
    "duration": 42,
    "start_time": "2022-02-21T06:19:41.462Z"
   },
   {
    "duration": 27,
    "start_time": "2022-02-21T06:19:41.527Z"
   },
   {
    "duration": 6,
    "start_time": "2022-02-21T06:19:41.556Z"
   },
   {
    "duration": 65,
    "start_time": "2022-02-21T06:19:41.565Z"
   },
   {
    "duration": 20,
    "start_time": "2022-02-21T06:19:41.632Z"
   },
   {
    "duration": 26,
    "start_time": "2022-02-21T06:19:41.655Z"
   },
   {
    "duration": 60,
    "start_time": "2022-02-21T06:19:41.683Z"
   },
   {
    "duration": 20,
    "start_time": "2022-02-21T06:19:41.746Z"
   },
   {
    "duration": 17,
    "start_time": "2022-02-21T06:19:41.769Z"
   },
   {
    "duration": 42,
    "start_time": "2022-02-21T06:19:41.789Z"
   },
   {
    "duration": 11,
    "start_time": "2022-02-21T06:19:41.834Z"
   },
   {
    "duration": 7,
    "start_time": "2022-02-21T06:19:41.848Z"
   },
   {
    "duration": 16,
    "start_time": "2022-02-21T06:19:41.858Z"
   },
   {
    "duration": 143,
    "start_time": "2022-02-21T06:19:41.927Z"
   }
  ],
  "celltoolbar": "Необработанный формат ячейки",
  "colab": {
   "collapsed_sections": [
    "E0vqbgi9ay0H",
    "VUC88oWjTJw2"
   ],
   "name": "yandex_music_project_2021.2.ipynb",
   "provenance": []
  },
  "kernelspec": {
   "display_name": "Python 3 (ipykernel)",
   "language": "python",
   "name": "python3"
  },
  "language_info": {
   "codemirror_mode": {
    "name": "ipython",
    "version": 3
   },
   "file_extension": ".py",
   "mimetype": "text/x-python",
   "name": "python",
   "nbconvert_exporter": "python",
   "pygments_lexer": "ipython3",
   "version": "3.9.5"
  },
  "toc": {
   "base_numbering": 1,
   "nav_menu": {},
   "number_sections": true,
   "sideBar": true,
   "skip_h1_title": true,
   "title_cell": "Table of Contents",
   "title_sidebar": "Contents",
   "toc_cell": false,
   "toc_position": {},
   "toc_section_display": true,
   "toc_window_display": true
  }
 },
 "nbformat": 4,
 "nbformat_minor": 1
}
