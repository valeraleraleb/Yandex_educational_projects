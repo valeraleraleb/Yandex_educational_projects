{
 "cells": [
  {
   "cell_type": "markdown",
   "id": "0f40efd1",
   "metadata": {},
   "source": [
    "# Исследование надежности заемщиков."
   ]
  },
  {
   "cell_type": "markdown",
   "id": "0f9d33bc",
   "metadata": {},
   "source": [
    "Заказчик — кредитный отдел банка.  \n",
    "Нужно разобраться, <u>влияет ли семейное положение и количество детей клиента на факт погашения кредита в срок</u>.  \n",
    "\n",
    "Входные данные от банка — статистика о платёжеспособности клиентов.  \n",
    "\n",
    "Результаты исследования будут учтены при построении модели кредитного скоринга — специальной системы, которая оценивает способность потенциального заёмщика вернуть кредит банку."
   ]
  },
  {
   "cell_type": "markdown",
   "id": "6039c397",
   "metadata": {},
   "source": [
    "<b>----------------------------------------------------------------------------------------------------------------------------------------------------------------------------------------------------------------</b>"
   ]
  },
  {
   "cell_type": "markdown",
   "id": "bca98db7",
   "metadata": {},
   "source": [
    "### Шаг 1. Обзор данных"
   ]
  },
  {
   "cell_type": "markdown",
   "id": "e4f4f660",
   "metadata": {},
   "source": [
    "<font size=\"4\"><b>Описание данных:</b></font>\n",
    "\n",
    "<b>children</b> — количество детей в семье  \n",
    "<b>days_employed</b> — общий трудовой стаж в днях  \n",
    "<b>dob_years</b> — возраст клиента в годах  \n",
    "<b>education</b> — уровень образования клиента  \n",
    "<b>education_id</b> — идентификатор уровня образования  \n",
    "<b>family_status</b> — семейное положение  \n",
    "<b>family_status_id</b> — идентификатор семейного положения  \n",
    "<b>gender</b> — пол клиента  \n",
    "<b>income_type</b> — тип занятости  \n",
    "<b>debt</b> — имел ли задолженность по возврату кредитов  \n",
    "<b>total_income</b> — ежемесячный доход  \n",
    "<b>purpose</b> — цель получения кредита  "
   ]
  },
  {
   "cell_type": "code",
   "execution_count": 1,
   "id": "d82288fc",
   "metadata": {},
   "outputs": [
    {
     "data": {
      "text/html": [
       "<div>\n",
       "<style scoped>\n",
       "    .dataframe tbody tr th:only-of-type {\n",
       "        vertical-align: middle;\n",
       "    }\n",
       "\n",
       "    .dataframe tbody tr th {\n",
       "        vertical-align: top;\n",
       "    }\n",
       "\n",
       "    .dataframe thead th {\n",
       "        text-align: right;\n",
       "    }\n",
       "</style>\n",
       "<table border=\"1\" class=\"dataframe\">\n",
       "  <thead>\n",
       "    <tr style=\"text-align: right;\">\n",
       "      <th></th>\n",
       "      <th>children</th>\n",
       "      <th>days_employed</th>\n",
       "      <th>dob_years</th>\n",
       "      <th>education</th>\n",
       "      <th>education_id</th>\n",
       "      <th>family_status</th>\n",
       "      <th>family_status_id</th>\n",
       "      <th>gender</th>\n",
       "      <th>income_type</th>\n",
       "      <th>debt</th>\n",
       "      <th>total_income</th>\n",
       "      <th>purpose</th>\n",
       "    </tr>\n",
       "  </thead>\n",
       "  <tbody>\n",
       "    <tr>\n",
       "      <th>0</th>\n",
       "      <td>1</td>\n",
       "      <td>-8437.673028</td>\n",
       "      <td>42</td>\n",
       "      <td>высшее</td>\n",
       "      <td>0</td>\n",
       "      <td>женат / замужем</td>\n",
       "      <td>0</td>\n",
       "      <td>F</td>\n",
       "      <td>сотрудник</td>\n",
       "      <td>0</td>\n",
       "      <td>253875.639453</td>\n",
       "      <td>покупка жилья</td>\n",
       "    </tr>\n",
       "    <tr>\n",
       "      <th>1</th>\n",
       "      <td>1</td>\n",
       "      <td>-4024.803754</td>\n",
       "      <td>36</td>\n",
       "      <td>среднее</td>\n",
       "      <td>1</td>\n",
       "      <td>женат / замужем</td>\n",
       "      <td>0</td>\n",
       "      <td>F</td>\n",
       "      <td>сотрудник</td>\n",
       "      <td>0</td>\n",
       "      <td>112080.014102</td>\n",
       "      <td>приобретение автомобиля</td>\n",
       "    </tr>\n",
       "    <tr>\n",
       "      <th>2</th>\n",
       "      <td>0</td>\n",
       "      <td>-5623.422610</td>\n",
       "      <td>33</td>\n",
       "      <td>Среднее</td>\n",
       "      <td>1</td>\n",
       "      <td>женат / замужем</td>\n",
       "      <td>0</td>\n",
       "      <td>M</td>\n",
       "      <td>сотрудник</td>\n",
       "      <td>0</td>\n",
       "      <td>145885.952297</td>\n",
       "      <td>покупка жилья</td>\n",
       "    </tr>\n",
       "    <tr>\n",
       "      <th>3</th>\n",
       "      <td>3</td>\n",
       "      <td>-4124.747207</td>\n",
       "      <td>32</td>\n",
       "      <td>среднее</td>\n",
       "      <td>1</td>\n",
       "      <td>женат / замужем</td>\n",
       "      <td>0</td>\n",
       "      <td>M</td>\n",
       "      <td>сотрудник</td>\n",
       "      <td>0</td>\n",
       "      <td>267628.550329</td>\n",
       "      <td>дополнительное образование</td>\n",
       "    </tr>\n",
       "    <tr>\n",
       "      <th>4</th>\n",
       "      <td>0</td>\n",
       "      <td>340266.072047</td>\n",
       "      <td>53</td>\n",
       "      <td>среднее</td>\n",
       "      <td>1</td>\n",
       "      <td>гражданский брак</td>\n",
       "      <td>1</td>\n",
       "      <td>F</td>\n",
       "      <td>пенсионер</td>\n",
       "      <td>0</td>\n",
       "      <td>158616.077870</td>\n",
       "      <td>сыграть свадьбу</td>\n",
       "    </tr>\n",
       "    <tr>\n",
       "      <th>5</th>\n",
       "      <td>0</td>\n",
       "      <td>-926.185831</td>\n",
       "      <td>27</td>\n",
       "      <td>высшее</td>\n",
       "      <td>0</td>\n",
       "      <td>гражданский брак</td>\n",
       "      <td>1</td>\n",
       "      <td>M</td>\n",
       "      <td>компаньон</td>\n",
       "      <td>0</td>\n",
       "      <td>255763.565419</td>\n",
       "      <td>покупка жилья</td>\n",
       "    </tr>\n",
       "    <tr>\n",
       "      <th>6</th>\n",
       "      <td>0</td>\n",
       "      <td>-2879.202052</td>\n",
       "      <td>43</td>\n",
       "      <td>высшее</td>\n",
       "      <td>0</td>\n",
       "      <td>женат / замужем</td>\n",
       "      <td>0</td>\n",
       "      <td>F</td>\n",
       "      <td>компаньон</td>\n",
       "      <td>0</td>\n",
       "      <td>240525.971920</td>\n",
       "      <td>операции с жильем</td>\n",
       "    </tr>\n",
       "    <tr>\n",
       "      <th>7</th>\n",
       "      <td>0</td>\n",
       "      <td>-152.779569</td>\n",
       "      <td>50</td>\n",
       "      <td>СРЕДНЕЕ</td>\n",
       "      <td>1</td>\n",
       "      <td>женат / замужем</td>\n",
       "      <td>0</td>\n",
       "      <td>M</td>\n",
       "      <td>сотрудник</td>\n",
       "      <td>0</td>\n",
       "      <td>135823.934197</td>\n",
       "      <td>образование</td>\n",
       "    </tr>\n",
       "    <tr>\n",
       "      <th>8</th>\n",
       "      <td>2</td>\n",
       "      <td>-6929.865299</td>\n",
       "      <td>35</td>\n",
       "      <td>ВЫСШЕЕ</td>\n",
       "      <td>0</td>\n",
       "      <td>гражданский брак</td>\n",
       "      <td>1</td>\n",
       "      <td>F</td>\n",
       "      <td>сотрудник</td>\n",
       "      <td>0</td>\n",
       "      <td>95856.832424</td>\n",
       "      <td>на проведение свадьбы</td>\n",
       "    </tr>\n",
       "    <tr>\n",
       "      <th>9</th>\n",
       "      <td>0</td>\n",
       "      <td>-2188.756445</td>\n",
       "      <td>41</td>\n",
       "      <td>среднее</td>\n",
       "      <td>1</td>\n",
       "      <td>женат / замужем</td>\n",
       "      <td>0</td>\n",
       "      <td>M</td>\n",
       "      <td>сотрудник</td>\n",
       "      <td>0</td>\n",
       "      <td>144425.938277</td>\n",
       "      <td>покупка жилья для семьи</td>\n",
       "    </tr>\n",
       "  </tbody>\n",
       "</table>\n",
       "</div>"
      ],
      "text/plain": [
       "   children  days_employed  dob_years education  education_id  \\\n",
       "0         1   -8437.673028         42    высшее             0   \n",
       "1         1   -4024.803754         36   среднее             1   \n",
       "2         0   -5623.422610         33   Среднее             1   \n",
       "3         3   -4124.747207         32   среднее             1   \n",
       "4         0  340266.072047         53   среднее             1   \n",
       "5         0    -926.185831         27    высшее             0   \n",
       "6         0   -2879.202052         43    высшее             0   \n",
       "7         0    -152.779569         50   СРЕДНЕЕ             1   \n",
       "8         2   -6929.865299         35    ВЫСШЕЕ             0   \n",
       "9         0   -2188.756445         41   среднее             1   \n",
       "\n",
       "      family_status  family_status_id gender income_type  debt   total_income  \\\n",
       "0   женат / замужем                 0      F   сотрудник     0  253875.639453   \n",
       "1   женат / замужем                 0      F   сотрудник     0  112080.014102   \n",
       "2   женат / замужем                 0      M   сотрудник     0  145885.952297   \n",
       "3   женат / замужем                 0      M   сотрудник     0  267628.550329   \n",
       "4  гражданский брак                 1      F   пенсионер     0  158616.077870   \n",
       "5  гражданский брак                 1      M   компаньон     0  255763.565419   \n",
       "6   женат / замужем                 0      F   компаньон     0  240525.971920   \n",
       "7   женат / замужем                 0      M   сотрудник     0  135823.934197   \n",
       "8  гражданский брак                 1      F   сотрудник     0   95856.832424   \n",
       "9   женат / замужем                 0      M   сотрудник     0  144425.938277   \n",
       "\n",
       "                      purpose  \n",
       "0               покупка жилья  \n",
       "1     приобретение автомобиля  \n",
       "2               покупка жилья  \n",
       "3  дополнительное образование  \n",
       "4             сыграть свадьбу  \n",
       "5               покупка жилья  \n",
       "6           операции с жильем  \n",
       "7                 образование  \n",
       "8       на проведение свадьбы  \n",
       "9     покупка жилья для семьи  "
      ]
     },
     "execution_count": 1,
     "metadata": {},
     "output_type": "execute_result"
    }
   ],
   "source": [
    "import pandas as pd\n",
    "df = pd.read_csv('https://code.s3.yandex.net/datasets/data.csv')\n",
    "df.head(10)"
   ]
  },
  {
   "cell_type": "markdown",
   "id": "05741300",
   "metadata": {},
   "source": [
    "<font color='orange'><b>🙊 Наблюдения 0.1</b></font>\n",
    "\n",
    "1) данные столбца days_employed выглядит странно - стаж с минусом. \n",
    "\n",
    "2) данные family_status\tи family_status_id дублируют друг друга - пока можно сделать предположение:  \n",
    "    - если женат - статус 0  \n",
    "    - если гражданский брак - статус 1  \n",
    "    \n",
    "3) education - дубликаты данных (опечатки) + так же как пункт 2 education и education_id дублируют друг друга:  \n",
    "    - высшее - статус 0   \n",
    "    - среднее - статус 1  "
   ]
  },
  {
   "cell_type": "code",
   "execution_count": 2,
   "id": "e2b04fc2",
   "metadata": {},
   "outputs": [
    {
     "name": "stdout",
     "output_type": "stream",
     "text": [
      "<class 'pandas.core.frame.DataFrame'>\n",
      "RangeIndex: 21525 entries, 0 to 21524\n",
      "Data columns (total 12 columns):\n",
      " #   Column            Non-Null Count  Dtype  \n",
      "---  ------            --------------  -----  \n",
      " 0   children          21525 non-null  int64  \n",
      " 1   days_employed     19351 non-null  float64\n",
      " 2   dob_years         21525 non-null  int64  \n",
      " 3   education         21525 non-null  object \n",
      " 4   education_id      21525 non-null  int64  \n",
      " 5   family_status     21525 non-null  object \n",
      " 6   family_status_id  21525 non-null  int64  \n",
      " 7   gender            21525 non-null  object \n",
      " 8   income_type       21525 non-null  object \n",
      " 9   debt              21525 non-null  int64  \n",
      " 10  total_income      19351 non-null  float64\n",
      " 11  purpose           21525 non-null  object \n",
      "dtypes: float64(2), int64(5), object(5)\n",
      "memory usage: 2.0+ MB\n"
     ]
    }
   ],
   "source": [
    "df.info()"
   ]
  },
  {
   "cell_type": "markdown",
   "id": "179db0a1",
   "metadata": {},
   "source": [
    "<font color='orange'><b>🙊 Наблюдения 0.2</b></font>\n",
    "\n",
    "1) days_employed, total_income имеют пустые данные и <u>одинаковое их количество</u>.   \n",
    "Можно предположить, что данные для этих столбцов отсуствуют в одних и тех же строках."
   ]
  },
  {
   "cell_type": "code",
   "execution_count": 3,
   "id": "7854a863",
   "metadata": {},
   "outputs": [
    {
     "data": {
      "text/html": [
       "<div>\n",
       "<style scoped>\n",
       "    .dataframe tbody tr th:only-of-type {\n",
       "        vertical-align: middle;\n",
       "    }\n",
       "\n",
       "    .dataframe tbody tr th {\n",
       "        vertical-align: top;\n",
       "    }\n",
       "\n",
       "    .dataframe thead th {\n",
       "        text-align: right;\n",
       "    }\n",
       "</style>\n",
       "<table border=\"1\" class=\"dataframe\">\n",
       "  <thead>\n",
       "    <tr style=\"text-align: right;\">\n",
       "      <th></th>\n",
       "      <th>children</th>\n",
       "      <th>days_employed</th>\n",
       "      <th>dob_years</th>\n",
       "      <th>education_id</th>\n",
       "      <th>family_status_id</th>\n",
       "      <th>debt</th>\n",
       "      <th>total_income</th>\n",
       "    </tr>\n",
       "  </thead>\n",
       "  <tbody>\n",
       "    <tr>\n",
       "      <th>count</th>\n",
       "      <td>21525.000000</td>\n",
       "      <td>19351.000000</td>\n",
       "      <td>21525.000000</td>\n",
       "      <td>21525.000000</td>\n",
       "      <td>21525.000000</td>\n",
       "      <td>21525.000000</td>\n",
       "      <td>1.935100e+04</td>\n",
       "    </tr>\n",
       "    <tr>\n",
       "      <th>mean</th>\n",
       "      <td>0.538908</td>\n",
       "      <td>63046.497661</td>\n",
       "      <td>43.293380</td>\n",
       "      <td>0.817236</td>\n",
       "      <td>0.972544</td>\n",
       "      <td>0.080883</td>\n",
       "      <td>1.674223e+05</td>\n",
       "    </tr>\n",
       "    <tr>\n",
       "      <th>std</th>\n",
       "      <td>1.381587</td>\n",
       "      <td>140827.311974</td>\n",
       "      <td>12.574584</td>\n",
       "      <td>0.548138</td>\n",
       "      <td>1.420324</td>\n",
       "      <td>0.272661</td>\n",
       "      <td>1.029716e+05</td>\n",
       "    </tr>\n",
       "    <tr>\n",
       "      <th>min</th>\n",
       "      <td>-1.000000</td>\n",
       "      <td>-18388.949901</td>\n",
       "      <td>0.000000</td>\n",
       "      <td>0.000000</td>\n",
       "      <td>0.000000</td>\n",
       "      <td>0.000000</td>\n",
       "      <td>2.066726e+04</td>\n",
       "    </tr>\n",
       "    <tr>\n",
       "      <th>25%</th>\n",
       "      <td>0.000000</td>\n",
       "      <td>-2747.423625</td>\n",
       "      <td>33.000000</td>\n",
       "      <td>1.000000</td>\n",
       "      <td>0.000000</td>\n",
       "      <td>0.000000</td>\n",
       "      <td>1.030532e+05</td>\n",
       "    </tr>\n",
       "    <tr>\n",
       "      <th>50%</th>\n",
       "      <td>0.000000</td>\n",
       "      <td>-1203.369529</td>\n",
       "      <td>42.000000</td>\n",
       "      <td>1.000000</td>\n",
       "      <td>0.000000</td>\n",
       "      <td>0.000000</td>\n",
       "      <td>1.450179e+05</td>\n",
       "    </tr>\n",
       "    <tr>\n",
       "      <th>75%</th>\n",
       "      <td>1.000000</td>\n",
       "      <td>-291.095954</td>\n",
       "      <td>53.000000</td>\n",
       "      <td>1.000000</td>\n",
       "      <td>1.000000</td>\n",
       "      <td>0.000000</td>\n",
       "      <td>2.034351e+05</td>\n",
       "    </tr>\n",
       "    <tr>\n",
       "      <th>max</th>\n",
       "      <td>20.000000</td>\n",
       "      <td>401755.400475</td>\n",
       "      <td>75.000000</td>\n",
       "      <td>4.000000</td>\n",
       "      <td>4.000000</td>\n",
       "      <td>1.000000</td>\n",
       "      <td>2.265604e+06</td>\n",
       "    </tr>\n",
       "  </tbody>\n",
       "</table>\n",
       "</div>"
      ],
      "text/plain": [
       "           children  days_employed     dob_years  education_id  \\\n",
       "count  21525.000000   19351.000000  21525.000000  21525.000000   \n",
       "mean       0.538908   63046.497661     43.293380      0.817236   \n",
       "std        1.381587  140827.311974     12.574584      0.548138   \n",
       "min       -1.000000  -18388.949901      0.000000      0.000000   \n",
       "25%        0.000000   -2747.423625     33.000000      1.000000   \n",
       "50%        0.000000   -1203.369529     42.000000      1.000000   \n",
       "75%        1.000000    -291.095954     53.000000      1.000000   \n",
       "max       20.000000  401755.400475     75.000000      4.000000   \n",
       "\n",
       "       family_status_id          debt  total_income  \n",
       "count      21525.000000  21525.000000  1.935100e+04  \n",
       "mean           0.972544      0.080883  1.674223e+05  \n",
       "std            1.420324      0.272661  1.029716e+05  \n",
       "min            0.000000      0.000000  2.066726e+04  \n",
       "25%            0.000000      0.000000  1.030532e+05  \n",
       "50%            0.000000      0.000000  1.450179e+05  \n",
       "75%            1.000000      0.000000  2.034351e+05  \n",
       "max            4.000000      1.000000  2.265604e+06  "
      ]
     },
     "execution_count": 3,
     "metadata": {},
     "output_type": "execute_result"
    }
   ],
   "source": [
    "df.describe()"
   ]
  },
  {
   "cell_type": "code",
   "execution_count": 4,
   "id": "e6f9b423",
   "metadata": {},
   "outputs": [
    {
     "data": {
      "text/plain": [
       "Index(['children', 'days_employed', 'dob_years', 'education', 'education_id',\n",
       "       'family_status', 'family_status_id', 'gender', 'income_type', 'debt',\n",
       "       'total_income', 'purpose'],\n",
       "      dtype='object')"
      ]
     },
     "execution_count": 4,
     "metadata": {},
     "output_type": "execute_result"
    }
   ],
   "source": [
    "# выведем имена колонок\n",
    "\n",
    "df.columns"
   ]
  },
  {
   "cell_type": "code",
   "execution_count": 5,
   "id": "d296785e",
   "metadata": {},
   "outputs": [
    {
     "name": "stdout",
     "output_type": "stream",
     "text": [
      "Уникальные значения столбца education: ['высшее' 'среднее' 'Среднее' 'СРЕДНЕЕ' 'ВЫСШЕЕ' 'неоконченное высшее'\n",
      " 'начальное' 'Высшее' 'НЕОКОНЧЕННОЕ ВЫСШЕЕ' 'Неоконченное высшее'\n",
      " 'НАЧАЛЬНОЕ' 'Начальное' 'Ученая степень' 'УЧЕНАЯ СТЕПЕНЬ'\n",
      " 'ученая степень']\n",
      "Уникальные значения столбца family_status: ['женат / замужем' 'гражданский брак' 'вдовец / вдова' 'в разводе'\n",
      " 'Не женат / не замужем']\n",
      "Уникальные значения столбца gender: ['F' 'M' 'XNA']\n",
      "Уникальные значения столбца debt: [0 1]\n",
      "Уникальные значения столбца purpose: ['покупка жилья' 'приобретение автомобиля' 'дополнительное образование'\n",
      " 'сыграть свадьбу' 'операции с жильем' 'образование'\n",
      " 'на проведение свадьбы' 'покупка жилья для семьи' 'покупка недвижимости'\n",
      " 'покупка коммерческой недвижимости' 'покупка жилой недвижимости'\n",
      " 'строительство собственной недвижимости' 'недвижимость'\n",
      " 'строительство недвижимости' 'на покупку подержанного автомобиля'\n",
      " 'на покупку своего автомобиля' 'операции с коммерческой недвижимостью'\n",
      " 'строительство жилой недвижимости' 'жилье'\n",
      " 'операции со своей недвижимостью' 'автомобили' 'заняться образованием'\n",
      " 'сделка с подержанным автомобилем' 'получение образования' 'автомобиль'\n",
      " 'свадьба' 'получение дополнительного образования' 'покупка своего жилья'\n",
      " 'операции с недвижимостью' 'получение высшего образования'\n",
      " 'свой автомобиль' 'сделка с автомобилем' 'профильное образование'\n",
      " 'высшее образование' 'покупка жилья для сдачи' 'на покупку автомобиля'\n",
      " 'ремонт жилью' 'заняться высшим образованием']\n"
     ]
    }
   ],
   "source": [
    "print(f\"Уникальные значения столбца {df.columns[3]}: {df['education'].unique()}\")\n",
    "print(f\"Уникальные значения столбца {df.columns[5]}: {df['family_status'].unique()}\")\n",
    "print(f\"Уникальные значения столбца {df.columns[7]}: {df['gender'].unique()}\")\n",
    "print(f\"Уникальные значения столбца {df.columns[9]}: {df['debt'].unique()}\")\n",
    "print(f\"Уникальные значения столбца {df.columns[-1]}: {df['purpose'].unique()}\")"
   ]
  },
  {
   "cell_type": "markdown",
   "id": "8df526c5",
   "metadata": {},
   "source": [
    "<font color='orange'><b>🙊 Наблюдения 0.3</b></font>\n",
    "\n",
    "1) <b>children</b>: \n",
    "\n",
    "    - min значение - минус 1 ребенок. явная ошибка  \n",
    "    - max значение - 20 детей. Если представить, что девушка может забеременить в ~ 13 лет (О_О) и рожала каждый год, то на момент подачи заявления человеку должно быть минимум 33 года. Запомним это. Выглядит для меня странно ( и страшно 😁). Думаю заменить это медианным значением, так как это сильно выпадающая точка.\n",
    "    - у 75% семей один ребенок  \n",
    "    \n",
    "2) <b>days_employed</b>:\n",
    "\n",
    "    - много данных с отрицательным знаком, надо разобраться с этим  \n",
    "    - max значение - 401755.4 дня. Если это количество разделить на дни в году (365), то получится 1100.6 лет. Такого быть не может. Если предположить, что человек работает с 18 лет без увольнений, то максимально возможное число дней в 75 лет: (75 - 18) *365 = 20805. будем править.\n",
    "    \n",
    "3) <b>dob_years</b>:   \n",
    "\n",
    "    - min значение - 0 лет. явная ошибка  \n",
    "    - медианный возраст заемщиков - 42 года  \n",
    "    \n",
    "4) <b>education_id</b>:  \n",
    "\n",
    "    - есть 5 рангов образования  \n",
    "    \n",
    "5) <b>family_status_id</b>: \n",
    "\n",
    "    - есть 5 рангов семейного статуса  \n",
    "    - 75% людей живут в гражданском браке  \n",
    "    \n",
    "6) <b>debt</b>:  \n",
    "\n",
    "    - тут можно сказать, что у большинства людей не было проблем с возвратом кредитов  \n",
    "    \n",
    "7) \t<b>total_income</b>:\n",
    "\n",
    "    - медианный доход - 145000  \n",
    "    \n",
    "8) <b>gender</b>:\n",
    "\n",
    "    - значение XNA - явно ошибка, но нам этот столбец не важен, поэтому ничего делать не будем\n",
    "    \n",
    "9) <b>education</b>:\n",
    "\n",
    "    - дубликаты c разными регистрами букв- исправим\n",
    "    \n",
    "10) <b>purpose</b>:\n",
    "\n",
    "    - явно можно все значения объеденить в группы\n",
    "    \n",
    "Исправим ошибки."
   ]
  },
  {
   "cell_type": "markdown",
   "id": "2f55e0d1",
   "metadata": {},
   "source": [
    "<b>----------------------------------------------------------------------------------------------------------------------------------------------------------------------------------------------------------------</b>"
   ]
  },
  {
   "cell_type": "markdown",
   "id": "cb0e1bf3",
   "metadata": {},
   "source": [
    "### Шаг 2.1 Проверка данных на аномалии и исправления."
   ]
  },
  {
   "cell_type": "markdown",
   "id": "01418884",
   "metadata": {},
   "source": [
    "В данных могут встречаться артефакты (аномалии) — значения, которые не отражают действительность и появились по какой-то ошибке. Например, отрицательное количество дней трудового стажа в столбце days_employed. Для реальных данных это нормально.   \n",
    "Обработайте значения в столбцах с аномалиями и опишите возможные причины появления таких данных."
   ]
  },
  {
   "cell_type": "markdown",
   "id": "e9f31ea5",
   "metadata": {},
   "source": [
    "<font color='orange'><b>🙊 Наблюдения 0.4</b></font>\n",
    "\n",
    "<b>Аномалии, которые я нашла:</b>\n",
    "1) children: - min значение - минус 1 ребенок, уберем минус  \n",
    "2) children: - max значение - 20, поставим медианное значение  \n",
    "3) dob_years: - min значение - 0 лет  \n",
    "4) days_employed: - много данных с отрицательным знаком, уберем минус  \n",
    "5) days_employed: - max значение - 401755.4 -> 20805"
   ]
  },
  {
   "cell_type": "code",
   "execution_count": 6,
   "id": "18dab050",
   "metadata": {},
   "outputs": [
    {
     "data": {
      "text/plain": [
       "47"
      ]
     },
     "execution_count": 6,
     "metadata": {},
     "output_type": "execute_result"
    }
   ],
   "source": [
    "#количество строк, где детей отрицательное количество\n",
    "\n",
    "df[df['children'] < 0].shape[0]"
   ]
  },
  {
   "cell_type": "code",
   "execution_count": 7,
   "id": "a7e990a5",
   "metadata": {},
   "outputs": [
    {
     "data": {
      "text/plain": [
       "0"
      ]
     },
     "execution_count": 7,
     "metadata": {},
     "output_type": "execute_result"
    }
   ],
   "source": [
    "# поменяем -1 на 1 и проверим \n",
    "\n",
    "df['children'] = df['children'].replace(-1, 1)\n",
    "df[df['children'] < 0].shape[0]"
   ]
  },
  {
   "cell_type": "code",
   "execution_count": 8,
   "id": "69489863",
   "metadata": {},
   "outputs": [
    {
     "data": {
      "text/plain": [
       "0     14149\n",
       "1      4865\n",
       "2      2055\n",
       "3       330\n",
       "20       76\n",
       "4        41\n",
       "5         9\n",
       "Name: children, dtype: int64"
      ]
     },
     "execution_count": 8,
     "metadata": {},
     "output_type": "execute_result"
    }
   ],
   "source": [
    "# посмотрим, сколько вообще детей есть в семьях\n",
    "\n",
    "df['children'].value_counts()"
   ]
  },
  {
   "cell_type": "code",
   "execution_count": 9,
   "id": "c455eef4",
   "metadata": {},
   "outputs": [
    {
     "data": {
      "text/plain": [
       "0"
      ]
     },
     "execution_count": 9,
     "metadata": {},
     "output_type": "execute_result"
    }
   ],
   "source": [
    "# так как от 5 до 20 нет чисел, то заменим 20 на медианное значение и сделаем проверку\n",
    "\n",
    "df['children'] = df['children'].replace(20, df['children'].median())\n",
    "df[df['children'] == 20].shape[0]"
   ]
  },
  {
   "cell_type": "code",
   "execution_count": 10,
   "id": "5aa19ffd",
   "metadata": {},
   "outputs": [
    {
     "data": {
      "text/plain": [
       "101"
      ]
     },
     "execution_count": 10,
     "metadata": {},
     "output_type": "execute_result"
    }
   ],
   "source": [
    "#количество строк, где человеку 0 лет \n",
    "\n",
    "df[df['dob_years'] == 0].shape[0]"
   ]
  },
  {
   "cell_type": "code",
   "execution_count": 11,
   "id": "2d431a11",
   "metadata": {},
   "outputs": [
    {
     "data": {
      "text/plain": [
       "0"
      ]
     },
     "execution_count": 11,
     "metadata": {},
     "output_type": "execute_result"
    }
   ],
   "source": [
    "# так как я не знаю, куда отнести этот ноль, я решила удалить эти строки (тем более потеренных данных будет\n",
    "# немного (0.5%)) и сделаем проверку\n",
    "\n",
    "df = df.loc[df['dob_years'] != 0]\n",
    "df[df['dob_years'] == 0].shape[0]"
   ]
  },
  {
   "cell_type": "code",
   "execution_count": 12,
   "id": "f1503aeb",
   "metadata": {
    "scrolled": true
   },
   "outputs": [
    {
     "name": "stdout",
     "output_type": "stream",
     "text": [
      "<class 'pandas.core.frame.DataFrame'>\n",
      "Int64Index: 21424 entries, 0 to 21524\n",
      "Data columns (total 12 columns):\n",
      " #   Column            Non-Null Count  Dtype  \n",
      "---  ------            --------------  -----  \n",
      " 0   children          21424 non-null  float64\n",
      " 1   days_employed     19260 non-null  float64\n",
      " 2   dob_years         21424 non-null  int64  \n",
      " 3   education         21424 non-null  object \n",
      " 4   education_id      21424 non-null  int64  \n",
      " 5   family_status     21424 non-null  object \n",
      " 6   family_status_id  21424 non-null  int64  \n",
      " 7   gender            21424 non-null  object \n",
      " 8   income_type       21424 non-null  object \n",
      " 9   debt              21424 non-null  int64  \n",
      " 10  total_income      19260 non-null  float64\n",
      " 11  purpose           21424 non-null  object \n",
      "dtypes: float64(3), int64(4), object(5)\n",
      "memory usage: 2.1+ MB\n"
     ]
    }
   ],
   "source": [
    "# првоерим, как изменились данные в df\n",
    "\n",
    "df.info()"
   ]
  },
  {
   "cell_type": "code",
   "execution_count": 13,
   "id": "24104885",
   "metadata": {},
   "outputs": [
    {
     "data": {
      "text/html": [
       "<div>\n",
       "<style scoped>\n",
       "    .dataframe tbody tr th:only-of-type {\n",
       "        vertical-align: middle;\n",
       "    }\n",
       "\n",
       "    .dataframe tbody tr th {\n",
       "        vertical-align: top;\n",
       "    }\n",
       "\n",
       "    .dataframe thead th {\n",
       "        text-align: right;\n",
       "    }\n",
       "</style>\n",
       "<table border=\"1\" class=\"dataframe\">\n",
       "  <thead>\n",
       "    <tr style=\"text-align: right;\">\n",
       "      <th></th>\n",
       "      <th>children</th>\n",
       "      <th>days_employed</th>\n",
       "      <th>dob_years</th>\n",
       "      <th>education_id</th>\n",
       "      <th>family_status_id</th>\n",
       "      <th>debt</th>\n",
       "      <th>total_income</th>\n",
       "    </tr>\n",
       "  </thead>\n",
       "  <tbody>\n",
       "    <tr>\n",
       "      <th>count</th>\n",
       "      <td>21424.000000</td>\n",
       "      <td>19260.000000</td>\n",
       "      <td>21424.000000</td>\n",
       "      <td>21424.000000</td>\n",
       "      <td>21424.000000</td>\n",
       "      <td>21424.000000</td>\n",
       "      <td>1.926000e+04</td>\n",
       "    </tr>\n",
       "    <tr>\n",
       "      <th>mean</th>\n",
       "      <td>0.472647</td>\n",
       "      <td>63032.838333</td>\n",
       "      <td>43.497479</td>\n",
       "      <td>0.817914</td>\n",
       "      <td>0.971294</td>\n",
       "      <td>0.080891</td>\n",
       "      <td>1.674652e+05</td>\n",
       "    </tr>\n",
       "    <tr>\n",
       "      <th>std</th>\n",
       "      <td>0.750421</td>\n",
       "      <td>140819.014270</td>\n",
       "      <td>12.246934</td>\n",
       "      <td>0.548224</td>\n",
       "      <td>1.419737</td>\n",
       "      <td>0.272673</td>\n",
       "      <td>1.030873e+05</td>\n",
       "    </tr>\n",
       "    <tr>\n",
       "      <th>min</th>\n",
       "      <td>0.000000</td>\n",
       "      <td>-18388.949901</td>\n",
       "      <td>19.000000</td>\n",
       "      <td>0.000000</td>\n",
       "      <td>0.000000</td>\n",
       "      <td>0.000000</td>\n",
       "      <td>2.066726e+04</td>\n",
       "    </tr>\n",
       "    <tr>\n",
       "      <th>25%</th>\n",
       "      <td>0.000000</td>\n",
       "      <td>-2748.301767</td>\n",
       "      <td>33.000000</td>\n",
       "      <td>1.000000</td>\n",
       "      <td>0.000000</td>\n",
       "      <td>0.000000</td>\n",
       "      <td>1.030930e+05</td>\n",
       "    </tr>\n",
       "    <tr>\n",
       "      <th>50%</th>\n",
       "      <td>0.000000</td>\n",
       "      <td>-1203.637301</td>\n",
       "      <td>43.000000</td>\n",
       "      <td>1.000000</td>\n",
       "      <td>0.000000</td>\n",
       "      <td>0.000000</td>\n",
       "      <td>1.450117e+05</td>\n",
       "    </tr>\n",
       "    <tr>\n",
       "      <th>75%</th>\n",
       "      <td>1.000000</td>\n",
       "      <td>-291.172875</td>\n",
       "      <td>53.000000</td>\n",
       "      <td>1.000000</td>\n",
       "      <td>1.000000</td>\n",
       "      <td>0.000000</td>\n",
       "      <td>2.033700e+05</td>\n",
       "    </tr>\n",
       "    <tr>\n",
       "      <th>max</th>\n",
       "      <td>5.000000</td>\n",
       "      <td>401755.400475</td>\n",
       "      <td>75.000000</td>\n",
       "      <td>4.000000</td>\n",
       "      <td>4.000000</td>\n",
       "      <td>1.000000</td>\n",
       "      <td>2.265604e+06</td>\n",
       "    </tr>\n",
       "  </tbody>\n",
       "</table>\n",
       "</div>"
      ],
      "text/plain": [
       "           children  days_employed     dob_years  education_id  \\\n",
       "count  21424.000000   19260.000000  21424.000000  21424.000000   \n",
       "mean       0.472647   63032.838333     43.497479      0.817914   \n",
       "std        0.750421  140819.014270     12.246934      0.548224   \n",
       "min        0.000000  -18388.949901     19.000000      0.000000   \n",
       "25%        0.000000   -2748.301767     33.000000      1.000000   \n",
       "50%        0.000000   -1203.637301     43.000000      1.000000   \n",
       "75%        1.000000    -291.172875     53.000000      1.000000   \n",
       "max        5.000000  401755.400475     75.000000      4.000000   \n",
       "\n",
       "       family_status_id          debt  total_income  \n",
       "count      21424.000000  21424.000000  1.926000e+04  \n",
       "mean           0.971294      0.080891  1.674652e+05  \n",
       "std            1.419737      0.272673  1.030873e+05  \n",
       "min            0.000000      0.000000  2.066726e+04  \n",
       "25%            0.000000      0.000000  1.030930e+05  \n",
       "50%            0.000000      0.000000  1.450117e+05  \n",
       "75%            1.000000      0.000000  2.033700e+05  \n",
       "max            4.000000      1.000000  2.265604e+06  "
      ]
     },
     "execution_count": 13,
     "metadata": {},
     "output_type": "execute_result"
    }
   ],
   "source": [
    "df.describe()"
   ]
  },
  {
   "cell_type": "markdown",
   "id": "5e7907e6",
   "metadata": {},
   "source": [
    "<font color='orange'><b>🙊 Наблюдения 0.5</b></font>\n",
    "\n",
    "1) аномальное значение с подсчетом количества детей исправлено  \n",
    "2) в столбце с возрастом клиента теперь мин значение - 19 лет. Это соответсвует адекватности.\n",
    "\n",
    "Теперь разберемся с отрицательным  и большим стажом."
   ]
  },
  {
   "cell_type": "code",
   "execution_count": 14,
   "id": "24f60c08",
   "metadata": {},
   "outputs": [
    {
     "data": {
      "text/plain": [
       "15832"
      ]
     },
     "execution_count": 14,
     "metadata": {},
     "output_type": "execute_result"
    }
   ],
   "source": [
    "#количество строк, где стаж - отрицательное число\n",
    "\n",
    "df[df['days_employed'] < 0].shape[0]"
   ]
  },
  {
   "cell_type": "code",
   "execution_count": 15,
   "id": "3b5dc836",
   "metadata": {},
   "outputs": [
    {
     "name": "stdout",
     "output_type": "stream",
     "text": [
      "Медиана с аномальными значениями -1203.6373006422905\n",
      "Среднее с аномальными значениями 63032.83833320626\n"
     ]
    }
   ],
   "source": [
    "# посмотрим, какая медиана и среднее будет у столбца days_employed, если не убирать минус\n",
    "\n",
    "print(f\"Медиана с аномальными значениями {df['days_employed'].median()}\")\n",
    "print(f\"Среднее с аномальными значениями {df['days_employed'].mean()}\")"
   ]
  },
  {
   "cell_type": "code",
   "execution_count": 16,
   "id": "0ba7a8c2",
   "metadata": {
    "scrolled": false
   },
   "outputs": [
    {
     "name": "stdout",
     "output_type": "stream",
     "text": [
      "Медиана без аномальных значений 2197.359789516353\n",
      "Среднее без аномальных значений 66902.43787703343\n"
     ]
    }
   ],
   "source": [
    "# посмотрим, какая медиана и среднее будет у столбца days_employed, если убрать минус \n",
    "\n",
    "df.loc[df['days_employed'] < 0, 'days_employed'] = abs(df['days_employed']) \n",
    "print(f\"Медиана без аномальных значений {df['days_employed'].median()}\")\n",
    "print(f\"Среднее без аномальных значений {df['days_employed'].mean()}\")"
   ]
  },
  {
   "cell_type": "code",
   "execution_count": 17,
   "id": "3e311ca7",
   "metadata": {},
   "outputs": [
    {
     "data": {
      "text/plain": [
       "59.41802800466744"
      ]
     },
     "execution_count": 17,
     "metadata": {},
     "output_type": "execute_result"
    }
   ],
   "source": [
    "# найдем средний возраст для людей, со стажем больше 20805\n",
    "\n",
    "age = df[df['days_employed'] > 20805]\n",
    "age['dob_years'].mean()"
   ]
  },
  {
   "cell_type": "code",
   "execution_count": 18,
   "id": "b988feca",
   "metadata": {},
   "outputs": [
    {
     "data": {
      "text/plain": [
       "'для человека 59 лет, который работает с 18 лет, стаж будет равен 14965'"
      ]
     },
     "execution_count": 18,
     "metadata": {},
     "output_type": "execute_result"
    }
   ],
   "source": [
    "f'для человека 59 лет, который работает с 18 лет, стаж будет равен {(59-18) * 365}'"
   ]
  },
  {
   "cell_type": "code",
   "execution_count": 19,
   "id": "13958e5f",
   "metadata": {},
   "outputs": [],
   "source": [
    "# заменим этим значением весь стаж, который больше 20805\n",
    "\n",
    "def decrease_days(day):\n",
    "    if day > 20805:\n",
    "        day = 14965\n",
    "        return day\n",
    "    else:\n",
    "        return day\n",
    "    \n",
    "df['days_employed'] = df['days_employed'].apply(decrease_days)"
   ]
  },
  {
   "cell_type": "code",
   "execution_count": 20,
   "id": "fedb9dec",
   "metadata": {},
   "outputs": [
    {
     "data": {
      "text/plain": [
       "0"
      ]
     },
     "execution_count": 20,
     "metadata": {},
     "output_type": "execute_result"
    }
   ],
   "source": [
    "# check\n",
    "\n",
    "df[df['days_employed'] > 20805].shape[0]"
   ]
  },
  {
   "cell_type": "code",
   "execution_count": 21,
   "id": "1fe0a4a5",
   "metadata": {},
   "outputs": [
    {
     "data": {
      "text/html": [
       "<div>\n",
       "<style scoped>\n",
       "    .dataframe tbody tr th:only-of-type {\n",
       "        vertical-align: middle;\n",
       "    }\n",
       "\n",
       "    .dataframe tbody tr th {\n",
       "        vertical-align: top;\n",
       "    }\n",
       "\n",
       "    .dataframe thead th {\n",
       "        text-align: right;\n",
       "    }\n",
       "</style>\n",
       "<table border=\"1\" class=\"dataframe\">\n",
       "  <thead>\n",
       "    <tr style=\"text-align: right;\">\n",
       "      <th></th>\n",
       "      <th>children</th>\n",
       "      <th>days_employed</th>\n",
       "      <th>dob_years</th>\n",
       "      <th>education_id</th>\n",
       "      <th>family_status_id</th>\n",
       "      <th>debt</th>\n",
       "      <th>total_income</th>\n",
       "    </tr>\n",
       "  </thead>\n",
       "  <tbody>\n",
       "    <tr>\n",
       "      <th>count</th>\n",
       "      <td>21424.000000</td>\n",
       "      <td>19260.000000</td>\n",
       "      <td>21424.000000</td>\n",
       "      <td>21424.000000</td>\n",
       "      <td>21424.000000</td>\n",
       "      <td>21424.000000</td>\n",
       "      <td>1.926000e+04</td>\n",
       "    </tr>\n",
       "    <tr>\n",
       "      <th>mean</th>\n",
       "      <td>0.472647</td>\n",
       "      <td>4598.352212</td>\n",
       "      <td>43.497479</td>\n",
       "      <td>0.817914</td>\n",
       "      <td>0.971294</td>\n",
       "      <td>0.080891</td>\n",
       "      <td>1.674652e+05</td>\n",
       "    </tr>\n",
       "    <tr>\n",
       "      <th>std</th>\n",
       "      <td>0.750421</td>\n",
       "      <td>5257.102554</td>\n",
       "      <td>12.246934</td>\n",
       "      <td>0.548224</td>\n",
       "      <td>1.419737</td>\n",
       "      <td>0.272673</td>\n",
       "      <td>1.030873e+05</td>\n",
       "    </tr>\n",
       "    <tr>\n",
       "      <th>min</th>\n",
       "      <td>0.000000</td>\n",
       "      <td>24.141633</td>\n",
       "      <td>19.000000</td>\n",
       "      <td>0.000000</td>\n",
       "      <td>0.000000</td>\n",
       "      <td>0.000000</td>\n",
       "      <td>2.066726e+04</td>\n",
       "    </tr>\n",
       "    <tr>\n",
       "      <th>25%</th>\n",
       "      <td>0.000000</td>\n",
       "      <td>926.851509</td>\n",
       "      <td>33.000000</td>\n",
       "      <td>1.000000</td>\n",
       "      <td>0.000000</td>\n",
       "      <td>0.000000</td>\n",
       "      <td>1.030930e+05</td>\n",
       "    </tr>\n",
       "    <tr>\n",
       "      <th>50%</th>\n",
       "      <td>0.000000</td>\n",
       "      <td>2197.359790</td>\n",
       "      <td>43.000000</td>\n",
       "      <td>1.000000</td>\n",
       "      <td>0.000000</td>\n",
       "      <td>0.000000</td>\n",
       "      <td>1.450117e+05</td>\n",
       "    </tr>\n",
       "    <tr>\n",
       "      <th>75%</th>\n",
       "      <td>1.000000</td>\n",
       "      <td>5539.681747</td>\n",
       "      <td>53.000000</td>\n",
       "      <td>1.000000</td>\n",
       "      <td>1.000000</td>\n",
       "      <td>0.000000</td>\n",
       "      <td>2.033700e+05</td>\n",
       "    </tr>\n",
       "    <tr>\n",
       "      <th>max</th>\n",
       "      <td>5.000000</td>\n",
       "      <td>18388.949901</td>\n",
       "      <td>75.000000</td>\n",
       "      <td>4.000000</td>\n",
       "      <td>4.000000</td>\n",
       "      <td>1.000000</td>\n",
       "      <td>2.265604e+06</td>\n",
       "    </tr>\n",
       "  </tbody>\n",
       "</table>\n",
       "</div>"
      ],
      "text/plain": [
       "           children  days_employed     dob_years  education_id  \\\n",
       "count  21424.000000   19260.000000  21424.000000  21424.000000   \n",
       "mean       0.472647    4598.352212     43.497479      0.817914   \n",
       "std        0.750421    5257.102554     12.246934      0.548224   \n",
       "min        0.000000      24.141633     19.000000      0.000000   \n",
       "25%        0.000000     926.851509     33.000000      1.000000   \n",
       "50%        0.000000    2197.359790     43.000000      1.000000   \n",
       "75%        1.000000    5539.681747     53.000000      1.000000   \n",
       "max        5.000000   18388.949901     75.000000      4.000000   \n",
       "\n",
       "       family_status_id          debt  total_income  \n",
       "count      21424.000000  21424.000000  1.926000e+04  \n",
       "mean           0.971294      0.080891  1.674652e+05  \n",
       "std            1.419737      0.272673  1.030873e+05  \n",
       "min            0.000000      0.000000  2.066726e+04  \n",
       "25%            0.000000      0.000000  1.030930e+05  \n",
       "50%            0.000000      0.000000  1.450117e+05  \n",
       "75%            1.000000      0.000000  2.033700e+05  \n",
       "max            4.000000      1.000000  2.265604e+06  "
      ]
     },
     "execution_count": 21,
     "metadata": {},
     "output_type": "execute_result"
    }
   ],
   "source": [
    "df.describe()"
   ]
  },
  {
   "cell_type": "markdown",
   "id": "d5db8c44",
   "metadata": {},
   "source": [
    "<font color='orange'><b>🙊 Наблюдения 0.6</b></font>\n",
    "\n",
    "Мы исправили все аномалии документа, теперь можно заполнять пропуски.  \n",
    "Аномали могли возникнуть из-за опечаток (возможно 20 детей вместо 2 например - в стаже).  \n",
    "Так же, про странные значения (например большой стаж) лучше уточнять у людей, которые собирают данные.  \n",
    "Заменять максимальный стаж как мы сделали необязательно, так как он не участвует в анализе, но так данные выглядят более адекватно (по моему мнению)."
   ]
  },
  {
   "cell_type": "markdown",
   "id": "5a4dae5f",
   "metadata": {},
   "source": [
    "<b>----------------------------------------------------------------------------------------------------------------------------------------------------------------------------------------------------------------</b>"
   ]
  },
  {
   "cell_type": "markdown",
   "id": "d28e763b",
   "metadata": {},
   "source": [
    "### Шаг 2.2 Заполнение пропусков"
   ]
  },
  {
   "cell_type": "markdown",
   "id": "13cd39d5",
   "metadata": {},
   "source": [
    "1) В двух столбцах есть пропущенные значения, найдите их и заполните медианным значением по столбцу: опишите, какие пропущенные значения вы обнаружили;  \n",
    "2) проверьте, какую долю составляют пропущенные значения в каждом из столбцов с пропусками;  \n",
    "3) приведите возможные причины появления пропусков в данных;  \n",
    "4) объясните, почему заполнить пропуски медианным значением — лучшее решение для количественных переменных.  "
   ]
  },
  {
   "cell_type": "code",
   "execution_count": 22,
   "id": "1cf8277e",
   "metadata": {
    "scrolled": true
   },
   "outputs": [
    {
     "data": {
      "text/plain": [
       "children               0\n",
       "days_employed       2164\n",
       "dob_years              0\n",
       "education              0\n",
       "education_id           0\n",
       "family_status          0\n",
       "family_status_id       0\n",
       "gender                 0\n",
       "income_type            0\n",
       "debt                   0\n",
       "total_income        2164\n",
       "purpose                0\n",
       "dtype: int64"
      ]
     },
     "execution_count": 22,
     "metadata": {},
     "output_type": "execute_result"
    }
   ],
   "source": [
    "# посчитаем сколько пустых данных\n",
    "\n",
    "df.isna().sum()"
   ]
  },
  {
   "cell_type": "code",
   "execution_count": 23,
   "id": "360c37a5",
   "metadata": {},
   "outputs": [
    {
     "data": {
      "text/html": [
       "<div>\n",
       "<style scoped>\n",
       "    .dataframe tbody tr th:only-of-type {\n",
       "        vertical-align: middle;\n",
       "    }\n",
       "\n",
       "    .dataframe tbody tr th {\n",
       "        vertical-align: top;\n",
       "    }\n",
       "\n",
       "    .dataframe thead th {\n",
       "        text-align: right;\n",
       "    }\n",
       "</style>\n",
       "<table border=\"1\" class=\"dataframe\">\n",
       "  <thead>\n",
       "    <tr style=\"text-align: right;\">\n",
       "      <th></th>\n",
       "      <th>children</th>\n",
       "      <th>days_employed</th>\n",
       "      <th>dob_years</th>\n",
       "      <th>education</th>\n",
       "      <th>education_id</th>\n",
       "      <th>family_status</th>\n",
       "      <th>family_status_id</th>\n",
       "      <th>gender</th>\n",
       "      <th>income_type</th>\n",
       "      <th>debt</th>\n",
       "      <th>total_income</th>\n",
       "      <th>purpose</th>\n",
       "    </tr>\n",
       "  </thead>\n",
       "  <tbody>\n",
       "    <tr>\n",
       "      <th>21415</th>\n",
       "      <td>0.0</td>\n",
       "      <td>NaN</td>\n",
       "      <td>54</td>\n",
       "      <td>среднее</td>\n",
       "      <td>1</td>\n",
       "      <td>женат / замужем</td>\n",
       "      <td>0</td>\n",
       "      <td>F</td>\n",
       "      <td>пенсионер</td>\n",
       "      <td>0</td>\n",
       "      <td>NaN</td>\n",
       "      <td>операции с жильем</td>\n",
       "    </tr>\n",
       "    <tr>\n",
       "      <th>21423</th>\n",
       "      <td>0.0</td>\n",
       "      <td>NaN</td>\n",
       "      <td>63</td>\n",
       "      <td>среднее</td>\n",
       "      <td>1</td>\n",
       "      <td>женат / замужем</td>\n",
       "      <td>0</td>\n",
       "      <td>M</td>\n",
       "      <td>пенсионер</td>\n",
       "      <td>0</td>\n",
       "      <td>NaN</td>\n",
       "      <td>сделка с автомобилем</td>\n",
       "    </tr>\n",
       "    <tr>\n",
       "      <th>21426</th>\n",
       "      <td>0.0</td>\n",
       "      <td>NaN</td>\n",
       "      <td>49</td>\n",
       "      <td>среднее</td>\n",
       "      <td>1</td>\n",
       "      <td>женат / замужем</td>\n",
       "      <td>0</td>\n",
       "      <td>F</td>\n",
       "      <td>сотрудник</td>\n",
       "      <td>1</td>\n",
       "      <td>NaN</td>\n",
       "      <td>недвижимость</td>\n",
       "    </tr>\n",
       "    <tr>\n",
       "      <th>21432</th>\n",
       "      <td>1.0</td>\n",
       "      <td>NaN</td>\n",
       "      <td>38</td>\n",
       "      <td>неоконченное высшее</td>\n",
       "      <td>2</td>\n",
       "      <td>Не женат / не замужем</td>\n",
       "      <td>4</td>\n",
       "      <td>F</td>\n",
       "      <td>сотрудник</td>\n",
       "      <td>0</td>\n",
       "      <td>NaN</td>\n",
       "      <td>операции с жильем</td>\n",
       "    </tr>\n",
       "    <tr>\n",
       "      <th>21463</th>\n",
       "      <td>1.0</td>\n",
       "      <td>NaN</td>\n",
       "      <td>35</td>\n",
       "      <td>высшее</td>\n",
       "      <td>0</td>\n",
       "      <td>гражданский брак</td>\n",
       "      <td>1</td>\n",
       "      <td>M</td>\n",
       "      <td>сотрудник</td>\n",
       "      <td>0</td>\n",
       "      <td>NaN</td>\n",
       "      <td>на проведение свадьбы</td>\n",
       "    </tr>\n",
       "    <tr>\n",
       "      <th>21489</th>\n",
       "      <td>2.0</td>\n",
       "      <td>NaN</td>\n",
       "      <td>47</td>\n",
       "      <td>Среднее</td>\n",
       "      <td>1</td>\n",
       "      <td>женат / замужем</td>\n",
       "      <td>0</td>\n",
       "      <td>M</td>\n",
       "      <td>компаньон</td>\n",
       "      <td>0</td>\n",
       "      <td>NaN</td>\n",
       "      <td>сделка с автомобилем</td>\n",
       "    </tr>\n",
       "    <tr>\n",
       "      <th>21495</th>\n",
       "      <td>1.0</td>\n",
       "      <td>NaN</td>\n",
       "      <td>50</td>\n",
       "      <td>среднее</td>\n",
       "      <td>1</td>\n",
       "      <td>гражданский брак</td>\n",
       "      <td>1</td>\n",
       "      <td>F</td>\n",
       "      <td>сотрудник</td>\n",
       "      <td>0</td>\n",
       "      <td>NaN</td>\n",
       "      <td>свадьба</td>\n",
       "    </tr>\n",
       "    <tr>\n",
       "      <th>21497</th>\n",
       "      <td>0.0</td>\n",
       "      <td>NaN</td>\n",
       "      <td>48</td>\n",
       "      <td>ВЫСШЕЕ</td>\n",
       "      <td>0</td>\n",
       "      <td>женат / замужем</td>\n",
       "      <td>0</td>\n",
       "      <td>F</td>\n",
       "      <td>компаньон</td>\n",
       "      <td>0</td>\n",
       "      <td>NaN</td>\n",
       "      <td>строительство недвижимости</td>\n",
       "    </tr>\n",
       "    <tr>\n",
       "      <th>21502</th>\n",
       "      <td>1.0</td>\n",
       "      <td>NaN</td>\n",
       "      <td>42</td>\n",
       "      <td>среднее</td>\n",
       "      <td>1</td>\n",
       "      <td>женат / замужем</td>\n",
       "      <td>0</td>\n",
       "      <td>F</td>\n",
       "      <td>сотрудник</td>\n",
       "      <td>0</td>\n",
       "      <td>NaN</td>\n",
       "      <td>строительство жилой недвижимости</td>\n",
       "    </tr>\n",
       "    <tr>\n",
       "      <th>21510</th>\n",
       "      <td>2.0</td>\n",
       "      <td>NaN</td>\n",
       "      <td>28</td>\n",
       "      <td>среднее</td>\n",
       "      <td>1</td>\n",
       "      <td>женат / замужем</td>\n",
       "      <td>0</td>\n",
       "      <td>F</td>\n",
       "      <td>сотрудник</td>\n",
       "      <td>0</td>\n",
       "      <td>NaN</td>\n",
       "      <td>приобретение автомобиля</td>\n",
       "    </tr>\n",
       "  </tbody>\n",
       "</table>\n",
       "</div>"
      ],
      "text/plain": [
       "       children  days_employed  dob_years            education  education_id  \\\n",
       "21415       0.0            NaN         54              среднее             1   \n",
       "21423       0.0            NaN         63              среднее             1   \n",
       "21426       0.0            NaN         49              среднее             1   \n",
       "21432       1.0            NaN         38  неоконченное высшее             2   \n",
       "21463       1.0            NaN         35               высшее             0   \n",
       "21489       2.0            NaN         47              Среднее             1   \n",
       "21495       1.0            NaN         50              среднее             1   \n",
       "21497       0.0            NaN         48               ВЫСШЕЕ             0   \n",
       "21502       1.0            NaN         42              среднее             1   \n",
       "21510       2.0            NaN         28              среднее             1   \n",
       "\n",
       "               family_status  family_status_id gender income_type  debt  \\\n",
       "21415        женат / замужем                 0      F   пенсионер     0   \n",
       "21423        женат / замужем                 0      M   пенсионер     0   \n",
       "21426        женат / замужем                 0      F   сотрудник     1   \n",
       "21432  Не женат / не замужем                 4      F   сотрудник     0   \n",
       "21463       гражданский брак                 1      M   сотрудник     0   \n",
       "21489        женат / замужем                 0      M   компаньон     0   \n",
       "21495       гражданский брак                 1      F   сотрудник     0   \n",
       "21497        женат / замужем                 0      F   компаньон     0   \n",
       "21502        женат / замужем                 0      F   сотрудник     0   \n",
       "21510        женат / замужем                 0      F   сотрудник     0   \n",
       "\n",
       "       total_income                           purpose  \n",
       "21415           NaN                 операции с жильем  \n",
       "21423           NaN              сделка с автомобилем  \n",
       "21426           NaN                      недвижимость  \n",
       "21432           NaN                 операции с жильем  \n",
       "21463           NaN             на проведение свадьбы  \n",
       "21489           NaN              сделка с автомобилем  \n",
       "21495           NaN                           свадьба  \n",
       "21497           NaN        строительство недвижимости  \n",
       "21502           NaN  строительство жилой недвижимости  \n",
       "21510           NaN           приобретение автомобиля  "
      ]
     },
     "execution_count": 23,
     "metadata": {},
     "output_type": "execute_result"
    }
   ],
   "source": [
    "#посмотрим на строки с пропущенными значениями в столбце days_employed\n",
    "\n",
    "empty_days_employed = df[df['days_employed'].isna()]\n",
    "empty_days_employed.tail(10)"
   ]
  },
  {
   "cell_type": "code",
   "execution_count": 24,
   "id": "c51a1f7a",
   "metadata": {
    "scrolled": true
   },
   "outputs": [
    {
     "data": {
      "text/plain": [
       "children               0\n",
       "days_employed       2164\n",
       "dob_years              0\n",
       "education              0\n",
       "education_id           0\n",
       "family_status          0\n",
       "family_status_id       0\n",
       "gender                 0\n",
       "income_type            0\n",
       "debt                   0\n",
       "total_income        2164\n",
       "purpose                0\n",
       "dtype: int64"
      ]
     },
     "execution_count": 24,
     "metadata": {},
     "output_type": "execute_result"
    }
   ],
   "source": [
    "# проверим, верна ли гипотеза про соответствие пустых строк days_employed и total_income\n",
    "\n",
    "empty_days_employed.isna().sum()"
   ]
  },
  {
   "cell_type": "code",
   "execution_count": 25,
   "id": "06551d25",
   "metadata": {},
   "outputs": [
    {
     "data": {
      "text/plain": [
       "0.1"
      ]
     },
     "execution_count": 25,
     "metadata": {},
     "output_type": "execute_result"
    }
   ],
   "source": [
    "#доля пропущенных строк к общему количеству строк в столбце\n",
    "\n",
    "round(df['days_employed'].isna().value_counts()[1] / df.shape[0], 2)"
   ]
  },
  {
   "cell_type": "markdown",
   "id": "13f6526c",
   "metadata": {},
   "source": [
    "<font color='orange'><b>🙊 Наблюдения 0.7</b></font>\n",
    "\n",
    "1) пустые строки и правда совпадают в двух столбцах. А значит и доля пропущенных значений будут одинаковая для двух столбцов.  \n",
    "2) так как данных нет в столбце стаж и доход, можно предположить, что данных и правда нет, так как если нет работы - нет дохода. \n",
    "\n",
    "<b>Чтобы выдвинуть другие теории, изучим эти данные с пропусками.</b>"
   ]
  },
  {
   "cell_type": "code",
   "execution_count": 26,
   "id": "031fc18b",
   "metadata": {
    "scrolled": true
   },
   "outputs": [
    {
     "data": {
      "text/plain": [
       "среднее                1533\n",
       "высшее                  541\n",
       "неоконченное высшее      69\n",
       "начальное                21\n",
       "Name: education, dtype: int64"
      ]
     },
     "execution_count": 26,
     "metadata": {},
     "output_type": "execute_result"
    }
   ],
   "source": [
    "empty_days_employed['education'].str.lower().value_counts()"
   ]
  },
  {
   "cell_type": "code",
   "execution_count": 27,
   "id": "5b351e1f",
   "metadata": {
    "scrolled": true
   },
   "outputs": [
    {
     "data": {
      "text/plain": [
       "F    1476\n",
       "M     688\n",
       "Name: gender, dtype: int64"
      ]
     },
     "execution_count": 27,
     "metadata": {},
     "output_type": "execute_result"
    }
   ],
   "source": [
    "empty_days_employed['gender'].value_counts()"
   ]
  },
  {
   "cell_type": "code",
   "execution_count": 28,
   "id": "c4f0d582",
   "metadata": {
    "scrolled": true
   },
   "outputs": [
    {
     "data": {
      "text/plain": [
       "0.0    1440\n",
       "Name: children, dtype: int64"
      ]
     },
     "execution_count": 28,
     "metadata": {},
     "output_type": "execute_result"
    }
   ],
   "source": [
    "empty_days_employed['children'].value_counts().head(1)"
   ]
  },
  {
   "cell_type": "code",
   "execution_count": 29,
   "id": "38635584",
   "metadata": {
    "scrolled": true
   },
   "outputs": [
    {
     "data": {
      "text/plain": [
       "'женат / замужем'"
      ]
     },
     "execution_count": 29,
     "metadata": {},
     "output_type": "execute_result"
    }
   ],
   "source": [
    "empty_days_employed['family_status'].str.lower().value_counts().index[0]"
   ]
  },
  {
   "cell_type": "code",
   "execution_count": 30,
   "id": "ec865e52",
   "metadata": {
    "scrolled": true
   },
   "outputs": [
    {
     "data": {
      "text/plain": [
       "0    1994\n",
       "1     170\n",
       "Name: debt, dtype: int64"
      ]
     },
     "execution_count": 30,
     "metadata": {},
     "output_type": "execute_result"
    }
   ],
   "source": [
    "empty_days_employed['debt'].value_counts()"
   ]
  },
  {
   "cell_type": "markdown",
   "id": "f63441c1",
   "metadata": {},
   "source": [
    "<font color='orange'><b>🙊 Наблюдения 0.8</b></font>\n",
    "\n",
    "Можно предположить, что стандартный портрет человека с пропущенными данными - женщина, замужем, без высшего образования, без детей и без проблем с долгами перед банком.  \n",
    "Соотвественно, маловероятно, что она зарабатывает сама.  \n",
    "Так что, я буду придерживаться своей теории.\n",
    "\n",
    "Возможно, что данные были сокрыты сознательно или все же ошибка человека.  \n",
    "\n",
    "Так же велика вероятность, что программа сама автоматически ставит NaN в total_income если days_employed вбито как NaN."
   ]
  },
  {
   "cell_type": "code",
   "execution_count": 31,
   "id": "6268e4bb",
   "metadata": {
    "scrolled": true
   },
   "outputs": [
    {
     "data": {
      "text/html": [
       "<div>\n",
       "<style scoped>\n",
       "    .dataframe tbody tr th:only-of-type {\n",
       "        vertical-align: middle;\n",
       "    }\n",
       "\n",
       "    .dataframe tbody tr th {\n",
       "        vertical-align: top;\n",
       "    }\n",
       "\n",
       "    .dataframe thead th {\n",
       "        text-align: right;\n",
       "    }\n",
       "</style>\n",
       "<table border=\"1\" class=\"dataframe\">\n",
       "  <thead>\n",
       "    <tr style=\"text-align: right;\">\n",
       "      <th></th>\n",
       "      <th>children</th>\n",
       "      <th>days_employed</th>\n",
       "      <th>dob_years</th>\n",
       "      <th>education_id</th>\n",
       "      <th>family_status_id</th>\n",
       "      <th>debt</th>\n",
       "      <th>total_income</th>\n",
       "    </tr>\n",
       "  </thead>\n",
       "  <tbody>\n",
       "    <tr>\n",
       "      <th>count</th>\n",
       "      <td>2164.000000</td>\n",
       "      <td>0.0</td>\n",
       "      <td>2164.000000</td>\n",
       "      <td>2164.000000</td>\n",
       "      <td>2164.000000</td>\n",
       "      <td>2164.000000</td>\n",
       "      <td>0.0</td>\n",
       "    </tr>\n",
       "    <tr>\n",
       "      <th>mean</th>\n",
       "      <td>0.472736</td>\n",
       "      <td>NaN</td>\n",
       "      <td>43.833641</td>\n",
       "      <td>0.801294</td>\n",
       "      <td>0.974122</td>\n",
       "      <td>0.078558</td>\n",
       "      <td>NaN</td>\n",
       "    </tr>\n",
       "    <tr>\n",
       "      <th>std</th>\n",
       "      <td>0.763654</td>\n",
       "      <td>NaN</td>\n",
       "      <td>12.203357</td>\n",
       "      <td>0.530423</td>\n",
       "      <td>1.418547</td>\n",
       "      <td>0.269110</td>\n",
       "      <td>NaN</td>\n",
       "    </tr>\n",
       "    <tr>\n",
       "      <th>min</th>\n",
       "      <td>0.000000</td>\n",
       "      <td>NaN</td>\n",
       "      <td>19.000000</td>\n",
       "      <td>0.000000</td>\n",
       "      <td>0.000000</td>\n",
       "      <td>0.000000</td>\n",
       "      <td>NaN</td>\n",
       "    </tr>\n",
       "    <tr>\n",
       "      <th>25%</th>\n",
       "      <td>0.000000</td>\n",
       "      <td>NaN</td>\n",
       "      <td>34.000000</td>\n",
       "      <td>0.750000</td>\n",
       "      <td>0.000000</td>\n",
       "      <td>0.000000</td>\n",
       "      <td>NaN</td>\n",
       "    </tr>\n",
       "    <tr>\n",
       "      <th>50%</th>\n",
       "      <td>0.000000</td>\n",
       "      <td>NaN</td>\n",
       "      <td>43.000000</td>\n",
       "      <td>1.000000</td>\n",
       "      <td>0.000000</td>\n",
       "      <td>0.000000</td>\n",
       "      <td>NaN</td>\n",
       "    </tr>\n",
       "    <tr>\n",
       "      <th>75%</th>\n",
       "      <td>1.000000</td>\n",
       "      <td>NaN</td>\n",
       "      <td>54.000000</td>\n",
       "      <td>1.000000</td>\n",
       "      <td>1.000000</td>\n",
       "      <td>0.000000</td>\n",
       "      <td>NaN</td>\n",
       "    </tr>\n",
       "    <tr>\n",
       "      <th>max</th>\n",
       "      <td>5.000000</td>\n",
       "      <td>NaN</td>\n",
       "      <td>73.000000</td>\n",
       "      <td>3.000000</td>\n",
       "      <td>4.000000</td>\n",
       "      <td>1.000000</td>\n",
       "      <td>NaN</td>\n",
       "    </tr>\n",
       "  </tbody>\n",
       "</table>\n",
       "</div>"
      ],
      "text/plain": [
       "          children  days_employed    dob_years  education_id  \\\n",
       "count  2164.000000            0.0  2164.000000   2164.000000   \n",
       "mean      0.472736            NaN    43.833641      0.801294   \n",
       "std       0.763654            NaN    12.203357      0.530423   \n",
       "min       0.000000            NaN    19.000000      0.000000   \n",
       "25%       0.000000            NaN    34.000000      0.750000   \n",
       "50%       0.000000            NaN    43.000000      1.000000   \n",
       "75%       1.000000            NaN    54.000000      1.000000   \n",
       "max       5.000000            NaN    73.000000      3.000000   \n",
       "\n",
       "       family_status_id         debt  total_income  \n",
       "count       2164.000000  2164.000000           0.0  \n",
       "mean           0.974122     0.078558           NaN  \n",
       "std            1.418547     0.269110           NaN  \n",
       "min            0.000000     0.000000           NaN  \n",
       "25%            0.000000     0.000000           NaN  \n",
       "50%            0.000000     0.000000           NaN  \n",
       "75%            1.000000     0.000000           NaN  \n",
       "max            4.000000     1.000000           NaN  "
      ]
     },
     "execution_count": 31,
     "metadata": {},
     "output_type": "execute_result"
    }
   ],
   "source": [
    "# сравним df с данными со всей таблицы\n",
    "\n",
    "empty_days_employed.describe()"
   ]
  },
  {
   "cell_type": "code",
   "execution_count": 32,
   "id": "c7a14431",
   "metadata": {
    "scrolled": true
   },
   "outputs": [
    {
     "data": {
      "text/html": [
       "<div>\n",
       "<style scoped>\n",
       "    .dataframe tbody tr th:only-of-type {\n",
       "        vertical-align: middle;\n",
       "    }\n",
       "\n",
       "    .dataframe tbody tr th {\n",
       "        vertical-align: top;\n",
       "    }\n",
       "\n",
       "    .dataframe thead th {\n",
       "        text-align: right;\n",
       "    }\n",
       "</style>\n",
       "<table border=\"1\" class=\"dataframe\">\n",
       "  <thead>\n",
       "    <tr style=\"text-align: right;\">\n",
       "      <th></th>\n",
       "      <th>children</th>\n",
       "      <th>days_employed</th>\n",
       "      <th>dob_years</th>\n",
       "      <th>education_id</th>\n",
       "      <th>family_status_id</th>\n",
       "      <th>debt</th>\n",
       "      <th>total_income</th>\n",
       "    </tr>\n",
       "  </thead>\n",
       "  <tbody>\n",
       "    <tr>\n",
       "      <th>count</th>\n",
       "      <td>21424.000000</td>\n",
       "      <td>19260.000000</td>\n",
       "      <td>21424.000000</td>\n",
       "      <td>21424.000000</td>\n",
       "      <td>21424.000000</td>\n",
       "      <td>21424.000000</td>\n",
       "      <td>1.926000e+04</td>\n",
       "    </tr>\n",
       "    <tr>\n",
       "      <th>mean</th>\n",
       "      <td>0.472647</td>\n",
       "      <td>4598.352212</td>\n",
       "      <td>43.497479</td>\n",
       "      <td>0.817914</td>\n",
       "      <td>0.971294</td>\n",
       "      <td>0.080891</td>\n",
       "      <td>1.674652e+05</td>\n",
       "    </tr>\n",
       "    <tr>\n",
       "      <th>std</th>\n",
       "      <td>0.750421</td>\n",
       "      <td>5257.102554</td>\n",
       "      <td>12.246934</td>\n",
       "      <td>0.548224</td>\n",
       "      <td>1.419737</td>\n",
       "      <td>0.272673</td>\n",
       "      <td>1.030873e+05</td>\n",
       "    </tr>\n",
       "    <tr>\n",
       "      <th>min</th>\n",
       "      <td>0.000000</td>\n",
       "      <td>24.141633</td>\n",
       "      <td>19.000000</td>\n",
       "      <td>0.000000</td>\n",
       "      <td>0.000000</td>\n",
       "      <td>0.000000</td>\n",
       "      <td>2.066726e+04</td>\n",
       "    </tr>\n",
       "    <tr>\n",
       "      <th>25%</th>\n",
       "      <td>0.000000</td>\n",
       "      <td>926.851509</td>\n",
       "      <td>33.000000</td>\n",
       "      <td>1.000000</td>\n",
       "      <td>0.000000</td>\n",
       "      <td>0.000000</td>\n",
       "      <td>1.030930e+05</td>\n",
       "    </tr>\n",
       "    <tr>\n",
       "      <th>50%</th>\n",
       "      <td>0.000000</td>\n",
       "      <td>2197.359790</td>\n",
       "      <td>43.000000</td>\n",
       "      <td>1.000000</td>\n",
       "      <td>0.000000</td>\n",
       "      <td>0.000000</td>\n",
       "      <td>1.450117e+05</td>\n",
       "    </tr>\n",
       "    <tr>\n",
       "      <th>75%</th>\n",
       "      <td>1.000000</td>\n",
       "      <td>5539.681747</td>\n",
       "      <td>53.000000</td>\n",
       "      <td>1.000000</td>\n",
       "      <td>1.000000</td>\n",
       "      <td>0.000000</td>\n",
       "      <td>2.033700e+05</td>\n",
       "    </tr>\n",
       "    <tr>\n",
       "      <th>max</th>\n",
       "      <td>5.000000</td>\n",
       "      <td>18388.949901</td>\n",
       "      <td>75.000000</td>\n",
       "      <td>4.000000</td>\n",
       "      <td>4.000000</td>\n",
       "      <td>1.000000</td>\n",
       "      <td>2.265604e+06</td>\n",
       "    </tr>\n",
       "  </tbody>\n",
       "</table>\n",
       "</div>"
      ],
      "text/plain": [
       "           children  days_employed     dob_years  education_id  \\\n",
       "count  21424.000000   19260.000000  21424.000000  21424.000000   \n",
       "mean       0.472647    4598.352212     43.497479      0.817914   \n",
       "std        0.750421    5257.102554     12.246934      0.548224   \n",
       "min        0.000000      24.141633     19.000000      0.000000   \n",
       "25%        0.000000     926.851509     33.000000      1.000000   \n",
       "50%        0.000000    2197.359790     43.000000      1.000000   \n",
       "75%        1.000000    5539.681747     53.000000      1.000000   \n",
       "max        5.000000   18388.949901     75.000000      4.000000   \n",
       "\n",
       "       family_status_id          debt  total_income  \n",
       "count      21424.000000  21424.000000  1.926000e+04  \n",
       "mean           0.971294      0.080891  1.674652e+05  \n",
       "std            1.419737      0.272673  1.030873e+05  \n",
       "min            0.000000      0.000000  2.066726e+04  \n",
       "25%            0.000000      0.000000  1.030930e+05  \n",
       "50%            0.000000      0.000000  1.450117e+05  \n",
       "75%            1.000000      0.000000  2.033700e+05  \n",
       "max            4.000000      1.000000  2.265604e+06  "
      ]
     },
     "execution_count": 32,
     "metadata": {},
     "output_type": "execute_result"
    }
   ],
   "source": [
    "# данные со всей таблицы\n",
    "\n",
    "df.describe()"
   ]
  },
  {
   "cell_type": "markdown",
   "id": "ade68e8e",
   "metadata": {},
   "source": [
    "<font color='orange'><b>🙊 Наблюдения 0.9</b></font>\n",
    "\n",
    "1) Если посмотреть на mean(среднее) и std(стандартное отклонение), мы видим, что они почти одинаковые для двух DataFramов. Значит выборка дает нам такое же представление о данных, как и весь фал df целиком. Но, для более точного анализа в df гораздо больше данных, что нам полезнее.  \n",
    "2) Среднее значение очень чувствительно к выбросам. Так же, чем ближе стандартное отклонение к нулю, тем точнее определено среднее. Мы можем увидеть, что стандартное отклонение почти у всех столбцов больше, чем среднее. В этих случаях среднее не актуально, лучше ориентроваться на медиану."
   ]
  },
  {
   "cell_type": "code",
   "execution_count": 33,
   "id": "1ff84dd7",
   "metadata": {},
   "outputs": [
    {
     "data": {
      "text/plain": [
       "children            0\n",
       "days_employed       0\n",
       "dob_years           0\n",
       "education           0\n",
       "education_id        0\n",
       "family_status       0\n",
       "family_status_id    0\n",
       "gender              0\n",
       "income_type         0\n",
       "debt                0\n",
       "total_income        0\n",
       "purpose             0\n",
       "dtype: int64"
      ]
     },
     "execution_count": 33,
     "metadata": {},
     "output_type": "execute_result"
    }
   ],
   "source": [
    "#заполняем медианным значением столбцы и проверяем сколько пустых значений осталось\n",
    "\n",
    "df['days_employed'] = df['days_employed'].fillna(df['days_employed'].median())\n",
    "df['total_income'] = df['total_income'].fillna(df['total_income'].median())\n",
    "\n",
    "df.isna().sum()"
   ]
  },
  {
   "cell_type": "code",
   "execution_count": 34,
   "id": "7900f251",
   "metadata": {},
   "outputs": [
    {
     "data": {
      "text/html": [
       "<div>\n",
       "<style scoped>\n",
       "    .dataframe tbody tr th:only-of-type {\n",
       "        vertical-align: middle;\n",
       "    }\n",
       "\n",
       "    .dataframe tbody tr th {\n",
       "        vertical-align: top;\n",
       "    }\n",
       "\n",
       "    .dataframe thead th {\n",
       "        text-align: right;\n",
       "    }\n",
       "</style>\n",
       "<table border=\"1\" class=\"dataframe\">\n",
       "  <thead>\n",
       "    <tr style=\"text-align: right;\">\n",
       "      <th></th>\n",
       "      <th>children</th>\n",
       "      <th>days_employed</th>\n",
       "      <th>dob_years</th>\n",
       "      <th>education_id</th>\n",
       "      <th>family_status_id</th>\n",
       "      <th>debt</th>\n",
       "      <th>total_income</th>\n",
       "    </tr>\n",
       "  </thead>\n",
       "  <tbody>\n",
       "    <tr>\n",
       "      <th>count</th>\n",
       "      <td>21424.000000</td>\n",
       "      <td>21424.000000</td>\n",
       "      <td>21424.000000</td>\n",
       "      <td>21424.000000</td>\n",
       "      <td>21424.000000</td>\n",
       "      <td>21424.000000</td>\n",
       "      <td>2.142400e+04</td>\n",
       "    </tr>\n",
       "    <tr>\n",
       "      <th>mean</th>\n",
       "      <td>0.472647</td>\n",
       "      <td>4355.832253</td>\n",
       "      <td>43.497479</td>\n",
       "      <td>0.817914</td>\n",
       "      <td>0.971294</td>\n",
       "      <td>0.080891</td>\n",
       "      <td>1.651972e+05</td>\n",
       "    </tr>\n",
       "    <tr>\n",
       "      <th>std</th>\n",
       "      <td>0.750421</td>\n",
       "      <td>5036.756610</td>\n",
       "      <td>12.246934</td>\n",
       "      <td>0.548224</td>\n",
       "      <td>1.419737</td>\n",
       "      <td>0.272673</td>\n",
       "      <td>9.797610e+04</td>\n",
       "    </tr>\n",
       "    <tr>\n",
       "      <th>min</th>\n",
       "      <td>0.000000</td>\n",
       "      <td>24.141633</td>\n",
       "      <td>19.000000</td>\n",
       "      <td>0.000000</td>\n",
       "      <td>0.000000</td>\n",
       "      <td>0.000000</td>\n",
       "      <td>2.066726e+04</td>\n",
       "    </tr>\n",
       "    <tr>\n",
       "      <th>25%</th>\n",
       "      <td>0.000000</td>\n",
       "      <td>1025.650954</td>\n",
       "      <td>33.000000</td>\n",
       "      <td>1.000000</td>\n",
       "      <td>0.000000</td>\n",
       "      <td>0.000000</td>\n",
       "      <td>1.078249e+05</td>\n",
       "    </tr>\n",
       "    <tr>\n",
       "      <th>50%</th>\n",
       "      <td>0.000000</td>\n",
       "      <td>2197.359790</td>\n",
       "      <td>43.000000</td>\n",
       "      <td>1.000000</td>\n",
       "      <td>0.000000</td>\n",
       "      <td>0.000000</td>\n",
       "      <td>1.450117e+05</td>\n",
       "    </tr>\n",
       "    <tr>\n",
       "      <th>75%</th>\n",
       "      <td>1.000000</td>\n",
       "      <td>4779.464934</td>\n",
       "      <td>53.000000</td>\n",
       "      <td>1.000000</td>\n",
       "      <td>1.000000</td>\n",
       "      <td>0.000000</td>\n",
       "      <td>1.955086e+05</td>\n",
       "    </tr>\n",
       "    <tr>\n",
       "      <th>max</th>\n",
       "      <td>5.000000</td>\n",
       "      <td>18388.949901</td>\n",
       "      <td>75.000000</td>\n",
       "      <td>4.000000</td>\n",
       "      <td>4.000000</td>\n",
       "      <td>1.000000</td>\n",
       "      <td>2.265604e+06</td>\n",
       "    </tr>\n",
       "  </tbody>\n",
       "</table>\n",
       "</div>"
      ],
      "text/plain": [
       "           children  days_employed     dob_years  education_id  \\\n",
       "count  21424.000000   21424.000000  21424.000000  21424.000000   \n",
       "mean       0.472647    4355.832253     43.497479      0.817914   \n",
       "std        0.750421    5036.756610     12.246934      0.548224   \n",
       "min        0.000000      24.141633     19.000000      0.000000   \n",
       "25%        0.000000    1025.650954     33.000000      1.000000   \n",
       "50%        0.000000    2197.359790     43.000000      1.000000   \n",
       "75%        1.000000    4779.464934     53.000000      1.000000   \n",
       "max        5.000000   18388.949901     75.000000      4.000000   \n",
       "\n",
       "       family_status_id          debt  total_income  \n",
       "count      21424.000000  21424.000000  2.142400e+04  \n",
       "mean           0.971294      0.080891  1.651972e+05  \n",
       "std            1.419737      0.272673  9.797610e+04  \n",
       "min            0.000000      0.000000  2.066726e+04  \n",
       "25%            0.000000      0.000000  1.078249e+05  \n",
       "50%            0.000000      0.000000  1.450117e+05  \n",
       "75%            1.000000      0.000000  1.955086e+05  \n",
       "max            4.000000      1.000000  2.265604e+06  "
      ]
     },
     "execution_count": 34,
     "metadata": {},
     "output_type": "execute_result"
    }
   ],
   "source": [
    "df.describe()"
   ]
  },
  {
   "cell_type": "markdown",
   "id": "0eec4374",
   "metadata": {},
   "source": [
    "<b>----------------------------------------------------------------------------------------------------------------------------------------------------------------------------------------------------------------</b>"
   ]
  },
  {
   "cell_type": "markdown",
   "id": "0f9ee5be",
   "metadata": {},
   "source": [
    "### Шаг 2.3. Изменение типов данных."
   ]
  },
  {
   "cell_type": "markdown",
   "id": "1a38ac12",
   "metadata": {},
   "source": [
    "Замените вещественный тип данных в столбце total_income на целочисленный, например, с помощью метода astype()."
   ]
  },
  {
   "cell_type": "code",
   "execution_count": 35,
   "id": "6f683159",
   "metadata": {},
   "outputs": [
    {
     "data": {
      "text/plain": [
       "children            float64\n",
       "days_employed         int64\n",
       "dob_years             int64\n",
       "education            object\n",
       "education_id          int64\n",
       "family_status        object\n",
       "family_status_id      int64\n",
       "gender               object\n",
       "income_type          object\n",
       "debt                  int64\n",
       "total_income          int64\n",
       "purpose              object\n",
       "dtype: object"
      ]
     },
     "execution_count": 35,
     "metadata": {},
     "output_type": "execute_result"
    }
   ],
   "source": [
    "# Заменим так же и значения в стаже, так как измеряется в целых днях\n",
    "\n",
    "df['total_income'] = df['total_income'].astype('int')\n",
    "df['days_employed'] = df['days_employed'].astype('int')\n",
    "\n",
    "df.dtypes"
   ]
  },
  {
   "cell_type": "code",
   "execution_count": 36,
   "id": "6b963168",
   "metadata": {},
   "outputs": [
    {
     "data": {
      "text/html": [
       "<div>\n",
       "<style scoped>\n",
       "    .dataframe tbody tr th:only-of-type {\n",
       "        vertical-align: middle;\n",
       "    }\n",
       "\n",
       "    .dataframe tbody tr th {\n",
       "        vertical-align: top;\n",
       "    }\n",
       "\n",
       "    .dataframe thead th {\n",
       "        text-align: right;\n",
       "    }\n",
       "</style>\n",
       "<table border=\"1\" class=\"dataframe\">\n",
       "  <thead>\n",
       "    <tr style=\"text-align: right;\">\n",
       "      <th></th>\n",
       "      <th>children</th>\n",
       "      <th>days_employed</th>\n",
       "      <th>dob_years</th>\n",
       "      <th>education</th>\n",
       "      <th>education_id</th>\n",
       "      <th>family_status</th>\n",
       "      <th>family_status_id</th>\n",
       "      <th>gender</th>\n",
       "      <th>income_type</th>\n",
       "      <th>debt</th>\n",
       "      <th>total_income</th>\n",
       "      <th>purpose</th>\n",
       "    </tr>\n",
       "  </thead>\n",
       "  <tbody>\n",
       "    <tr>\n",
       "      <th>0</th>\n",
       "      <td>1.0</td>\n",
       "      <td>8437</td>\n",
       "      <td>42</td>\n",
       "      <td>высшее</td>\n",
       "      <td>0</td>\n",
       "      <td>женат / замужем</td>\n",
       "      <td>0</td>\n",
       "      <td>F</td>\n",
       "      <td>сотрудник</td>\n",
       "      <td>0</td>\n",
       "      <td>253875</td>\n",
       "      <td>покупка жилья</td>\n",
       "    </tr>\n",
       "    <tr>\n",
       "      <th>1</th>\n",
       "      <td>1.0</td>\n",
       "      <td>4024</td>\n",
       "      <td>36</td>\n",
       "      <td>среднее</td>\n",
       "      <td>1</td>\n",
       "      <td>женат / замужем</td>\n",
       "      <td>0</td>\n",
       "      <td>F</td>\n",
       "      <td>сотрудник</td>\n",
       "      <td>0</td>\n",
       "      <td>112080</td>\n",
       "      <td>приобретение автомобиля</td>\n",
       "    </tr>\n",
       "    <tr>\n",
       "      <th>2</th>\n",
       "      <td>0.0</td>\n",
       "      <td>5623</td>\n",
       "      <td>33</td>\n",
       "      <td>Среднее</td>\n",
       "      <td>1</td>\n",
       "      <td>женат / замужем</td>\n",
       "      <td>0</td>\n",
       "      <td>M</td>\n",
       "      <td>сотрудник</td>\n",
       "      <td>0</td>\n",
       "      <td>145885</td>\n",
       "      <td>покупка жилья</td>\n",
       "    </tr>\n",
       "  </tbody>\n",
       "</table>\n",
       "</div>"
      ],
      "text/plain": [
       "   children  days_employed  dob_years education  education_id  \\\n",
       "0       1.0           8437         42    высшее             0   \n",
       "1       1.0           4024         36   среднее             1   \n",
       "2       0.0           5623         33   Среднее             1   \n",
       "\n",
       "     family_status  family_status_id gender income_type  debt  total_income  \\\n",
       "0  женат / замужем                 0      F   сотрудник     0        253875   \n",
       "1  женат / замужем                 0      F   сотрудник     0        112080   \n",
       "2  женат / замужем                 0      M   сотрудник     0        145885   \n",
       "\n",
       "                   purpose  \n",
       "0            покупка жилья  \n",
       "1  приобретение автомобиля  \n",
       "2            покупка жилья  "
      ]
     },
     "execution_count": 36,
     "metadata": {},
     "output_type": "execute_result"
    }
   ],
   "source": [
    "df.head(3)"
   ]
  },
  {
   "cell_type": "markdown",
   "id": "4b4014e9",
   "metadata": {},
   "source": [
    "<b>----------------------------------------------------------------------------------------------------------------------------------------------------------------------------------------------------------------</b>"
   ]
  },
  {
   "cell_type": "markdown",
   "id": "34382fdc",
   "metadata": {},
   "source": [
    "### Шаг 2.4. Удаление дубликатов."
   ]
  },
  {
   "cell_type": "markdown",
   "id": "88770a25",
   "metadata": {},
   "source": [
    "Если в данных присутствуют строки-дубликаты, удалите их.   \n",
    "Также обработайте неявные дубликаты. Например, в столбце education есть одни и те же значения, но записанные по-разному:   \n",
    "с использованием заглавных и строчных букв.  \n",
    "Приведите их к одному регистру.   \n",
    "Проверьте остальные столбцы.  \n",
    "После удаления дубликатов сделайте следующее:\n",
    "поясните, как выбирали метод для поиска и удаления дубликатов в данных;  \n",
    "приведите возможные причины появления дубликатов.  "
   ]
  },
  {
   "cell_type": "code",
   "execution_count": 37,
   "id": "9f63c01f",
   "metadata": {},
   "outputs": [],
   "source": [
    "# приводим все значения в нижний регистр для посика дубликатов\n",
    "\n",
    "df['education'] = df['education'].str.lower()\n",
    "df['family_status'] = df['family_status'].str.lower()\n",
    "df['income_type'] = df['income_type'].str.lower()\n",
    "df['purpose'] = df['purpose'].str.lower()"
   ]
  },
  {
   "cell_type": "code",
   "execution_count": 38,
   "id": "cdc26a97",
   "metadata": {},
   "outputs": [
    {
     "data": {
      "text/html": [
       "<div>\n",
       "<style scoped>\n",
       "    .dataframe tbody tr th:only-of-type {\n",
       "        vertical-align: middle;\n",
       "    }\n",
       "\n",
       "    .dataframe tbody tr th {\n",
       "        vertical-align: top;\n",
       "    }\n",
       "\n",
       "    .dataframe thead th {\n",
       "        text-align: right;\n",
       "    }\n",
       "</style>\n",
       "<table border=\"1\" class=\"dataframe\">\n",
       "  <thead>\n",
       "    <tr style=\"text-align: right;\">\n",
       "      <th></th>\n",
       "      <th>children</th>\n",
       "      <th>days_employed</th>\n",
       "      <th>dob_years</th>\n",
       "      <th>education</th>\n",
       "      <th>education_id</th>\n",
       "      <th>family_status</th>\n",
       "      <th>family_status_id</th>\n",
       "      <th>gender</th>\n",
       "      <th>income_type</th>\n",
       "      <th>debt</th>\n",
       "      <th>total_income</th>\n",
       "      <th>purpose</th>\n",
       "    </tr>\n",
       "  </thead>\n",
       "  <tbody>\n",
       "    <tr>\n",
       "      <th>2849</th>\n",
       "      <td>0.0</td>\n",
       "      <td>2197</td>\n",
       "      <td>41</td>\n",
       "      <td>среднее</td>\n",
       "      <td>1</td>\n",
       "      <td>женат / замужем</td>\n",
       "      <td>0</td>\n",
       "      <td>F</td>\n",
       "      <td>сотрудник</td>\n",
       "      <td>0</td>\n",
       "      <td>145011</td>\n",
       "      <td>покупка жилья для семьи</td>\n",
       "    </tr>\n",
       "    <tr>\n",
       "      <th>3290</th>\n",
       "      <td>0.0</td>\n",
       "      <td>2197</td>\n",
       "      <td>58</td>\n",
       "      <td>среднее</td>\n",
       "      <td>1</td>\n",
       "      <td>гражданский брак</td>\n",
       "      <td>1</td>\n",
       "      <td>F</td>\n",
       "      <td>пенсионер</td>\n",
       "      <td>0</td>\n",
       "      <td>145011</td>\n",
       "      <td>сыграть свадьбу</td>\n",
       "    </tr>\n",
       "    <tr>\n",
       "      <th>4182</th>\n",
       "      <td>1.0</td>\n",
       "      <td>2197</td>\n",
       "      <td>34</td>\n",
       "      <td>высшее</td>\n",
       "      <td>0</td>\n",
       "      <td>гражданский брак</td>\n",
       "      <td>1</td>\n",
       "      <td>F</td>\n",
       "      <td>сотрудник</td>\n",
       "      <td>0</td>\n",
       "      <td>145011</td>\n",
       "      <td>свадьба</td>\n",
       "    </tr>\n",
       "  </tbody>\n",
       "</table>\n",
       "</div>"
      ],
      "text/plain": [
       "      children  days_employed  dob_years education  education_id  \\\n",
       "2849       0.0           2197         41   среднее             1   \n",
       "3290       0.0           2197         58   среднее             1   \n",
       "4182       1.0           2197         34    высшее             0   \n",
       "\n",
       "         family_status  family_status_id gender income_type  debt  \\\n",
       "2849   женат / замужем                 0      F   сотрудник     0   \n",
       "3290  гражданский брак                 1      F   пенсионер     0   \n",
       "4182  гражданский брак                 1      F   сотрудник     0   \n",
       "\n",
       "      total_income                  purpose  \n",
       "2849        145011  покупка жилья для семьи  \n",
       "3290        145011          сыграть свадьбу  \n",
       "4182        145011                  свадьба  "
      ]
     },
     "execution_count": 38,
     "metadata": {},
     "output_type": "execute_result"
    }
   ],
   "source": [
    "df[df.duplicated()].head(3)"
   ]
  },
  {
   "cell_type": "code",
   "execution_count": 39,
   "id": "4413d718",
   "metadata": {},
   "outputs": [
    {
     "name": "stdout",
     "output_type": "stream",
     "text": [
      "Количество дубликатов 71\n",
      "------\n",
      "<class 'pandas.core.frame.DataFrame'>\n",
      "RangeIndex: 21353 entries, 0 to 21352\n",
      "Data columns (total 12 columns):\n",
      " #   Column            Non-Null Count  Dtype  \n",
      "---  ------            --------------  -----  \n",
      " 0   children          21353 non-null  float64\n",
      " 1   days_employed     21353 non-null  int64  \n",
      " 2   dob_years         21353 non-null  int64  \n",
      " 3   education         21353 non-null  object \n",
      " 4   education_id      21353 non-null  int64  \n",
      " 5   family_status     21353 non-null  object \n",
      " 6   family_status_id  21353 non-null  int64  \n",
      " 7   gender            21353 non-null  object \n",
      " 8   income_type       21353 non-null  object \n",
      " 9   debt              21353 non-null  int64  \n",
      " 10  total_income      21353 non-null  int64  \n",
      " 11  purpose           21353 non-null  object \n",
      "dtypes: float64(1), int64(6), object(5)\n",
      "memory usage: 2.0+ MB\n"
     ]
    }
   ],
   "source": [
    "# удаляем дубликаты, удаляем пустые строки \n",
    "\n",
    "print(f'Количество дубликатов {df.duplicated().sum()}')\n",
    "print('------')\n",
    "df = df.drop_duplicates()\n",
    "df = df.dropna().reset_index(drop=True) \n",
    "df.info()"
   ]
  },
  {
   "cell_type": "code",
   "execution_count": 40,
   "id": "217052a0",
   "metadata": {},
   "outputs": [
    {
     "name": "stdout",
     "output_type": "stream",
     "text": [
      "['высшее' 'среднее' 'неоконченное высшее' 'начальное' 'ученая степень']\n",
      "['женат / замужем' 'гражданский брак' 'вдовец / вдова' 'в разводе'\n",
      " 'не женат / не замужем']\n",
      "['сотрудник' 'пенсионер' 'компаньон' 'госслужащий' 'безработный'\n",
      " 'предприниматель' 'студент' 'в декрете']\n",
      "['покупка жилья' 'приобретение автомобиля' 'дополнительное образование'\n",
      " 'сыграть свадьбу' 'операции с жильем' 'образование'\n",
      " 'на проведение свадьбы' 'покупка жилья для семьи' 'покупка недвижимости'\n",
      " 'покупка коммерческой недвижимости' 'покупка жилой недвижимости'\n",
      " 'строительство собственной недвижимости' 'недвижимость'\n",
      " 'строительство недвижимости' 'на покупку подержанного автомобиля'\n",
      " 'на покупку своего автомобиля' 'операции с коммерческой недвижимостью'\n",
      " 'строительство жилой недвижимости' 'жилье'\n",
      " 'операции со своей недвижимостью' 'автомобили' 'заняться образованием'\n",
      " 'сделка с подержанным автомобилем' 'получение образования' 'автомобиль'\n",
      " 'свадьба' 'получение дополнительного образования' 'покупка своего жилья'\n",
      " 'операции с недвижимостью' 'получение высшего образования'\n",
      " 'свой автомобиль' 'сделка с автомобилем' 'профильное образование'\n",
      " 'высшее образование' 'покупка жилья для сдачи' 'на покупку автомобиля'\n",
      " 'ремонт жилью' 'заняться высшим образованием']\n"
     ]
    }
   ],
   "source": [
    "# проверка данных на дубликаты\n",
    "\n",
    "print(df['education'].unique())\n",
    "print(df['family_status'].unique())\n",
    "print(df['income_type'].unique())\n",
    "print(df['purpose'].unique())"
   ]
  },
  {
   "cell_type": "markdown",
   "id": "a2f0a08d",
   "metadata": {},
   "source": [
    "<font color='orange'><b>🙊 Наблюдения 0.10</b></font>\n",
    "\n",
    "Дубликаты могли появится из-за опечаток, задваивания информации программой.  \n",
    "Методы использовала стандартные, как нас учили =)  \n",
    "Так же видно, что столбец 'purpose' имеет схожие данные, которые можно объеденить в большие группы.\n",
    "\n",
    "<font color='blue'><b>Необходимо разделить family_status и family_status_id, education и education_id, чтобы не было дублирования и наш DataFrame будет готов к анализу и разделению на категории.</b></font>"
   ]
  },
  {
   "attachments": {
    "Project_2.jpg": {
     "image/jpeg": "[encoded data removed]"
    }
   },
   "cell_type": "markdown",
   "id": "be2e257c",
   "metadata": {},
   "source": [
    "![Project_2.jpg](attachment:Project_2.jpg)"
   ]
  },
  {
   "cell_type": "markdown",
   "id": "773a4279",
   "metadata": {},
   "source": [
    "<b>----------------------------------------------------------------------------------------------------------------------------------------------------------------------------------------------------------------</b>"
   ]
  },
  {
   "cell_type": "markdown",
   "id": "80fa9813",
   "metadata": {},
   "source": [
    "### Шаг 2.5. Формирование дополнительных датафреймов словарей, декомпозиция исходного датафрейма."
   ]
  },
  {
   "cell_type": "markdown",
   "id": "f8ab0629",
   "metadata": {},
   "source": [
    "Создайте два новых датафрейма со столбцами:  \n",
    "education_id и education — в первом;  \n",
    "family_status_id и family_status — во втором.  \n",
    "Удалите из исходного датафрейма столбцы education и family_status, оставив только их идентификаторы: education_id и family_status_id.  \n",
    "Новые датафреймы — это те самые «словари» (не путайте с одноимённой структурой данных в Python), к которым вы сможете обращаться по идентификатору."
   ]
  },
  {
   "cell_type": "code",
   "execution_count": 41,
   "id": "d1f4e68b",
   "metadata": {},
   "outputs": [
    {
     "name": "stdout",
     "output_type": "stream",
     "text": [
      "   education_id education\n",
      "0             0    высшее\n",
      "1             1   среднее\n",
      "2             1   среднее\n",
      "*****\n",
      "   family_status_id    family_status\n",
      "0                 0  женат / замужем\n",
      "1                 0  женат / замужем\n",
      "2                 0  женат / замужем\n"
     ]
    }
   ],
   "source": [
    "# создаем две новые таблицы\n",
    "\n",
    "educat_id = df[['education_id', 'education']]\n",
    "family_id = df[['family_status_id', 'family_status']]\n",
    "\n",
    "print(educat_id.head(3))\n",
    "print('*****')\n",
    "print(family_id.head(3))"
   ]
  },
  {
   "cell_type": "code",
   "execution_count": 42,
   "id": "a1b20dae",
   "metadata": {},
   "outputs": [],
   "source": [
    "# удаляем дубликаты\n",
    "\n",
    "educat_id = educat_id.drop_duplicates()\n",
    "educat_id = educat_id.dropna().reset_index(drop=True) \n",
    "\n",
    "family_id = family_id.drop_duplicates()\n",
    "family_id = family_id.dropna().reset_index(drop=True) "
   ]
  },
  {
   "cell_type": "code",
   "execution_count": 43,
   "id": "9940208f",
   "metadata": {},
   "outputs": [
    {
     "data": {
      "text/html": [
       "<div>\n",
       "<style scoped>\n",
       "    .dataframe tbody tr th:only-of-type {\n",
       "        vertical-align: middle;\n",
       "    }\n",
       "\n",
       "    .dataframe tbody tr th {\n",
       "        vertical-align: top;\n",
       "    }\n",
       "\n",
       "    .dataframe thead th {\n",
       "        text-align: right;\n",
       "    }\n",
       "</style>\n",
       "<table border=\"1\" class=\"dataframe\">\n",
       "  <thead>\n",
       "    <tr style=\"text-align: right;\">\n",
       "      <th></th>\n",
       "      <th>education_id</th>\n",
       "      <th>education</th>\n",
       "    </tr>\n",
       "  </thead>\n",
       "  <tbody>\n",
       "    <tr>\n",
       "      <th>0</th>\n",
       "      <td>0</td>\n",
       "      <td>высшее</td>\n",
       "    </tr>\n",
       "    <tr>\n",
       "      <th>1</th>\n",
       "      <td>1</td>\n",
       "      <td>среднее</td>\n",
       "    </tr>\n",
       "    <tr>\n",
       "      <th>2</th>\n",
       "      <td>2</td>\n",
       "      <td>неоконченное высшее</td>\n",
       "    </tr>\n",
       "    <tr>\n",
       "      <th>3</th>\n",
       "      <td>3</td>\n",
       "      <td>начальное</td>\n",
       "    </tr>\n",
       "    <tr>\n",
       "      <th>4</th>\n",
       "      <td>4</td>\n",
       "      <td>ученая степень</td>\n",
       "    </tr>\n",
       "  </tbody>\n",
       "</table>\n",
       "</div>"
      ],
      "text/plain": [
       "   education_id            education\n",
       "0             0               высшее\n",
       "1             1              среднее\n",
       "2             2  неоконченное высшее\n",
       "3             3            начальное\n",
       "4             4       ученая степень"
      ]
     },
     "execution_count": 43,
     "metadata": {},
     "output_type": "execute_result"
    }
   ],
   "source": [
    "educat_id"
   ]
  },
  {
   "cell_type": "code",
   "execution_count": 44,
   "id": "165a2071",
   "metadata": {},
   "outputs": [
    {
     "data": {
      "text/html": [
       "<div>\n",
       "<style scoped>\n",
       "    .dataframe tbody tr th:only-of-type {\n",
       "        vertical-align: middle;\n",
       "    }\n",
       "\n",
       "    .dataframe tbody tr th {\n",
       "        vertical-align: top;\n",
       "    }\n",
       "\n",
       "    .dataframe thead th {\n",
       "        text-align: right;\n",
       "    }\n",
       "</style>\n",
       "<table border=\"1\" class=\"dataframe\">\n",
       "  <thead>\n",
       "    <tr style=\"text-align: right;\">\n",
       "      <th></th>\n",
       "      <th>family_status_id</th>\n",
       "      <th>family_status</th>\n",
       "    </tr>\n",
       "  </thead>\n",
       "  <tbody>\n",
       "    <tr>\n",
       "      <th>0</th>\n",
       "      <td>0</td>\n",
       "      <td>женат / замужем</td>\n",
       "    </tr>\n",
       "    <tr>\n",
       "      <th>1</th>\n",
       "      <td>1</td>\n",
       "      <td>гражданский брак</td>\n",
       "    </tr>\n",
       "    <tr>\n",
       "      <th>2</th>\n",
       "      <td>2</td>\n",
       "      <td>вдовец / вдова</td>\n",
       "    </tr>\n",
       "    <tr>\n",
       "      <th>3</th>\n",
       "      <td>3</td>\n",
       "      <td>в разводе</td>\n",
       "    </tr>\n",
       "    <tr>\n",
       "      <th>4</th>\n",
       "      <td>4</td>\n",
       "      <td>не женат / не замужем</td>\n",
       "    </tr>\n",
       "  </tbody>\n",
       "</table>\n",
       "</div>"
      ],
      "text/plain": [
       "   family_status_id          family_status\n",
       "0                 0        женат / замужем\n",
       "1                 1       гражданский брак\n",
       "2                 2         вдовец / вдова\n",
       "3                 3              в разводе\n",
       "4                 4  не женат / не замужем"
      ]
     },
     "execution_count": 44,
     "metadata": {},
     "output_type": "execute_result"
    }
   ],
   "source": [
    "family_id"
   ]
  },
  {
   "cell_type": "code",
   "execution_count": 45,
   "id": "1bb269d5",
   "metadata": {},
   "outputs": [
    {
     "name": "stdout",
     "output_type": "stream",
     "text": [
      "<class 'pandas.core.frame.DataFrame'>\n",
      "RangeIndex: 21353 entries, 0 to 21352\n",
      "Data columns (total 10 columns):\n",
      " #   Column            Non-Null Count  Dtype  \n",
      "---  ------            --------------  -----  \n",
      " 0   children          21353 non-null  float64\n",
      " 1   days_employed     21353 non-null  int64  \n",
      " 2   dob_years         21353 non-null  int64  \n",
      " 3   education_id      21353 non-null  int64  \n",
      " 4   family_status_id  21353 non-null  int64  \n",
      " 5   gender            21353 non-null  object \n",
      " 6   income_type       21353 non-null  object \n",
      " 7   debt              21353 non-null  int64  \n",
      " 8   total_income      21353 non-null  int64  \n",
      " 9   purpose           21353 non-null  object \n",
      "dtypes: float64(1), int64(6), object(3)\n",
      "memory usage: 1.6+ MB\n"
     ]
    }
   ],
   "source": [
    "# удаляем лишний столбцы из главной таблицы\n",
    "\n",
    "df = df.drop('education', 1) \n",
    "df = df.drop('family_status', 1) \n",
    "\n",
    "df.info()"
   ]
  },
  {
   "cell_type": "markdown",
   "id": "12c455ea",
   "metadata": {},
   "source": [
    "<font color='orange'><b>🙊 Наблюдения 0.11</b></font>\n",
    "\n",
    "Создали словари, выглядит красиво 🐼"
   ]
  },
  {
   "cell_type": "markdown",
   "id": "e7424a5a",
   "metadata": {},
   "source": [
    "<b>----------------------------------------------------------------------------------------------------------------------------------------------------------------------------------------------------------------</b>"
   ]
  },
  {
   "cell_type": "markdown",
   "id": "e6188e16",
   "metadata": {},
   "source": [
    "### Шаг 2.6. Категоризация дохода."
   ]
  },
  {
   "cell_type": "markdown",
   "id": "2b5e33fd",
   "metadata": {},
   "source": [
    "На основании диапазонов, указанных ниже, создайте столбец total_income_category с категориями:  \n",
    "0–30000 — 'E';  \n",
    "30001–50000 — 'D';  \n",
    "50001–200000 — 'C';  \n",
    "200001–1000000 — 'B';  \n",
    "1000001 и выше — 'A'.  \n",
    "Например, кредитополучателю с доходом 25000 нужно назначить категорию 'E', а клиенту, получающему 235000, — 'B'."
   ]
  },
  {
   "cell_type": "code",
   "execution_count": 46,
   "id": "80cfcb6d",
   "metadata": {},
   "outputs": [],
   "source": [
    "# создадим функцию, котоая присваивает категории\n",
    "\n",
    "def income_group(income):\n",
    "    if 0 <= income <= 30000:\n",
    "        return 'E'\n",
    "    if income in range(30001, 50001):\n",
    "        return 'D'\n",
    "    if income in range(50001, 200001):\n",
    "        return 'C'\n",
    "    if income in range(200001, 1000001):\n",
    "        return 'B'\n",
    "    else:\n",
    "        return 'A'"
   ]
  },
  {
   "cell_type": "code",
   "execution_count": 47,
   "id": "c7a0446f",
   "metadata": {},
   "outputs": [
    {
     "name": "stdout",
     "output_type": "stream",
     "text": [
      "E;D;D;C;C;B;B;A;"
     ]
    }
   ],
   "source": [
    "# check\n",
    "\n",
    "list = [5, 30001, 45000, 52000, 199000, 200005, 999999, 2000000]\n",
    "\n",
    "for i in list:\n",
    "    print(income_group(i), end=';')"
   ]
  },
  {
   "cell_type": "code",
   "execution_count": 48,
   "id": "8e0af239",
   "metadata": {},
   "outputs": [
    {
     "data": {
      "text/html": [
       "<div>\n",
       "<style scoped>\n",
       "    .dataframe tbody tr th:only-of-type {\n",
       "        vertical-align: middle;\n",
       "    }\n",
       "\n",
       "    .dataframe tbody tr th {\n",
       "        vertical-align: top;\n",
       "    }\n",
       "\n",
       "    .dataframe thead th {\n",
       "        text-align: right;\n",
       "    }\n",
       "</style>\n",
       "<table border=\"1\" class=\"dataframe\">\n",
       "  <thead>\n",
       "    <tr style=\"text-align: right;\">\n",
       "      <th></th>\n",
       "      <th>children</th>\n",
       "      <th>days_employed</th>\n",
       "      <th>dob_years</th>\n",
       "      <th>education_id</th>\n",
       "      <th>family_status_id</th>\n",
       "      <th>gender</th>\n",
       "      <th>income_type</th>\n",
       "      <th>debt</th>\n",
       "      <th>total_income</th>\n",
       "      <th>purpose</th>\n",
       "      <th>total_income_category</th>\n",
       "    </tr>\n",
       "  </thead>\n",
       "  <tbody>\n",
       "    <tr>\n",
       "      <th>0</th>\n",
       "      <td>1.0</td>\n",
       "      <td>8437</td>\n",
       "      <td>42</td>\n",
       "      <td>0</td>\n",
       "      <td>0</td>\n",
       "      <td>F</td>\n",
       "      <td>сотрудник</td>\n",
       "      <td>0</td>\n",
       "      <td>253875</td>\n",
       "      <td>покупка жилья</td>\n",
       "      <td>B</td>\n",
       "    </tr>\n",
       "    <tr>\n",
       "      <th>1</th>\n",
       "      <td>1.0</td>\n",
       "      <td>4024</td>\n",
       "      <td>36</td>\n",
       "      <td>1</td>\n",
       "      <td>0</td>\n",
       "      <td>F</td>\n",
       "      <td>сотрудник</td>\n",
       "      <td>0</td>\n",
       "      <td>112080</td>\n",
       "      <td>приобретение автомобиля</td>\n",
       "      <td>C</td>\n",
       "    </tr>\n",
       "    <tr>\n",
       "      <th>2</th>\n",
       "      <td>0.0</td>\n",
       "      <td>5623</td>\n",
       "      <td>33</td>\n",
       "      <td>1</td>\n",
       "      <td>0</td>\n",
       "      <td>M</td>\n",
       "      <td>сотрудник</td>\n",
       "      <td>0</td>\n",
       "      <td>145885</td>\n",
       "      <td>покупка жилья</td>\n",
       "      <td>C</td>\n",
       "    </tr>\n",
       "    <tr>\n",
       "      <th>3</th>\n",
       "      <td>3.0</td>\n",
       "      <td>4124</td>\n",
       "      <td>32</td>\n",
       "      <td>1</td>\n",
       "      <td>0</td>\n",
       "      <td>M</td>\n",
       "      <td>сотрудник</td>\n",
       "      <td>0</td>\n",
       "      <td>267628</td>\n",
       "      <td>дополнительное образование</td>\n",
       "      <td>B</td>\n",
       "    </tr>\n",
       "    <tr>\n",
       "      <th>4</th>\n",
       "      <td>0.0</td>\n",
       "      <td>14965</td>\n",
       "      <td>53</td>\n",
       "      <td>1</td>\n",
       "      <td>1</td>\n",
       "      <td>F</td>\n",
       "      <td>пенсионер</td>\n",
       "      <td>0</td>\n",
       "      <td>158616</td>\n",
       "      <td>сыграть свадьбу</td>\n",
       "      <td>C</td>\n",
       "    </tr>\n",
       "  </tbody>\n",
       "</table>\n",
       "</div>"
      ],
      "text/plain": [
       "   children  days_employed  dob_years  education_id  family_status_id gender  \\\n",
       "0       1.0           8437         42             0                 0      F   \n",
       "1       1.0           4024         36             1                 0      F   \n",
       "2       0.0           5623         33             1                 0      M   \n",
       "3       3.0           4124         32             1                 0      M   \n",
       "4       0.0          14965         53             1                 1      F   \n",
       "\n",
       "  income_type  debt  total_income                     purpose  \\\n",
       "0   сотрудник     0        253875               покупка жилья   \n",
       "1   сотрудник     0        112080     приобретение автомобиля   \n",
       "2   сотрудник     0        145885               покупка жилья   \n",
       "3   сотрудник     0        267628  дополнительное образование   \n",
       "4   пенсионер     0        158616             сыграть свадьбу   \n",
       "\n",
       "  total_income_category  \n",
       "0                     B  \n",
       "1                     C  \n",
       "2                     C  \n",
       "3                     B  \n",
       "4                     C  "
      ]
     },
     "execution_count": 48,
     "metadata": {},
     "output_type": "execute_result"
    }
   ],
   "source": [
    "#добавим новый столбик в df\n",
    "\n",
    "df['total_income_category'] = df['total_income'].apply(income_group)\n",
    "df.head(5)"
   ]
  },
  {
   "cell_type": "code",
   "execution_count": 49,
   "id": "a4e120e4",
   "metadata": {},
   "outputs": [
    {
     "data": {
      "text/plain": [
       "total_income_category\n",
       "A       25\n",
       "B     5015\n",
       "C    15943\n",
       "D      348\n",
       "E       22\n",
       "Name: family_status_id, dtype: int64"
      ]
     },
     "execution_count": 49,
     "metadata": {},
     "output_type": "execute_result"
    }
   ],
   "source": [
    "# посчитаем количество людей с разными категориями доходов\n",
    "\n",
    "df.groupby('total_income_category')['family_status_id'].count()"
   ]
  },
  {
   "cell_type": "markdown",
   "id": "2a156781",
   "metadata": {},
   "source": [
    "<font color='orange'><b>🙊 Наблюдения 0.12</b></font>\n",
    "\n",
    "Наибольшое количество людей имет категорию дохода - С. Это коррелируются с мадианным значением в 145000."
   ]
  },
  {
   "cell_type": "markdown",
   "id": "e6797057",
   "metadata": {},
   "source": [
    "<b>----------------------------------------------------------------------------------------------------------------------------------------------------------------------------------------------------------------</b>"
   ]
  },
  {
   "cell_type": "markdown",
   "id": "7d485aae",
   "metadata": {},
   "source": [
    "### Шаг 2.7. Категоризация целей кредита."
   ]
  },
  {
   "cell_type": "markdown",
   "id": "0600dba9",
   "metadata": {},
   "source": [
    "Создайте функцию, которая на основании данных из столбца purpose сформирует новый столбец purpose_category, в который войдут следующие категории:  \n",
    "'операции с автомобилем',  \n",
    "'операции с недвижимостью',  \n",
    "'проведение свадьбы',  \n",
    "'получение образования'.  \n",
    "Например, если в столбце purpose находится подстрока 'на покупку автомобиля', то в столбце purpose_category должна появиться строка 'операции с автомобилем'.  \n",
    "Вы можете использовать собственную функцию и метод apply(). Изучите данные в столбце purpose и определите, какие подстроки помогут вам правильно определить категорию."
   ]
  },
  {
   "cell_type": "markdown",
   "id": "2a27205f",
   "metadata": {},
   "source": [
    "<font color='orange'><b>🙊 Наблюдения 0.13</b></font>\n",
    "\n",
    "Мой \"гениальный\" мозг догадался лишь на то, чтобы сделать такую функцию, которая по части слова ищет совпадения в столбце purpose и в случае совпадения, возвращает необходимую категорию.  \n",
    "Не уверена, что это супер вариант. Если у тебя есть варианты, которые ты мог бы показать - буду оч благодарна.  \n",
    "Сложные функции для меня пока оч тяжело.  \n",
    "\n",
    "И постоянная проблема - я не до конца понимаю, как обратиться к отдельным словам в столбце DataFrame, когда пишешь функции. Т.е. сначала ты обращаешься к столбцу, потом к строке, потом к слову?\n",
    "\n",
    "        for i in df['purpose']:  \n",
    "                for j in df['purpose'][i]:  \n",
    "                        k in ???? \n",
    "        \n",
    "Не до конца понимаю иерархию построения и синтаксис в этом случае 😩  \n",
    "Мб у тебя есть ссылки полезные?"
   ]
  },
  {
   "cell_type": "code",
   "execution_count": 50,
   "id": "06e572c9",
   "metadata": {},
   "outputs": [],
   "source": [
    "# Создаем копию столбца purpose, которая будет исправлена\n",
    "\n",
    "df['purpose_category'] = df['purpose']"
   ]
  },
  {
   "cell_type": "code",
   "execution_count": 51,
   "id": "96c535b0",
   "metadata": {},
   "outputs": [],
   "source": [
    "# Создаем функцию, которая меняет одно значение на другое\n",
    "\n",
    "def replace_purpose(purpose):\n",
    "    if 'авто' in purpose:\n",
    "        return 'операции с автомобилем'\n",
    "    elif 'недвиж' in purpose or 'жиль' in purpose:\n",
    "        return 'операции с недвижимостью'\n",
    "    elif 'свадьб' in purpose:\n",
    "        return 'проведение свадьбы'\n",
    "    elif 'образо' in purpose:\n",
    "        return 'получение образования'\n",
    "\n",
    "df['purpose_category'] = df['purpose'].apply(replace_purpose)"
   ]
  },
  {
   "cell_type": "code",
   "execution_count": 52,
   "id": "d7a7783b",
   "metadata": {},
   "outputs": [
    {
     "data": {
      "text/plain": [
       "0                       покупка жилья\n",
       "1             приобретение автомобиля\n",
       "2                       покупка жилья\n",
       "3          дополнительное образование\n",
       "4                     сыграть свадьбу\n",
       "                     ...             \n",
       "21348               операции с жильем\n",
       "21349            сделка с автомобилем\n",
       "21350                    недвижимость\n",
       "21351    на покупку своего автомобиля\n",
       "21352           на покупку автомобиля\n",
       "Name: purpose, Length: 21353, dtype: object"
      ]
     },
     "execution_count": 52,
     "metadata": {},
     "output_type": "execute_result"
    }
   ],
   "source": [
    "df['purpose']"
   ]
  },
  {
   "cell_type": "code",
   "execution_count": 53,
   "id": "e9fb21d2",
   "metadata": {},
   "outputs": [
    {
     "data": {
      "text/plain": [
       "array(['операции с недвижимостью', 'операции с автомобилем',\n",
       "       'получение образования', 'проведение свадьбы'], dtype=object)"
      ]
     },
     "execution_count": 53,
     "metadata": {},
     "output_type": "execute_result"
    }
   ],
   "source": [
    "# Проверяем корректность работы\n",
    "\n",
    "df['purpose_category'].unique()"
   ]
  },
  {
   "cell_type": "code",
   "execution_count": 54,
   "id": "9bad0291",
   "metadata": {},
   "outputs": [
    {
     "data": {
      "text/plain": [
       "0    операции с недвижимостью\n",
       "1      операции с автомобилем\n",
       "2    операции с недвижимостью\n",
       "3       получение образования\n",
       "4          проведение свадьбы\n",
       "5    операции с недвижимостью\n",
       "6    операции с недвижимостью\n",
       "7       получение образования\n",
       "8          проведение свадьбы\n",
       "9    операции с недвижимостью\n",
       "Name: purpose_category, dtype: object"
      ]
     },
     "execution_count": 54,
     "metadata": {},
     "output_type": "execute_result"
    }
   ],
   "source": [
    "df['purpose_category'].head(10)"
   ]
  },
  {
   "cell_type": "code",
   "execution_count": 55,
   "id": "b10d0762",
   "metadata": {},
   "outputs": [
    {
     "data": {
      "text/plain": [
       "purpose_category\n",
       "операции с автомобилем       4284\n",
       "операции с недвижимостью    10764\n",
       "получение образования        3995\n",
       "проведение свадьбы           2310\n",
       "Name: family_status_id, dtype: int64"
      ]
     },
     "execution_count": 55,
     "metadata": {},
     "output_type": "execute_result"
    }
   ],
   "source": [
    "# посчитаем количество запросов по темам\n",
    "\n",
    "df.groupby('purpose_category')['family_status_id'].count()"
   ]
  },
  {
   "cell_type": "markdown",
   "id": "15c59432",
   "metadata": {},
   "source": [
    "<font color='orange'><b>🙊 Наблюдения 0.14</b></font>\n",
    "\n",
    "Большинству людей необходим кредит на недвижимость"
   ]
  },
  {
   "cell_type": "markdown",
   "id": "07d0c46c",
   "metadata": {},
   "source": [
    "<b>----------------------------------------------------------------------------------------------------------------------------------------------------------------------------------------------------------------</b>"
   ]
  },
  {
   "cell_type": "markdown",
   "id": "93fe2295",
   "metadata": {},
   "source": [
    "### Ответы на вопросы."
   ]
  },
  {
   "cell_type": "markdown",
   "id": "c007993f",
   "metadata": {},
   "source": [
    "##### Вопрос 1:"
   ]
  },
  {
   "cell_type": "markdown",
   "id": "0e5df8a1",
   "metadata": {},
   "source": [
    "Есть ли зависимость между количеством детей и возвратом кредита в срок? "
   ]
  },
  {
   "cell_type": "code",
   "execution_count": 56,
   "id": "4a29242d",
   "metadata": {},
   "outputs": [
    {
     "data": {
      "text/html": [
       "<div>\n",
       "<style scoped>\n",
       "    .dataframe tbody tr th:only-of-type {\n",
       "        vertical-align: middle;\n",
       "    }\n",
       "\n",
       "    .dataframe tbody tr th {\n",
       "        vertical-align: top;\n",
       "    }\n",
       "\n",
       "    .dataframe thead th {\n",
       "        text-align: right;\n",
       "    }\n",
       "</style>\n",
       "<table border=\"1\" class=\"dataframe\">\n",
       "  <thead>\n",
       "    <tr style=\"text-align: right;\">\n",
       "      <th></th>\n",
       "      <th>total_credit_count</th>\n",
       "      <th>debt_fail_count</th>\n",
       "      <th>fail_%</th>\n",
       "    </tr>\n",
       "    <tr>\n",
       "      <th>children</th>\n",
       "      <th></th>\n",
       "      <th></th>\n",
       "      <th></th>\n",
       "    </tr>\n",
       "  </thead>\n",
       "  <tbody>\n",
       "    <tr>\n",
       "      <th>4.0</th>\n",
       "      <td>41</td>\n",
       "      <td>4</td>\n",
       "      <td>9.76</td>\n",
       "    </tr>\n",
       "    <tr>\n",
       "      <th>2.0</th>\n",
       "      <td>2039</td>\n",
       "      <td>194</td>\n",
       "      <td>9.51</td>\n",
       "    </tr>\n",
       "    <tr>\n",
       "      <th>1.0</th>\n",
       "      <td>4839</td>\n",
       "      <td>442</td>\n",
       "      <td>9.13</td>\n",
       "    </tr>\n",
       "    <tr>\n",
       "      <th>3.0</th>\n",
       "      <td>328</td>\n",
       "      <td>27</td>\n",
       "      <td>8.23</td>\n",
       "    </tr>\n",
       "    <tr>\n",
       "      <th>0.0</th>\n",
       "      <td>14097</td>\n",
       "      <td>1066</td>\n",
       "      <td>7.56</td>\n",
       "    </tr>\n",
       "    <tr>\n",
       "      <th>5.0</th>\n",
       "      <td>9</td>\n",
       "      <td>0</td>\n",
       "      <td>0.00</td>\n",
       "    </tr>\n",
       "  </tbody>\n",
       "</table>\n",
       "</div>"
      ],
      "text/plain": [
       "          total_credit_count  debt_fail_count  fail_%\n",
       "children                                             \n",
       "4.0                       41                4    9.76\n",
       "2.0                     2039              194    9.51\n",
       "1.0                     4839              442    9.13\n",
       "3.0                      328               27    8.23\n",
       "0.0                    14097             1066    7.56\n",
       "5.0                        9                0    0.00"
      ]
     },
     "execution_count": 56,
     "metadata": {},
     "output_type": "execute_result"
    }
   ],
   "source": [
    "# здесь не будет категаризировать данные, так как категорий всего 6 - по количеству детей в семье\n",
    "\n",
    "# 'total_credit_count' - общее количество кредитов\n",
    "# 'debt_fail_count' - количество просроченных платежей\n",
    "# 'fail_%' - отношение просрочееных платежей к общему количеству \n",
    "\n",
    "child_vs_debt = pd.DataFrame()\n",
    "\n",
    "child_vs_debt['total_credit_count'] = df.groupby('children')['debt'].count() \n",
    "child_vs_debt['debt_fail_count'] = df.pivot_table(index=['children'], values='debt', aggfunc='sum')\n",
    "child_vs_debt['fail_%'] = round((child_vs_debt['debt_fail_count'] / child_vs_debt['total_credit_count']) *100, 2)\n",
    "child_vs_debt.sort_values('fail_%', ascending = False)"
   ]
  },
  {
   "cell_type": "markdown",
   "id": "68073df5",
   "metadata": {},
   "source": [
    "##### Вывод 1:"
   ]
  },
  {
   "cell_type": "markdown",
   "id": "e82f5b76",
   "metadata": {},
   "source": [
    "Зависимость есть:  \n",
    "1) Бездетные реже платят невовремя, чем люди с детьми.  \n",
    "2) Чем больше детей - тем больше количество просроченных задолженностей, но люди с 3-мя детьми чаще платят вовремя, чем люди с 1 - 2 детьми.  \n",
    "3) Данные для семьи с 5-ью детьми выглядяит странно по сравнению с общей тенденцией. Возможно, нужно больше данных для более точной оценки. "
   ]
  },
  {
   "cell_type": "markdown",
   "id": "99a77411",
   "metadata": {},
   "source": [
    "##### Вопрос 2:"
   ]
  },
  {
   "cell_type": "markdown",
   "id": "a9d68453",
   "metadata": {},
   "source": [
    "Есть ли зависимость между семейным положением и возвратом кредита в срок?  "
   ]
  },
  {
   "cell_type": "code",
   "execution_count": 57,
   "id": "11a3988b",
   "metadata": {},
   "outputs": [],
   "source": [
    "# создаем новый DataFrame вместе со столбцом с расшифровкой family_status\n",
    "\n",
    "df_new = df.merge(family_id, on='family_status_id', how='left')"
   ]
  },
  {
   "cell_type": "code",
   "execution_count": 58,
   "id": "81b43d75",
   "metadata": {},
   "outputs": [],
   "source": [
    "# создаем новый DataFrame с двумя столбцами на основе предидущего\n",
    "\n",
    "family_df = df_new[[\"family_status\", 'debt']]"
   ]
  },
  {
   "cell_type": "code",
   "execution_count": 59,
   "id": "7ee76dcf",
   "metadata": {},
   "outputs": [
    {
     "data": {
      "text/html": [
       "<div>\n",
       "<style scoped>\n",
       "    .dataframe tbody tr th:only-of-type {\n",
       "        vertical-align: middle;\n",
       "    }\n",
       "\n",
       "    .dataframe tbody tr th {\n",
       "        vertical-align: top;\n",
       "    }\n",
       "\n",
       "    .dataframe thead tr th {\n",
       "        text-align: left;\n",
       "    }\n",
       "\n",
       "    .dataframe thead tr:last-of-type th {\n",
       "        text-align: right;\n",
       "    }\n",
       "</style>\n",
       "<table border=\"1\" class=\"dataframe\">\n",
       "  <thead>\n",
       "    <tr>\n",
       "      <th></th>\n",
       "      <th colspan=\"2\" halign=\"left\">debt</th>\n",
       "      <th>fail_%</th>\n",
       "    </tr>\n",
       "    <tr>\n",
       "      <th></th>\n",
       "      <th>total</th>\n",
       "      <th>fail_count</th>\n",
       "      <th></th>\n",
       "    </tr>\n",
       "    <tr>\n",
       "      <th>family_status</th>\n",
       "      <th></th>\n",
       "      <th></th>\n",
       "      <th></th>\n",
       "    </tr>\n",
       "  </thead>\n",
       "  <tbody>\n",
       "    <tr>\n",
       "      <th>не женат / не замужем</th>\n",
       "      <td>2794</td>\n",
       "      <td>273</td>\n",
       "      <td>9.77</td>\n",
       "    </tr>\n",
       "    <tr>\n",
       "      <th>гражданский брак</th>\n",
       "      <td>4130</td>\n",
       "      <td>386</td>\n",
       "      <td>9.35</td>\n",
       "    </tr>\n",
       "    <tr>\n",
       "      <th>женат / замужем</th>\n",
       "      <td>12290</td>\n",
       "      <td>927</td>\n",
       "      <td>7.54</td>\n",
       "    </tr>\n",
       "    <tr>\n",
       "      <th>в разводе</th>\n",
       "      <td>1185</td>\n",
       "      <td>85</td>\n",
       "      <td>7.17</td>\n",
       "    </tr>\n",
       "    <tr>\n",
       "      <th>вдовец / вдова</th>\n",
       "      <td>954</td>\n",
       "      <td>62</td>\n",
       "      <td>6.50</td>\n",
       "    </tr>\n",
       "  </tbody>\n",
       "</table>\n",
       "</div>"
      ],
      "text/plain": [
       "                        debt            fail_%\n",
       "                       total fail_count       \n",
       "family_status                                 \n",
       "не женат / не замужем   2794        273   9.77\n",
       "гражданский брак        4130        386   9.35\n",
       "женат / замужем        12290        927   7.54\n",
       "в разводе               1185         85   7.17\n",
       "вдовец / вдова           954         62   6.50"
      ]
     },
     "execution_count": 59,
     "metadata": {},
     "output_type": "execute_result"
    }
   ],
   "source": [
    "# здесь не будет категаризировать данные, так как категорий всего 5 - по количеству детей\n",
    "\n",
    "# 'total' - общее количество кредитов\n",
    "# 'fail_count' - количество просроченных платежей\n",
    "# 'fail_%' - отношение просрочееных платежей к общему количеству  \n",
    "\n",
    "fam_vs_debt = family_df.groupby(['family_status']) \\\n",
    "    .agg({'debt':['count', 'sum']}) \\\n",
    "    .rename(columns={'count': 'total', 'sum': 'fail_count'}) \n",
    "fam_vs_debt['fail_%'] = round((family_df.groupby('family_status')['debt'].sum() / family_df.groupby('family_status')['debt'].count()) *100,2)\n",
    "\n",
    "fam_vs_debt.sort_values('fail_%', ascending = False)"
   ]
  },
  {
   "cell_type": "markdown",
   "id": "80365a5b",
   "metadata": {},
   "source": [
    "##### Вывод 2:"
   ]
  },
  {
   "cell_type": "markdown",
   "id": "9837ae1f",
   "metadata": {},
   "source": [
    "Зависимость есть:\n",
    "\n",
    "1) Не замужние и люди в гражданском браке чаще не платят вовремя  \n",
    "2) Овдовевшие люди чаще платят вовремя"
   ]
  },
  {
   "cell_type": "markdown",
   "id": "9360f71a",
   "metadata": {},
   "source": [
    "##### Вопрос 3:"
   ]
  },
  {
   "cell_type": "markdown",
   "id": "67124eec",
   "metadata": {},
   "source": [
    "Есть ли зависимость между уровнем дохода и возвратом кредита в срок?  "
   ]
  },
  {
   "cell_type": "code",
   "execution_count": 60,
   "id": "d3f776b4",
   "metadata": {},
   "outputs": [],
   "source": [
    "# создаем новый DataFrame с двумя столбцами\n",
    "\n",
    "salary_df = df[[\"total_income_category\", 'debt']]"
   ]
  },
  {
   "cell_type": "code",
   "execution_count": 61,
   "id": "9c432cc9",
   "metadata": {},
   "outputs": [
    {
     "data": {
      "text/html": [
       "<div>\n",
       "<style scoped>\n",
       "    .dataframe tbody tr th:only-of-type {\n",
       "        vertical-align: middle;\n",
       "    }\n",
       "\n",
       "    .dataframe tbody tr th {\n",
       "        vertical-align: top;\n",
       "    }\n",
       "\n",
       "    .dataframe thead tr th {\n",
       "        text-align: left;\n",
       "    }\n",
       "\n",
       "    .dataframe thead tr:last-of-type th {\n",
       "        text-align: right;\n",
       "    }\n",
       "</style>\n",
       "<table border=\"1\" class=\"dataframe\">\n",
       "  <thead>\n",
       "    <tr>\n",
       "      <th></th>\n",
       "      <th colspan=\"2\" halign=\"left\">debt</th>\n",
       "      <th>fail_%</th>\n",
       "    </tr>\n",
       "    <tr>\n",
       "      <th></th>\n",
       "      <th>total</th>\n",
       "      <th>fail_count</th>\n",
       "      <th></th>\n",
       "    </tr>\n",
       "    <tr>\n",
       "      <th>total_income_category</th>\n",
       "      <th></th>\n",
       "      <th></th>\n",
       "      <th></th>\n",
       "    </tr>\n",
       "  </thead>\n",
       "  <tbody>\n",
       "    <tr>\n",
       "      <th>E</th>\n",
       "      <td>22</td>\n",
       "      <td>2</td>\n",
       "      <td>9.09</td>\n",
       "    </tr>\n",
       "    <tr>\n",
       "      <th>C</th>\n",
       "      <td>15943</td>\n",
       "      <td>1353</td>\n",
       "      <td>8.49</td>\n",
       "    </tr>\n",
       "    <tr>\n",
       "      <th>A</th>\n",
       "      <td>25</td>\n",
       "      <td>2</td>\n",
       "      <td>8.00</td>\n",
       "    </tr>\n",
       "    <tr>\n",
       "      <th>B</th>\n",
       "      <td>5015</td>\n",
       "      <td>355</td>\n",
       "      <td>7.08</td>\n",
       "    </tr>\n",
       "    <tr>\n",
       "      <th>D</th>\n",
       "      <td>348</td>\n",
       "      <td>21</td>\n",
       "      <td>6.03</td>\n",
       "    </tr>\n",
       "  </tbody>\n",
       "</table>\n",
       "</div>"
      ],
      "text/plain": [
       "                        debt            fail_%\n",
       "                       total fail_count       \n",
       "total_income_category                         \n",
       "E                         22          2   9.09\n",
       "C                      15943       1353   8.49\n",
       "A                         25          2   8.00\n",
       "B                       5015        355   7.08\n",
       "D                        348         21   6.03"
      ]
     },
     "execution_count": 61,
     "metadata": {},
     "output_type": "execute_result"
    }
   ],
   "source": [
    "# 'total' - общее количество кредитов\n",
    "# 'fail_count' - количество просроченных платежей\n",
    "# 'fail_%' - отношение просрочееных платежей к общему количеству  \n",
    "\n",
    "salary_vs_debt = salary_df.groupby(['total_income_category']) \\\n",
    "    .agg({'debt':['count', 'sum']}) \\\n",
    "    .rename(columns={'count': 'total', 'sum': 'fail_count'}) \n",
    "salary_vs_debt['fail_%'] = round((salary_df.groupby('total_income_category')['debt'].sum() / salary_df.groupby('total_income_category')['debt'].count()) *100,2)\n",
    "\n",
    "salary_vs_debt.sort_values('fail_%', ascending = False)"
   ]
  },
  {
   "cell_type": "markdown",
   "id": "83d4b395",
   "metadata": {},
   "source": [
    "##### Вывод 3:"
   ]
  },
  {
   "cell_type": "markdown",
   "id": "b94b73f7",
   "metadata": {},
   "source": [
    "Зависимость есть:\n",
    "\n",
    "1) Люди, у которых самый низкий доход, возвращают кредит невовремя чаще   \n",
    "2) Люди, у которых доход до 50000 - возвращают деньги вовремя чаще"
   ]
  },
  {
   "cell_type": "markdown",
   "id": "5181f2c1",
   "metadata": {},
   "source": [
    "##### Вопрос 4:"
   ]
  },
  {
   "cell_type": "markdown",
   "id": "ea10655c",
   "metadata": {},
   "source": [
    "Как разные цели кредита влияют на его возврат в срок?   "
   ]
  },
  {
   "cell_type": "code",
   "execution_count": 62,
   "id": "862c72e1",
   "metadata": {},
   "outputs": [],
   "source": [
    "# создаем новый DataFrame с двумя столбцами\n",
    "\n",
    "goals_df = df[[\"purpose_category\", 'debt']]"
   ]
  },
  {
   "cell_type": "code",
   "execution_count": 63,
   "id": "94947035",
   "metadata": {},
   "outputs": [
    {
     "data": {
      "text/html": [
       "<div>\n",
       "<style scoped>\n",
       "    .dataframe tbody tr th:only-of-type {\n",
       "        vertical-align: middle;\n",
       "    }\n",
       "\n",
       "    .dataframe tbody tr th {\n",
       "        vertical-align: top;\n",
       "    }\n",
       "\n",
       "    .dataframe thead tr th {\n",
       "        text-align: left;\n",
       "    }\n",
       "\n",
       "    .dataframe thead tr:last-of-type th {\n",
       "        text-align: right;\n",
       "    }\n",
       "</style>\n",
       "<table border=\"1\" class=\"dataframe\">\n",
       "  <thead>\n",
       "    <tr>\n",
       "      <th></th>\n",
       "      <th colspan=\"2\" halign=\"left\">debt</th>\n",
       "      <th>fail_%</th>\n",
       "    </tr>\n",
       "    <tr>\n",
       "      <th></th>\n",
       "      <th>total</th>\n",
       "      <th>fail_count</th>\n",
       "      <th></th>\n",
       "    </tr>\n",
       "    <tr>\n",
       "      <th>purpose_category</th>\n",
       "      <th></th>\n",
       "      <th></th>\n",
       "      <th></th>\n",
       "    </tr>\n",
       "  </thead>\n",
       "  <tbody>\n",
       "    <tr>\n",
       "      <th>операции с автомобилем</th>\n",
       "      <td>4284</td>\n",
       "      <td>400</td>\n",
       "      <td>9.34</td>\n",
       "    </tr>\n",
       "    <tr>\n",
       "      <th>получение образования</th>\n",
       "      <td>3995</td>\n",
       "      <td>370</td>\n",
       "      <td>9.26</td>\n",
       "    </tr>\n",
       "    <tr>\n",
       "      <th>проведение свадьбы</th>\n",
       "      <td>2310</td>\n",
       "      <td>184</td>\n",
       "      <td>7.97</td>\n",
       "    </tr>\n",
       "    <tr>\n",
       "      <th>операции с недвижимостью</th>\n",
       "      <td>10764</td>\n",
       "      <td>779</td>\n",
       "      <td>7.24</td>\n",
       "    </tr>\n",
       "  </tbody>\n",
       "</table>\n",
       "</div>"
      ],
      "text/plain": [
       "                           debt            fail_%\n",
       "                          total fail_count       \n",
       "purpose_category                                 \n",
       "операции с автомобилем     4284        400   9.34\n",
       "получение образования      3995        370   9.26\n",
       "проведение свадьбы         2310        184   7.97\n",
       "операции с недвижимостью  10764        779   7.24"
      ]
     },
     "execution_count": 63,
     "metadata": {},
     "output_type": "execute_result"
    }
   ],
   "source": [
    "# 'total' - общее количество кредитов\n",
    "# 'fail_count' - количество просроченных платежей\n",
    "# 'fail_%' - отношение просрочееных платежей к общему количеству  \n",
    "\n",
    "goals_vs_debt = goals_df.groupby(['purpose_category']) \\\n",
    "    .agg({'debt':['count', 'sum']}) \\\n",
    "    .rename(columns={'count': 'total', 'sum': 'fail_count'}) \n",
    "goals_vs_debt['fail_%'] = round((goals_df.groupby('purpose_category')['debt'].sum() / goals_df.groupby('purpose_category')['debt'].count()) *100,2)\n",
    "\n",
    "goals_vs_debt.sort_values('fail_%', ascending = False)"
   ]
  },
  {
   "cell_type": "markdown",
   "id": "eb4d4437",
   "metadata": {},
   "source": [
    "##### Вывод 4:"
   ]
  },
  {
   "cell_type": "markdown",
   "id": "4b1819bd",
   "metadata": {},
   "source": [
    "Зависимость есть:\n",
    "\n",
    "1) Чаще просрочки приходятся на кредиты на автомобили и получение образования  \n",
    "2) С покупки квартиры и оплаты свадьбы люди возвращают деньги вовремя чаще"
   ]
  },
  {
   "cell_type": "markdown",
   "id": "7360f15d",
   "metadata": {},
   "source": [
    "<b>----------------------------------------------------------------------------------------------------------------------------------------------------------------------------------------------------------------</b>"
   ]
  },
  {
   "cell_type": "markdown",
   "id": "bb6b9794",
   "metadata": {},
   "source": [
    "## Общий вывод:"
   ]
  },
  {
   "cell_type": "markdown",
   "id": "a4bdc3c0",
   "metadata": {},
   "source": [
    "По данным можно нарисовать портрет надежного и менее надежного заемщика:"
   ]
  },
  {
   "cell_type": "code",
   "execution_count": 64,
   "id": "62c5bd0e",
   "metadata": {},
   "outputs": [
    {
     "data": {
      "text/html": [
       "<div>\n",
       "<style scoped>\n",
       "    .dataframe tbody tr th:only-of-type {\n",
       "        vertical-align: middle;\n",
       "    }\n",
       "\n",
       "    .dataframe tbody tr th {\n",
       "        vertical-align: top;\n",
       "    }\n",
       "\n",
       "    .dataframe thead th {\n",
       "        text-align: right;\n",
       "    }\n",
       "</style>\n",
       "<table border=\"1\" class=\"dataframe\">\n",
       "  <thead>\n",
       "    <tr style=\"text-align: right;\">\n",
       "      <th></th>\n",
       "      <th>Заемщик</th>\n",
       "      <th>Наличие детей</th>\n",
       "      <th>Семейный статус</th>\n",
       "      <th>Уровень дохода</th>\n",
       "      <th>Цель кредита</th>\n",
       "    </tr>\n",
       "  </thead>\n",
       "  <tbody>\n",
       "    <tr>\n",
       "      <th>0</th>\n",
       "      <td>Надежный</td>\n",
       "      <td>Не имеет детей</td>\n",
       "      <td>Был в браке</td>\n",
       "      <td>30000 - 50000</td>\n",
       "      <td>Недвижимость</td>\n",
       "    </tr>\n",
       "    <tr>\n",
       "      <th>1</th>\n",
       "      <td>Менее надежный</td>\n",
       "      <td>Имеет 1-2 ребенка</td>\n",
       "      <td>Гражданский брак/холост</td>\n",
       "      <td>&gt; 50000</td>\n",
       "      <td>Автомобиль, образование</td>\n",
       "    </tr>\n",
       "  </tbody>\n",
       "</table>\n",
       "</div>"
      ],
      "text/plain": [
       "          Заемщик      Наличие детей          Семейный статус Уровень дохода  \\\n",
       "0        Надежный     Не имеет детей              Был в браке  30000 - 50000   \n",
       "1  Менее надежный  Имеет 1-2 ребенка  Гражданский брак/холост        > 50000   \n",
       "\n",
       "              Цель кредита  \n",
       "0             Недвижимость  \n",
       "1  Автомобиль, образование  "
      ]
     },
     "execution_count": 64,
     "metadata": {},
     "output_type": "execute_result"
    }
   ],
   "source": [
    "pd.DataFrame({\n",
    "    \"Заемщик\": [\"Надежный\", \"Менее надежный\"],\n",
    "    \"Наличие детей\": [\"Не имеет детей\", \"Имеет 1-2 ребенка\"],\n",
    "    \"Семейный статус\": ['Был в браке', 'Гражданский брак/холост'],\n",
    "    \"Уровень дохода\": [\"30000 - 50000\", \"> 50000\"],\n",
    "    \"Цель кредита\": ['Недвижимость', 'Автомобиль, образование']\n",
    "}) "
   ]
  }
 ],
 "metadata": {
  "ExecuteTimeLog": [
   {
    "duration": 663,
    "start_time": "2022-02-23T15:02:25.802Z"
   },
   {
    "duration": 13,
    "start_time": "2022-02-23T15:08:09.918Z"
   },
   {
    "duration": 36,
    "start_time": "2022-02-23T15:32:30.628Z"
   },
   {
    "duration": 5,
    "start_time": "2022-02-23T16:08:41.763Z"
   },
   {
    "duration": 5,
    "start_time": "2022-02-23T16:09:01.397Z"
   },
   {
    "duration": 240,
    "start_time": "2022-02-23T16:12:11.424Z"
   },
   {
    "duration": 60,
    "start_time": "2022-02-23T16:12:20.943Z"
   },
   {
    "duration": 181,
    "start_time": "2022-02-23T16:12:23.179Z"
   },
   {
    "duration": 3,
    "start_time": "2022-02-23T16:12:26.820Z"
   },
   {
    "duration": 245,
    "start_time": "2022-02-23T16:14:30.503Z"
   },
   {
    "duration": 11,
    "start_time": "2022-02-23T16:14:38.017Z"
   },
   {
    "duration": 8,
    "start_time": "2022-02-23T16:14:49.559Z"
   },
   {
    "duration": 6,
    "start_time": "2022-02-23T16:16:41.239Z"
   },
   {
    "duration": 68,
    "start_time": "2022-02-23T16:17:10.688Z"
   },
   {
    "duration": 191,
    "start_time": "2022-02-23T16:17:46.553Z"
   },
   {
    "duration": 6,
    "start_time": "2022-02-23T16:17:53.209Z"
   },
   {
    "duration": 1414,
    "start_time": "2022-02-23T16:18:32.651Z"
   },
   {
    "duration": 1381,
    "start_time": "2022-02-23T16:18:35.288Z"
   },
   {
    "duration": 11,
    "start_time": "2022-02-23T16:19:39.500Z"
   },
   {
    "duration": 19,
    "start_time": "2022-02-23T16:22:05.457Z"
   },
   {
    "duration": 3,
    "start_time": "2022-02-23T16:22:55.784Z"
   },
   {
    "duration": 4,
    "start_time": "2022-02-23T16:23:04.870Z"
   },
   {
    "duration": 210,
    "start_time": "2022-02-23T16:29:14.284Z"
   },
   {
    "duration": 194,
    "start_time": "2022-02-23T16:29:46.238Z"
   },
   {
    "duration": 197,
    "start_time": "2022-02-23T16:29:55.288Z"
   },
   {
    "duration": 227,
    "start_time": "2022-02-23T16:33:17.941Z"
   },
   {
    "duration": 12,
    "start_time": "2022-02-23T16:33:23.744Z"
   },
   {
    "duration": 10,
    "start_time": "2022-02-23T16:37:56.438Z"
   },
   {
    "duration": 184,
    "start_time": "2022-02-23T16:38:43.434Z"
   },
   {
    "duration": 307,
    "start_time": "2022-02-23T16:41:14.639Z"
   },
   {
    "duration": 198,
    "start_time": "2022-02-23T16:41:19.457Z"
   },
   {
    "duration": 1376,
    "start_time": "2022-02-23T16:41:29.081Z"
   },
   {
    "duration": 1355,
    "start_time": "2022-02-23T16:41:41.368Z"
   },
   {
    "duration": 1280,
    "start_time": "2022-02-23T16:41:57.630Z"
   },
   {
    "duration": 203,
    "start_time": "2022-02-23T16:46:31.400Z"
   },
   {
    "duration": 11,
    "start_time": "2022-02-23T16:46:38.003Z"
   },
   {
    "duration": 9,
    "start_time": "2022-02-23T16:47:03.945Z"
   },
   {
    "duration": 9,
    "start_time": "2022-02-23T16:47:20.076Z"
   },
   {
    "duration": 6,
    "start_time": "2022-02-23T16:50:26.184Z"
   },
   {
    "duration": 5,
    "start_time": "2022-02-23T16:50:43.017Z"
   },
   {
    "duration": 4,
    "start_time": "2022-02-23T16:51:09.332Z"
   },
   {
    "duration": 4600,
    "start_time": "2022-02-23T16:52:28.319Z"
   },
   {
    "duration": 6,
    "start_time": "2022-02-23T16:54:28.173Z"
   },
   {
    "duration": 5,
    "start_time": "2022-02-23T16:54:35.745Z"
   },
   {
    "duration": 4,
    "start_time": "2022-02-23T16:54:49.121Z"
   },
   {
    "duration": 56,
    "start_time": "2022-02-23T16:54:49.196Z"
   },
   {
    "duration": 4,
    "start_time": "2022-02-23T16:54:55.318Z"
   },
   {
    "duration": 4,
    "start_time": "2022-02-23T16:54:58.279Z"
   },
   {
    "duration": 6,
    "start_time": "2022-02-23T16:55:04.025Z"
   },
   {
    "duration": 7,
    "start_time": "2022-02-23T16:56:25.566Z"
   },
   {
    "duration": 70,
    "start_time": "2022-02-23T16:56:25.654Z"
   },
   {
    "duration": 5989,
    "start_time": "2022-02-23T16:56:25.778Z"
   },
   {
    "duration": 1235,
    "start_time": "2022-02-23T16:57:57.022Z"
   },
   {
    "duration": 4,
    "start_time": "2022-02-23T16:59:04.050Z"
   },
   {
    "duration": 21,
    "start_time": "2022-02-23T17:00:32.037Z"
   },
   {
    "duration": 23,
    "start_time": "2022-02-23T17:00:43.014Z"
   },
   {
    "duration": 186,
    "start_time": "2022-02-23T17:01:49.220Z"
   },
   {
    "duration": 22,
    "start_time": "2022-02-23T17:02:31.596Z"
   },
   {
    "duration": 22,
    "start_time": "2022-02-23T17:03:12.026Z"
   },
   {
    "duration": 199,
    "start_time": "2022-02-23T17:05:15.184Z"
   },
   {
    "duration": 228,
    "start_time": "2022-02-23T17:05:20.255Z"
   },
   {
    "duration": 28,
    "start_time": "2022-02-23T17:05:37.910Z"
   },
   {
    "duration": 4,
    "start_time": "2022-02-23T17:07:07.507Z"
   },
   {
    "duration": 6,
    "start_time": "2022-02-23T17:08:07.511Z"
   },
   {
    "duration": 23,
    "start_time": "2022-02-23T17:08:12.515Z"
   },
   {
    "duration": 21,
    "start_time": "2022-02-23T17:09:12.556Z"
   },
   {
    "duration": 373,
    "start_time": "2022-02-23T17:10:20.803Z"
   },
   {
    "duration": 22,
    "start_time": "2022-02-23T17:10:37.200Z"
   },
   {
    "duration": 6,
    "start_time": "2022-02-23T17:12:27.331Z"
   },
   {
    "duration": 14,
    "start_time": "2022-02-23T17:13:11.231Z"
   },
   {
    "duration": 17,
    "start_time": "2022-02-23T17:13:21.576Z"
   },
   {
    "duration": 3,
    "start_time": "2022-02-23T17:14:52.373Z"
   },
   {
    "duration": 34,
    "start_time": "2022-02-23T17:16:30.113Z"
   },
   {
    "duration": 50,
    "start_time": "2022-02-23T17:18:22.418Z"
   },
   {
    "duration": 59,
    "start_time": "2022-02-23T17:18:50.743Z"
   },
   {
    "duration": 51,
    "start_time": "2022-02-23T17:19:00.245Z"
   },
   {
    "duration": 28,
    "start_time": "2022-02-23T17:19:18.472Z"
   },
   {
    "duration": 70,
    "start_time": "2022-02-23T17:24:54.827Z"
   },
   {
    "duration": 8,
    "start_time": "2022-02-23T17:25:15.592Z"
   },
   {
    "duration": 5,
    "start_time": "2022-02-23T17:27:39.682Z"
   },
   {
    "duration": 6,
    "start_time": "2022-02-23T17:28:43.830Z"
   },
   {
    "duration": 6,
    "start_time": "2022-02-23T17:28:55.995Z"
   },
   {
    "duration": 7,
    "start_time": "2022-02-23T17:29:12.791Z"
   },
   {
    "duration": 6,
    "start_time": "2022-02-23T17:32:33.726Z"
   },
   {
    "duration": 195,
    "start_time": "2022-02-23T17:39:09.083Z"
   },
   {
    "duration": 6,
    "start_time": "2022-02-23T17:39:36.727Z"
   },
   {
    "duration": 7,
    "start_time": "2022-02-23T17:40:15.684Z"
   },
   {
    "duration": 7,
    "start_time": "2022-02-23T17:42:05.056Z"
   },
   {
    "duration": 6,
    "start_time": "2022-02-23T17:42:49.368Z"
   },
   {
    "duration": 6,
    "start_time": "2022-02-23T17:43:26.008Z"
   },
   {
    "duration": 5,
    "start_time": "2022-02-23T17:44:01.068Z"
   },
   {
    "duration": 7,
    "start_time": "2022-02-23T17:45:00.654Z"
   },
   {
    "duration": 6,
    "start_time": "2022-02-23T17:45:22.486Z"
   },
   {
    "duration": 6,
    "start_time": "2022-02-23T17:46:32.054Z"
   },
   {
    "duration": 14,
    "start_time": "2022-02-23T17:48:21.143Z"
   },
   {
    "duration": 14,
    "start_time": "2022-02-23T17:49:03.167Z"
   },
   {
    "duration": 6,
    "start_time": "2022-02-23T17:59:18.091Z"
   },
   {
    "duration": 6,
    "start_time": "2022-02-23T18:01:19.896Z"
   },
   {
    "duration": 6,
    "start_time": "2022-02-23T18:02:12.485Z"
   },
   {
    "duration": 6,
    "start_time": "2022-02-23T18:02:20.479Z"
   },
   {
    "duration": 6,
    "start_time": "2022-02-23T18:02:29.330Z"
   },
   {
    "duration": 6,
    "start_time": "2022-02-23T18:02:46.943Z"
   },
   {
    "duration": 6,
    "start_time": "2022-02-23T18:02:50.451Z"
   },
   {
    "duration": 7,
    "start_time": "2022-02-23T18:02:54.502Z"
   },
   {
    "duration": 2,
    "start_time": "2022-02-23T18:03:15.362Z"
   },
   {
    "duration": 14,
    "start_time": "2022-02-23T18:04:37.174Z"
   },
   {
    "duration": 183,
    "start_time": "2022-02-23T18:48:00.292Z"
   },
   {
    "duration": 95,
    "start_time": "2022-02-23T18:48:06.616Z"
   },
   {
    "duration": 13,
    "start_time": "2022-02-23T18:49:08.803Z"
   },
   {
    "duration": 16,
    "start_time": "2022-02-23T18:49:34.528Z"
   },
   {
    "duration": 191,
    "start_time": "2022-02-23T18:49:51.515Z"
   },
   {
    "duration": 11,
    "start_time": "2022-02-23T18:49:52.711Z"
   },
   {
    "duration": 33,
    "start_time": "2022-02-23T18:49:54.468Z"
   },
   {
    "duration": 11,
    "start_time": "2022-02-23T18:50:00.302Z"
   },
   {
    "duration": 14,
    "start_time": "2022-02-23T18:50:01.554Z"
   },
   {
    "duration": 6,
    "start_time": "2022-02-23T18:50:02.760Z"
   },
   {
    "duration": 7,
    "start_time": "2022-02-23T18:50:03.752Z"
   },
   {
    "duration": 7,
    "start_time": "2022-02-23T18:50:14.508Z"
   },
   {
    "duration": 27,
    "start_time": "2022-02-23T18:50:37.493Z"
   },
   {
    "duration": 30,
    "start_time": "2022-02-23T18:50:58.764Z"
   },
   {
    "duration": 6,
    "start_time": "2022-02-23T18:51:10.266Z"
   },
   {
    "duration": 10,
    "start_time": "2022-02-23T18:51:15.244Z"
   },
   {
    "duration": 5,
    "start_time": "2022-02-23T18:51:15.350Z"
   },
   {
    "duration": 3048,
    "start_time": "2022-02-23T18:51:15.440Z"
   },
   {
    "duration": 11,
    "start_time": "2022-02-23T18:54:19.522Z"
   },
   {
    "duration": 58,
    "start_time": "2022-02-23T18:54:25.375Z"
   },
   {
    "duration": 11,
    "start_time": "2022-02-23T18:54:27.255Z"
   },
   {
    "duration": 35,
    "start_time": "2022-02-23T18:54:28.959Z"
   },
   {
    "duration": 11,
    "start_time": "2022-02-23T18:54:32.358Z"
   },
   {
    "duration": 12,
    "start_time": "2022-02-23T18:54:33.123Z"
   },
   {
    "duration": 6,
    "start_time": "2022-02-23T18:54:33.903Z"
   },
   {
    "duration": 6,
    "start_time": "2022-02-23T18:54:35.038Z"
   },
   {
    "duration": 6,
    "start_time": "2022-02-23T18:54:42.360Z"
   },
   {
    "duration": 7,
    "start_time": "2022-02-23T18:54:42.997Z"
   },
   {
    "duration": 5,
    "start_time": "2022-02-23T18:54:43.575Z"
   },
   {
    "duration": 6,
    "start_time": "2022-02-23T18:54:44.360Z"
   },
   {
    "duration": 6,
    "start_time": "2022-02-23T18:54:45.306Z"
   },
   {
    "duration": 29,
    "start_time": "2022-02-23T18:54:47.036Z"
   },
   {
    "duration": 33,
    "start_time": "2022-02-23T18:54:48.312Z"
   },
   {
    "duration": 14,
    "start_time": "2022-02-23T18:54:52.487Z"
   },
   {
    "duration": 34,
    "start_time": "2022-02-23T18:55:09.842Z"
   },
   {
    "duration": 24,
    "start_time": "2022-02-23T19:00:42.578Z"
   },
   {
    "duration": 21,
    "start_time": "2022-02-23T19:04:31.869Z"
   },
   {
    "duration": 7,
    "start_time": "2022-02-23T19:04:53.036Z"
   },
   {
    "duration": 22,
    "start_time": "2022-02-23T19:05:04.357Z"
   },
   {
    "duration": 201,
    "start_time": "2022-02-23T19:05:26.109Z"
   },
   {
    "duration": 6,
    "start_time": "2022-02-23T19:05:30.720Z"
   },
   {
    "duration": 5,
    "start_time": "2022-02-23T19:08:59.480Z"
   },
   {
    "duration": 8,
    "start_time": "2022-02-23T19:13:50.627Z"
   },
   {
    "duration": 224,
    "start_time": "2022-02-23T19:14:56.543Z"
   },
   {
    "duration": 409,
    "start_time": "2022-02-23T19:15:13.195Z"
   },
   {
    "duration": 197,
    "start_time": "2022-02-23T19:16:50.601Z"
   },
   {
    "duration": 7,
    "start_time": "2022-02-23T19:16:57.804Z"
   },
   {
    "duration": 204,
    "start_time": "2022-02-23T19:17:04.414Z"
   },
   {
    "duration": 231,
    "start_time": "2022-02-23T19:17:16.725Z"
   },
   {
    "duration": 5,
    "start_time": "2022-02-23T19:19:41.426Z"
   },
   {
    "duration": 4920,
    "start_time": "2022-02-23T19:20:21.119Z"
   },
   {
    "duration": 5071,
    "start_time": "2022-02-23T19:20:37.019Z"
   },
   {
    "duration": 67,
    "start_time": "2022-02-23T19:21:04.946Z"
   },
   {
    "duration": 61,
    "start_time": "2022-02-23T19:21:13.369Z"
   },
   {
    "duration": 72,
    "start_time": "2022-02-23T19:21:15.633Z"
   },
   {
    "duration": 4775,
    "start_time": "2022-02-23T19:21:21.537Z"
   },
   {
    "duration": 5,
    "start_time": "2022-02-23T19:22:12.204Z"
   },
   {
    "duration": 7,
    "start_time": "2022-02-23T19:22:30.270Z"
   },
   {
    "duration": 15,
    "start_time": "2022-02-23T19:22:44.257Z"
   },
   {
    "duration": 10,
    "start_time": "2022-02-23T19:23:17.007Z"
   },
   {
    "duration": 56,
    "start_time": "2022-02-23T19:25:07.969Z"
   },
   {
    "duration": 12,
    "start_time": "2022-02-23T19:25:23.200Z"
   },
   {
    "duration": 34,
    "start_time": "2022-02-23T19:25:23.213Z"
   },
   {
    "duration": 10,
    "start_time": "2022-02-23T19:25:23.249Z"
   },
   {
    "duration": 13,
    "start_time": "2022-02-23T19:25:23.261Z"
   },
   {
    "duration": 6,
    "start_time": "2022-02-23T19:25:23.276Z"
   },
   {
    "duration": 37,
    "start_time": "2022-02-23T19:25:23.284Z"
   },
   {
    "duration": 6,
    "start_time": "2022-02-23T19:25:23.323Z"
   },
   {
    "duration": 6,
    "start_time": "2022-02-23T19:25:23.332Z"
   },
   {
    "duration": 8,
    "start_time": "2022-02-23T19:25:23.339Z"
   },
   {
    "duration": 5,
    "start_time": "2022-02-23T19:25:23.349Z"
   },
   {
    "duration": 6,
    "start_time": "2022-02-23T19:25:23.356Z"
   },
   {
    "duration": 66,
    "start_time": "2022-02-23T19:25:23.364Z"
   },
   {
    "duration": 33,
    "start_time": "2022-02-23T19:25:23.432Z"
   },
   {
    "duration": 13,
    "start_time": "2022-02-23T19:25:23.467Z"
   },
   {
    "duration": 6,
    "start_time": "2022-02-23T19:25:23.482Z"
   },
   {
    "duration": 4669,
    "start_time": "2022-02-23T19:25:23.489Z"
   },
   {
    "duration": 97023,
    "start_time": "2022-02-23T19:23:51.137Z"
   },
   {
    "duration": 7,
    "start_time": "2022-02-23T19:25:46.227Z"
   },
   {
    "duration": 12,
    "start_time": "2022-02-23T19:25:58.996Z"
   },
   {
    "duration": 7,
    "start_time": "2022-02-23T19:26:12.726Z"
   },
   {
    "duration": 10,
    "start_time": "2022-02-23T19:27:20.110Z"
   },
   {
    "duration": 25,
    "start_time": "2022-02-23T19:27:28.526Z"
   },
   {
    "duration": 23,
    "start_time": "2022-02-23T19:28:49.467Z"
   },
   {
    "duration": 6,
    "start_time": "2022-02-23T19:29:22.671Z"
   },
   {
    "duration": 5,
    "start_time": "2022-02-23T19:29:31.097Z"
   },
   {
    "duration": 7,
    "start_time": "2022-02-23T19:29:38.002Z"
   },
   {
    "duration": 54,
    "start_time": "2022-02-23T19:29:53.084Z"
   },
   {
    "duration": 10,
    "start_time": "2022-02-23T19:29:53.140Z"
   },
   {
    "duration": 33,
    "start_time": "2022-02-23T19:29:53.152Z"
   },
   {
    "duration": 37,
    "start_time": "2022-02-23T19:29:53.187Z"
   },
   {
    "duration": 15,
    "start_time": "2022-02-23T19:29:53.226Z"
   },
   {
    "duration": 5,
    "start_time": "2022-02-23T19:29:53.243Z"
   },
   {
    "duration": 9,
    "start_time": "2022-02-23T19:29:53.250Z"
   },
   {
    "duration": 6,
    "start_time": "2022-02-23T19:29:53.262Z"
   },
   {
    "duration": 7,
    "start_time": "2022-02-23T19:29:53.269Z"
   },
   {
    "duration": 42,
    "start_time": "2022-02-23T19:29:53.277Z"
   },
   {
    "duration": 6,
    "start_time": "2022-02-23T19:29:53.321Z"
   },
   {
    "duration": 10,
    "start_time": "2022-02-23T19:29:53.329Z"
   },
   {
    "duration": 33,
    "start_time": "2022-02-23T19:29:53.341Z"
   },
   {
    "duration": 54,
    "start_time": "2022-02-23T19:29:53.375Z"
   },
   {
    "duration": 13,
    "start_time": "2022-02-23T19:29:53.431Z"
   },
   {
    "duration": 5,
    "start_time": "2022-02-23T19:29:53.445Z"
   },
   {
    "duration": 7,
    "start_time": "2022-02-23T19:29:53.451Z"
   },
   {
    "duration": 5,
    "start_time": "2022-02-23T19:29:53.459Z"
   },
   {
    "duration": 4,
    "start_time": "2022-02-23T19:29:53.465Z"
   },
   {
    "duration": 7,
    "start_time": "2022-02-23T19:30:21.987Z"
   },
   {
    "duration": 8,
    "start_time": "2022-02-23T19:30:46.765Z"
   },
   {
    "duration": 7,
    "start_time": "2022-02-23T19:30:56.107Z"
   },
   {
    "duration": 190,
    "start_time": "2022-02-23T19:32:18.179Z"
   },
   {
    "duration": 186,
    "start_time": "2022-02-23T19:32:23.355Z"
   },
   {
    "duration": 183,
    "start_time": "2022-02-23T19:32:38.585Z"
   },
   {
    "duration": 6,
    "start_time": "2022-02-23T19:32:46.461Z"
   },
   {
    "duration": 60,
    "start_time": "2022-02-23T19:35:52.224Z"
   },
   {
    "duration": 7,
    "start_time": "2022-02-23T19:35:57.044Z"
   },
   {
    "duration": 227,
    "start_time": "2022-02-23T19:36:08.915Z"
   },
   {
    "duration": 71,
    "start_time": "2022-02-23T19:36:22.537Z"
   },
   {
    "duration": 25,
    "start_time": "2022-02-23T19:36:41.378Z"
   },
   {
    "duration": 7,
    "start_time": "2022-02-23T19:36:57.832Z"
   },
   {
    "duration": 186,
    "start_time": "2022-02-23T19:37:06.354Z"
   },
   {
    "duration": 186,
    "start_time": "2022-02-23T19:37:19.510Z"
   },
   {
    "duration": 24,
    "start_time": "2022-02-23T19:37:33.037Z"
   },
   {
    "duration": 10,
    "start_time": "2022-02-23T19:37:49.686Z"
   },
   {
    "duration": 6,
    "start_time": "2022-02-23T19:38:20.404Z"
   },
   {
    "duration": 6673,
    "start_time": "2022-02-23T19:43:08.464Z"
   },
   {
    "duration": 5033,
    "start_time": "2022-02-23T19:45:34.207Z"
   },
   {
    "duration": 225,
    "start_time": "2022-02-23T19:46:26.288Z"
   },
   {
    "duration": 5411,
    "start_time": "2022-02-23T19:46:37.800Z"
   },
   {
    "duration": 4753,
    "start_time": "2022-02-23T19:46:51.947Z"
   },
   {
    "duration": 60,
    "start_time": "2022-02-23T19:47:11.797Z"
   },
   {
    "duration": 10,
    "start_time": "2022-02-23T19:47:11.859Z"
   },
   {
    "duration": 56,
    "start_time": "2022-02-23T19:47:11.871Z"
   },
   {
    "duration": 9,
    "start_time": "2022-02-23T19:47:11.929Z"
   },
   {
    "duration": 13,
    "start_time": "2022-02-23T19:47:11.940Z"
   },
   {
    "duration": 6,
    "start_time": "2022-02-23T19:47:11.954Z"
   },
   {
    "duration": 5,
    "start_time": "2022-02-23T19:47:11.962Z"
   },
   {
    "duration": 7,
    "start_time": "2022-02-23T19:47:11.970Z"
   },
   {
    "duration": 42,
    "start_time": "2022-02-23T19:47:11.979Z"
   },
   {
    "duration": 5,
    "start_time": "2022-02-23T19:47:12.023Z"
   },
   {
    "duration": 11,
    "start_time": "2022-02-23T19:47:12.030Z"
   },
   {
    "duration": 10,
    "start_time": "2022-02-23T19:47:12.043Z"
   },
   {
    "duration": 32,
    "start_time": "2022-02-23T19:47:12.055Z"
   },
   {
    "duration": 52,
    "start_time": "2022-02-23T19:47:12.089Z"
   },
   {
    "duration": 13,
    "start_time": "2022-02-23T19:47:12.143Z"
   },
   {
    "duration": 5,
    "start_time": "2022-02-23T19:47:12.158Z"
   },
   {
    "duration": 6,
    "start_time": "2022-02-23T19:47:12.165Z"
   },
   {
    "duration": 4,
    "start_time": "2022-02-23T19:47:12.173Z"
   },
   {
    "duration": 387,
    "start_time": "2022-02-23T19:47:12.179Z"
   },
   {
    "duration": 96991,
    "start_time": "2022-02-23T19:45:35.577Z"
   },
   {
    "duration": 6,
    "start_time": "2022-02-23T19:50:12.110Z"
   },
   {
    "duration": 9,
    "start_time": "2022-02-23T19:50:32.857Z"
   },
   {
    "duration": 6,
    "start_time": "2022-02-23T19:51:41.496Z"
   },
   {
    "duration": 8,
    "start_time": "2022-02-23T20:07:31.746Z"
   },
   {
    "duration": 213,
    "start_time": "2022-02-23T20:07:42.435Z"
   },
   {
    "duration": 3,
    "start_time": "2022-02-23T20:10:10.685Z"
   },
   {
    "duration": 175,
    "start_time": "2022-02-23T20:10:27.488Z"
   },
   {
    "duration": 31,
    "start_time": "2022-02-23T20:10:33.961Z"
   },
   {
    "duration": 74,
    "start_time": "2022-02-23T20:11:09.265Z"
   },
   {
    "duration": 58,
    "start_time": "2022-02-23T20:11:38.075Z"
   },
   {
    "duration": 56,
    "start_time": "2022-02-23T20:11:51.220Z"
   },
   {
    "duration": 72,
    "start_time": "2022-02-23T20:12:00.200Z"
   },
   {
    "duration": 63,
    "start_time": "2022-02-23T20:12:05.058Z"
   },
   {
    "duration": 7,
    "start_time": "2022-02-23T20:14:23.020Z"
   },
   {
    "duration": 8,
    "start_time": "2022-02-23T20:14:35.128Z"
   },
   {
    "duration": 20,
    "start_time": "2022-02-23T20:14:55.428Z"
   },
   {
    "duration": 172,
    "start_time": "2022-02-23T20:15:07.373Z"
   },
   {
    "duration": 23,
    "start_time": "2022-02-23T20:15:12.997Z"
   },
   {
    "duration": 6,
    "start_time": "2022-02-23T20:15:29.477Z"
   },
   {
    "duration": 60,
    "start_time": "2022-02-23T20:27:24.238Z"
   },
   {
    "duration": 2608,
    "start_time": "2022-02-23T20:27:25.595Z"
   },
   {
    "duration": 3,
    "start_time": "2022-02-23T20:27:55.722Z"
   },
   {
    "duration": 4078,
    "start_time": "2022-02-23T20:28:01.044Z"
   },
   {
    "duration": 2744,
    "start_time": "2022-02-23T20:28:05.635Z"
   },
   {
    "duration": 8,
    "start_time": "2022-02-23T20:28:18.013Z"
   },
   {
    "duration": 54,
    "start_time": "2022-02-23T20:30:26.181Z"
   },
   {
    "duration": 6,
    "start_time": "2022-02-23T20:30:35.353Z"
   },
   {
    "duration": 4,
    "start_time": "2022-02-23T20:31:20.367Z"
   },
   {
    "duration": 9,
    "start_time": "2022-02-23T20:31:33.566Z"
   },
   {
    "duration": 4,
    "start_time": "2022-02-23T20:36:45.566Z"
   },
   {
    "duration": 410,
    "start_time": "2022-02-23T20:36:47.923Z"
   },
   {
    "duration": 3,
    "start_time": "2022-02-23T20:36:59.542Z"
   },
   {
    "duration": 366,
    "start_time": "2022-02-23T20:37:01.047Z"
   },
   {
    "duration": 4,
    "start_time": "2022-02-23T20:37:13.025Z"
   },
   {
    "duration": 7,
    "start_time": "2022-02-23T20:37:15.055Z"
   },
   {
    "duration": 4,
    "start_time": "2022-02-23T20:37:23.011Z"
   },
   {
    "duration": 5,
    "start_time": "2022-02-23T20:37:24.707Z"
   },
   {
    "duration": 3,
    "start_time": "2022-02-23T20:37:53.706Z"
   },
   {
    "duration": 6,
    "start_time": "2022-02-23T20:37:55.030Z"
   },
   {
    "duration": 3,
    "start_time": "2022-02-23T20:38:10.640Z"
   },
   {
    "duration": 5,
    "start_time": "2022-02-23T20:38:11.905Z"
   },
   {
    "duration": 3,
    "start_time": "2022-02-23T20:38:19.248Z"
   },
   {
    "duration": 5,
    "start_time": "2022-02-23T20:38:23.697Z"
   },
   {
    "duration": 8,
    "start_time": "2022-02-23T20:38:30.863Z"
   },
   {
    "duration": 5,
    "start_time": "2022-02-23T20:38:34.339Z"
   },
   {
    "duration": 4,
    "start_time": "2022-02-23T20:38:39.808Z"
   },
   {
    "duration": 9,
    "start_time": "2022-02-23T20:38:41.877Z"
   },
   {
    "duration": 7,
    "start_time": "2022-02-23T20:39:16.209Z"
   },
   {
    "duration": 10,
    "start_time": "2022-02-23T20:46:57.855Z"
   },
   {
    "duration": 7,
    "start_time": "2022-02-23T20:47:05.912Z"
   },
   {
    "duration": 17,
    "start_time": "2022-02-23T20:47:13.463Z"
   },
   {
    "duration": 17,
    "start_time": "2022-02-23T20:47:42.364Z"
   },
   {
    "duration": 9,
    "start_time": "2022-02-23T20:48:11.313Z"
   },
   {
    "duration": 12,
    "start_time": "2022-02-23T20:48:37.026Z"
   },
   {
    "duration": 35,
    "start_time": "2022-02-23T20:48:49.951Z"
   },
   {
    "duration": 177,
    "start_time": "2022-02-23T20:58:08.550Z"
   },
   {
    "duration": 9,
    "start_time": "2022-02-23T20:58:20.013Z"
   },
   {
    "duration": 14,
    "start_time": "2022-02-23T20:58:29.812Z"
   },
   {
    "duration": 14,
    "start_time": "2022-02-23T20:58:42.142Z"
   },
   {
    "duration": 214,
    "start_time": "2022-02-23T21:00:01.278Z"
   },
   {
    "duration": 18,
    "start_time": "2022-02-23T21:00:05.414Z"
   },
   {
    "duration": 19,
    "start_time": "2022-02-23T21:00:11.465Z"
   },
   {
    "duration": 16,
    "start_time": "2022-02-23T21:00:24.096Z"
   },
   {
    "duration": 25,
    "start_time": "2022-02-23T21:00:34.764Z"
   },
   {
    "duration": 14,
    "start_time": "2022-02-23T21:00:45.456Z"
   },
   {
    "duration": 28,
    "start_time": "2022-02-23T21:01:33.542Z"
   },
   {
    "duration": 14,
    "start_time": "2022-02-23T21:02:19.604Z"
   },
   {
    "duration": 22,
    "start_time": "2022-02-23T21:02:35.061Z"
   },
   {
    "duration": 18,
    "start_time": "2022-02-23T21:02:49.391Z"
   },
   {
    "duration": 19,
    "start_time": "2022-02-23T21:03:05.803Z"
   },
   {
    "duration": 17,
    "start_time": "2022-02-23T21:03:08.078Z"
   },
   {
    "duration": 20,
    "start_time": "2022-02-23T21:03:10.174Z"
   },
   {
    "duration": 16,
    "start_time": "2022-02-23T21:03:48.998Z"
   },
   {
    "duration": 186,
    "start_time": "2022-02-23T21:06:32.334Z"
   },
   {
    "duration": 42,
    "start_time": "2022-02-23T21:06:46.225Z"
   },
   {
    "duration": 26,
    "start_time": "2022-02-23T21:06:48.831Z"
   },
   {
    "duration": 19,
    "start_time": "2022-02-23T21:06:50.888Z"
   },
   {
    "duration": 30,
    "start_time": "2022-02-23T21:06:52.191Z"
   },
   {
    "duration": 6,
    "start_time": "2022-02-23T21:07:39.434Z"
   },
   {
    "duration": 12,
    "start_time": "2022-02-23T21:08:31.022Z"
   },
   {
    "duration": 4873,
    "start_time": "2022-02-23T21:10:56.773Z"
   },
   {
    "duration": 96988,
    "start_time": "2022-02-23T21:09:40.573Z"
   },
   {
    "duration": 5014,
    "start_time": "2022-02-23T21:11:31.015Z"
   },
   {
    "duration": 17,
    "start_time": "2022-02-23T21:12:09.544Z"
   },
   {
    "duration": 44,
    "start_time": "2022-02-23T21:12:21.455Z"
   },
   {
    "duration": 17,
    "start_time": "2022-02-23T21:13:00.824Z"
   },
   {
    "duration": 15,
    "start_time": "2022-02-23T21:13:25.682Z"
   },
   {
    "duration": 233,
    "start_time": "2022-02-23T21:13:42.641Z"
   },
   {
    "duration": 16,
    "start_time": "2022-02-23T21:15:36.523Z"
   },
   {
    "duration": 16,
    "start_time": "2022-02-23T21:29:21.629Z"
   },
   {
    "duration": 23,
    "start_time": "2022-02-23T21:33:53.516Z"
   },
   {
    "duration": 7,
    "start_time": "2022-02-23T21:34:09.269Z"
   },
   {
    "duration": 20,
    "start_time": "2022-02-23T21:35:42.156Z"
   },
   {
    "duration": 5,
    "start_time": "2022-02-23T21:35:43.546Z"
   },
   {
    "duration": 17,
    "start_time": "2022-02-23T21:36:10.963Z"
   },
   {
    "duration": 16,
    "start_time": "2022-02-23T21:36:25.635Z"
   },
   {
    "duration": 333,
    "start_time": "2022-02-24T07:12:26.328Z"
   },
   {
    "duration": 664,
    "start_time": "2022-02-24T07:12:33.423Z"
   },
   {
    "duration": 12,
    "start_time": "2022-02-24T07:12:34.388Z"
   },
   {
    "duration": 36,
    "start_time": "2022-02-24T07:12:35.672Z"
   },
   {
    "duration": 10,
    "start_time": "2022-02-24T07:12:37.656Z"
   },
   {
    "duration": 15,
    "start_time": "2022-02-24T07:12:38.228Z"
   },
   {
    "duration": 7,
    "start_time": "2022-02-24T07:12:39.129Z"
   },
   {
    "duration": 6,
    "start_time": "2022-02-24T07:12:39.624Z"
   },
   {
    "duration": 6,
    "start_time": "2022-02-24T07:12:42.116Z"
   },
   {
    "duration": 6,
    "start_time": "2022-02-24T07:12:42.656Z"
   },
   {
    "duration": 6,
    "start_time": "2022-02-24T07:12:43.156Z"
   },
   {
    "duration": 6,
    "start_time": "2022-02-24T07:12:43.636Z"
   },
   {
    "duration": 7,
    "start_time": "2022-02-24T07:12:44.560Z"
   },
   {
    "duration": 31,
    "start_time": "2022-02-24T07:12:46.064Z"
   },
   {
    "duration": 34,
    "start_time": "2022-02-24T07:12:47.168Z"
   },
   {
    "duration": 5,
    "start_time": "2022-02-24T07:12:49.480Z"
   },
   {
    "duration": 10,
    "start_time": "2022-02-24T07:14:23.365Z"
   },
   {
    "duration": 6,
    "start_time": "2022-02-24T07:20:01.085Z"
   },
   {
    "duration": 74,
    "start_time": "2022-02-24T07:20:48.379Z"
   },
   {
    "duration": 13,
    "start_time": "2022-02-24T07:20:49.055Z"
   },
   {
    "duration": 34,
    "start_time": "2022-02-24T07:20:49.599Z"
   },
   {
    "duration": 10,
    "start_time": "2022-02-24T07:20:50.647Z"
   },
   {
    "duration": 15,
    "start_time": "2022-02-24T07:20:50.844Z"
   },
   {
    "duration": 7,
    "start_time": "2022-02-24T07:20:51.544Z"
   },
   {
    "duration": 6,
    "start_time": "2022-02-24T07:20:51.898Z"
   },
   {
    "duration": 6,
    "start_time": "2022-02-24T07:20:53.150Z"
   },
   {
    "duration": 6,
    "start_time": "2022-02-24T07:20:53.428Z"
   },
   {
    "duration": 6,
    "start_time": "2022-02-24T07:20:53.658Z"
   },
   {
    "duration": 5,
    "start_time": "2022-02-24T07:20:53.906Z"
   },
   {
    "duration": 6,
    "start_time": "2022-02-24T07:20:54.634Z"
   },
   {
    "duration": 31,
    "start_time": "2022-02-24T07:20:55.762Z"
   },
   {
    "duration": 36,
    "start_time": "2022-02-24T07:20:56.970Z"
   },
   {
    "duration": 37,
    "start_time": "2022-02-24T07:20:58.713Z"
   },
   {
    "duration": 41,
    "start_time": "2022-02-24T07:21:04.894Z"
   },
   {
    "duration": 76,
    "start_time": "2022-02-24T07:24:25.887Z"
   },
   {
    "duration": 11,
    "start_time": "2022-02-24T07:24:26.243Z"
   },
   {
    "duration": 37,
    "start_time": "2022-02-24T07:24:26.579Z"
   },
   {
    "duration": 10,
    "start_time": "2022-02-24T07:24:27.347Z"
   },
   {
    "duration": 14,
    "start_time": "2022-02-24T07:24:27.613Z"
   },
   {
    "duration": 7,
    "start_time": "2022-02-24T07:24:27.929Z"
   },
   {
    "duration": 6,
    "start_time": "2022-02-24T07:24:28.121Z"
   },
   {
    "duration": 7,
    "start_time": "2022-02-24T07:24:28.544Z"
   },
   {
    "duration": 7,
    "start_time": "2022-02-24T07:24:28.785Z"
   },
   {
    "duration": 6,
    "start_time": "2022-02-24T07:24:29.209Z"
   },
   {
    "duration": 6,
    "start_time": "2022-02-24T07:24:29.488Z"
   },
   {
    "duration": 7,
    "start_time": "2022-02-24T07:24:29.689Z"
   },
   {
    "duration": 31,
    "start_time": "2022-02-24T07:24:30.466Z"
   },
   {
    "duration": 37,
    "start_time": "2022-02-24T07:24:31.401Z"
   },
   {
    "duration": 40,
    "start_time": "2022-02-24T07:24:32.841Z"
   },
   {
    "duration": 41,
    "start_time": "2022-02-24T07:24:34.561Z"
   },
   {
    "duration": 106,
    "start_time": "2022-02-24T07:45:37.260Z"
   },
   {
    "duration": 39,
    "start_time": "2022-02-24T07:46:04.116Z"
   },
   {
    "duration": 73,
    "start_time": "2022-02-24T07:48:13.457Z"
   },
   {
    "duration": 12,
    "start_time": "2022-02-24T07:48:14.083Z"
   },
   {
    "duration": 41,
    "start_time": "2022-02-24T07:48:14.555Z"
   },
   {
    "duration": 11,
    "start_time": "2022-02-24T07:48:15.478Z"
   },
   {
    "duration": 15,
    "start_time": "2022-02-24T07:48:15.964Z"
   },
   {
    "duration": 7,
    "start_time": "2022-02-24T07:48:16.731Z"
   },
   {
    "duration": 6,
    "start_time": "2022-02-24T07:48:17.195Z"
   },
   {
    "duration": 6,
    "start_time": "2022-02-24T07:48:18.956Z"
   },
   {
    "duration": 6,
    "start_time": "2022-02-24T07:48:19.203Z"
   },
   {
    "duration": 6,
    "start_time": "2022-02-24T07:48:19.371Z"
   },
   {
    "duration": 6,
    "start_time": "2022-02-24T07:48:19.564Z"
   },
   {
    "duration": 7,
    "start_time": "2022-02-24T07:48:19.740Z"
   },
   {
    "duration": 32,
    "start_time": "2022-02-24T07:48:21.348Z"
   },
   {
    "duration": 37,
    "start_time": "2022-02-24T07:48:22.932Z"
   },
   {
    "duration": 40,
    "start_time": "2022-02-24T07:48:27.071Z"
   },
   {
    "duration": 63,
    "start_time": "2022-02-24T07:57:24.891Z"
   },
   {
    "duration": 13,
    "start_time": "2022-02-24T07:57:28.107Z"
   },
   {
    "duration": 39,
    "start_time": "2022-02-24T07:57:34.975Z"
   },
   {
    "duration": 4,
    "start_time": "2022-02-24T07:58:10.235Z"
   },
   {
    "duration": 6,
    "start_time": "2022-02-24T08:01:43.948Z"
   },
   {
    "duration": 7,
    "start_time": "2022-02-24T08:01:44.499Z"
   },
   {
    "duration": 8,
    "start_time": "2022-02-24T08:05:11.643Z"
   },
   {
    "duration": 75,
    "start_time": "2022-02-24T08:05:20.102Z"
   },
   {
    "duration": 12,
    "start_time": "2022-02-24T08:05:20.993Z"
   },
   {
    "duration": 35,
    "start_time": "2022-02-24T08:05:21.811Z"
   },
   {
    "duration": 7,
    "start_time": "2022-02-24T08:05:24.427Z"
   },
   {
    "duration": 7,
    "start_time": "2022-02-24T08:05:24.999Z"
   },
   {
    "duration": 6,
    "start_time": "2022-02-24T08:05:25.786Z"
   },
   {
    "duration": 9,
    "start_time": "2022-02-24T08:05:26.716Z"
   },
   {
    "duration": 13,
    "start_time": "2022-02-24T08:06:02.756Z"
   },
   {
    "duration": 12,
    "start_time": "2022-02-24T08:06:54.744Z"
   },
   {
    "duration": 36,
    "start_time": "2022-02-24T08:06:55.687Z"
   },
   {
    "duration": 108,
    "start_time": "2022-02-24T08:08:06.369Z"
   },
   {
    "duration": 7,
    "start_time": "2022-02-24T08:12:39.954Z"
   },
   {
    "duration": 40,
    "start_time": "2022-02-24T08:20:02.622Z"
   },
   {
    "duration": 42,
    "start_time": "2022-02-24T08:23:41.180Z"
   },
   {
    "duration": 41,
    "start_time": "2022-02-24T08:25:08.229Z"
   },
   {
    "duration": 41,
    "start_time": "2022-02-24T08:25:25.614Z"
   },
   {
    "duration": 75,
    "start_time": "2022-02-24T08:29:47.177Z"
   },
   {
    "duration": 12,
    "start_time": "2022-02-24T08:29:47.741Z"
   },
   {
    "duration": 34,
    "start_time": "2022-02-24T08:29:48.346Z"
   },
   {
    "duration": 5,
    "start_time": "2022-02-24T08:29:50.557Z"
   },
   {
    "duration": 7,
    "start_time": "2022-02-24T08:29:51.322Z"
   },
   {
    "duration": 6,
    "start_time": "2022-02-24T08:29:51.818Z"
   },
   {
    "duration": 9,
    "start_time": "2022-02-24T08:29:52.691Z"
   },
   {
    "duration": 12,
    "start_time": "2022-02-24T08:29:53.185Z"
   },
   {
    "duration": 36,
    "start_time": "2022-02-24T08:29:55.419Z"
   },
   {
    "duration": 6,
    "start_time": "2022-02-24T08:29:57.069Z"
   },
   {
    "duration": 39,
    "start_time": "2022-02-24T08:29:58.290Z"
   },
   {
    "duration": 48,
    "start_time": "2022-02-24T08:29:59.576Z"
   },
   {
    "duration": 118,
    "start_time": "2022-02-24T08:31:31.078Z"
   },
   {
    "duration": 151,
    "start_time": "2022-02-24T08:33:06.090Z"
   },
   {
    "duration": 121,
    "start_time": "2022-02-24T08:33:17.745Z"
   },
   {
    "duration": 90,
    "start_time": "2022-02-24T08:33:24.665Z"
   },
   {
    "duration": 46,
    "start_time": "2022-02-24T08:33:40.239Z"
   },
   {
    "duration": 74,
    "start_time": "2022-02-24T08:34:12.117Z"
   },
   {
    "duration": 13,
    "start_time": "2022-02-24T08:34:12.425Z"
   },
   {
    "duration": 38,
    "start_time": "2022-02-24T08:34:12.730Z"
   },
   {
    "duration": 6,
    "start_time": "2022-02-24T08:34:13.668Z"
   },
   {
    "duration": 7,
    "start_time": "2022-02-24T08:34:13.825Z"
   },
   {
    "duration": 7,
    "start_time": "2022-02-24T08:34:14.001Z"
   },
   {
    "duration": 9,
    "start_time": "2022-02-24T08:34:14.137Z"
   },
   {
    "duration": 12,
    "start_time": "2022-02-24T08:34:14.381Z"
   },
   {
    "duration": 40,
    "start_time": "2022-02-24T08:34:15.235Z"
   },
   {
    "duration": 6,
    "start_time": "2022-02-24T08:34:16.248Z"
   },
   {
    "duration": 40,
    "start_time": "2022-02-24T08:34:16.821Z"
   },
   {
    "duration": 9,
    "start_time": "2022-02-24T08:34:19.351Z"
   },
   {
    "duration": 40,
    "start_time": "2022-02-24T08:34:29.634Z"
   },
   {
    "duration": 37,
    "start_time": "2022-02-24T08:34:56.037Z"
   },
   {
    "duration": 64,
    "start_time": "2022-02-24T08:36:03.087Z"
   },
   {
    "duration": 12,
    "start_time": "2022-02-24T08:36:03.409Z"
   },
   {
    "duration": 36,
    "start_time": "2022-02-24T08:36:03.768Z"
   },
   {
    "duration": 6,
    "start_time": "2022-02-24T08:36:06.055Z"
   },
   {
    "duration": 7,
    "start_time": "2022-02-24T08:36:06.672Z"
   },
   {
    "duration": 5,
    "start_time": "2022-02-24T08:36:07.756Z"
   },
   {
    "duration": 8,
    "start_time": "2022-02-24T08:36:08.750Z"
   },
   {
    "duration": 12,
    "start_time": "2022-02-24T08:36:09.041Z"
   },
   {
    "duration": 36,
    "start_time": "2022-02-24T08:36:09.957Z"
   },
   {
    "duration": 6,
    "start_time": "2022-02-24T08:36:22.086Z"
   },
   {
    "duration": 5,
    "start_time": "2022-02-24T08:36:49.562Z"
   },
   {
    "duration": 8,
    "start_time": "2022-02-24T08:37:08.712Z"
   },
   {
    "duration": 8,
    "start_time": "2022-02-24T08:37:19.800Z"
   },
   {
    "duration": 42,
    "start_time": "2022-02-24T08:37:37.330Z"
   },
   {
    "duration": 66,
    "start_time": "2022-02-24T08:39:38.897Z"
   },
   {
    "duration": 12,
    "start_time": "2022-02-24T08:39:39.964Z"
   },
   {
    "duration": 36,
    "start_time": "2022-02-24T08:39:40.974Z"
   },
   {
    "duration": 6,
    "start_time": "2022-02-24T08:39:43.592Z"
   },
   {
    "duration": 7,
    "start_time": "2022-02-24T08:39:44.161Z"
   },
   {
    "duration": 6,
    "start_time": "2022-02-24T08:39:44.748Z"
   },
   {
    "duration": 8,
    "start_time": "2022-02-24T08:39:45.449Z"
   },
   {
    "duration": 13,
    "start_time": "2022-02-24T08:39:46.090Z"
   },
   {
    "duration": 35,
    "start_time": "2022-02-24T08:39:47.606Z"
   },
   {
    "duration": 8,
    "start_time": "2022-02-24T08:39:49.992Z"
   },
   {
    "duration": 5,
    "start_time": "2022-02-24T08:39:51.633Z"
   },
   {
    "duration": 9,
    "start_time": "2022-02-24T08:39:56.074Z"
   },
   {
    "duration": 73,
    "start_time": "2022-02-24T08:42:04.424Z"
   },
   {
    "duration": 11,
    "start_time": "2022-02-24T08:42:04.733Z"
   },
   {
    "duration": 35,
    "start_time": "2022-02-24T08:42:05.076Z"
   },
   {
    "duration": 7,
    "start_time": "2022-02-24T08:42:06.172Z"
   },
   {
    "duration": 7,
    "start_time": "2022-02-24T08:42:06.341Z"
   },
   {
    "duration": 6,
    "start_time": "2022-02-24T08:42:06.701Z"
   },
   {
    "duration": 9,
    "start_time": "2022-02-24T08:42:07.160Z"
   },
   {
    "duration": 12,
    "start_time": "2022-02-24T08:42:07.600Z"
   },
   {
    "duration": 38,
    "start_time": "2022-02-24T08:42:08.037Z"
   },
   {
    "duration": 8,
    "start_time": "2022-02-24T08:42:10.079Z"
   },
   {
    "duration": 6,
    "start_time": "2022-02-24T08:42:10.712Z"
   },
   {
    "duration": 10,
    "start_time": "2022-02-24T08:42:11.335Z"
   },
   {
    "duration": 38,
    "start_time": "2022-02-24T08:43:10.776Z"
   },
   {
    "duration": 36,
    "start_time": "2022-02-24T08:45:09.733Z"
   },
   {
    "duration": 10,
    "start_time": "2022-02-24T08:49:28.663Z"
   },
   {
    "duration": 11,
    "start_time": "2022-02-24T08:49:36.195Z"
   },
   {
    "duration": 15,
    "start_time": "2022-02-24T08:49:43.268Z"
   },
   {
    "duration": 6,
    "start_time": "2022-02-24T08:49:51.020Z"
   },
   {
    "duration": 7,
    "start_time": "2022-02-24T08:49:56.078Z"
   },
   {
    "duration": 6,
    "start_time": "2022-02-24T08:50:04.701Z"
   },
   {
    "duration": 8,
    "start_time": "2022-02-24T08:50:10.299Z"
   },
   {
    "duration": 6,
    "start_time": "2022-02-24T08:50:17.387Z"
   },
   {
    "duration": 6,
    "start_time": "2022-02-24T08:50:33.442Z"
   },
   {
    "duration": 7,
    "start_time": "2022-02-24T08:50:36.788Z"
   },
   {
    "duration": 6,
    "start_time": "2022-02-24T08:50:39.305Z"
   },
   {
    "duration": 7,
    "start_time": "2022-02-24T08:50:50.882Z"
   },
   {
    "duration": 6,
    "start_time": "2022-02-24T08:50:57.475Z"
   },
   {
    "duration": 33,
    "start_time": "2022-02-24T08:51:16.368Z"
   },
   {
    "duration": 31,
    "start_time": "2022-02-24T08:51:30.197Z"
   },
   {
    "duration": 36,
    "start_time": "2022-02-24T08:51:32.015Z"
   },
   {
    "duration": 14,
    "start_time": "2022-02-24T08:53:21.173Z"
   },
   {
    "duration": 35,
    "start_time": "2022-02-24T08:53:39.356Z"
   },
   {
    "duration": 15,
    "start_time": "2022-02-24T08:54:50.762Z"
   },
   {
    "duration": 36,
    "start_time": "2022-02-24T08:54:52.000Z"
   },
   {
    "duration": 34,
    "start_time": "2022-02-24T08:55:03.398Z"
   },
   {
    "duration": 36,
    "start_time": "2022-02-24T08:55:33.708Z"
   },
   {
    "duration": 15,
    "start_time": "2022-02-24T08:55:39.002Z"
   },
   {
    "duration": 44,
    "start_time": "2022-02-24T08:55:54.498Z"
   },
   {
    "duration": 51,
    "start_time": "2022-02-24T08:56:29.212Z"
   },
   {
    "duration": 26,
    "start_time": "2022-02-24T08:56:33.219Z"
   },
   {
    "duration": 59,
    "start_time": "2022-02-24T08:59:24.612Z"
   },
   {
    "duration": 132,
    "start_time": "2022-02-24T08:59:42.573Z"
   },
   {
    "duration": 60,
    "start_time": "2022-02-24T08:59:47.763Z"
   },
   {
    "duration": 69,
    "start_time": "2022-02-24T09:00:03.359Z"
   },
   {
    "duration": 12,
    "start_time": "2022-02-24T09:00:03.685Z"
   },
   {
    "duration": 37,
    "start_time": "2022-02-24T09:00:04.018Z"
   },
   {
    "duration": 7,
    "start_time": "2022-02-24T09:00:04.990Z"
   },
   {
    "duration": 7,
    "start_time": "2022-02-24T09:00:05.177Z"
   },
   {
    "duration": 6,
    "start_time": "2022-02-24T09:00:05.332Z"
   },
   {
    "duration": 8,
    "start_time": "2022-02-24T09:00:05.489Z"
   },
   {
    "duration": 12,
    "start_time": "2022-02-24T09:00:05.662Z"
   },
   {
    "duration": 36,
    "start_time": "2022-02-24T09:00:05.809Z"
   },
   {
    "duration": 7,
    "start_time": "2022-02-24T09:00:06.160Z"
   },
   {
    "duration": 7,
    "start_time": "2022-02-24T09:00:06.321Z"
   },
   {
    "duration": 11,
    "start_time": "2022-02-24T09:00:06.498Z"
   },
   {
    "duration": 35,
    "start_time": "2022-02-24T09:00:06.672Z"
   },
   {
    "duration": 11,
    "start_time": "2022-02-24T09:00:07.561Z"
   },
   {
    "duration": 15,
    "start_time": "2022-02-24T09:00:07.722Z"
   },
   {
    "duration": 7,
    "start_time": "2022-02-24T09:00:07.906Z"
   },
   {
    "duration": 7,
    "start_time": "2022-02-24T09:00:08.080Z"
   },
   {
    "duration": 7,
    "start_time": "2022-02-24T09:00:08.448Z"
   },
   {
    "duration": 7,
    "start_time": "2022-02-24T09:00:08.650Z"
   },
   {
    "duration": 6,
    "start_time": "2022-02-24T09:00:08.849Z"
   },
   {
    "duration": 6,
    "start_time": "2022-02-24T09:00:09.040Z"
   },
   {
    "duration": 7,
    "start_time": "2022-02-24T09:00:09.233Z"
   },
   {
    "duration": 33,
    "start_time": "2022-02-24T09:00:10.237Z"
   },
   {
    "duration": 35,
    "start_time": "2022-02-24T09:00:10.393Z"
   },
   {
    "duration": 15,
    "start_time": "2022-02-24T09:00:11.905Z"
   },
   {
    "duration": 38,
    "start_time": "2022-02-24T09:00:12.218Z"
   },
   {
    "duration": 15,
    "start_time": "2022-02-24T09:00:14.184Z"
   },
   {
    "duration": 61,
    "start_time": "2022-02-24T09:00:17.897Z"
   },
   {
    "duration": 66,
    "start_time": "2022-02-24T09:00:19.437Z"
   },
   {
    "duration": 13,
    "start_time": "2022-02-24T09:01:01.081Z"
   },
   {
    "duration": 77,
    "start_time": "2022-02-24T09:01:33.514Z"
   },
   {
    "duration": 12,
    "start_time": "2022-02-24T09:01:33.840Z"
   },
   {
    "duration": 39,
    "start_time": "2022-02-24T09:01:34.179Z"
   },
   {
    "duration": 6,
    "start_time": "2022-02-24T09:01:35.221Z"
   },
   {
    "duration": 7,
    "start_time": "2022-02-24T09:01:35.406Z"
   },
   {
    "duration": 6,
    "start_time": "2022-02-24T09:01:35.577Z"
   },
   {
    "duration": 9,
    "start_time": "2022-02-24T09:01:35.742Z"
   },
   {
    "duration": 13,
    "start_time": "2022-02-24T09:01:35.920Z"
   },
   {
    "duration": 41,
    "start_time": "2022-02-24T09:01:36.116Z"
   },
   {
    "duration": 7,
    "start_time": "2022-02-24T09:01:36.505Z"
   },
   {
    "duration": 6,
    "start_time": "2022-02-24T09:01:36.690Z"
   },
   {
    "duration": 10,
    "start_time": "2022-02-24T09:01:36.866Z"
   },
   {
    "duration": 39,
    "start_time": "2022-02-24T09:01:37.068Z"
   },
   {
    "duration": 11,
    "start_time": "2022-02-24T09:01:39.211Z"
   },
   {
    "duration": 17,
    "start_time": "2022-02-24T09:01:39.224Z"
   },
   {
    "duration": 11,
    "start_time": "2022-02-24T09:01:39.244Z"
   },
   {
    "duration": 11,
    "start_time": "2022-02-24T09:01:39.256Z"
   },
   {
    "duration": 12,
    "start_time": "2022-02-24T09:01:39.269Z"
   },
   {
    "duration": 10,
    "start_time": "2022-02-24T09:01:39.283Z"
   },
   {
    "duration": 6,
    "start_time": "2022-02-24T09:01:39.302Z"
   },
   {
    "duration": 7,
    "start_time": "2022-02-24T09:01:39.490Z"
   },
   {
    "duration": 9,
    "start_time": "2022-02-24T09:01:39.865Z"
   },
   {
    "duration": 37,
    "start_time": "2022-02-24T09:01:40.228Z"
   },
   {
    "duration": 37,
    "start_time": "2022-02-24T09:01:40.423Z"
   },
   {
    "duration": 14,
    "start_time": "2022-02-24T09:01:40.808Z"
   },
   {
    "duration": 38,
    "start_time": "2022-02-24T09:01:41.344Z"
   },
   {
    "duration": 14,
    "start_time": "2022-02-24T09:01:42.819Z"
   },
   {
    "duration": 42,
    "start_time": "2022-02-24T09:01:44.080Z"
   },
   {
    "duration": 31,
    "start_time": "2022-02-24T09:02:06.617Z"
   },
   {
    "duration": 36,
    "start_time": "2022-02-24T09:02:19.907Z"
   },
   {
    "duration": 39,
    "start_time": "2022-02-24T09:03:13.790Z"
   },
   {
    "duration": 28,
    "start_time": "2022-02-24T09:04:00.331Z"
   },
   {
    "duration": 26,
    "start_time": "2022-02-24T09:04:17.699Z"
   },
   {
    "duration": 61,
    "start_time": "2022-02-24T09:05:16.473Z"
   },
   {
    "duration": 14,
    "start_time": "2022-02-24T09:05:44.605Z"
   },
   {
    "duration": 728,
    "start_time": "2022-02-24T12:35:13.661Z"
   },
   {
    "duration": 721,
    "start_time": "2022-02-24T12:35:34.982Z"
   },
   {
    "duration": 707,
    "start_time": "2022-02-24T12:36:44.783Z"
   },
   {
    "duration": 10,
    "start_time": "2022-02-24T13:28:24.343Z"
   },
   {
    "duration": 14,
    "start_time": "2022-02-24T13:29:14.687Z"
   },
   {
    "duration": 11,
    "start_time": "2022-02-24T13:29:32.105Z"
   },
   {
    "duration": 1854,
    "start_time": "2022-02-24T13:37:13.300Z"
   },
   {
    "duration": 18,
    "start_time": "2022-02-24T13:37:37.561Z"
   },
   {
    "duration": -21,
    "start_time": "2022-02-24T13:37:54.430Z"
   },
   {
    "duration": 451,
    "start_time": "2022-02-24T13:37:57.314Z"
   },
   {
    "duration": -44,
    "start_time": "2022-02-24T13:37:57.811Z"
   },
   {
    "duration": 66,
    "start_time": "2022-02-24T13:38:14.505Z"
   },
   {
    "duration": 17,
    "start_time": "2022-02-24T13:38:14.574Z"
   },
   {
    "duration": 62,
    "start_time": "2022-02-24T13:38:14.593Z"
   },
   {
    "duration": 17,
    "start_time": "2022-02-24T13:38:14.657Z"
   },
   {
    "duration": 33,
    "start_time": "2022-02-24T13:38:14.677Z"
   },
   {
    "duration": 34,
    "start_time": "2022-02-24T13:38:14.712Z"
   },
   {
    "duration": 31,
    "start_time": "2022-02-24T13:38:14.748Z"
   },
   {
    "duration": 13,
    "start_time": "2022-02-24T13:38:14.782Z"
   },
   {
    "duration": 39,
    "start_time": "2022-02-24T13:38:14.797Z"
   },
   {
    "duration": 7,
    "start_time": "2022-02-24T13:38:14.838Z"
   },
   {
    "duration": 29,
    "start_time": "2022-02-24T13:38:14.847Z"
   },
   {
    "duration": 26,
    "start_time": "2022-02-24T13:38:14.879Z"
   },
   {
    "duration": 64,
    "start_time": "2022-02-24T13:38:14.908Z"
   },
   {
    "duration": 14,
    "start_time": "2022-02-24T13:38:14.975Z"
   },
   {
    "duration": 58,
    "start_time": "2022-02-24T13:38:14.990Z"
   },
   {
    "duration": 12,
    "start_time": "2022-02-24T13:38:15.050Z"
   },
   {
    "duration": 39,
    "start_time": "2022-02-24T13:38:15.063Z"
   },
   {
    "duration": 29,
    "start_time": "2022-02-24T13:38:15.104Z"
   },
   {
    "duration": 19,
    "start_time": "2022-02-24T13:38:15.135Z"
   },
   {
    "duration": 45,
    "start_time": "2022-02-24T13:38:15.156Z"
   },
   {
    "duration": 23,
    "start_time": "2022-02-24T13:38:15.202Z"
   },
   {
    "duration": 32,
    "start_time": "2022-02-24T13:38:15.227Z"
   },
   {
    "duration": 64,
    "start_time": "2022-02-24T13:38:15.263Z"
   },
   {
    "duration": 34,
    "start_time": "2022-02-24T13:38:15.330Z"
   },
   {
    "duration": 18,
    "start_time": "2022-02-24T13:38:15.366Z"
   },
   {
    "duration": 57,
    "start_time": "2022-02-24T13:38:15.386Z"
   },
   {
    "duration": 13,
    "start_time": "2022-02-24T13:38:15.445Z"
   },
   {
    "duration": 65,
    "start_time": "2022-02-24T13:38:15.460Z"
   },
   {
    "duration": 47,
    "start_time": "2022-02-24T13:38:15.527Z"
   },
   {
    "duration": 63,
    "start_time": "2022-02-24T13:38:15.577Z"
   },
   {
    "duration": 12,
    "start_time": "2022-02-24T13:38:15.641Z"
   },
   {
    "duration": 17,
    "start_time": "2022-02-24T13:38:15.669Z"
   },
   {
    "duration": 60,
    "start_time": "2022-02-24T13:38:15.688Z"
   },
   {
    "duration": 93,
    "start_time": "2022-02-24T13:38:15.750Z"
   },
   {
    "duration": -58,
    "start_time": "2022-02-24T13:38:15.903Z"
   },
   {
    "duration": -67,
    "start_time": "2022-02-24T13:38:15.913Z"
   },
   {
    "duration": -69,
    "start_time": "2022-02-24T13:38:15.916Z"
   },
   {
    "duration": 7098,
    "start_time": "2022-02-24T13:38:51.168Z"
   },
   {
    "duration": 73,
    "start_time": "2022-02-24T13:39:15.414Z"
   },
   {
    "duration": 12,
    "start_time": "2022-02-24T13:39:15.490Z"
   },
   {
    "duration": 36,
    "start_time": "2022-02-24T13:39:15.505Z"
   },
   {
    "duration": 8,
    "start_time": "2022-02-24T13:39:15.572Z"
   },
   {
    "duration": 12,
    "start_time": "2022-02-24T13:39:15.583Z"
   },
   {
    "duration": 6,
    "start_time": "2022-02-24T13:39:15.597Z"
   },
   {
    "duration": 10,
    "start_time": "2022-02-24T13:39:15.604Z"
   },
   {
    "duration": 13,
    "start_time": "2022-02-24T13:39:15.616Z"
   },
   {
    "duration": 46,
    "start_time": "2022-02-24T13:39:15.669Z"
   },
   {
    "duration": 7,
    "start_time": "2022-02-24T13:39:15.717Z"
   },
   {
    "duration": 5,
    "start_time": "2022-02-24T13:39:15.726Z"
   },
   {
    "duration": 43,
    "start_time": "2022-02-24T13:39:15.734Z"
   },
   {
    "duration": 45,
    "start_time": "2022-02-24T13:39:15.783Z"
   },
   {
    "duration": 12,
    "start_time": "2022-02-24T13:39:15.829Z"
   },
   {
    "duration": 38,
    "start_time": "2022-02-24T13:39:15.843Z"
   },
   {
    "duration": 8,
    "start_time": "2022-02-24T13:39:15.884Z"
   },
   {
    "duration": 9,
    "start_time": "2022-02-24T13:39:15.894Z"
   },
   {
    "duration": 8,
    "start_time": "2022-02-24T13:39:15.905Z"
   },
   {
    "duration": 11,
    "start_time": "2022-02-24T13:39:15.914Z"
   },
   {
    "duration": 8,
    "start_time": "2022-02-24T13:39:15.926Z"
   },
   {
    "duration": 43,
    "start_time": "2022-02-24T13:39:15.936Z"
   },
   {
    "duration": 9,
    "start_time": "2022-02-24T13:39:15.982Z"
   },
   {
    "duration": 39,
    "start_time": "2022-02-24T13:39:15.995Z"
   },
   {
    "duration": 63,
    "start_time": "2022-02-24T13:39:16.036Z"
   },
   {
    "duration": 13,
    "start_time": "2022-02-24T13:39:16.101Z"
   },
   {
    "duration": 55,
    "start_time": "2022-02-24T13:39:16.116Z"
   },
   {
    "duration": 19,
    "start_time": "2022-02-24T13:39:16.174Z"
   },
   {
    "duration": 48,
    "start_time": "2022-02-24T13:39:16.196Z"
   },
   {
    "duration": 59,
    "start_time": "2022-02-24T13:39:16.245Z"
   },
   {
    "duration": 76,
    "start_time": "2022-02-24T13:39:16.306Z"
   },
   {
    "duration": 14,
    "start_time": "2022-02-24T13:39:16.384Z"
   },
   {
    "duration": 10,
    "start_time": "2022-02-24T13:39:16.401Z"
   },
   {
    "duration": 2,
    "start_time": "2022-02-24T13:39:16.414Z"
   },
   {
    "duration": 93,
    "start_time": "2022-02-24T13:39:16.418Z"
   },
   {
    "duration": -27,
    "start_time": "2022-02-24T13:39:16.541Z"
   },
   {
    "duration": -35,
    "start_time": "2022-02-24T13:39:16.550Z"
   },
   {
    "duration": -36,
    "start_time": "2022-02-24T13:39:16.553Z"
   },
   {
    "duration": 17,
    "start_time": "2022-02-24T13:40:07.439Z"
   },
   {
    "duration": 89,
    "start_time": "2022-02-24T13:43:05.860Z"
   },
   {
    "duration": 8,
    "start_time": "2022-02-24T13:43:09.091Z"
   },
   {
    "duration": 3,
    "start_time": "2022-02-24T13:48:25.709Z"
   },
   {
    "duration": 4,
    "start_time": "2022-02-24T13:48:29.353Z"
   },
   {
    "duration": 39,
    "start_time": "2022-02-24T13:49:51.345Z"
   },
   {
    "duration": 4,
    "start_time": "2022-02-24T13:50:07.446Z"
   },
   {
    "duration": 4,
    "start_time": "2022-02-24T13:52:08.165Z"
   },
   {
    "duration": 5,
    "start_time": "2022-02-24T13:52:55.353Z"
   },
   {
    "duration": 4,
    "start_time": "2022-02-24T13:53:09.705Z"
   },
   {
    "duration": 6,
    "start_time": "2022-02-24T13:53:10.735Z"
   },
   {
    "duration": 4,
    "start_time": "2022-02-24T13:53:37.128Z"
   },
   {
    "duration": 6,
    "start_time": "2022-02-24T13:53:37.607Z"
   },
   {
    "duration": 34,
    "start_time": "2022-02-24T13:54:10.448Z"
   },
   {
    "duration": 10,
    "start_time": "2022-02-24T13:55:49.844Z"
   },
   {
    "duration": 7,
    "start_time": "2022-02-24T13:56:14.871Z"
   },
   {
    "duration": 8,
    "start_time": "2022-02-24T13:56:25.331Z"
   },
   {
    "duration": 6,
    "start_time": "2022-02-24T13:58:18.191Z"
   },
   {
    "duration": 7,
    "start_time": "2022-02-24T13:59:28.798Z"
   },
   {
    "duration": 8,
    "start_time": "2022-02-24T13:59:45.980Z"
   },
   {
    "duration": 8,
    "start_time": "2022-02-24T13:59:54.995Z"
   },
   {
    "duration": 7,
    "start_time": "2022-02-24T14:00:48.555Z"
   },
   {
    "duration": 8,
    "start_time": "2022-02-24T14:08:06.915Z"
   },
   {
    "duration": 32,
    "start_time": "2022-02-24T14:09:42.442Z"
   },
   {
    "duration": 18,
    "start_time": "2022-02-24T14:13:06.498Z"
   },
   {
    "duration": 7,
    "start_time": "2022-02-24T14:13:57.820Z"
   },
   {
    "duration": 4,
    "start_time": "2022-02-24T14:17:04.671Z"
   },
   {
    "duration": 1385,
    "start_time": "2022-02-24T14:18:43.777Z"
   },
   {
    "duration": 5,
    "start_time": "2022-02-24T14:19:01.416Z"
   },
   {
    "duration": 7,
    "start_time": "2022-02-24T14:19:04.480Z"
   },
   {
    "duration": 4,
    "start_time": "2022-02-24T14:19:17.520Z"
   },
   {
    "duration": 4,
    "start_time": "2022-02-24T14:19:19.969Z"
   },
   {
    "duration": 1710,
    "start_time": "2022-02-24T14:19:21.770Z"
   },
   {
    "duration": 5,
    "start_time": "2022-02-24T14:19:36.216Z"
   },
   {
    "duration": 1782,
    "start_time": "2022-02-24T14:19:37.392Z"
   },
   {
    "duration": 105,
    "start_time": "2022-02-24T14:22:33.873Z"
   },
   {
    "duration": 99,
    "start_time": "2022-02-24T14:22:39.902Z"
   },
   {
    "duration": 291,
    "start_time": "2022-02-24T14:22:51.975Z"
   },
   {
    "duration": 3,
    "start_time": "2022-02-24T14:23:03.113Z"
   },
   {
    "duration": 6,
    "start_time": "2022-02-24T14:23:09.834Z"
   },
   {
    "duration": 7,
    "start_time": "2022-02-24T14:27:32.172Z"
   },
   {
    "duration": 6,
    "start_time": "2022-02-24T14:27:52.336Z"
   },
   {
    "duration": 7,
    "start_time": "2022-02-24T14:27:55.836Z"
   },
   {
    "duration": 28,
    "start_time": "2022-02-24T14:29:59.653Z"
   },
   {
    "duration": 15,
    "start_time": "2022-02-24T14:30:13.314Z"
   },
   {
    "duration": 17,
    "start_time": "2022-02-24T14:30:23.171Z"
   },
   {
    "duration": 4,
    "start_time": "2022-02-24T14:31:55.973Z"
   },
   {
    "duration": 699,
    "start_time": "2022-02-24T14:37:59.208Z"
   },
   {
    "duration": 12,
    "start_time": "2022-02-24T14:37:59.909Z"
   },
   {
    "duration": 51,
    "start_time": "2022-02-24T14:37:59.923Z"
   },
   {
    "duration": 7,
    "start_time": "2022-02-24T14:37:59.977Z"
   },
   {
    "duration": 14,
    "start_time": "2022-02-24T14:37:59.986Z"
   },
   {
    "duration": 8,
    "start_time": "2022-02-24T14:38:00.002Z"
   },
   {
    "duration": 14,
    "start_time": "2022-02-24T14:38:00.011Z"
   },
   {
    "duration": 17,
    "start_time": "2022-02-24T14:38:00.028Z"
   },
   {
    "duration": 47,
    "start_time": "2022-02-24T14:38:00.069Z"
   },
   {
    "duration": 6,
    "start_time": "2022-02-24T14:38:00.118Z"
   },
   {
    "duration": 7,
    "start_time": "2022-02-24T14:38:00.126Z"
   },
   {
    "duration": 36,
    "start_time": "2022-02-24T14:38:00.135Z"
   },
   {
    "duration": 40,
    "start_time": "2022-02-24T14:38:00.174Z"
   },
   {
    "duration": 11,
    "start_time": "2022-02-24T14:38:00.216Z"
   },
   {
    "duration": 42,
    "start_time": "2022-02-24T14:38:00.229Z"
   },
   {
    "duration": 12,
    "start_time": "2022-02-24T14:38:00.273Z"
   },
   {
    "duration": 9,
    "start_time": "2022-02-24T14:38:00.287Z"
   },
   {
    "duration": 7,
    "start_time": "2022-02-24T14:38:00.298Z"
   },
   {
    "duration": 11,
    "start_time": "2022-02-24T14:38:00.307Z"
   },
   {
    "duration": 10,
    "start_time": "2022-02-24T14:38:00.320Z"
   },
   {
    "duration": 9,
    "start_time": "2022-02-24T14:38:00.332Z"
   },
   {
    "duration": 9,
    "start_time": "2022-02-24T14:38:00.371Z"
   },
   {
    "duration": 36,
    "start_time": "2022-02-24T14:38:00.385Z"
   },
   {
    "duration": 62,
    "start_time": "2022-02-24T14:38:00.423Z"
   },
   {
    "duration": 17,
    "start_time": "2022-02-24T14:38:00.487Z"
   },
   {
    "duration": 35,
    "start_time": "2022-02-24T14:38:00.506Z"
   },
   {
    "duration": 42,
    "start_time": "2022-02-24T14:38:00.543Z"
   },
   {
    "duration": 44,
    "start_time": "2022-02-24T14:38:00.587Z"
   },
   {
    "duration": 56,
    "start_time": "2022-02-24T14:38:00.633Z"
   },
   {
    "duration": 55,
    "start_time": "2022-02-24T14:38:00.691Z"
   },
   {
    "duration": 27,
    "start_time": "2022-02-24T14:38:00.748Z"
   },
   {
    "duration": 13,
    "start_time": "2022-02-24T14:38:00.778Z"
   },
   {
    "duration": 23,
    "start_time": "2022-02-24T14:38:00.793Z"
   },
   {
    "duration": 4,
    "start_time": "2022-02-24T14:38:00.818Z"
   },
   {
    "duration": 8,
    "start_time": "2022-02-24T14:38:00.823Z"
   },
   {
    "duration": 70,
    "start_time": "2022-02-24T14:38:00.833Z"
   },
   {
    "duration": 12,
    "start_time": "2022-02-24T14:38:00.905Z"
   },
   {
    "duration": 371,
    "start_time": "2022-02-24T14:38:00.919Z"
   },
   {
    "duration": -71,
    "start_time": "2022-02-24T14:38:01.364Z"
   },
   {
    "duration": -75,
    "start_time": "2022-02-24T14:38:01.369Z"
   },
   {
    "duration": -77,
    "start_time": "2022-02-24T14:38:01.373Z"
   },
   {
    "duration": -80,
    "start_time": "2022-02-24T14:38:01.377Z"
   },
   {
    "duration": -82,
    "start_time": "2022-02-24T14:38:01.381Z"
   },
   {
    "duration": -84,
    "start_time": "2022-02-24T14:38:01.385Z"
   },
   {
    "duration": -85,
    "start_time": "2022-02-24T14:38:01.387Z"
   },
   {
    "duration": -85,
    "start_time": "2022-02-24T14:38:01.389Z"
   },
   {
    "duration": -87,
    "start_time": "2022-02-24T14:38:01.392Z"
   },
   {
    "duration": 8,
    "start_time": "2022-02-24T14:38:08.993Z"
   },
   {
    "duration": 7,
    "start_time": "2022-02-24T14:38:25.950Z"
   },
   {
    "duration": 19,
    "start_time": "2022-02-24T14:38:36.794Z"
   },
   {
    "duration": 6,
    "start_time": "2022-02-24T14:40:13.835Z"
   },
   {
    "duration": 7,
    "start_time": "2022-02-24T14:41:29.899Z"
   },
   {
    "duration": 11,
    "start_time": "2022-02-24T14:41:41.139Z"
   },
   {
    "duration": 284,
    "start_time": "2022-02-24T14:42:13.903Z"
   },
   {
    "duration": 64,
    "start_time": "2022-02-24T14:43:10.849Z"
   },
   {
    "duration": 12,
    "start_time": "2022-02-24T14:43:10.915Z"
   },
   {
    "duration": 71,
    "start_time": "2022-02-24T14:43:10.930Z"
   },
   {
    "duration": 6,
    "start_time": "2022-02-24T14:43:11.003Z"
   },
   {
    "duration": 11,
    "start_time": "2022-02-24T14:43:11.011Z"
   },
   {
    "duration": 8,
    "start_time": "2022-02-24T14:43:11.024Z"
   },
   {
    "duration": 10,
    "start_time": "2022-02-24T14:43:11.033Z"
   },
   {
    "duration": 12,
    "start_time": "2022-02-24T14:43:11.070Z"
   },
   {
    "duration": 38,
    "start_time": "2022-02-24T14:43:11.085Z"
   },
   {
    "duration": 7,
    "start_time": "2022-02-24T14:43:11.125Z"
   },
   {
    "duration": 38,
    "start_time": "2022-02-24T14:43:11.135Z"
   },
   {
    "duration": 18,
    "start_time": "2022-02-24T14:43:11.175Z"
   },
   {
    "duration": 37,
    "start_time": "2022-02-24T14:43:11.195Z"
   },
   {
    "duration": 11,
    "start_time": "2022-02-24T14:43:11.234Z"
   },
   {
    "duration": 37,
    "start_time": "2022-02-24T14:43:11.246Z"
   },
   {
    "duration": 6,
    "start_time": "2022-02-24T14:43:11.285Z"
   },
   {
    "duration": 11,
    "start_time": "2022-02-24T14:43:11.293Z"
   },
   {
    "duration": 11,
    "start_time": "2022-02-24T14:43:11.306Z"
   },
   {
    "duration": 11,
    "start_time": "2022-02-24T14:43:11.319Z"
   },
   {
    "duration": 20,
    "start_time": "2022-02-24T14:43:11.332Z"
   },
   {
    "duration": 6,
    "start_time": "2022-02-24T14:43:11.370Z"
   },
   {
    "duration": 8,
    "start_time": "2022-02-24T14:43:11.378Z"
   },
   {
    "duration": 32,
    "start_time": "2022-02-24T14:43:11.390Z"
   },
   {
    "duration": 66,
    "start_time": "2022-02-24T14:43:11.424Z"
   },
   {
    "duration": 13,
    "start_time": "2022-02-24T14:43:11.492Z"
   },
   {
    "duration": 34,
    "start_time": "2022-02-24T14:43:11.507Z"
   },
   {
    "duration": 35,
    "start_time": "2022-02-24T14:43:11.542Z"
   },
   {
    "duration": 41,
    "start_time": "2022-02-24T14:43:11.579Z"
   },
   {
    "duration": 51,
    "start_time": "2022-02-24T14:43:11.622Z"
   },
   {
    "duration": 58,
    "start_time": "2022-02-24T14:43:11.675Z"
   },
   {
    "duration": 12,
    "start_time": "2022-02-24T14:43:11.735Z"
   },
   {
    "duration": 12,
    "start_time": "2022-02-24T14:43:11.769Z"
   },
   {
    "duration": 19,
    "start_time": "2022-02-24T14:43:11.783Z"
   },
   {
    "duration": 3,
    "start_time": "2022-02-24T14:43:11.804Z"
   },
   {
    "duration": 15,
    "start_time": "2022-02-24T14:43:11.808Z"
   },
   {
    "duration": 54,
    "start_time": "2022-02-24T14:43:11.825Z"
   },
   {
    "duration": 9,
    "start_time": "2022-02-24T14:43:11.881Z"
   },
   {
    "duration": 22,
    "start_time": "2022-02-24T15:05:17.755Z"
   },
   {
    "duration": 31,
    "start_time": "2022-02-24T15:05:40.188Z"
   },
   {
    "duration": 21,
    "start_time": "2022-02-24T15:07:07.675Z"
   },
   {
    "duration": 17,
    "start_time": "2022-02-24T15:16:59.772Z"
   },
   {
    "duration": 15,
    "start_time": "2022-02-24T15:17:46.029Z"
   },
   {
    "duration": 14,
    "start_time": "2022-02-24T15:17:56.641Z"
   },
   {
    "duration": 277,
    "start_time": "2022-02-24T15:18:10.987Z"
   },
   {
    "duration": 53,
    "start_time": "2022-02-24T15:18:22.527Z"
   },
   {
    "duration": 16,
    "start_time": "2022-02-24T15:18:27.181Z"
   },
   {
    "duration": 17,
    "start_time": "2022-02-24T15:18:41.102Z"
   },
   {
    "duration": 16,
    "start_time": "2022-02-24T15:18:52.547Z"
   },
   {
    "duration": 16,
    "start_time": "2022-02-24T15:19:01.676Z"
   },
   {
    "duration": 14,
    "start_time": "2022-02-24T15:19:13.946Z"
   },
   {
    "duration": 14,
    "start_time": "2022-02-24T15:19:23.533Z"
   },
   {
    "duration": 16,
    "start_time": "2022-02-24T15:19:33.973Z"
   },
   {
    "duration": 655,
    "start_time": "2022-02-24T15:20:16.386Z"
   },
   {
    "duration": 7,
    "start_time": "2022-02-24T15:20:20.581Z"
   },
   {
    "duration": 5,
    "start_time": "2022-02-24T15:24:18.591Z"
   },
   {
    "duration": 179453,
    "start_time": "2022-02-24T15:25:46.061Z"
   },
   {
    "duration": 184048,
    "start_time": "2022-02-24T15:29:14.741Z"
   },
   {
    "duration": 285120,
    "start_time": "2022-02-24T15:32:24.751Z"
   },
   {
    "duration": 601464,
    "start_time": "2022-02-24T15:37:12.584Z"
   },
   {
    "duration": -95,
    "start_time": "2022-02-24T15:47:14.146Z"
   },
   {
    "duration": 20,
    "start_time": "2022-02-24T15:47:22.494Z"
   },
   {
    "duration": 31,
    "start_time": "2022-02-24T15:47:34.714Z"
   },
   {
    "duration": 3,
    "start_time": "2022-02-24T15:52:21.583Z"
   },
   {
    "duration": 45589,
    "start_time": "2022-02-24T15:53:55.994Z"
   },
   {
    "duration": 26,
    "start_time": "2022-02-24T15:54:56.643Z"
   },
   {
    "duration": 308,
    "start_time": "2022-02-24T15:55:05.395Z"
   },
   {
    "duration": 17,
    "start_time": "2022-02-24T15:55:22.358Z"
   },
   {
    "duration": 17,
    "start_time": "2022-02-24T15:55:43.289Z"
   },
   {
    "duration": 18800,
    "start_time": "2022-02-24T15:55:58.927Z"
   },
   {
    "duration": 7333,
    "start_time": "2022-02-24T15:56:37.131Z"
   },
   {
    "duration": 5,
    "start_time": "2022-02-24T15:57:02.295Z"
   },
   {
    "duration": 1759,
    "start_time": "2022-02-24T15:57:59.244Z"
   },
   {
    "duration": 5310,
    "start_time": "2022-02-24T15:58:49.012Z"
   },
   {
    "duration": 2795,
    "start_time": "2022-02-24T15:58:54.324Z"
   },
   {
    "duration": 7,
    "start_time": "2022-02-24T15:58:57.678Z"
   },
   {
    "duration": 3,
    "start_time": "2022-02-24T16:00:02.443Z"
   },
   {
    "duration": 17,
    "start_time": "2022-02-24T16:00:02.859Z"
   },
   {
    "duration": 14069,
    "start_time": "2022-02-24T16:00:03.290Z"
   },
   {
    "duration": 14,
    "start_time": "2022-02-24T16:00:17.361Z"
   },
   {
    "duration": 4102,
    "start_time": "2022-02-24T16:00:17.377Z"
   },
   {
    "duration": 4846,
    "start_time": "2022-02-24T16:00:21.481Z"
   },
   {
    "duration": 2301,
    "start_time": "2022-02-24T16:00:26.329Z"
   },
   {
    "duration": 6,
    "start_time": "2022-02-24T16:00:31.504Z"
   },
   {
    "duration": 6,
    "start_time": "2022-02-24T16:15:51.199Z"
   },
   {
    "duration": 6,
    "start_time": "2022-02-24T16:24:12.067Z"
   },
   {
    "duration": 71,
    "start_time": "2022-02-24T16:24:20.741Z"
   },
   {
    "duration": 14,
    "start_time": "2022-02-24T16:24:20.815Z"
   },
   {
    "duration": 72,
    "start_time": "2022-02-24T16:24:20.832Z"
   },
   {
    "duration": 6,
    "start_time": "2022-02-24T16:24:20.906Z"
   },
   {
    "duration": 9,
    "start_time": "2022-02-24T16:24:20.914Z"
   },
   {
    "duration": 7,
    "start_time": "2022-02-24T16:24:20.925Z"
   },
   {
    "duration": 43,
    "start_time": "2022-02-24T16:24:20.934Z"
   },
   {
    "duration": 13,
    "start_time": "2022-02-24T16:24:20.981Z"
   },
   {
    "duration": 38,
    "start_time": "2022-02-24T16:24:20.997Z"
   },
   {
    "duration": 10,
    "start_time": "2022-02-24T16:24:21.069Z"
   },
   {
    "duration": 8,
    "start_time": "2022-02-24T16:24:21.081Z"
   },
   {
    "duration": 11,
    "start_time": "2022-02-24T16:24:21.091Z"
   },
   {
    "duration": 69,
    "start_time": "2022-02-24T16:24:21.104Z"
   },
   {
    "duration": 11,
    "start_time": "2022-02-24T16:24:21.176Z"
   },
   {
    "duration": 15,
    "start_time": "2022-02-24T16:24:21.190Z"
   },
   {
    "duration": 7,
    "start_time": "2022-02-24T16:24:21.207Z"
   },
   {
    "duration": 7,
    "start_time": "2022-02-24T16:24:21.217Z"
   },
   {
    "duration": 49,
    "start_time": "2022-02-24T16:24:21.226Z"
   },
   {
    "duration": 9,
    "start_time": "2022-02-24T16:24:21.277Z"
   },
   {
    "duration": 8,
    "start_time": "2022-02-24T16:24:21.287Z"
   },
   {
    "duration": 9,
    "start_time": "2022-02-24T16:24:21.297Z"
   },
   {
    "duration": 14,
    "start_time": "2022-02-24T16:24:21.307Z"
   },
   {
    "duration": 61,
    "start_time": "2022-02-24T16:24:21.324Z"
   },
   {
    "duration": 36,
    "start_time": "2022-02-24T16:24:21.388Z"
   },
   {
    "duration": 15,
    "start_time": "2022-02-24T16:24:21.426Z"
   },
   {
    "duration": 57,
    "start_time": "2022-02-24T16:24:21.443Z"
   },
   {
    "duration": 14,
    "start_time": "2022-02-24T16:24:21.502Z"
   },
   {
    "duration": 69,
    "start_time": "2022-02-24T16:24:21.518Z"
   },
   {
    "duration": 38,
    "start_time": "2022-02-24T16:24:21.589Z"
   },
   {
    "duration": 76,
    "start_time": "2022-02-24T16:24:21.628Z"
   },
   {
    "duration": 12,
    "start_time": "2022-02-24T16:24:21.706Z"
   },
   {
    "duration": 13,
    "start_time": "2022-02-24T16:24:21.719Z"
   },
   {
    "duration": 40,
    "start_time": "2022-02-24T16:24:21.734Z"
   },
   {
    "duration": 4,
    "start_time": "2022-02-24T16:24:21.775Z"
   },
   {
    "duration": 11,
    "start_time": "2022-02-24T16:24:21.781Z"
   },
   {
    "duration": 34,
    "start_time": "2022-02-24T16:24:21.794Z"
   },
   {
    "duration": 10,
    "start_time": "2022-02-24T16:24:21.830Z"
   },
   {
    "duration": 3,
    "start_time": "2022-02-24T16:24:52.204Z"
   },
   {
    "duration": 7817,
    "start_time": "2022-02-24T16:24:53.884Z"
   },
   {
    "duration": 8855,
    "start_time": "2022-02-24T16:25:03.517Z"
   },
   {
    "duration": 1952,
    "start_time": "2022-02-24T16:25:12.374Z"
   },
   {
    "duration": 5658,
    "start_time": "2022-02-24T16:25:14.328Z"
   },
   {
    "duration": 6157,
    "start_time": "2022-02-24T16:25:19.988Z"
   },
   {
    "duration": 3287,
    "start_time": "2022-02-24T16:25:26.147Z"
   },
   {
    "duration": 6,
    "start_time": "2022-02-24T16:25:29.436Z"
   },
   {
    "duration": 6,
    "start_time": "2022-02-24T16:25:53.693Z"
   },
   {
    "duration": 3,
    "start_time": "2022-02-24T16:26:02.620Z"
   },
   {
    "duration": 8067,
    "start_time": "2022-02-24T16:26:03.267Z"
   },
   {
    "duration": 9007,
    "start_time": "2022-02-24T16:26:11.335Z"
   },
   {
    "duration": 1899,
    "start_time": "2022-02-24T16:26:20.344Z"
   },
   {
    "duration": 5611,
    "start_time": "2022-02-24T16:26:22.245Z"
   },
   {
    "duration": 5,
    "start_time": "2022-02-24T16:27:29.782Z"
   },
   {
    "duration": 14,
    "start_time": "2022-02-24T16:27:34.963Z"
   },
   {
    "duration": 4,
    "start_time": "2022-02-24T16:27:42.650Z"
   },
   {
    "duration": 4,
    "start_time": "2022-02-24T16:28:22.603Z"
   },
   {
    "duration": 3,
    "start_time": "2022-02-24T16:28:23.099Z"
   },
   {
    "duration": 7497,
    "start_time": "2022-02-24T16:28:24.079Z"
   },
   {
    "duration": 13595,
    "start_time": "2022-02-24T16:28:31.578Z"
   },
   {
    "duration": 1717,
    "start_time": "2022-02-24T16:28:45.175Z"
   },
   {
    "duration": 4820,
    "start_time": "2022-02-24T16:28:46.894Z"
   },
   {
    "duration": 4662,
    "start_time": "2022-02-24T16:28:51.715Z"
   },
   {
    "duration": 2325,
    "start_time": "2022-02-24T16:28:56.379Z"
   },
   {
    "duration": 7,
    "start_time": "2022-02-24T16:28:58.706Z"
   },
   {
    "duration": 12,
    "start_time": "2022-02-24T16:29:21.164Z"
   },
   {
    "duration": 63,
    "start_time": "2022-02-24T16:30:09.602Z"
   },
   {
    "duration": 12,
    "start_time": "2022-02-24T16:30:09.667Z"
   },
   {
    "duration": 46,
    "start_time": "2022-02-24T16:30:09.682Z"
   },
   {
    "duration": 6,
    "start_time": "2022-02-24T16:30:09.730Z"
   },
   {
    "duration": 34,
    "start_time": "2022-02-24T16:30:09.737Z"
   },
   {
    "duration": 6,
    "start_time": "2022-02-24T16:30:09.773Z"
   },
   {
    "duration": 12,
    "start_time": "2022-02-24T16:30:09.781Z"
   },
   {
    "duration": 12,
    "start_time": "2022-02-24T16:30:09.796Z"
   },
   {
    "duration": 62,
    "start_time": "2022-02-24T16:30:09.811Z"
   },
   {
    "duration": 6,
    "start_time": "2022-02-24T16:30:09.875Z"
   },
   {
    "duration": 7,
    "start_time": "2022-02-24T16:30:09.883Z"
   },
   {
    "duration": 11,
    "start_time": "2022-02-24T16:30:09.892Z"
   },
   {
    "duration": 66,
    "start_time": "2022-02-24T16:30:09.905Z"
   },
   {
    "duration": 11,
    "start_time": "2022-02-24T16:30:09.973Z"
   },
   {
    "duration": 16,
    "start_time": "2022-02-24T16:30:09.986Z"
   },
   {
    "duration": 7,
    "start_time": "2022-02-24T16:30:10.004Z"
   },
   {
    "duration": 8,
    "start_time": "2022-02-24T16:30:10.013Z"
   },
   {
    "duration": 7,
    "start_time": "2022-02-24T16:30:10.023Z"
   },
   {
    "duration": 7,
    "start_time": "2022-02-24T16:30:10.070Z"
   },
   {
    "duration": 12,
    "start_time": "2022-02-24T16:30:10.079Z"
   },
   {
    "duration": 8,
    "start_time": "2022-02-24T16:30:10.093Z"
   },
   {
    "duration": 13,
    "start_time": "2022-02-24T16:30:10.103Z"
   },
   {
    "duration": 63,
    "start_time": "2022-02-24T16:30:10.120Z"
   },
   {
    "duration": 44,
    "start_time": "2022-02-24T16:30:10.186Z"
   },
   {
    "duration": 13,
    "start_time": "2022-02-24T16:30:10.232Z"
   },
   {
    "duration": 58,
    "start_time": "2022-02-24T16:30:10.247Z"
   },
   {
    "duration": 14,
    "start_time": "2022-02-24T16:30:10.307Z"
   },
   {
    "duration": 69,
    "start_time": "2022-02-24T16:30:10.323Z"
   },
   {
    "duration": 38,
    "start_time": "2022-02-24T16:30:10.394Z"
   },
   {
    "duration": 82,
    "start_time": "2022-02-24T16:30:10.434Z"
   },
   {
    "duration": 14,
    "start_time": "2022-02-24T16:30:10.518Z"
   },
   {
    "duration": 14,
    "start_time": "2022-02-24T16:30:10.534Z"
   },
   {
    "duration": 21,
    "start_time": "2022-02-24T16:30:10.569Z"
   },
   {
    "duration": 5,
    "start_time": "2022-02-24T16:30:10.592Z"
   },
   {
    "duration": 13,
    "start_time": "2022-02-24T16:30:10.599Z"
   },
   {
    "duration": 58,
    "start_time": "2022-02-24T16:30:10.614Z"
   },
   {
    "duration": 10,
    "start_time": "2022-02-24T16:30:10.674Z"
   },
   {
    "duration": 4,
    "start_time": "2022-02-24T16:30:12.691Z"
   },
   {
    "duration": 1056777,
    "start_time": "2022-02-24T16:30:16.244Z"
   },
   {
    "duration": 6,
    "start_time": "2022-02-24T17:36:15.488Z"
   },
   {
    "duration": 80,
    "start_time": "2022-02-24T17:39:08.120Z"
   },
   {
    "duration": 15,
    "start_time": "2022-02-24T17:39:08.202Z"
   },
   {
    "duration": 68,
    "start_time": "2022-02-24T17:39:08.220Z"
   },
   {
    "duration": 8,
    "start_time": "2022-02-24T17:39:08.294Z"
   },
   {
    "duration": 20,
    "start_time": "2022-02-24T17:39:08.303Z"
   },
   {
    "duration": 8,
    "start_time": "2022-02-24T17:39:08.325Z"
   },
   {
    "duration": 11,
    "start_time": "2022-02-24T17:39:08.336Z"
   },
   {
    "duration": 32,
    "start_time": "2022-02-24T17:39:08.350Z"
   },
   {
    "duration": 40,
    "start_time": "2022-02-24T17:39:08.385Z"
   },
   {
    "duration": 8,
    "start_time": "2022-02-24T17:39:08.426Z"
   },
   {
    "duration": 38,
    "start_time": "2022-02-24T17:39:08.436Z"
   },
   {
    "duration": 16,
    "start_time": "2022-02-24T17:39:08.476Z"
   },
   {
    "duration": 75,
    "start_time": "2022-02-24T17:39:08.494Z"
   },
   {
    "duration": 15,
    "start_time": "2022-02-24T17:39:08.572Z"
   },
   {
    "duration": 17,
    "start_time": "2022-02-24T17:39:08.590Z"
   },
   {
    "duration": 7,
    "start_time": "2022-02-24T17:39:08.608Z"
   },
   {
    "duration": 12,
    "start_time": "2022-02-24T17:39:08.617Z"
   },
   {
    "duration": 39,
    "start_time": "2022-02-24T17:39:08.632Z"
   },
   {
    "duration": 16,
    "start_time": "2022-02-24T17:39:08.673Z"
   },
   {
    "duration": 11,
    "start_time": "2022-02-24T17:39:08.691Z"
   },
   {
    "duration": 12,
    "start_time": "2022-02-24T17:39:08.704Z"
   },
   {
    "duration": 6,
    "start_time": "2022-02-24T17:39:08.718Z"
   },
   {
    "duration": 54,
    "start_time": "2022-02-24T17:39:08.728Z"
   },
   {
    "duration": 36,
    "start_time": "2022-02-24T17:39:08.784Z"
   },
   {
    "duration": 15,
    "start_time": "2022-02-24T17:39:08.821Z"
   },
   {
    "duration": 58,
    "start_time": "2022-02-24T17:39:08.838Z"
   },
   {
    "duration": 14,
    "start_time": "2022-02-24T17:39:08.898Z"
   },
   {
    "duration": 60,
    "start_time": "2022-02-24T17:39:08.914Z"
   },
   {
    "duration": 41,
    "start_time": "2022-02-24T17:39:08.976Z"
   },
   {
    "duration": 66,
    "start_time": "2022-02-24T17:39:09.019Z"
   },
   {
    "duration": 12,
    "start_time": "2022-02-24T17:39:09.087Z"
   },
   {
    "duration": 11,
    "start_time": "2022-02-24T17:39:09.101Z"
   },
   {
    "duration": 24,
    "start_time": "2022-02-24T17:39:09.114Z"
   },
   {
    "duration": 4,
    "start_time": "2022-02-24T17:39:09.139Z"
   },
   {
    "duration": 6,
    "start_time": "2022-02-24T17:39:09.169Z"
   },
   {
    "duration": 42,
    "start_time": "2022-02-24T17:39:09.177Z"
   },
   {
    "duration": 9,
    "start_time": "2022-02-24T17:39:09.221Z"
   },
   {
    "duration": 5,
    "start_time": "2022-02-24T17:39:55.139Z"
   },
   {
    "duration": 1260,
    "start_time": "2022-02-24T17:39:56.609Z"
   },
   {
    "duration": 4,
    "start_time": "2022-02-24T17:40:23.640Z"
   },
   {
    "duration": 4520,
    "start_time": "2022-02-24T17:40:26.357Z"
   },
   {
    "duration": 4,
    "start_time": "2022-02-24T17:44:29.331Z"
   },
   {
    "duration": 709198,
    "start_time": "2022-02-24T17:44:30.522Z"
   },
   {
    "duration": 5,
    "start_time": "2022-02-24T17:56:19.722Z"
   },
   {
    "duration": 6,
    "start_time": "2022-02-24T17:56:39.109Z"
   },
   {
    "duration": 3,
    "start_time": "2022-02-24T17:57:27.177Z"
   },
   {
    "duration": 5,
    "start_time": "2022-02-24T17:57:44.804Z"
   },
   {
    "duration": 71,
    "start_time": "2022-02-24T17:57:52.697Z"
   },
   {
    "duration": 12,
    "start_time": "2022-02-24T17:57:52.769Z"
   },
   {
    "duration": 39,
    "start_time": "2022-02-24T17:57:52.784Z"
   },
   {
    "duration": 6,
    "start_time": "2022-02-24T17:57:52.825Z"
   },
   {
    "duration": 8,
    "start_time": "2022-02-24T17:57:52.870Z"
   },
   {
    "duration": 9,
    "start_time": "2022-02-24T17:57:52.880Z"
   },
   {
    "duration": 14,
    "start_time": "2022-02-24T17:57:52.891Z"
   },
   {
    "duration": 26,
    "start_time": "2022-02-24T17:57:52.908Z"
   },
   {
    "duration": 46,
    "start_time": "2022-02-24T17:57:52.937Z"
   },
   {
    "duration": 7,
    "start_time": "2022-02-24T17:57:52.985Z"
   },
   {
    "duration": 12,
    "start_time": "2022-02-24T17:57:52.994Z"
   },
   {
    "duration": 25,
    "start_time": "2022-02-24T17:57:53.008Z"
   },
   {
    "duration": 58,
    "start_time": "2022-02-24T17:57:53.035Z"
   },
   {
    "duration": 10,
    "start_time": "2022-02-24T17:57:53.095Z"
   },
   {
    "duration": 30,
    "start_time": "2022-02-24T17:57:53.107Z"
   },
   {
    "duration": 9,
    "start_time": "2022-02-24T17:57:53.139Z"
   },
   {
    "duration": 26,
    "start_time": "2022-02-24T17:57:53.150Z"
   },
   {
    "duration": 19,
    "start_time": "2022-02-24T17:57:53.178Z"
   },
   {
    "duration": 33,
    "start_time": "2022-02-24T17:57:53.199Z"
   },
   {
    "duration": 69,
    "start_time": "2022-02-24T17:57:53.234Z"
   },
   {
    "duration": 36,
    "start_time": "2022-02-24T17:57:53.304Z"
   },
   {
    "duration": 17,
    "start_time": "2022-02-24T17:57:53.341Z"
   },
   {
    "duration": 43,
    "start_time": "2022-02-24T17:57:53.362Z"
   },
   {
    "duration": 48,
    "start_time": "2022-02-24T17:57:53.407Z"
   },
   {
    "duration": 13,
    "start_time": "2022-02-24T17:57:53.457Z"
   },
   {
    "duration": 34,
    "start_time": "2022-02-24T17:57:53.472Z"
   },
   {
    "duration": 14,
    "start_time": "2022-02-24T17:57:53.508Z"
   },
   {
    "duration": 61,
    "start_time": "2022-02-24T17:57:53.523Z"
   },
   {
    "duration": 53,
    "start_time": "2022-02-24T17:57:53.586Z"
   },
   {
    "duration": 64,
    "start_time": "2022-02-24T17:57:53.641Z"
   },
   {
    "duration": 12,
    "start_time": "2022-02-24T17:57:53.706Z"
   },
   {
    "duration": 14,
    "start_time": "2022-02-24T17:57:53.720Z"
   },
   {
    "duration": 39,
    "start_time": "2022-02-24T17:57:53.736Z"
   },
   {
    "duration": 5,
    "start_time": "2022-02-24T17:57:53.777Z"
   },
   {
    "duration": 13,
    "start_time": "2022-02-24T17:57:53.783Z"
   },
   {
    "duration": 37,
    "start_time": "2022-02-24T17:57:53.798Z"
   },
   {
    "duration": 10,
    "start_time": "2022-02-24T17:57:53.837Z"
   },
   {
    "duration": 710785,
    "start_time": "2022-02-24T17:58:13.045Z"
   },
   {
    "duration": 6,
    "start_time": "2022-02-24T18:10:03.832Z"
   },
   {
    "duration": 14,
    "start_time": "2022-02-24T18:11:08.206Z"
   },
   {
    "duration": 5,
    "start_time": "2022-02-24T18:11:20.100Z"
   },
   {
    "duration": 360532,
    "start_time": "2022-02-24T18:11:32.731Z"
   },
   {
    "duration": 6,
    "start_time": "2022-02-24T18:17:40.867Z"
   },
   {
    "duration": 4,
    "start_time": "2022-02-24T18:26:53.793Z"
   },
   {
    "duration": 4,
    "start_time": "2022-02-24T18:27:12.129Z"
   },
   {
    "duration": 81,
    "start_time": "2022-02-24T18:34:36.015Z"
   },
   {
    "duration": 15,
    "start_time": "2022-02-24T18:34:36.098Z"
   },
   {
    "duration": 76,
    "start_time": "2022-02-24T18:34:36.115Z"
   },
   {
    "duration": 6,
    "start_time": "2022-02-24T18:34:36.193Z"
   },
   {
    "duration": 11,
    "start_time": "2022-02-24T18:34:36.201Z"
   },
   {
    "duration": 6,
    "start_time": "2022-02-24T18:34:36.214Z"
   },
   {
    "duration": 9,
    "start_time": "2022-02-24T18:34:36.221Z"
   },
   {
    "duration": 10,
    "start_time": "2022-02-24T18:34:36.233Z"
   },
   {
    "duration": 37,
    "start_time": "2022-02-24T18:34:36.271Z"
   },
   {
    "duration": 8,
    "start_time": "2022-02-24T18:34:36.310Z"
   },
   {
    "duration": 5,
    "start_time": "2022-02-24T18:34:36.320Z"
   },
   {
    "duration": 42,
    "start_time": "2022-02-24T18:34:36.327Z"
   },
   {
    "duration": 35,
    "start_time": "2022-02-24T18:34:36.371Z"
   },
   {
    "duration": 11,
    "start_time": "2022-02-24T18:34:36.408Z"
   },
   {
    "duration": 14,
    "start_time": "2022-02-24T18:34:36.421Z"
   },
   {
    "duration": 37,
    "start_time": "2022-02-24T18:34:36.437Z"
   },
   {
    "duration": 7,
    "start_time": "2022-02-24T18:34:36.476Z"
   },
   {
    "duration": 6,
    "start_time": "2022-02-24T18:34:36.484Z"
   },
   {
    "duration": 10,
    "start_time": "2022-02-24T18:34:36.492Z"
   },
   {
    "duration": 13,
    "start_time": "2022-02-24T18:34:36.504Z"
   },
   {
    "duration": 18,
    "start_time": "2022-02-24T18:34:36.519Z"
   },
   {
    "duration": 16,
    "start_time": "2022-02-24T18:34:36.538Z"
   },
   {
    "duration": 32,
    "start_time": "2022-02-24T18:34:36.571Z"
   },
   {
    "duration": 35,
    "start_time": "2022-02-24T18:34:36.605Z"
   },
   {
    "duration": 35,
    "start_time": "2022-02-24T18:34:36.642Z"
   },
   {
    "duration": 37,
    "start_time": "2022-02-24T18:34:36.678Z"
   },
   {
    "duration": 14,
    "start_time": "2022-02-24T18:34:36.717Z"
   },
   {
    "duration": 65,
    "start_time": "2022-02-24T18:34:36.733Z"
   },
   {
    "duration": 35,
    "start_time": "2022-02-24T18:34:36.799Z"
   },
   {
    "duration": 76,
    "start_time": "2022-02-24T18:34:36.836Z"
   },
   {
    "duration": 12,
    "start_time": "2022-02-24T18:34:36.914Z"
   },
   {
    "duration": 12,
    "start_time": "2022-02-24T18:34:36.928Z"
   },
   {
    "duration": 35,
    "start_time": "2022-02-24T18:34:36.942Z"
   },
   {
    "duration": 4,
    "start_time": "2022-02-24T18:34:36.979Z"
   },
   {
    "duration": 8,
    "start_time": "2022-02-24T18:34:36.985Z"
   },
   {
    "duration": 37,
    "start_time": "2022-02-24T18:34:36.995Z"
   },
   {
    "duration": 35,
    "start_time": "2022-02-24T18:34:37.034Z"
   },
   {
    "duration": 4,
    "start_time": "2022-02-24T18:35:24.573Z"
   },
   {
    "duration": 3,
    "start_time": "2022-02-24T18:35:25.349Z"
   },
   {
    "duration": 7541,
    "start_time": "2022-02-24T18:35:28.812Z"
   },
   {
    "duration": 13468,
    "start_time": "2022-02-24T18:35:36.355Z"
   },
   {
    "duration": 1651,
    "start_time": "2022-02-24T18:35:49.825Z"
   },
   {
    "duration": 4552,
    "start_time": "2022-02-24T18:35:56.208Z"
   },
   {
    "duration": 4584,
    "start_time": "2022-02-24T18:36:00.762Z"
   },
   {
    "duration": 2288,
    "start_time": "2022-02-24T18:36:05.348Z"
   },
   {
    "duration": 5,
    "start_time": "2022-02-24T18:36:07.639Z"
   },
   {
    "duration": 11,
    "start_time": "2022-02-24T18:36:34.626Z"
   },
   {
    "duration": 8,
    "start_time": "2022-02-24T18:40:41.406Z"
   },
   {
    "duration": 9,
    "start_time": "2022-02-24T18:40:49.027Z"
   },
   {
    "duration": 7,
    "start_time": "2022-02-24T18:41:04.068Z"
   },
   {
    "duration": 8,
    "start_time": "2022-02-24T18:42:39.915Z"
   },
   {
    "duration": 255,
    "start_time": "2022-02-24T19:25:22.633Z"
   },
   {
    "duration": 258,
    "start_time": "2022-02-24T19:25:55.121Z"
   },
   {
    "duration": 3,
    "start_time": "2022-02-24T19:26:03.614Z"
   },
   {
    "duration": 4,
    "start_time": "2022-02-24T19:26:12.054Z"
   },
   {
    "duration": 4,
    "start_time": "2022-02-24T19:26:22.418Z"
   },
   {
    "duration": 5,
    "start_time": "2022-02-24T19:26:36.153Z"
   },
   {
    "duration": 72,
    "start_time": "2022-02-24T19:27:32.486Z"
   },
   {
    "duration": 11,
    "start_time": "2022-02-24T19:27:32.560Z"
   },
   {
    "duration": 37,
    "start_time": "2022-02-24T19:27:32.573Z"
   },
   {
    "duration": 4,
    "start_time": "2022-02-24T19:27:32.611Z"
   },
   {
    "duration": 96,
    "start_time": "2022-02-24T19:27:49.583Z"
   },
   {
    "duration": 93,
    "start_time": "2022-02-24T19:28:05.124Z"
   },
   {
    "duration": 85,
    "start_time": "2022-02-24T19:28:19.946Z"
   },
   {
    "duration": 6,
    "start_time": "2022-02-24T19:28:41.731Z"
   },
   {
    "duration": 5,
    "start_time": "2022-02-24T19:29:12.413Z"
   },
   {
    "duration": 11,
    "start_time": "2022-02-24T19:32:03.841Z"
   },
   {
    "duration": 96,
    "start_time": "2022-02-24T19:37:18.257Z"
   },
   {
    "duration": 7,
    "start_time": "2022-02-24T19:37:24.510Z"
   },
   {
    "duration": 6,
    "start_time": "2022-02-24T19:37:34.477Z"
   },
   {
    "duration": 7,
    "start_time": "2022-02-24T19:37:35.107Z"
   },
   {
    "duration": 6,
    "start_time": "2022-02-24T19:37:35.967Z"
   },
   {
    "duration": 7,
    "start_time": "2022-02-24T19:42:11.171Z"
   },
   {
    "duration": 6,
    "start_time": "2022-02-24T19:42:36.320Z"
   },
   {
    "duration": 9,
    "start_time": "2022-02-24T19:42:37.365Z"
   },
   {
    "duration": 12,
    "start_time": "2022-02-24T19:42:38.428Z"
   },
   {
    "duration": 36,
    "start_time": "2022-02-24T19:42:42.043Z"
   },
   {
    "duration": 7,
    "start_time": "2022-02-24T19:43:19.715Z"
   },
   {
    "duration": 5,
    "start_time": "2022-02-24T19:43:20.900Z"
   },
   {
    "duration": 10,
    "start_time": "2022-02-24T19:43:22.089Z"
   },
   {
    "duration": 5,
    "start_time": "2022-02-24T19:43:34.025Z"
   },
   {
    "duration": 7,
    "start_time": "2022-02-24T19:45:32.851Z"
   },
   {
    "duration": 71,
    "start_time": "2022-02-24T19:47:13.127Z"
   },
   {
    "duration": 11,
    "start_time": "2022-02-24T19:47:14.254Z"
   },
   {
    "duration": 36,
    "start_time": "2022-02-24T19:47:15.713Z"
   },
   {
    "duration": 5,
    "start_time": "2022-02-24T19:47:16.573Z"
   },
   {
    "duration": 17,
    "start_time": "2022-02-24T19:47:17.413Z"
   },
   {
    "duration": 5,
    "start_time": "2022-02-24T19:47:22.226Z"
   },
   {
    "duration": 7,
    "start_time": "2022-02-24T19:47:23.997Z"
   },
   {
    "duration": 6,
    "start_time": "2022-02-24T19:47:24.925Z"
   },
   {
    "duration": 8,
    "start_time": "2022-02-24T19:47:25.817Z"
   },
   {
    "duration": 6,
    "start_time": "2022-02-24T19:47:30.468Z"
   },
   {
    "duration": 9,
    "start_time": "2022-02-24T19:47:31.414Z"
   },
   {
    "duration": 12,
    "start_time": "2022-02-24T19:47:33.192Z"
   },
   {
    "duration": 38,
    "start_time": "2022-02-24T19:47:35.066Z"
   },
   {
    "duration": 6,
    "start_time": "2022-02-24T19:47:39.356Z"
   },
   {
    "duration": 6,
    "start_time": "2022-02-24T19:47:40.616Z"
   },
   {
    "duration": 10,
    "start_time": "2022-02-24T19:47:41.930Z"
   },
   {
    "duration": 6,
    "start_time": "2022-02-24T19:47:46.979Z"
   },
   {
    "duration": 25,
    "start_time": "2022-02-24T19:50:39.525Z"
   },
   {
    "duration": 7,
    "start_time": "2022-02-24T19:52:37.102Z"
   },
   {
    "duration": 4,
    "start_time": "2022-02-24T19:54:04.378Z"
   },
   {
    "duration": 98,
    "start_time": "2022-02-24T19:54:26.354Z"
   },
   {
    "duration": 5,
    "start_time": "2022-02-24T19:54:36.323Z"
   },
   {
    "duration": 4,
    "start_time": "2022-02-24T19:54:43.981Z"
   },
   {
    "duration": 7,
    "start_time": "2022-02-24T19:55:16.475Z"
   },
   {
    "duration": 7,
    "start_time": "2022-02-24T19:55:42.526Z"
   },
   {
    "duration": 4,
    "start_time": "2022-02-24T19:55:51.570Z"
   },
   {
    "duration": 7,
    "start_time": "2022-02-24T19:56:23.112Z"
   },
   {
    "duration": 7,
    "start_time": "2022-02-24T19:56:24.389Z"
   },
   {
    "duration": 8,
    "start_time": "2022-02-24T19:56:25.188Z"
   },
   {
    "duration": 7,
    "start_time": "2022-02-24T19:56:36.521Z"
   },
   {
    "duration": 4,
    "start_time": "2022-02-24T19:56:39.132Z"
   },
   {
    "duration": 3,
    "start_time": "2022-02-24T20:02:24.408Z"
   },
   {
    "duration": 9,
    "start_time": "2022-02-24T20:03:03.260Z"
   },
   {
    "duration": 10,
    "start_time": "2022-02-24T20:03:15.291Z"
   },
   {
    "duration": 6,
    "start_time": "2022-02-24T20:04:02.139Z"
   },
   {
    "duration": 36,
    "start_time": "2022-02-24T20:04:09.492Z"
   },
   {
    "duration": 12,
    "start_time": "2022-02-24T20:06:45.727Z"
   },
   {
    "duration": 16,
    "start_time": "2022-02-24T20:06:47.273Z"
   },
   {
    "duration": 7,
    "start_time": "2022-02-24T20:06:50.120Z"
   },
   {
    "duration": 7,
    "start_time": "2022-02-24T20:06:51.368Z"
   },
   {
    "duration": 6,
    "start_time": "2022-02-24T20:06:56.411Z"
   },
   {
    "duration": 7,
    "start_time": "2022-02-24T20:07:19.919Z"
   },
   {
    "duration": 6,
    "start_time": "2022-02-24T20:07:25.834Z"
   },
   {
    "duration": 7,
    "start_time": "2022-02-24T20:07:32.696Z"
   },
   {
    "duration": 6,
    "start_time": "2022-02-24T20:07:35.243Z"
   },
   {
    "duration": 32,
    "start_time": "2022-02-24T20:07:45.113Z"
   },
   {
    "duration": 37,
    "start_time": "2022-02-24T20:07:46.523Z"
   },
   {
    "duration": 17,
    "start_time": "2022-02-24T20:08:01.727Z"
   },
   {
    "duration": 38,
    "start_time": "2022-02-24T20:08:03.451Z"
   },
   {
    "duration": 10,
    "start_time": "2022-02-24T20:11:48.946Z"
   },
   {
    "duration": 75,
    "start_time": "2022-02-24T20:11:54.725Z"
   },
   {
    "duration": 12,
    "start_time": "2022-02-24T20:11:54.802Z"
   },
   {
    "duration": 54,
    "start_time": "2022-02-24T20:11:54.817Z"
   },
   {
    "duration": 4,
    "start_time": "2022-02-24T20:11:54.874Z"
   },
   {
    "duration": 21,
    "start_time": "2022-02-24T20:11:54.880Z"
   },
   {
    "duration": 6,
    "start_time": "2022-02-24T20:11:54.902Z"
   },
   {
    "duration": 8,
    "start_time": "2022-02-24T20:11:54.909Z"
   },
   {
    "duration": 6,
    "start_time": "2022-02-24T20:11:54.920Z"
   },
   {
    "duration": 43,
    "start_time": "2022-02-24T20:11:54.928Z"
   },
   {
    "duration": 7,
    "start_time": "2022-02-24T20:11:54.973Z"
   },
   {
    "duration": 13,
    "start_time": "2022-02-24T20:11:54.982Z"
   },
   {
    "duration": 15,
    "start_time": "2022-02-24T20:11:54.997Z"
   },
   {
    "duration": 75,
    "start_time": "2022-02-24T20:11:55.014Z"
   },
   {
    "duration": 9,
    "start_time": "2022-02-24T20:11:55.091Z"
   },
   {
    "duration": 8,
    "start_time": "2022-02-24T20:11:55.102Z"
   },
   {
    "duration": 19,
    "start_time": "2022-02-24T20:11:55.112Z"
   },
   {
    "duration": 38,
    "start_time": "2022-02-24T20:11:55.135Z"
   },
   {
    "duration": 4,
    "start_time": "2022-02-24T20:11:55.175Z"
   },
   {
    "duration": 16,
    "start_time": "2022-02-24T20:11:55.181Z"
   },
   {
    "duration": 13,
    "start_time": "2022-02-24T20:11:55.199Z"
   },
   {
    "duration": 67,
    "start_time": "2022-02-24T20:11:55.214Z"
   },
   {
    "duration": 11,
    "start_time": "2022-02-24T20:11:58.200Z"
   },
   {
    "duration": 16,
    "start_time": "2022-02-24T20:11:59.305Z"
   },
   {
    "duration": 7,
    "start_time": "2022-02-24T20:12:00.069Z"
   },
   {
    "duration": 6,
    "start_time": "2022-02-24T20:12:01.039Z"
   },
   {
    "duration": 6,
    "start_time": "2022-02-24T20:12:03.533Z"
   },
   {
    "duration": 8,
    "start_time": "2022-02-24T20:12:04.453Z"
   },
   {
    "duration": 8,
    "start_time": "2022-02-24T20:12:04.956Z"
   },
   {
    "duration": 8,
    "start_time": "2022-02-24T20:12:05.837Z"
   },
   {
    "duration": 8,
    "start_time": "2022-02-24T20:12:25.294Z"
   },
   {
    "duration": 9,
    "start_time": "2022-02-24T20:13:04.507Z"
   },
   {
    "duration": 6,
    "start_time": "2022-02-24T20:14:03.044Z"
   },
   {
    "duration": 919,
    "start_time": "2022-02-24T20:14:17.270Z"
   },
   {
    "duration": 9,
    "start_time": "2022-02-24T20:14:25.164Z"
   },
   {
    "duration": 271,
    "start_time": "2022-02-24T20:14:36.840Z"
   },
   {
    "duration": 287,
    "start_time": "2022-02-24T20:14:40.694Z"
   },
   {
    "duration": 8,
    "start_time": "2022-02-24T20:14:55.639Z"
   },
   {
    "duration": 7,
    "start_time": "2022-02-24T20:15:01.641Z"
   },
   {
    "duration": 35,
    "start_time": "2022-02-24T20:15:32.126Z"
   },
   {
    "duration": 37,
    "start_time": "2022-02-24T20:15:33.899Z"
   },
   {
    "duration": 25,
    "start_time": "2022-02-24T20:15:39.668Z"
   },
   {
    "duration": 41,
    "start_time": "2022-02-24T20:15:41.624Z"
   },
   {
    "duration": 16,
    "start_time": "2022-02-24T20:19:12.095Z"
   },
   {
    "duration": 13,
    "start_time": "2022-02-24T20:19:29.434Z"
   },
   {
    "duration": 13,
    "start_time": "2022-02-24T20:19:40.877Z"
   },
   {
    "duration": 42,
    "start_time": "2022-02-24T20:22:54.335Z"
   },
   {
    "duration": 34,
    "start_time": "2022-02-24T20:22:55.862Z"
   },
   {
    "duration": 62,
    "start_time": "2022-02-24T20:23:04.067Z"
   },
   {
    "duration": 13,
    "start_time": "2022-02-24T20:23:07.702Z"
   },
   {
    "duration": 13,
    "start_time": "2022-02-24T20:23:57.247Z"
   },
   {
    "duration": 16,
    "start_time": "2022-02-24T20:25:49.755Z"
   },
   {
    "duration": 7,
    "start_time": "2022-02-24T20:26:07.961Z"
   },
   {
    "duration": 7,
    "start_time": "2022-02-24T20:26:22.961Z"
   },
   {
    "duration": 7,
    "start_time": "2022-02-24T20:26:26.196Z"
   },
   {
    "duration": 17,
    "start_time": "2022-02-24T20:27:39.725Z"
   },
   {
    "duration": 5,
    "start_time": "2022-02-24T20:30:02.767Z"
   },
   {
    "duration": 6,
    "start_time": "2022-02-24T20:30:04.989Z"
   },
   {
    "duration": 5,
    "start_time": "2022-02-24T20:31:49.512Z"
   },
   {
    "duration": 4,
    "start_time": "2022-02-24T20:32:12.910Z"
   },
   {
    "duration": 273,
    "start_time": "2022-02-24T20:32:31.596Z"
   },
   {
    "duration": 5,
    "start_time": "2022-02-24T20:33:15.596Z"
   },
   {
    "duration": 4,
    "start_time": "2022-02-24T20:33:30.698Z"
   },
   {
    "duration": 32,
    "start_time": "2022-02-24T20:33:33.003Z"
   },
   {
    "duration": 11,
    "start_time": "2022-02-24T20:33:35.777Z"
   },
   {
    "duration": 60,
    "start_time": "2022-02-24T20:38:33.431Z"
   },
   {
    "duration": 16,
    "start_time": "2022-02-24T20:41:23.137Z"
   },
   {
    "duration": 6,
    "start_time": "2022-02-24T20:41:48.963Z"
   },
   {
    "duration": 9,
    "start_time": "2022-02-24T20:47:28.826Z"
   },
   {
    "duration": 10,
    "start_time": "2022-02-24T20:47:42.258Z"
   },
   {
    "duration": 77,
    "start_time": "2022-02-24T20:52:21.132Z"
   },
   {
    "duration": 14,
    "start_time": "2022-02-24T20:52:21.211Z"
   },
   {
    "duration": 60,
    "start_time": "2022-02-24T20:52:21.228Z"
   },
   {
    "duration": 5,
    "start_time": "2022-02-24T20:52:21.291Z"
   },
   {
    "duration": 13,
    "start_time": "2022-02-24T20:52:21.298Z"
   },
   {
    "duration": 6,
    "start_time": "2022-02-24T20:52:21.314Z"
   },
   {
    "duration": 48,
    "start_time": "2022-02-24T20:52:21.323Z"
   },
   {
    "duration": 5,
    "start_time": "2022-02-24T20:52:21.374Z"
   },
   {
    "duration": 9,
    "start_time": "2022-02-24T20:52:21.381Z"
   },
   {
    "duration": 9,
    "start_time": "2022-02-24T20:52:21.392Z"
   },
   {
    "duration": 20,
    "start_time": "2022-02-24T20:52:21.403Z"
   },
   {
    "duration": 19,
    "start_time": "2022-02-24T20:52:21.425Z"
   },
   {
    "duration": 63,
    "start_time": "2022-02-24T20:52:21.446Z"
   },
   {
    "duration": 7,
    "start_time": "2022-02-24T20:52:21.511Z"
   },
   {
    "duration": 10,
    "start_time": "2022-02-24T20:52:21.520Z"
   },
   {
    "duration": 43,
    "start_time": "2022-02-24T20:52:21.532Z"
   },
   {
    "duration": 8,
    "start_time": "2022-02-24T20:52:21.578Z"
   },
   {
    "duration": 9,
    "start_time": "2022-02-24T20:52:21.588Z"
   },
   {
    "duration": 16,
    "start_time": "2022-02-24T20:52:21.599Z"
   },
   {
    "duration": 7,
    "start_time": "2022-02-24T20:52:21.617Z"
   },
   {
    "duration": 71,
    "start_time": "2022-02-24T20:52:21.628Z"
   },
   {
    "duration": 10,
    "start_time": "2022-02-24T20:52:21.701Z"
   },
   {
    "duration": 24,
    "start_time": "2022-02-24T20:52:21.713Z"
   },
   {
    "duration": 6,
    "start_time": "2022-02-24T20:52:21.739Z"
   },
   {
    "duration": 28,
    "start_time": "2022-02-24T20:52:21.747Z"
   },
   {
    "duration": 8,
    "start_time": "2022-02-24T20:52:21.777Z"
   },
   {
    "duration": 11,
    "start_time": "2022-02-24T20:52:21.787Z"
   },
   {
    "duration": 9,
    "start_time": "2022-02-24T20:52:21.799Z"
   },
   {
    "duration": 12,
    "start_time": "2022-02-24T20:52:21.810Z"
   },
   {
    "duration": 10,
    "start_time": "2022-02-24T20:52:21.824Z"
   },
   {
    "duration": 60,
    "start_time": "2022-02-24T20:52:21.836Z"
   },
   {
    "duration": 39,
    "start_time": "2022-02-24T20:52:21.898Z"
   },
   {
    "duration": 13,
    "start_time": "2022-02-24T20:52:31.484Z"
   },
   {
    "duration": 52,
    "start_time": "2022-02-24T20:52:32.985Z"
   },
   {
    "duration": 16,
    "start_time": "2022-02-24T20:53:59.736Z"
   },
   {
    "duration": 36,
    "start_time": "2022-02-24T20:54:03.851Z"
   },
   {
    "duration": 78,
    "start_time": "2022-02-24T21:01:38.406Z"
   },
   {
    "duration": 14,
    "start_time": "2022-02-24T21:01:38.486Z"
   },
   {
    "duration": 66,
    "start_time": "2022-02-24T21:01:38.503Z"
   },
   {
    "duration": 4,
    "start_time": "2022-02-24T21:01:38.571Z"
   },
   {
    "duration": 13,
    "start_time": "2022-02-24T21:01:38.577Z"
   },
   {
    "duration": 5,
    "start_time": "2022-02-24T21:01:38.592Z"
   },
   {
    "duration": 11,
    "start_time": "2022-02-24T21:01:38.599Z"
   },
   {
    "duration": 5,
    "start_time": "2022-02-24T21:01:38.613Z"
   },
   {
    "duration": 49,
    "start_time": "2022-02-24T21:01:38.620Z"
   },
   {
    "duration": 6,
    "start_time": "2022-02-24T21:01:38.671Z"
   },
   {
    "duration": 15,
    "start_time": "2022-02-24T21:01:38.678Z"
   },
   {
    "duration": 11,
    "start_time": "2022-02-24T21:01:38.695Z"
   },
   {
    "duration": 68,
    "start_time": "2022-02-24T21:01:38.709Z"
   },
   {
    "duration": 7,
    "start_time": "2022-02-24T21:01:38.780Z"
   },
   {
    "duration": 9,
    "start_time": "2022-02-24T21:01:38.789Z"
   },
   {
    "duration": 19,
    "start_time": "2022-02-24T21:01:38.800Z"
   },
   {
    "duration": 7,
    "start_time": "2022-02-24T21:01:38.821Z"
   },
   {
    "duration": 4,
    "start_time": "2022-02-24T21:01:38.830Z"
   },
   {
    "duration": 41,
    "start_time": "2022-02-24T21:01:38.836Z"
   },
   {
    "duration": 10,
    "start_time": "2022-02-24T21:01:38.880Z"
   },
   {
    "duration": 46,
    "start_time": "2022-02-24T21:01:38.892Z"
   },
   {
    "duration": 9,
    "start_time": "2022-02-24T21:01:38.940Z"
   },
   {
    "duration": 32,
    "start_time": "2022-02-24T21:01:38.951Z"
   },
   {
    "duration": 6,
    "start_time": "2022-02-24T21:01:38.985Z"
   },
   {
    "duration": 14,
    "start_time": "2022-02-24T21:01:38.993Z"
   },
   {
    "duration": 24,
    "start_time": "2022-02-24T21:01:39.008Z"
   },
   {
    "duration": 18,
    "start_time": "2022-02-24T21:01:39.034Z"
   },
   {
    "duration": 28,
    "start_time": "2022-02-24T21:01:39.054Z"
   },
   {
    "duration": 20,
    "start_time": "2022-02-24T21:01:39.084Z"
   },
   {
    "duration": 20,
    "start_time": "2022-02-24T21:01:39.106Z"
   },
   {
    "duration": 51,
    "start_time": "2022-02-24T21:01:39.128Z"
   },
   {
    "duration": 40,
    "start_time": "2022-02-24T21:01:39.181Z"
   },
   {
    "duration": 17,
    "start_time": "2022-02-24T21:01:39.223Z"
   },
   {
    "duration": 65,
    "start_time": "2022-02-24T21:01:39.242Z"
   },
   {
    "duration": 36,
    "start_time": "2022-02-24T21:01:41.526Z"
   },
   {
    "duration": 267,
    "start_time": "2022-02-24T21:01:56.368Z"
   },
   {
    "duration": 16,
    "start_time": "2022-02-24T21:02:43.432Z"
   },
   {
    "duration": 13,
    "start_time": "2022-02-24T21:03:53.973Z"
   },
   {
    "duration": 103,
    "start_time": "2022-02-24T21:04:49.029Z"
   },
   {
    "duration": 11,
    "start_time": "2022-02-24T21:04:49.247Z"
   },
   {
    "duration": 16,
    "start_time": "2022-02-24T21:04:54.766Z"
   },
   {
    "duration": 63,
    "start_time": "2022-02-24T21:13:44.805Z"
   },
   {
    "duration": 11,
    "start_time": "2022-02-24T21:13:44.870Z"
   },
   {
    "duration": 35,
    "start_time": "2022-02-24T21:13:44.884Z"
   },
   {
    "duration": 4,
    "start_time": "2022-02-24T21:13:44.921Z"
   },
   {
    "duration": 43,
    "start_time": "2022-02-24T21:13:44.926Z"
   },
   {
    "duration": 5,
    "start_time": "2022-02-24T21:13:44.971Z"
   },
   {
    "duration": 12,
    "start_time": "2022-02-24T21:13:44.978Z"
   },
   {
    "duration": 22,
    "start_time": "2022-02-24T21:13:44.991Z"
   },
   {
    "duration": 70,
    "start_time": "2022-02-24T21:13:45.015Z"
   },
   {
    "duration": 14,
    "start_time": "2022-02-24T21:13:45.087Z"
   },
   {
    "duration": 12,
    "start_time": "2022-02-24T21:13:45.103Z"
   },
   {
    "duration": 23,
    "start_time": "2022-02-24T21:13:45.117Z"
   },
   {
    "duration": 35,
    "start_time": "2022-02-24T21:13:45.142Z"
   },
   {
    "duration": 6,
    "start_time": "2022-02-24T21:13:45.180Z"
   },
   {
    "duration": 8,
    "start_time": "2022-02-24T21:13:45.188Z"
   },
   {
    "duration": 9,
    "start_time": "2022-02-24T21:13:45.198Z"
   },
   {
    "duration": 9,
    "start_time": "2022-02-24T21:13:45.209Z"
   },
   {
    "duration": 11,
    "start_time": "2022-02-24T21:13:45.219Z"
   },
   {
    "duration": 38,
    "start_time": "2022-02-24T21:13:45.231Z"
   },
   {
    "duration": 5,
    "start_time": "2022-02-24T21:13:45.271Z"
   },
   {
    "duration": 38,
    "start_time": "2022-02-24T21:13:45.277Z"
   },
   {
    "duration": 9,
    "start_time": "2022-02-24T21:13:45.317Z"
   },
   {
    "duration": 43,
    "start_time": "2022-02-24T21:13:45.328Z"
   },
   {
    "duration": 6,
    "start_time": "2022-02-24T21:13:45.373Z"
   },
   {
    "duration": 8,
    "start_time": "2022-02-24T21:13:45.381Z"
   },
   {
    "duration": 7,
    "start_time": "2022-02-24T21:13:45.391Z"
   },
   {
    "duration": 7,
    "start_time": "2022-02-24T21:13:45.400Z"
   },
   {
    "duration": 7,
    "start_time": "2022-02-24T21:13:45.410Z"
   },
   {
    "duration": 51,
    "start_time": "2022-02-24T21:13:45.419Z"
   },
   {
    "duration": 6,
    "start_time": "2022-02-24T21:13:45.472Z"
   },
   {
    "duration": 33,
    "start_time": "2022-02-24T21:13:45.480Z"
   },
   {
    "duration": 62,
    "start_time": "2022-02-24T21:13:45.515Z"
   },
   {
    "duration": 15,
    "start_time": "2022-02-24T21:13:45.580Z"
   },
   {
    "duration": 37,
    "start_time": "2022-02-24T21:13:45.598Z"
   },
   {
    "duration": 45,
    "start_time": "2022-02-24T21:13:45.637Z"
   },
   {
    "duration": 13,
    "start_time": "2022-02-24T21:13:45.683Z"
   },
   {
    "duration": 46,
    "start_time": "2022-02-24T21:13:45.698Z"
   },
   {
    "duration": 60,
    "start_time": "2022-02-24T21:13:45.746Z"
   },
   {
    "duration": 82,
    "start_time": "2022-02-24T21:13:45.809Z"
   },
   {
    "duration": 15,
    "start_time": "2022-02-24T21:13:45.893Z"
   },
   {
    "duration": 296,
    "start_time": "2022-02-24T21:13:45.910Z"
   },
   {
    "duration": 100578,
    "start_time": "2022-02-24T21:12:05.631Z"
   },
   {
    "duration": 100512,
    "start_time": "2022-02-24T21:12:05.698Z"
   },
   {
    "duration": 100492,
    "start_time": "2022-02-24T21:12:05.719Z"
   },
   {
    "duration": 100477,
    "start_time": "2022-02-24T21:12:05.735Z"
   },
   {
    "duration": 100459,
    "start_time": "2022-02-24T21:12:05.754Z"
   },
   {
    "duration": 100443,
    "start_time": "2022-02-24T21:12:05.771Z"
   },
   {
    "duration": 100427,
    "start_time": "2022-02-24T21:12:05.788Z"
   },
   {
    "duration": 100375,
    "start_time": "2022-02-24T21:12:05.841Z"
   },
   {
    "duration": 100356,
    "start_time": "2022-02-24T21:12:05.861Z"
   },
   {
    "duration": 100341,
    "start_time": "2022-02-24T21:12:05.878Z"
   },
   {
    "duration": 100326,
    "start_time": "2022-02-24T21:12:05.894Z"
   },
   {
    "duration": 100309,
    "start_time": "2022-02-24T21:12:05.912Z"
   },
   {
    "duration": 100293,
    "start_time": "2022-02-24T21:12:05.929Z"
   },
   {
    "duration": 100252,
    "start_time": "2022-02-24T21:12:05.972Z"
   },
   {
    "duration": 100237,
    "start_time": "2022-02-24T21:12:05.988Z"
   },
   {
    "duration": 100226,
    "start_time": "2022-02-24T21:12:06.000Z"
   },
   {
    "duration": 100213,
    "start_time": "2022-02-24T21:12:06.014Z"
   },
   {
    "duration": 100200,
    "start_time": "2022-02-24T21:12:06.028Z"
   },
   {
    "duration": 100188,
    "start_time": "2022-02-24T21:12:06.041Z"
   },
   {
    "duration": 13,
    "start_time": "2022-02-24T21:17:07.322Z"
   },
   {
    "duration": 15,
    "start_time": "2022-02-24T21:18:53.338Z"
   },
   {
    "duration": 14,
    "start_time": "2022-02-24T21:19:03.963Z"
   },
   {
    "duration": 85,
    "start_time": "2022-02-24T21:21:15.704Z"
   },
   {
    "duration": 13,
    "start_time": "2022-02-24T21:21:24.701Z"
   },
   {
    "duration": 14,
    "start_time": "2022-02-24T21:21:33.108Z"
   },
   {
    "duration": 14,
    "start_time": "2022-02-24T21:21:52.668Z"
   },
   {
    "duration": 17,
    "start_time": "2022-02-24T21:22:07.563Z"
   },
   {
    "duration": 14,
    "start_time": "2022-02-24T21:22:39.045Z"
   },
   {
    "duration": 15,
    "start_time": "2022-02-24T21:22:48.659Z"
   },
   {
    "duration": 17,
    "start_time": "2022-02-24T21:23:09.581Z"
   },
   {
    "duration": 15,
    "start_time": "2022-02-24T21:24:18.095Z"
   },
   {
    "duration": 16,
    "start_time": "2022-02-24T21:27:04.161Z"
   },
   {
    "duration": 11,
    "start_time": "2022-02-24T21:27:54.331Z"
   },
   {
    "duration": 141,
    "start_time": "2022-02-24T21:28:12.515Z"
   },
   {
    "duration": 100,
    "start_time": "2022-02-24T21:28:22.565Z"
   },
   {
    "duration": 88,
    "start_time": "2022-02-24T21:28:29.159Z"
   },
   {
    "duration": 15,
    "start_time": "2022-02-24T21:32:00.349Z"
   },
   {
    "duration": 17,
    "start_time": "2022-02-24T21:32:06.536Z"
   },
   {
    "duration": 18,
    "start_time": "2022-02-24T21:34:03.166Z"
   },
   {
    "duration": 17,
    "start_time": "2022-02-24T21:36:35.418Z"
   },
   {
    "duration": 256,
    "start_time": "2022-02-24T21:37:58.944Z"
   },
   {
    "duration": 280,
    "start_time": "2022-02-24T21:38:19.023Z"
   },
   {
    "duration": 22,
    "start_time": "2022-02-24T21:38:33.092Z"
   },
   {
    "duration": 24078,
    "start_time": "2022-02-24T21:40:07.536Z"
   },
   {
    "duration": 8815,
    "start_time": "2022-02-24T21:40:38.796Z"
   },
   {
    "duration": 6584,
    "start_time": "2022-02-24T21:41:18.521Z"
   },
   {
    "duration": 6410,
    "start_time": "2022-02-24T21:42:07.399Z"
   },
   {
    "duration": 12,
    "start_time": "2022-02-24T21:44:36.445Z"
   },
   {
    "duration": 18,
    "start_time": "2022-02-24T21:44:45.523Z"
   },
   {
    "duration": 6556,
    "start_time": "2022-02-24T21:45:27.638Z"
   },
   {
    "duration": 7122,
    "start_time": "2022-02-24T21:46:27.543Z"
   },
   {
    "duration": 282,
    "start_time": "2022-02-24T21:47:00.472Z"
   },
   {
    "duration": 275,
    "start_time": "2022-02-24T21:47:10.900Z"
   },
   {
    "duration": 270,
    "start_time": "2022-02-24T21:50:29.236Z"
   },
   {
    "duration": 271,
    "start_time": "2022-02-24T21:50:46.848Z"
   },
   {
    "duration": 391,
    "start_time": "2022-02-24T21:52:57.568Z"
   },
   {
    "duration": 366,
    "start_time": "2022-02-24T21:53:22.776Z"
   },
   {
    "duration": 316,
    "start_time": "2022-02-24T21:53:30.045Z"
   },
   {
    "duration": 282,
    "start_time": "2022-02-24T21:53:37.148Z"
   },
   {
    "duration": 18,
    "start_time": "2022-02-24T21:53:58.669Z"
   },
   {
    "duration": 84,
    "start_time": "2022-02-24T21:56:15.239Z"
   },
   {
    "duration": 652,
    "start_time": "2022-02-24T21:56:24.339Z"
   },
   {
    "duration": 17,
    "start_time": "2022-02-24T22:00:53.465Z"
   },
   {
    "duration": 269,
    "start_time": "2022-02-24T22:01:28.859Z"
   },
   {
    "duration": 16,
    "start_time": "2022-02-24T22:01:47.664Z"
   },
   {
    "duration": 16,
    "start_time": "2022-02-24T22:02:11.772Z"
   },
   {
    "duration": 15,
    "start_time": "2022-02-24T22:02:24.546Z"
   },
   {
    "duration": 259,
    "start_time": "2022-02-24T22:02:31.216Z"
   },
   {
    "duration": 266,
    "start_time": "2022-02-24T22:02:40.529Z"
   },
   {
    "duration": 15,
    "start_time": "2022-02-24T22:02:59.625Z"
   },
   {
    "duration": 15,
    "start_time": "2022-02-24T22:07:09.865Z"
   },
   {
    "duration": 17,
    "start_time": "2022-02-24T22:07:55.984Z"
   },
   {
    "duration": 20,
    "start_time": "2022-02-24T22:08:04.971Z"
   },
   {
    "duration": 21,
    "start_time": "2022-02-24T22:08:26.627Z"
   },
   {
    "duration": 286,
    "start_time": "2022-02-24T22:08:46.456Z"
   },
   {
    "duration": 21,
    "start_time": "2022-02-24T22:08:58.916Z"
   },
   {
    "duration": 20,
    "start_time": "2022-02-24T22:09:17.893Z"
   },
   {
    "duration": 6889,
    "start_time": "2022-02-24T22:10:06.305Z"
   },
   {
    "duration": 21,
    "start_time": "2022-02-24T22:10:25.689Z"
   },
   {
    "duration": 284,
    "start_time": "2022-02-24T22:14:02.421Z"
   },
   {
    "duration": 22,
    "start_time": "2022-02-24T22:14:14.447Z"
   },
   {
    "duration": 23,
    "start_time": "2022-02-24T22:14:33.845Z"
   },
   {
    "duration": 21,
    "start_time": "2022-02-24T22:15:07.434Z"
   },
   {
    "duration": 67,
    "start_time": "2022-02-24T22:16:15.729Z"
   },
   {
    "duration": 11,
    "start_time": "2022-02-24T22:16:15.799Z"
   },
   {
    "duration": 57,
    "start_time": "2022-02-24T22:16:15.813Z"
   },
   {
    "duration": 4,
    "start_time": "2022-02-24T22:16:15.873Z"
   },
   {
    "duration": 17,
    "start_time": "2022-02-24T22:16:15.878Z"
   },
   {
    "duration": 7,
    "start_time": "2022-02-24T22:16:15.897Z"
   },
   {
    "duration": 9,
    "start_time": "2022-02-24T22:16:15.906Z"
   },
   {
    "duration": 5,
    "start_time": "2022-02-24T22:16:15.918Z"
   },
   {
    "duration": 45,
    "start_time": "2022-02-24T22:16:15.925Z"
   },
   {
    "duration": 6,
    "start_time": "2022-02-24T22:16:15.972Z"
   },
   {
    "duration": 11,
    "start_time": "2022-02-24T22:16:15.980Z"
   },
   {
    "duration": 14,
    "start_time": "2022-02-24T22:16:15.993Z"
   },
   {
    "duration": 73,
    "start_time": "2022-02-24T22:16:16.009Z"
   },
   {
    "duration": 6,
    "start_time": "2022-02-24T22:16:16.084Z"
   },
   {
    "duration": 10,
    "start_time": "2022-02-24T22:16:16.092Z"
   },
   {
    "duration": 9,
    "start_time": "2022-02-24T22:16:16.104Z"
   },
   {
    "duration": 26,
    "start_time": "2022-02-24T22:16:16.116Z"
   },
   {
    "duration": 26,
    "start_time": "2022-02-24T22:16:16.145Z"
   },
   {
    "duration": 13,
    "start_time": "2022-02-24T22:16:16.173Z"
   },
   {
    "duration": 14,
    "start_time": "2022-02-24T22:16:16.187Z"
   },
   {
    "duration": 38,
    "start_time": "2022-02-24T22:16:16.203Z"
   },
   {
    "duration": 32,
    "start_time": "2022-02-24T22:16:16.243Z"
   },
   {
    "duration": 16,
    "start_time": "2022-02-24T22:16:16.277Z"
   },
   {
    "duration": 6,
    "start_time": "2022-02-24T22:16:16.296Z"
   },
   {
    "duration": 14,
    "start_time": "2022-02-24T22:16:16.303Z"
   },
   {
    "duration": 8,
    "start_time": "2022-02-24T22:16:16.319Z"
   },
   {
    "duration": 41,
    "start_time": "2022-02-24T22:16:16.328Z"
   },
   {
    "duration": 9,
    "start_time": "2022-02-24T22:16:16.371Z"
   },
   {
    "duration": 9,
    "start_time": "2022-02-24T22:16:16.382Z"
   },
   {
    "duration": 9,
    "start_time": "2022-02-24T22:16:16.392Z"
   },
   {
    "duration": 33,
    "start_time": "2022-02-24T22:16:16.403Z"
   },
   {
    "duration": 64,
    "start_time": "2022-02-24T22:16:16.438Z"
   },
   {
    "duration": 13,
    "start_time": "2022-02-24T22:16:16.506Z"
   },
   {
    "duration": 71,
    "start_time": "2022-02-24T22:16:16.521Z"
   },
   {
    "duration": 14,
    "start_time": "2022-02-24T22:16:16.594Z"
   },
   {
    "duration": 11,
    "start_time": "2022-02-24T22:16:16.610Z"
   },
   {
    "duration": 68,
    "start_time": "2022-02-24T22:16:16.623Z"
   },
   {
    "duration": 36,
    "start_time": "2022-02-24T22:16:16.693Z"
   },
   {
    "duration": 73,
    "start_time": "2022-02-24T22:16:16.731Z"
   },
   {
    "duration": 14,
    "start_time": "2022-02-24T22:16:16.807Z"
   },
   {
    "duration": 279,
    "start_time": "2022-02-24T22:16:16.823Z"
   },
   {
    "duration": 99595,
    "start_time": "2022-02-24T22:14:37.510Z"
   },
   {
    "duration": 99581,
    "start_time": "2022-02-24T22:14:37.526Z"
   },
   {
    "duration": 99570,
    "start_time": "2022-02-24T22:14:37.538Z"
   },
   {
    "duration": 99371,
    "start_time": "2022-02-24T22:14:37.739Z"
   },
   {
    "duration": 99337,
    "start_time": "2022-02-24T22:14:37.775Z"
   },
   {
    "duration": 99323,
    "start_time": "2022-02-24T22:14:37.790Z"
   },
   {
    "duration": 99312,
    "start_time": "2022-02-24T22:14:37.803Z"
   },
   {
    "duration": 99298,
    "start_time": "2022-02-24T22:14:37.819Z"
   },
   {
    "duration": 99287,
    "start_time": "2022-02-24T22:14:37.831Z"
   },
   {
    "duration": 99274,
    "start_time": "2022-02-24T22:14:37.846Z"
   },
   {
    "duration": 99262,
    "start_time": "2022-02-24T22:14:37.859Z"
   },
   {
    "duration": 99226,
    "start_time": "2022-02-24T22:14:37.897Z"
   },
   {
    "duration": 99213,
    "start_time": "2022-02-24T22:14:37.911Z"
   },
   {
    "duration": 99200,
    "start_time": "2022-02-24T22:14:37.926Z"
   },
   {
    "duration": 99189,
    "start_time": "2022-02-24T22:14:37.938Z"
   },
   {
    "duration": 99176,
    "start_time": "2022-02-24T22:14:37.952Z"
   },
   {
    "duration": 99165,
    "start_time": "2022-02-24T22:14:37.965Z"
   },
   {
    "duration": 99148,
    "start_time": "2022-02-24T22:14:37.983Z"
   },
   {
    "duration": 99132,
    "start_time": "2022-02-24T22:14:38.000Z"
   },
   {
    "duration": 99092,
    "start_time": "2022-02-24T22:14:38.041Z"
   },
   {
    "duration": 12,
    "start_time": "2022-02-24T22:17:38.662Z"
   },
   {
    "duration": 17,
    "start_time": "2022-02-24T22:17:44.202Z"
   },
   {
    "duration": 12,
    "start_time": "2022-02-24T22:17:44.221Z"
   },
   {
    "duration": 14,
    "start_time": "2022-02-24T22:17:44.235Z"
   },
   {
    "duration": 19,
    "start_time": "2022-02-24T22:17:44.251Z"
   },
   {
    "duration": 3,
    "start_time": "2022-02-24T22:17:44.272Z"
   },
   {
    "duration": 18,
    "start_time": "2022-02-24T22:17:44.277Z"
   },
   {
    "duration": 37,
    "start_time": "2022-02-24T22:17:44.297Z"
   },
   {
    "duration": 9,
    "start_time": "2022-02-24T22:17:44.336Z"
   },
   {
    "duration": 22,
    "start_time": "2022-02-24T22:17:44.347Z"
   },
   {
    "duration": 11,
    "start_time": "2022-02-24T22:17:44.372Z"
   },
   {
    "duration": 7522,
    "start_time": "2022-02-24T22:17:44.385Z"
   },
   {
    "duration": 13473,
    "start_time": "2022-02-24T22:17:51.909Z"
   },
   {
    "duration": 1676,
    "start_time": "2022-02-24T22:18:05.384Z"
   },
   {
    "duration": 4554,
    "start_time": "2022-02-24T22:18:07.062Z"
   },
   {
    "duration": 4443,
    "start_time": "2022-02-24T22:18:11.618Z"
   },
   {
    "duration": 2238,
    "start_time": "2022-02-24T22:18:16.063Z"
   },
   {
    "duration": 6,
    "start_time": "2022-02-24T22:18:18.303Z"
   },
   {
    "duration": 14,
    "start_time": "2022-02-24T22:18:18.310Z"
   },
   {
    "duration": 11,
    "start_time": "2022-02-24T22:18:18.326Z"
   },
   {
    "duration": 41,
    "start_time": "2022-02-24T22:18:18.339Z"
   },
   {
    "duration": 282,
    "start_time": "2022-02-24T22:18:35.526Z"
   },
   {
    "duration": 264,
    "start_time": "2022-02-24T22:18:40.242Z"
   },
   {
    "duration": 8,
    "start_time": "2022-02-24T22:18:54.863Z"
   },
   {
    "duration": 7,
    "start_time": "2022-02-24T22:19:41.497Z"
   },
   {
    "duration": 8,
    "start_time": "2022-02-24T22:20:13.268Z"
   },
   {
    "duration": 91,
    "start_time": "2022-02-24T22:32:15.266Z"
   },
   {
    "duration": 63,
    "start_time": "2022-02-24T22:32:58.426Z"
   },
   {
    "duration": 11,
    "start_time": "2022-02-24T22:32:58.491Z"
   },
   {
    "duration": 36,
    "start_time": "2022-02-24T22:32:58.504Z"
   },
   {
    "duration": 28,
    "start_time": "2022-02-24T22:32:58.542Z"
   },
   {
    "duration": 13,
    "start_time": "2022-02-24T22:32:58.572Z"
   },
   {
    "duration": 5,
    "start_time": "2022-02-24T22:32:58.587Z"
   },
   {
    "duration": 7,
    "start_time": "2022-02-24T22:32:58.594Z"
   },
   {
    "duration": 6,
    "start_time": "2022-02-24T22:32:58.603Z"
   },
   {
    "duration": 9,
    "start_time": "2022-02-24T22:32:58.611Z"
   },
   {
    "duration": 47,
    "start_time": "2022-02-24T22:32:58.622Z"
   },
   {
    "duration": 8,
    "start_time": "2022-02-24T22:32:58.671Z"
   },
   {
    "duration": 11,
    "start_time": "2022-02-24T22:32:58.681Z"
   },
   {
    "duration": 35,
    "start_time": "2022-02-24T22:32:58.694Z"
   },
   {
    "duration": 40,
    "start_time": "2022-02-24T22:32:58.731Z"
   },
   {
    "duration": 5,
    "start_time": "2022-02-24T22:32:58.773Z"
   },
   {
    "duration": 11,
    "start_time": "2022-02-24T22:32:58.780Z"
   },
   {
    "duration": 7,
    "start_time": "2022-02-24T22:32:58.792Z"
   },
   {
    "duration": 5,
    "start_time": "2022-02-24T22:32:58.801Z"
   },
   {
    "duration": 10,
    "start_time": "2022-02-24T22:32:58.809Z"
   },
   {
    "duration": 50,
    "start_time": "2022-02-24T22:32:58.821Z"
   },
   {
    "duration": 43,
    "start_time": "2022-02-24T22:32:58.875Z"
   },
   {
    "duration": 12,
    "start_time": "2022-02-24T22:32:58.922Z"
   },
   {
    "duration": 17,
    "start_time": "2022-02-24T22:32:58.970Z"
   },
   {
    "duration": 7,
    "start_time": "2022-02-24T22:32:58.988Z"
   },
   {
    "duration": 6,
    "start_time": "2022-02-24T22:32:58.997Z"
   },
   {
    "duration": 10,
    "start_time": "2022-02-24T22:32:59.005Z"
   },
   {
    "duration": 8,
    "start_time": "2022-02-24T22:32:59.017Z"
   },
   {
    "duration": 44,
    "start_time": "2022-02-24T22:32:59.027Z"
   },
   {
    "duration": 10,
    "start_time": "2022-02-24T22:32:59.072Z"
   },
   {
    "duration": 8,
    "start_time": "2022-02-24T22:32:59.084Z"
   },
   {
    "duration": 35,
    "start_time": "2022-02-24T22:32:59.094Z"
   },
   {
    "duration": 67,
    "start_time": "2022-02-24T22:32:59.131Z"
   },
   {
    "duration": 14,
    "start_time": "2022-02-24T22:32:59.200Z"
   },
   {
    "duration": 34,
    "start_time": "2022-02-24T22:32:59.215Z"
   },
   {
    "duration": 7,
    "start_time": "2022-02-24T22:32:59.269Z"
   },
   {
    "duration": 14,
    "start_time": "2022-02-24T22:32:59.278Z"
   },
   {
    "duration": 45,
    "start_time": "2022-02-24T22:32:59.294Z"
   },
   {
    "duration": 55,
    "start_time": "2022-02-24T22:32:59.341Z"
   },
   {
    "duration": 53,
    "start_time": "2022-02-24T22:32:59.398Z"
   },
   {
    "duration": 25,
    "start_time": "2022-02-24T22:32:59.453Z"
   },
   {
    "duration": 10,
    "start_time": "2022-02-24T22:32:59.482Z"
   },
   {
    "duration": 18,
    "start_time": "2022-02-24T22:32:59.494Z"
   },
   {
    "duration": 6,
    "start_time": "2022-02-24T22:32:59.513Z"
   },
   {
    "duration": 9,
    "start_time": "2022-02-24T22:32:59.521Z"
   },
   {
    "duration": 50,
    "start_time": "2022-02-24T22:32:59.531Z"
   },
   {
    "duration": 6,
    "start_time": "2022-02-24T22:32:59.583Z"
   },
   {
    "duration": 8,
    "start_time": "2022-02-24T22:32:59.591Z"
   },
   {
    "duration": 34,
    "start_time": "2022-02-24T22:32:59.601Z"
   },
   {
    "duration": 11,
    "start_time": "2022-02-24T22:32:59.636Z"
   },
   {
    "duration": 22,
    "start_time": "2022-02-24T22:32:59.649Z"
   },
   {
    "duration": 22,
    "start_time": "2022-02-24T22:32:59.672Z"
   },
   {
    "duration": 7281,
    "start_time": "2022-02-24T22:32:59.696Z"
   },
   {
    "duration": 13013,
    "start_time": "2022-02-24T22:33:06.978Z"
   },
   {
    "duration": 1653,
    "start_time": "2022-02-24T22:33:19.993Z"
   },
   {
    "duration": 4847,
    "start_time": "2022-02-24T22:33:21.648Z"
   },
   {
    "duration": 4629,
    "start_time": "2022-02-24T22:33:26.497Z"
   },
   {
    "duration": 2264,
    "start_time": "2022-02-24T22:33:31.128Z"
   },
   {
    "duration": 7,
    "start_time": "2022-02-24T22:33:33.394Z"
   },
   {
    "duration": 30,
    "start_time": "2022-02-24T22:33:33.404Z"
   },
   {
    "duration": 23,
    "start_time": "2022-02-24T22:33:33.436Z"
   },
   {
    "duration": 115,
    "start_time": "2022-02-24T22:33:33.462Z"
   },
   {
    "duration": 82,
    "start_time": "2022-02-24T22:33:55.262Z"
   },
   {
    "duration": 99,
    "start_time": "2022-02-24T22:34:03.667Z"
   },
   {
    "duration": 85,
    "start_time": "2022-02-24T22:34:17.380Z"
   },
   {
    "duration": 20,
    "start_time": "2022-02-24T22:34:36.401Z"
   },
   {
    "duration": 20,
    "start_time": "2022-02-24T22:34:53.067Z"
   },
   {
    "duration": 279,
    "start_time": "2022-02-24T22:36:42.921Z"
   },
   {
    "duration": 20,
    "start_time": "2022-02-24T22:36:49.268Z"
   },
   {
    "duration": 20,
    "start_time": "2022-02-24T22:40:00.607Z"
   },
   {
    "duration": 31,
    "start_time": "2022-02-24T22:46:09.024Z"
   },
   {
    "duration": 6565,
    "start_time": "2022-02-24T22:48:13.445Z"
   },
   {
    "duration": 9,
    "start_time": "2022-02-24T22:48:29.537Z"
   },
   {
    "duration": 248,
    "start_time": "2022-02-24T22:48:41.449Z"
   },
   {
    "duration": 10,
    "start_time": "2022-02-24T22:49:14.101Z"
   },
   {
    "duration": 283,
    "start_time": "2022-02-24T22:50:43.484Z"
   },
   {
    "duration": 278,
    "start_time": "2022-02-24T22:51:13.743Z"
   },
   {
    "duration": 10,
    "start_time": "2022-02-24T22:51:23.028Z"
   },
   {
    "duration": 290,
    "start_time": "2022-02-24T22:51:50.314Z"
   },
   {
    "duration": 277,
    "start_time": "2022-02-24T22:51:59.783Z"
   },
   {
    "duration": 293,
    "start_time": "2022-02-24T22:53:33.954Z"
   },
   {
    "duration": 264,
    "start_time": "2022-02-24T22:53:42.487Z"
   },
   {
    "duration": 64,
    "start_time": "2022-02-24T22:54:07.457Z"
   },
   {
    "duration": 13,
    "start_time": "2022-02-24T22:54:07.524Z"
   },
   {
    "duration": 59,
    "start_time": "2022-02-24T22:54:07.539Z"
   },
   {
    "duration": 4,
    "start_time": "2022-02-24T22:54:07.600Z"
   },
   {
    "duration": 13,
    "start_time": "2022-02-24T22:54:07.605Z"
   },
   {
    "duration": 5,
    "start_time": "2022-02-24T22:54:07.620Z"
   },
   {
    "duration": 10,
    "start_time": "2022-02-24T22:54:07.626Z"
   },
   {
    "duration": 36,
    "start_time": "2022-02-24T22:54:07.638Z"
   },
   {
    "duration": 8,
    "start_time": "2022-02-24T22:54:07.676Z"
   },
   {
    "duration": 5,
    "start_time": "2022-02-24T22:54:07.686Z"
   },
   {
    "duration": 9,
    "start_time": "2022-02-24T22:54:07.693Z"
   },
   {
    "duration": 11,
    "start_time": "2022-02-24T22:54:07.704Z"
   },
   {
    "duration": 78,
    "start_time": "2022-02-24T22:54:07.717Z"
   },
   {
    "duration": 7,
    "start_time": "2022-02-24T22:54:07.796Z"
   },
   {
    "duration": 5,
    "start_time": "2022-02-24T22:54:07.804Z"
   },
   {
    "duration": 12,
    "start_time": "2022-02-24T22:54:07.811Z"
   },
   {
    "duration": 6,
    "start_time": "2022-02-24T22:54:07.824Z"
   },
   {
    "duration": 4,
    "start_time": "2022-02-24T22:54:07.870Z"
   },
   {
    "duration": 11,
    "start_time": "2022-02-24T22:54:07.876Z"
   },
   {
    "duration": 7,
    "start_time": "2022-02-24T22:54:07.889Z"
   },
   {
    "duration": 37,
    "start_time": "2022-02-24T22:54:07.898Z"
   },
   {
    "duration": 40,
    "start_time": "2022-02-24T22:54:07.937Z"
   },
   {
    "duration": 15,
    "start_time": "2022-02-24T22:54:07.979Z"
   },
   {
    "duration": 6,
    "start_time": "2022-02-24T22:54:07.996Z"
   },
   {
    "duration": 8,
    "start_time": "2022-02-24T22:54:08.003Z"
   },
   {
    "duration": 8,
    "start_time": "2022-02-24T22:54:08.013Z"
   },
   {
    "duration": 47,
    "start_time": "2022-02-24T22:54:08.023Z"
   },
   {
    "duration": 7,
    "start_time": "2022-02-24T22:54:08.072Z"
   },
   {
    "duration": 18,
    "start_time": "2022-02-24T22:54:08.080Z"
   },
   {
    "duration": 9,
    "start_time": "2022-02-24T22:54:08.100Z"
   },
   {
    "duration": 31,
    "start_time": "2022-02-24T22:54:08.111Z"
   },
   {
    "duration": 61,
    "start_time": "2022-02-24T22:54:08.144Z"
   },
   {
    "duration": 15,
    "start_time": "2022-02-24T22:54:08.209Z"
   },
   {
    "duration": 69,
    "start_time": "2022-02-24T22:54:08.227Z"
   },
   {
    "duration": 8,
    "start_time": "2022-02-24T22:54:08.299Z"
   },
   {
    "duration": 11,
    "start_time": "2022-02-24T22:54:08.310Z"
   },
   {
    "duration": 75,
    "start_time": "2022-02-24T22:54:08.323Z"
   },
   {
    "duration": 34,
    "start_time": "2022-02-24T22:54:08.400Z"
   },
   {
    "duration": 71,
    "start_time": "2022-02-24T22:54:08.437Z"
   },
   {
    "duration": 13,
    "start_time": "2022-02-24T22:54:08.511Z"
   },
   {
    "duration": 11,
    "start_time": "2022-02-24T22:54:08.526Z"
   },
   {
    "duration": 37,
    "start_time": "2022-02-24T22:54:08.539Z"
   },
   {
    "duration": 8,
    "start_time": "2022-02-24T22:54:08.578Z"
   },
   {
    "duration": 13,
    "start_time": "2022-02-24T22:54:08.588Z"
   },
   {
    "duration": 17,
    "start_time": "2022-02-24T22:54:08.603Z"
   },
   {
    "duration": 4,
    "start_time": "2022-02-24T22:54:08.622Z"
   },
   {
    "duration": 40,
    "start_time": "2022-02-24T22:54:08.629Z"
   },
   {
    "duration": 31,
    "start_time": "2022-02-24T22:54:08.671Z"
   },
   {
    "duration": 11,
    "start_time": "2022-02-24T22:54:08.705Z"
   },
   {
    "duration": 5,
    "start_time": "2022-02-24T22:54:08.718Z"
   },
   {
    "duration": 4,
    "start_time": "2022-02-24T22:54:08.725Z"
   },
   {
    "duration": 7341,
    "start_time": "2022-02-24T22:54:08.731Z"
   },
   {
    "duration": 13529,
    "start_time": "2022-02-24T22:54:16.074Z"
   },
   {
    "duration": 1661,
    "start_time": "2022-02-24T22:54:29.604Z"
   },
   {
    "duration": 4680,
    "start_time": "2022-02-24T22:54:31.267Z"
   },
   {
    "duration": 4461,
    "start_time": "2022-02-24T22:54:35.949Z"
   },
   {
    "duration": 2281,
    "start_time": "2022-02-24T22:54:40.414Z"
   },
   {
    "duration": 5,
    "start_time": "2022-02-24T22:54:42.697Z"
   },
   {
    "duration": 11,
    "start_time": "2022-02-24T22:54:42.704Z"
   },
   {
    "duration": 16,
    "start_time": "2022-02-24T22:54:42.716Z"
   },
   {
    "duration": 22,
    "start_time": "2022-02-24T22:54:42.734Z"
   },
   {
    "duration": 16,
    "start_time": "2022-02-24T22:54:42.758Z"
   },
   {
    "duration": 17,
    "start_time": "2022-02-24T22:54:42.775Z"
   },
   {
    "duration": 14,
    "start_time": "2022-02-24T22:58:18.203Z"
   },
   {
    "duration": 16,
    "start_time": "2022-02-24T22:58:19.491Z"
   },
   {
    "duration": 10,
    "start_time": "2022-02-24T22:58:33.571Z"
   },
   {
    "duration": 95,
    "start_time": "2022-02-24T23:01:23.587Z"
   },
   {
    "duration": 11,
    "start_time": "2022-02-24T23:01:43.827Z"
   },
   {
    "duration": 10,
    "start_time": "2022-02-24T23:04:40.010Z"
   },
   {
    "duration": 9,
    "start_time": "2022-02-24T23:04:43.412Z"
   },
   {
    "duration": 9,
    "start_time": "2022-02-24T23:04:46.912Z"
   },
   {
    "duration": 12,
    "start_time": "2022-02-24T23:04:48.332Z"
   },
   {
    "duration": 16,
    "start_time": "2022-02-24T23:04:56.150Z"
   },
   {
    "duration": 6687,
    "start_time": "2022-02-24T23:06:11.702Z"
   },
   {
    "duration": 15,
    "start_time": "2022-02-24T23:06:26.137Z"
   },
   {
    "duration": 6502,
    "start_time": "2022-02-24T23:07:27.386Z"
   },
   {
    "duration": 7435,
    "start_time": "2022-02-24T23:07:47.534Z"
   },
   {
    "duration": 17,
    "start_time": "2022-02-24T23:08:00.334Z"
   },
   {
    "duration": 260,
    "start_time": "2022-02-24T23:10:24.503Z"
   },
   {
    "duration": 8,
    "start_time": "2022-02-24T23:11:33.235Z"
   },
   {
    "duration": 7,
    "start_time": "2022-02-24T23:12:09.030Z"
   },
   {
    "duration": 8,
    "start_time": "2022-02-24T23:12:17.456Z"
   },
   {
    "duration": 82,
    "start_time": "2022-02-24T23:15:22.710Z"
   },
   {
    "duration": 128,
    "start_time": "2022-02-24T23:15:34.263Z"
   },
   {
    "duration": 18,
    "start_time": "2022-02-24T23:15:39.802Z"
   },
   {
    "duration": 267,
    "start_time": "2022-02-24T23:15:54.657Z"
   },
   {
    "duration": 99,
    "start_time": "2022-02-24T23:16:05.359Z"
   },
   {
    "duration": 310,
    "start_time": "2022-02-24T23:16:22.632Z"
   },
   {
    "duration": 274,
    "start_time": "2022-02-24T23:16:36.190Z"
   },
   {
    "duration": 275,
    "start_time": "2022-02-24T23:17:41.404Z"
   },
   {
    "duration": 14,
    "start_time": "2022-02-24T23:18:08.073Z"
   },
   {
    "duration": 12,
    "start_time": "2022-02-24T23:18:08.801Z"
   },
   {
    "duration": 294,
    "start_time": "2022-02-24T23:18:09.774Z"
   },
   {
    "duration": 261,
    "start_time": "2022-02-24T23:18:34.479Z"
   },
   {
    "duration": 18,
    "start_time": "2022-02-24T23:18:50.110Z"
   },
   {
    "duration": 8,
    "start_time": "2022-02-24T23:19:11.079Z"
   },
   {
    "duration": 20,
    "start_time": "2022-02-24T23:19:11.816Z"
   },
   {
    "duration": 20,
    "start_time": "2022-02-24T23:19:30.395Z"
   },
   {
    "duration": 24,
    "start_time": "2022-02-24T23:19:48.670Z"
   },
   {
    "duration": 350,
    "start_time": "2022-02-24T23:20:11.458Z"
   },
   {
    "duration": 25,
    "start_time": "2022-02-24T23:20:23.732Z"
   },
   {
    "duration": 18,
    "start_time": "2022-02-24T23:21:02.728Z"
   },
   {
    "duration": 23,
    "start_time": "2022-02-24T23:21:11.404Z"
   },
   {
    "duration": 29,
    "start_time": "2022-02-24T23:21:26.784Z"
   },
   {
    "duration": 28,
    "start_time": "2022-02-24T23:21:54.489Z"
   },
   {
    "duration": 29,
    "start_time": "2022-02-24T23:22:33.414Z"
   },
   {
    "duration": 35,
    "start_time": "2022-02-24T23:23:11.260Z"
   },
   {
    "duration": 28,
    "start_time": "2022-02-24T23:24:00.729Z"
   },
   {
    "duration": 283,
    "start_time": "2022-02-24T23:26:13.139Z"
   },
   {
    "duration": 91,
    "start_time": "2022-02-24T23:26:24.171Z"
   },
   {
    "duration": 29,
    "start_time": "2022-02-24T23:26:37.064Z"
   },
   {
    "duration": 87,
    "start_time": "2022-02-24T23:27:10.791Z"
   },
   {
    "duration": 92,
    "start_time": "2022-02-24T23:27:36.376Z"
   },
   {
    "duration": 92,
    "start_time": "2022-02-24T23:27:59.896Z"
   },
   {
    "duration": 24,
    "start_time": "2022-02-24T23:28:16.867Z"
   },
   {
    "duration": 265,
    "start_time": "2022-02-24T23:30:40.046Z"
   },
   {
    "duration": 22,
    "start_time": "2022-02-24T23:31:00.796Z"
   },
   {
    "duration": 27,
    "start_time": "2022-02-24T23:31:29.024Z"
   },
   {
    "duration": 187,
    "start_time": "2022-02-24T23:35:57.819Z"
   },
   {
    "duration": 512,
    "start_time": "2022-02-24T23:36:07.657Z"
   },
   {
    "duration": 8,
    "start_time": "2022-02-24T23:42:10.396Z"
   },
   {
    "duration": 74,
    "start_time": "2022-02-24T23:44:08.335Z"
   },
   {
    "duration": 8,
    "start_time": "2022-02-24T23:50:18.731Z"
   },
   {
    "duration": 5,
    "start_time": "2022-02-24T23:50:32.929Z"
   },
   {
    "duration": 4,
    "start_time": "2022-02-24T23:50:40.911Z"
   },
   {
    "duration": 4,
    "start_time": "2022-02-24T23:50:47.462Z"
   },
   {
    "duration": 27,
    "start_time": "2022-02-24T23:52:05.570Z"
   },
   {
    "duration": 126,
    "start_time": "2022-02-24T23:56:45.116Z"
   },
   {
    "duration": 12,
    "start_time": "2022-02-25T00:09:20.021Z"
   },
   {
    "duration": 64,
    "start_time": "2022-02-25T00:12:00.273Z"
   },
   {
    "duration": 12,
    "start_time": "2022-02-25T00:12:00.339Z"
   },
   {
    "duration": 47,
    "start_time": "2022-02-25T00:12:00.353Z"
   },
   {
    "duration": 4,
    "start_time": "2022-02-25T00:12:00.402Z"
   },
   {
    "duration": 18,
    "start_time": "2022-02-25T00:12:00.408Z"
   },
   {
    "duration": 9,
    "start_time": "2022-02-25T00:12:00.428Z"
   },
   {
    "duration": 31,
    "start_time": "2022-02-25T00:12:00.439Z"
   },
   {
    "duration": 6,
    "start_time": "2022-02-25T00:12:00.473Z"
   },
   {
    "duration": 11,
    "start_time": "2022-02-25T00:12:00.481Z"
   },
   {
    "duration": 7,
    "start_time": "2022-02-25T00:12:00.493Z"
   },
   {
    "duration": 13,
    "start_time": "2022-02-25T00:12:00.502Z"
   },
   {
    "duration": 52,
    "start_time": "2022-02-25T00:12:00.517Z"
   },
   {
    "duration": 41,
    "start_time": "2022-02-25T00:12:00.572Z"
   },
   {
    "duration": 6,
    "start_time": "2022-02-25T00:12:00.615Z"
   },
   {
    "duration": 11,
    "start_time": "2022-02-25T00:12:00.623Z"
   },
   {
    "duration": 41,
    "start_time": "2022-02-25T00:12:00.636Z"
   },
   {
    "duration": 9,
    "start_time": "2022-02-25T00:12:00.678Z"
   },
   {
    "duration": 9,
    "start_time": "2022-02-25T00:12:00.690Z"
   },
   {
    "duration": 29,
    "start_time": "2022-02-25T00:12:00.702Z"
   },
   {
    "duration": 14,
    "start_time": "2022-02-25T00:12:00.733Z"
   },
   {
    "duration": 51,
    "start_time": "2022-02-25T00:12:00.749Z"
   },
   {
    "duration": 11,
    "start_time": "2022-02-25T00:12:00.803Z"
   },
   {
    "duration": 25,
    "start_time": "2022-02-25T00:12:00.816Z"
   },
   {
    "duration": 27,
    "start_time": "2022-02-25T00:12:00.843Z"
   },
   {
    "duration": 11,
    "start_time": "2022-02-25T00:12:00.872Z"
   },
   {
    "duration": 12,
    "start_time": "2022-02-25T00:12:00.885Z"
   },
   {
    "duration": 32,
    "start_time": "2022-02-25T00:12:00.898Z"
   },
   {
    "duration": 13,
    "start_time": "2022-02-25T00:12:00.932Z"
   },
   {
    "duration": 17,
    "start_time": "2022-02-25T00:12:00.947Z"
   },
   {
    "duration": 16,
    "start_time": "2022-02-25T00:12:00.965Z"
   },
   {
    "duration": 40,
    "start_time": "2022-02-25T00:12:00.983Z"
   },
   {
    "duration": 57,
    "start_time": "2022-02-25T00:12:01.025Z"
   },
   {
    "duration": 15,
    "start_time": "2022-02-25T00:12:01.084Z"
   },
   {
    "duration": 39,
    "start_time": "2022-02-25T00:12:01.101Z"
   },
   {
    "duration": 34,
    "start_time": "2022-02-25T00:12:01.142Z"
   },
   {
    "duration": 23,
    "start_time": "2022-02-25T00:12:01.178Z"
   },
   {
    "duration": 69,
    "start_time": "2022-02-25T00:12:01.206Z"
   },
   {
    "duration": 38,
    "start_time": "2022-02-25T00:12:01.278Z"
   },
   {
    "duration": 70,
    "start_time": "2022-02-25T00:12:01.318Z"
   },
   {
    "duration": 13,
    "start_time": "2022-02-25T00:12:01.390Z"
   },
   {
    "duration": 13,
    "start_time": "2022-02-25T00:12:01.405Z"
   },
   {
    "duration": 18,
    "start_time": "2022-02-25T00:12:01.420Z"
   },
   {
    "duration": 34,
    "start_time": "2022-02-25T00:12:01.440Z"
   },
   {
    "duration": 18,
    "start_time": "2022-02-25T00:12:01.476Z"
   },
   {
    "duration": 30,
    "start_time": "2022-02-25T00:12:01.496Z"
   },
   {
    "duration": 4,
    "start_time": "2022-02-25T00:12:01.528Z"
   },
   {
    "duration": 11,
    "start_time": "2022-02-25T00:12:01.533Z"
   },
   {
    "duration": 47,
    "start_time": "2022-02-25T00:12:01.546Z"
   },
   {
    "duration": 14,
    "start_time": "2022-02-25T00:12:01.596Z"
   },
   {
    "duration": 9,
    "start_time": "2022-02-25T00:12:01.612Z"
   },
   {
    "duration": 16,
    "start_time": "2022-02-25T00:12:01.623Z"
   },
   {
    "duration": 7461,
    "start_time": "2022-02-25T00:12:01.641Z"
   },
   {
    "duration": 13343,
    "start_time": "2022-02-25T00:12:09.104Z"
   },
   {
    "duration": 1681,
    "start_time": "2022-02-25T00:12:22.448Z"
   },
   {
    "duration": 4806,
    "start_time": "2022-02-25T00:12:24.132Z"
   },
   {
    "duration": 4600,
    "start_time": "2022-02-25T00:12:28.940Z"
   },
   {
    "duration": 2232,
    "start_time": "2022-02-25T00:12:33.542Z"
   },
   {
    "duration": 7,
    "start_time": "2022-02-25T00:12:35.776Z"
   },
   {
    "duration": 15,
    "start_time": "2022-02-25T00:12:35.785Z"
   },
   {
    "duration": 14,
    "start_time": "2022-02-25T00:12:35.802Z"
   },
   {
    "duration": 23,
    "start_time": "2022-02-25T00:12:35.818Z"
   },
   {
    "duration": 39,
    "start_time": "2022-02-25T00:12:35.843Z"
   },
   {
    "duration": 8,
    "start_time": "2022-02-25T00:12:35.884Z"
   },
   {
    "duration": 26,
    "start_time": "2022-02-25T00:12:35.894Z"
   },
   {
    "duration": 3,
    "start_time": "2022-02-25T00:12:35.922Z"
   },
   {
    "duration": 55,
    "start_time": "2022-02-25T00:12:35.927Z"
   },
   {
    "duration": 4,
    "start_time": "2022-02-25T00:12:35.984Z"
   },
   {
    "duration": 31,
    "start_time": "2022-02-25T00:12:35.990Z"
   },
   {
    "duration": 16,
    "start_time": "2022-02-25T00:12:36.023Z"
   },
   {
    "duration": 316,
    "start_time": "2022-02-25T07:34:40.939Z"
   },
   {
    "duration": 650,
    "start_time": "2022-02-25T07:38:32.424Z"
   },
   {
    "duration": 12,
    "start_time": "2022-02-25T07:38:33.076Z"
   },
   {
    "duration": 37,
    "start_time": "2022-02-25T07:38:33.091Z"
   },
   {
    "duration": 4,
    "start_time": "2022-02-25T07:38:33.130Z"
   },
   {
    "duration": 38,
    "start_time": "2022-02-25T07:38:33.135Z"
   },
   {
    "duration": 6,
    "start_time": "2022-02-25T07:38:33.174Z"
   },
   {
    "duration": 14,
    "start_time": "2022-02-25T07:38:33.182Z"
   },
   {
    "duration": 11,
    "start_time": "2022-02-25T07:38:33.198Z"
   },
   {
    "duration": 9,
    "start_time": "2022-02-25T07:38:33.212Z"
   },
   {
    "duration": 8,
    "start_time": "2022-02-25T07:38:33.223Z"
   },
   {
    "duration": 17,
    "start_time": "2022-02-25T07:38:33.233Z"
   },
   {
    "duration": 25,
    "start_time": "2022-02-25T07:38:33.270Z"
   },
   {
    "duration": 51,
    "start_time": "2022-02-25T07:38:33.297Z"
   },
   {
    "duration": 7,
    "start_time": "2022-02-25T07:38:33.350Z"
   },
   {
    "duration": 11,
    "start_time": "2022-02-25T07:38:33.358Z"
   },
   {
    "duration": 13,
    "start_time": "2022-02-25T07:38:33.371Z"
   },
   {
    "duration": 8,
    "start_time": "2022-02-25T07:38:33.386Z"
   },
   {
    "duration": 8,
    "start_time": "2022-02-25T07:38:33.396Z"
   },
   {
    "duration": 12,
    "start_time": "2022-02-25T07:38:33.406Z"
   },
   {
    "duration": 15,
    "start_time": "2022-02-25T07:38:33.419Z"
   },
   {
    "duration": 48,
    "start_time": "2022-02-25T07:38:33.436Z"
   },
   {
    "duration": 10,
    "start_time": "2022-02-25T07:38:33.486Z"
   },
   {
    "duration": 27,
    "start_time": "2022-02-25T07:38:33.497Z"
   },
   {
    "duration": 6,
    "start_time": "2022-02-25T07:38:33.526Z"
   },
   {
    "duration": 13,
    "start_time": "2022-02-25T07:38:33.534Z"
   },
   {
    "duration": 27,
    "start_time": "2022-02-25T07:38:33.549Z"
   },
   {
    "duration": 11,
    "start_time": "2022-02-25T07:38:33.579Z"
   },
   {
    "duration": 278,
    "start_time": "2022-02-25T07:38:37.334Z"
   },
   {
    "duration": 6,
    "start_time": "2022-02-25T07:38:43.667Z"
   },
   {
    "duration": 6,
    "start_time": "2022-02-25T07:39:11.696Z"
   },
   {
    "duration": 6,
    "start_time": "2022-02-25T07:39:30.031Z"
   },
   {
    "duration": 1112,
    "start_time": "2022-02-25T07:39:48.840Z"
   },
   {
    "duration": 6,
    "start_time": "2022-02-25T07:39:53.311Z"
   },
   {
    "duration": 5,
    "start_time": "2022-02-25T07:41:28.611Z"
   },
   {
    "duration": 97,
    "start_time": "2022-02-25T07:41:35.223Z"
   },
   {
    "duration": 6,
    "start_time": "2022-02-25T07:41:40.862Z"
   },
   {
    "duration": 6,
    "start_time": "2022-02-25T07:43:44.016Z"
   },
   {
    "duration": 8,
    "start_time": "2022-02-25T07:43:59.331Z"
   },
   {
    "duration": 7059,
    "start_time": "2022-02-25T07:51:50.033Z"
   },
   {
    "duration": -66,
    "start_time": "2022-02-25T07:51:57.162Z"
   },
   {
    "duration": -69,
    "start_time": "2022-02-25T07:51:57.167Z"
   },
   {
    "duration": -71,
    "start_time": "2022-02-25T07:51:57.170Z"
   },
   {
    "duration": -73,
    "start_time": "2022-02-25T07:51:57.173Z"
   },
   {
    "duration": -76,
    "start_time": "2022-02-25T07:51:57.177Z"
   },
   {
    "duration": -78,
    "start_time": "2022-02-25T07:51:57.180Z"
   },
   {
    "duration": -80,
    "start_time": "2022-02-25T07:51:57.183Z"
   },
   {
    "duration": -83,
    "start_time": "2022-02-25T07:51:57.187Z"
   },
   {
    "duration": -87,
    "start_time": "2022-02-25T07:51:57.192Z"
   },
   {
    "duration": -91,
    "start_time": "2022-02-25T07:51:57.197Z"
   },
   {
    "duration": -93,
    "start_time": "2022-02-25T07:51:57.200Z"
   },
   {
    "duration": -96,
    "start_time": "2022-02-25T07:51:57.204Z"
   },
   {
    "duration": -98,
    "start_time": "2022-02-25T07:51:57.207Z"
   },
   {
    "duration": -101,
    "start_time": "2022-02-25T07:51:57.211Z"
   },
   {
    "duration": -104,
    "start_time": "2022-02-25T07:51:57.215Z"
   },
   {
    "duration": -106,
    "start_time": "2022-02-25T07:51:57.218Z"
   },
   {
    "duration": -107,
    "start_time": "2022-02-25T07:51:57.220Z"
   },
   {
    "duration": -110,
    "start_time": "2022-02-25T07:51:57.224Z"
   },
   {
    "duration": -111,
    "start_time": "2022-02-25T07:51:57.226Z"
   },
   {
    "duration": -114,
    "start_time": "2022-02-25T07:51:57.230Z"
   },
   {
    "duration": -116,
    "start_time": "2022-02-25T07:51:57.233Z"
   },
   {
    "duration": -117,
    "start_time": "2022-02-25T07:51:57.236Z"
   },
   {
    "duration": -119,
    "start_time": "2022-02-25T07:51:57.239Z"
   },
   {
    "duration": -121,
    "start_time": "2022-02-25T07:51:57.242Z"
   },
   {
    "duration": -122,
    "start_time": "2022-02-25T07:51:57.244Z"
   },
   {
    "duration": -132,
    "start_time": "2022-02-25T07:51:57.255Z"
   },
   {
    "duration": -133,
    "start_time": "2022-02-25T07:51:57.257Z"
   },
   {
    "duration": -135,
    "start_time": "2022-02-25T07:51:57.260Z"
   },
   {
    "duration": -137,
    "start_time": "2022-02-25T07:51:57.263Z"
   },
   {
    "duration": -138,
    "start_time": "2022-02-25T07:51:57.265Z"
   },
   {
    "duration": -140,
    "start_time": "2022-02-25T07:51:57.268Z"
   },
   {
    "duration": -141,
    "start_time": "2022-02-25T07:51:57.270Z"
   },
   {
    "duration": -143,
    "start_time": "2022-02-25T07:51:57.273Z"
   },
   {
    "duration": -145,
    "start_time": "2022-02-25T07:51:57.276Z"
   },
   {
    "duration": -146,
    "start_time": "2022-02-25T07:51:57.278Z"
   },
   {
    "duration": -148,
    "start_time": "2022-02-25T07:51:57.281Z"
   },
   {
    "duration": -149,
    "start_time": "2022-02-25T07:51:57.283Z"
   },
   {
    "duration": -118,
    "start_time": "2022-02-25T07:51:57.286Z"
   },
   {
    "duration": -118,
    "start_time": "2022-02-25T07:51:57.288Z"
   },
   {
    "duration": -120,
    "start_time": "2022-02-25T07:51:57.291Z"
   },
   {
    "duration": -122,
    "start_time": "2022-02-25T07:51:57.294Z"
   },
   {
    "duration": -124,
    "start_time": "2022-02-25T07:51:57.297Z"
   },
   {
    "duration": -126,
    "start_time": "2022-02-25T07:51:57.300Z"
   },
   {
    "duration": -128,
    "start_time": "2022-02-25T07:51:57.303Z"
   },
   {
    "duration": -130,
    "start_time": "2022-02-25T07:51:57.306Z"
   },
   {
    "duration": -131,
    "start_time": "2022-02-25T07:51:57.308Z"
   },
   {
    "duration": -133,
    "start_time": "2022-02-25T07:51:57.311Z"
   },
   {
    "duration": -136,
    "start_time": "2022-02-25T07:51:57.315Z"
   },
   {
    "duration": -137,
    "start_time": "2022-02-25T07:51:57.317Z"
   },
   {
    "duration": -139,
    "start_time": "2022-02-25T07:51:57.320Z"
   },
   {
    "duration": -141,
    "start_time": "2022-02-25T07:51:57.323Z"
   },
   {
    "duration": -142,
    "start_time": "2022-02-25T07:51:57.325Z"
   },
   {
    "duration": -144,
    "start_time": "2022-02-25T07:51:57.328Z"
   },
   {
    "duration": -145,
    "start_time": "2022-02-25T07:51:57.330Z"
   },
   {
    "duration": -147,
    "start_time": "2022-02-25T07:51:57.333Z"
   },
   {
    "duration": -148,
    "start_time": "2022-02-25T07:51:57.335Z"
   },
   {
    "duration": -150,
    "start_time": "2022-02-25T07:51:57.338Z"
   },
   {
    "duration": -151,
    "start_time": "2022-02-25T07:51:57.340Z"
   },
   {
    "duration": 66,
    "start_time": "2022-02-25T07:52:06.119Z"
   },
   {
    "duration": 14,
    "start_time": "2022-02-25T07:52:06.187Z"
   },
   {
    "duration": 68,
    "start_time": "2022-02-25T07:52:06.204Z"
   },
   {
    "duration": 4,
    "start_time": "2022-02-25T07:52:06.275Z"
   },
   {
    "duration": 19,
    "start_time": "2022-02-25T07:52:06.281Z"
   },
   {
    "duration": 10,
    "start_time": "2022-02-25T07:52:06.303Z"
   },
   {
    "duration": 9,
    "start_time": "2022-02-25T07:52:06.315Z"
   },
   {
    "duration": 12,
    "start_time": "2022-02-25T07:52:06.327Z"
   },
   {
    "duration": 8,
    "start_time": "2022-02-25T07:52:06.370Z"
   },
   {
    "duration": 8,
    "start_time": "2022-02-25T07:52:06.380Z"
   },
   {
    "duration": 16,
    "start_time": "2022-02-25T07:52:06.390Z"
   },
   {
    "duration": 15,
    "start_time": "2022-02-25T07:52:06.409Z"
   },
   {
    "duration": 71,
    "start_time": "2022-02-25T07:52:06.426Z"
   },
   {
    "duration": 7,
    "start_time": "2022-02-25T07:52:06.500Z"
   },
   {
    "duration": 6,
    "start_time": "2022-02-25T07:52:06.510Z"
   },
   {
    "duration": 16,
    "start_time": "2022-02-25T07:52:06.518Z"
   },
   {
    "duration": 34,
    "start_time": "2022-02-25T07:52:06.537Z"
   },
   {
    "duration": 5,
    "start_time": "2022-02-25T07:52:06.573Z"
   },
   {
    "duration": 21,
    "start_time": "2022-02-25T07:52:06.580Z"
   },
   {
    "duration": 9,
    "start_time": "2022-02-25T07:52:06.603Z"
   },
   {
    "duration": 44,
    "start_time": "2022-02-25T07:52:06.615Z"
   },
   {
    "duration": 16,
    "start_time": "2022-02-25T07:52:06.661Z"
   },
   {
    "duration": 17,
    "start_time": "2022-02-25T07:52:06.683Z"
   },
   {
    "duration": 14,
    "start_time": "2022-02-25T07:52:06.703Z"
   },
   {
    "duration": 12,
    "start_time": "2022-02-25T07:52:06.719Z"
   },
   {
    "duration": 36,
    "start_time": "2022-02-25T07:52:06.733Z"
   },
   {
    "duration": 7,
    "start_time": "2022-02-25T07:52:06.771Z"
   },
   {
    "duration": 11,
    "start_time": "2022-02-25T07:52:06.780Z"
   },
   {
    "duration": 11,
    "start_time": "2022-02-25T07:52:06.793Z"
   },
   {
    "duration": 10,
    "start_time": "2022-02-25T07:52:06.806Z"
   },
   {
    "duration": 65,
    "start_time": "2022-02-25T07:52:06.818Z"
   },
   {
    "duration": 38,
    "start_time": "2022-02-25T07:52:06.885Z"
   },
   {
    "duration": 14,
    "start_time": "2022-02-25T07:52:06.925Z"
   },
   {
    "duration": 60,
    "start_time": "2022-02-25T07:52:06.941Z"
   },
   {
    "duration": 8,
    "start_time": "2022-02-25T07:52:07.003Z"
   },
   {
    "duration": 13,
    "start_time": "2022-02-25T07:52:07.013Z"
   },
   {
    "duration": 72,
    "start_time": "2022-02-25T07:52:07.028Z"
   },
   {
    "duration": 38,
    "start_time": "2022-02-25T07:52:07.102Z"
   },
   {
    "duration": 83,
    "start_time": "2022-02-25T07:52:07.143Z"
   },
   {
    "duration": 12,
    "start_time": "2022-02-25T07:52:07.228Z"
   },
   {
    "duration": 29,
    "start_time": "2022-02-25T07:52:07.242Z"
   },
   {
    "duration": 17,
    "start_time": "2022-02-25T07:52:07.273Z"
   },
   {
    "duration": 6,
    "start_time": "2022-02-25T07:52:07.292Z"
   },
   {
    "duration": 18,
    "start_time": "2022-02-25T07:52:07.300Z"
   },
   {
    "duration": 21,
    "start_time": "2022-02-25T07:52:07.320Z"
   },
   {
    "duration": 26,
    "start_time": "2022-02-25T07:52:07.343Z"
   },
   {
    "duration": 4,
    "start_time": "2022-02-25T07:52:07.371Z"
   },
   {
    "duration": 32,
    "start_time": "2022-02-25T07:52:07.378Z"
   },
   {
    "duration": 10,
    "start_time": "2022-02-25T07:52:07.412Z"
   },
   {
    "duration": 5,
    "start_time": "2022-02-25T07:52:07.423Z"
   },
   {
    "duration": 6,
    "start_time": "2022-02-25T07:52:07.430Z"
   },
   {
    "duration": 7509,
    "start_time": "2022-02-25T07:52:07.469Z"
   },
   {
    "duration": 13094,
    "start_time": "2022-02-25T07:52:14.979Z"
   },
   {
    "duration": 1808,
    "start_time": "2022-02-25T07:52:28.075Z"
   },
   {
    "duration": 4591,
    "start_time": "2022-02-25T07:52:29.885Z"
   },
   {
    "duration": 4308,
    "start_time": "2022-02-25T07:52:34.478Z"
   },
   {
    "duration": 2193,
    "start_time": "2022-02-25T07:52:38.787Z"
   },
   {
    "duration": 2190,
    "start_time": "2022-02-25T07:52:44.464Z"
   },
   {
    "duration": 5,
    "start_time": "2022-02-25T07:52:46.657Z"
   },
   {
    "duration": 5,
    "start_time": "2022-02-25T07:52:47.071Z"
   },
   {
    "duration": 5,
    "start_time": "2022-02-25T07:52:54.489Z"
   },
   {
    "duration": 8,
    "start_time": "2022-02-25T07:53:07.417Z"
   },
   {
    "duration": 9,
    "start_time": "2022-02-25T07:53:24.925Z"
   },
   {
    "duration": 7,
    "start_time": "2022-02-25T07:58:53.556Z"
   },
   {
    "duration": 7,
    "start_time": "2022-02-25T07:59:05.606Z"
   },
   {
    "duration": 76,
    "start_time": "2022-02-25T08:01:38.501Z"
   },
   {
    "duration": 14,
    "start_time": "2022-02-25T08:01:38.579Z"
   },
   {
    "duration": 58,
    "start_time": "2022-02-25T08:01:38.595Z"
   },
   {
    "duration": 5,
    "start_time": "2022-02-25T08:01:38.669Z"
   },
   {
    "duration": 41,
    "start_time": "2022-02-25T08:01:38.676Z"
   },
   {
    "duration": 35,
    "start_time": "2022-02-25T08:01:38.719Z"
   },
   {
    "duration": 34,
    "start_time": "2022-02-25T08:01:38.756Z"
   },
   {
    "duration": 21,
    "start_time": "2022-02-25T08:01:38.792Z"
   },
   {
    "duration": 17,
    "start_time": "2022-02-25T08:01:38.815Z"
   },
   {
    "duration": 17,
    "start_time": "2022-02-25T08:01:38.834Z"
   },
   {
    "duration": 22,
    "start_time": "2022-02-25T08:01:38.853Z"
   },
   {
    "duration": 30,
    "start_time": "2022-02-25T08:01:38.877Z"
   },
   {
    "duration": 59,
    "start_time": "2022-02-25T08:01:38.909Z"
   },
   {
    "duration": 8,
    "start_time": "2022-02-25T08:01:38.970Z"
   },
   {
    "duration": 27,
    "start_time": "2022-02-25T08:01:38.980Z"
   },
   {
    "duration": 32,
    "start_time": "2022-02-25T08:01:39.009Z"
   },
   {
    "duration": 41,
    "start_time": "2022-02-25T08:01:39.044Z"
   },
   {
    "duration": 30,
    "start_time": "2022-02-25T08:01:39.087Z"
   },
   {
    "duration": 45,
    "start_time": "2022-02-25T08:01:39.119Z"
   },
   {
    "duration": 12,
    "start_time": "2022-02-25T08:01:39.166Z"
   },
   {
    "duration": 64,
    "start_time": "2022-02-25T08:01:39.180Z"
   },
   {
    "duration": 12,
    "start_time": "2022-02-25T08:01:39.246Z"
   },
   {
    "duration": 55,
    "start_time": "2022-02-25T08:01:39.264Z"
   },
   {
    "duration": 14,
    "start_time": "2022-02-25T08:01:39.322Z"
   },
   {
    "duration": 27,
    "start_time": "2022-02-25T08:01:39.338Z"
   },
   {
    "duration": 30,
    "start_time": "2022-02-25T08:01:39.367Z"
   },
   {
    "duration": 13,
    "start_time": "2022-02-25T08:01:39.398Z"
   },
   {
    "duration": 13,
    "start_time": "2022-02-25T08:01:39.413Z"
   },
   {
    "duration": 33,
    "start_time": "2022-02-25T08:01:39.428Z"
   },
   {
    "duration": 24,
    "start_time": "2022-02-25T08:01:39.463Z"
   },
   {
    "duration": 58,
    "start_time": "2022-02-25T08:01:39.489Z"
   },
   {
    "duration": 38,
    "start_time": "2022-02-25T08:01:39.549Z"
   },
   {
    "duration": 19,
    "start_time": "2022-02-25T08:01:39.589Z"
   },
   {
    "duration": 38,
    "start_time": "2022-02-25T08:01:39.610Z"
   },
   {
    "duration": 24,
    "start_time": "2022-02-25T08:01:39.650Z"
   },
   {
    "duration": 12,
    "start_time": "2022-02-25T08:01:39.676Z"
   },
   {
    "duration": 57,
    "start_time": "2022-02-25T08:01:39.691Z"
   },
   {
    "duration": 49,
    "start_time": "2022-02-25T08:01:39.750Z"
   },
   {
    "duration": 78,
    "start_time": "2022-02-25T08:01:39.802Z"
   },
   {
    "duration": 12,
    "start_time": "2022-02-25T08:01:39.882Z"
   },
   {
    "duration": 33,
    "start_time": "2022-02-25T08:01:39.896Z"
   },
   {
    "duration": 29,
    "start_time": "2022-02-25T08:01:39.931Z"
   },
   {
    "duration": 16,
    "start_time": "2022-02-25T08:01:39.962Z"
   },
   {
    "duration": 23,
    "start_time": "2022-02-25T08:01:39.981Z"
   },
   {
    "duration": 39,
    "start_time": "2022-02-25T08:01:40.006Z"
   },
   {
    "duration": 12,
    "start_time": "2022-02-25T08:01:40.048Z"
   },
   {
    "duration": 37,
    "start_time": "2022-02-25T08:01:40.062Z"
   },
   {
    "duration": 66,
    "start_time": "2022-02-25T08:01:40.102Z"
   },
   {
    "duration": 32,
    "start_time": "2022-02-25T08:01:40.170Z"
   },
   {
    "duration": 17,
    "start_time": "2022-02-25T08:01:40.204Z"
   },
   {
    "duration": 33,
    "start_time": "2022-02-25T08:01:40.223Z"
   },
   {
    "duration": 7167,
    "start_time": "2022-02-25T08:01:40.258Z"
   },
   {
    "duration": 13344,
    "start_time": "2022-02-25T08:01:47.427Z"
   },
   {
    "duration": 1738,
    "start_time": "2022-02-25T08:02:00.773Z"
   },
   {
    "duration": 4690,
    "start_time": "2022-02-25T08:02:02.513Z"
   },
   {
    "duration": 4568,
    "start_time": "2022-02-25T08:02:07.204Z"
   },
   {
    "duration": 2242,
    "start_time": "2022-02-25T08:02:11.774Z"
   },
   {
    "duration": 5,
    "start_time": "2022-02-25T08:02:14.018Z"
   },
   {
    "duration": 38,
    "start_time": "2022-02-25T08:02:14.025Z"
   },
   {
    "duration": 27,
    "start_time": "2022-02-25T08:02:14.065Z"
   },
   {
    "duration": 41,
    "start_time": "2022-02-25T08:02:14.094Z"
   },
   {
    "duration": 27,
    "start_time": "2022-02-25T08:02:14.137Z"
   },
   {
    "duration": 13,
    "start_time": "2022-02-25T08:02:14.166Z"
   },
   {
    "duration": 54,
    "start_time": "2022-02-25T08:02:14.181Z"
   },
   {
    "duration": 24,
    "start_time": "2022-02-25T08:02:14.236Z"
   },
   {
    "duration": 56,
    "start_time": "2022-02-25T08:02:14.262Z"
   },
   {
    "duration": 5,
    "start_time": "2022-02-25T08:02:14.320Z"
   },
   {
    "duration": 38,
    "start_time": "2022-02-25T08:02:14.329Z"
   },
   {
    "duration": 14,
    "start_time": "2022-02-25T08:02:14.369Z"
   },
   {
    "duration": 759,
    "start_time": "2022-02-25T08:40:50.743Z"
   },
   {
    "duration": 12,
    "start_time": "2022-02-25T08:40:51.505Z"
   },
   {
    "duration": 37,
    "start_time": "2022-02-25T08:40:51.519Z"
   },
   {
    "duration": 13,
    "start_time": "2022-02-25T08:40:51.558Z"
   },
   {
    "duration": 14,
    "start_time": "2022-02-25T08:40:51.574Z"
   },
   {
    "duration": 6,
    "start_time": "2022-02-25T08:40:51.591Z"
   },
   {
    "duration": 8,
    "start_time": "2022-02-25T08:40:51.600Z"
   },
   {
    "duration": 11,
    "start_time": "2022-02-25T08:40:51.611Z"
   },
   {
    "duration": 8,
    "start_time": "2022-02-25T08:40:51.624Z"
   },
   {
    "duration": 5,
    "start_time": "2022-02-25T08:40:51.670Z"
   },
   {
    "duration": 12,
    "start_time": "2022-02-25T08:40:51.677Z"
   },
   {
    "duration": 12,
    "start_time": "2022-02-25T08:40:51.690Z"
   },
   {
    "duration": 66,
    "start_time": "2022-02-25T08:40:51.704Z"
   },
   {
    "duration": 7,
    "start_time": "2022-02-25T08:40:51.773Z"
   },
   {
    "duration": 7,
    "start_time": "2022-02-25T08:40:51.781Z"
   },
   {
    "duration": 23,
    "start_time": "2022-02-25T08:40:51.790Z"
   },
   {
    "duration": 8,
    "start_time": "2022-02-25T08:40:51.815Z"
   },
   {
    "duration": 10,
    "start_time": "2022-02-25T08:40:51.825Z"
   },
   {
    "duration": 34,
    "start_time": "2022-02-25T08:40:51.837Z"
   },
   {
    "duration": 7,
    "start_time": "2022-02-25T08:40:51.873Z"
   },
   {
    "duration": 36,
    "start_time": "2022-02-25T08:40:51.882Z"
   },
   {
    "duration": 10,
    "start_time": "2022-02-25T08:40:51.920Z"
   },
   {
    "duration": 39,
    "start_time": "2022-02-25T08:40:51.935Z"
   },
   {
    "duration": 6,
    "start_time": "2022-02-25T08:40:51.977Z"
   },
   {
    "duration": 12,
    "start_time": "2022-02-25T08:40:51.985Z"
   },
   {
    "duration": 8,
    "start_time": "2022-02-25T08:40:51.998Z"
   },
   {
    "duration": 9,
    "start_time": "2022-02-25T08:40:52.008Z"
   },
   {
    "duration": 11,
    "start_time": "2022-02-25T08:40:52.018Z"
   },
   {
    "duration": 8,
    "start_time": "2022-02-25T08:40:52.030Z"
   },
   {
    "duration": 7,
    "start_time": "2022-02-25T08:40:52.070Z"
   },
   {
    "duration": 36,
    "start_time": "2022-02-25T08:40:52.079Z"
   },
   {
    "duration": 59,
    "start_time": "2022-02-25T08:40:52.117Z"
   },
   {
    "duration": 17,
    "start_time": "2022-02-25T08:40:52.178Z"
   },
   {
    "duration": 39,
    "start_time": "2022-02-25T08:40:52.200Z"
   },
   {
    "duration": 33,
    "start_time": "2022-02-25T08:40:52.241Z"
   },
   {
    "duration": 13,
    "start_time": "2022-02-25T08:40:52.276Z"
   },
   {
    "duration": 48,
    "start_time": "2022-02-25T08:40:52.291Z"
   },
   {
    "duration": 60,
    "start_time": "2022-02-25T08:40:52.341Z"
   },
   {
    "duration": 71,
    "start_time": "2022-02-25T08:40:52.403Z"
   },
   {
    "duration": 12,
    "start_time": "2022-02-25T08:40:52.476Z"
   },
   {
    "duration": 11,
    "start_time": "2022-02-25T08:40:52.490Z"
   },
   {
    "duration": 15,
    "start_time": "2022-02-25T08:40:52.503Z"
   },
   {
    "duration": 9,
    "start_time": "2022-02-25T08:40:52.520Z"
   },
   {
    "duration": 39,
    "start_time": "2022-02-25T08:40:52.531Z"
   },
   {
    "duration": 18,
    "start_time": "2022-02-25T08:40:52.573Z"
   },
   {
    "duration": 5,
    "start_time": "2022-02-25T08:40:52.593Z"
   },
   {
    "duration": 7,
    "start_time": "2022-02-25T08:40:52.600Z"
   },
   {
    "duration": 60,
    "start_time": "2022-02-25T08:40:52.609Z"
   },
   {
    "duration": 12,
    "start_time": "2022-02-25T08:40:52.671Z"
   },
   {
    "duration": 7,
    "start_time": "2022-02-25T08:40:52.685Z"
   },
   {
    "duration": 12,
    "start_time": "2022-02-25T08:40:52.694Z"
   },
   {
    "duration": 7160,
    "start_time": "2022-02-25T08:40:52.708Z"
   },
   {
    "duration": 13363,
    "start_time": "2022-02-25T08:40:59.870Z"
   },
   {
    "duration": 1709,
    "start_time": "2022-02-25T08:41:13.235Z"
   },
   {
    "duration": 4653,
    "start_time": "2022-02-25T08:41:14.946Z"
   },
   {
    "duration": 4314,
    "start_time": "2022-02-25T08:41:19.601Z"
   },
   {
    "duration": 2197,
    "start_time": "2022-02-25T08:41:23.916Z"
   },
   {
    "duration": 6,
    "start_time": "2022-02-25T08:41:26.115Z"
   },
   {
    "duration": 25,
    "start_time": "2022-02-25T08:41:26.122Z"
   },
   {
    "duration": 21,
    "start_time": "2022-02-25T08:41:26.149Z"
   },
   {
    "duration": 33,
    "start_time": "2022-02-25T08:41:26.172Z"
   },
   {
    "duration": 14,
    "start_time": "2022-02-25T08:41:26.207Z"
   },
   {
    "duration": 27,
    "start_time": "2022-02-25T08:41:26.223Z"
   },
   {
    "duration": 45,
    "start_time": "2022-02-25T08:41:26.252Z"
   },
   {
    "duration": 4,
    "start_time": "2022-02-25T08:41:26.300Z"
   },
   {
    "duration": 40,
    "start_time": "2022-02-25T08:41:26.307Z"
   },
   {
    "duration": 4,
    "start_time": "2022-02-25T08:41:26.349Z"
   },
   {
    "duration": 36,
    "start_time": "2022-02-25T08:41:26.358Z"
   },
   {
    "duration": 27,
    "start_time": "2022-02-25T08:41:26.396Z"
   },
   {
    "duration": 387,
    "start_time": "2022-03-06T17:04:56.956Z"
   },
   {
    "duration": 900,
    "start_time": "2022-03-06T17:05:10.316Z"
   },
   {
    "duration": 16,
    "start_time": "2022-03-06T17:05:11.220Z"
   },
   {
    "duration": 47,
    "start_time": "2022-03-06T17:05:11.239Z"
   },
   {
    "duration": 5,
    "start_time": "2022-03-06T17:05:11.289Z"
   },
   {
    "duration": 46,
    "start_time": "2022-03-06T17:05:11.297Z"
   },
   {
    "duration": 10,
    "start_time": "2022-03-06T17:05:11.346Z"
   },
   {
    "duration": 10,
    "start_time": "2022-03-06T17:05:11.358Z"
   },
   {
    "duration": 9,
    "start_time": "2022-03-06T17:05:11.371Z"
   },
   {
    "duration": 58,
    "start_time": "2022-03-06T17:05:11.385Z"
   },
   {
    "duration": 8,
    "start_time": "2022-03-06T17:05:11.448Z"
   },
   {
    "duration": 16,
    "start_time": "2022-03-06T17:05:11.459Z"
   },
   {
    "duration": 59,
    "start_time": "2022-03-06T17:05:11.478Z"
   },
   {
    "duration": 47,
    "start_time": "2022-03-06T17:05:11.540Z"
   },
   {
    "duration": 9,
    "start_time": "2022-03-06T17:05:11.589Z"
   },
   {
    "duration": 35,
    "start_time": "2022-03-06T17:05:11.600Z"
   },
   {
    "duration": 15,
    "start_time": "2022-03-06T17:05:11.638Z"
   },
   {
    "duration": 9,
    "start_time": "2022-03-06T17:05:11.655Z"
   },
   {
    "duration": 18,
    "start_time": "2022-03-06T17:05:11.666Z"
   },
   {
    "duration": 45,
    "start_time": "2022-03-06T17:05:11.687Z"
   },
   {
    "duration": 7,
    "start_time": "2022-03-06T17:05:11.735Z"
   },
   {
    "duration": 50,
    "start_time": "2022-03-06T17:05:11.745Z"
   },
   {
    "duration": 72,
    "start_time": "2022-03-06T17:05:11.797Z"
   },
   {
    "duration": 12,
    "start_time": "2022-03-06T17:05:11.872Z"
   },
   {
    "duration": 47,
    "start_time": "2022-03-06T17:05:11.887Z"
   },
   {
    "duration": 7,
    "start_time": "2022-03-06T17:05:11.937Z"
   },
   {
    "duration": 11,
    "start_time": "2022-03-06T17:05:11.947Z"
   },
   {
    "duration": 10,
    "start_time": "2022-03-06T17:05:11.965Z"
   },
   {
    "duration": 8,
    "start_time": "2022-03-06T17:05:11.979Z"
   },
   {
    "duration": 45,
    "start_time": "2022-03-06T17:05:11.989Z"
   },
   {
    "duration": 10,
    "start_time": "2022-03-06T17:05:12.036Z"
   },
   {
    "duration": 8,
    "start_time": "2022-03-06T17:05:12.049Z"
   },
   {
    "duration": 79,
    "start_time": "2022-03-06T17:05:12.059Z"
   },
   {
    "duration": 47,
    "start_time": "2022-03-06T17:05:12.140Z"
   },
   {
    "duration": 17,
    "start_time": "2022-03-06T17:05:12.189Z"
   },
   {
    "duration": 67,
    "start_time": "2022-03-06T17:05:12.208Z"
   },
   {
    "duration": 9,
    "start_time": "2022-03-06T17:05:12.278Z"
   },
   {
    "duration": 45,
    "start_time": "2022-03-06T17:05:12.290Z"
   },
   {
    "duration": 57,
    "start_time": "2022-03-06T17:05:12.338Z"
   },
   {
    "duration": 66,
    "start_time": "2022-03-06T17:05:12.398Z"
   },
   {
    "duration": 78,
    "start_time": "2022-03-06T17:05:12.467Z"
   },
   {
    "duration": 15,
    "start_time": "2022-03-06T17:05:12.547Z"
   },
   {
    "duration": 13,
    "start_time": "2022-03-06T17:05:12.565Z"
   },
   {
    "duration": 18,
    "start_time": "2022-03-06T17:05:12.580Z"
   },
   {
    "duration": 9,
    "start_time": "2022-03-06T17:05:12.633Z"
   },
   {
    "duration": 9,
    "start_time": "2022-03-06T17:05:12.645Z"
   },
   {
    "duration": 20,
    "start_time": "2022-03-06T17:05:12.656Z"
   },
   {
    "duration": 5,
    "start_time": "2022-03-06T17:05:12.679Z"
   },
   {
    "duration": 6,
    "start_time": "2022-03-06T17:05:12.686Z"
   },
   {
    "duration": 45,
    "start_time": "2022-03-06T17:05:12.732Z"
   },
   {
    "duration": 12,
    "start_time": "2022-03-06T17:05:12.780Z"
   },
   {
    "duration": 5,
    "start_time": "2022-03-06T17:05:12.794Z"
   },
   {
    "duration": 4,
    "start_time": "2022-03-06T17:05:12.833Z"
   },
   {
    "duration": 9496,
    "start_time": "2022-03-06T17:05:12.839Z"
   },
   {
    "duration": 17795,
    "start_time": "2022-03-06T17:05:22.338Z"
   },
   {
    "duration": 2256,
    "start_time": "2022-03-06T17:05:40.135Z"
   },
   {
    "duration": 6664,
    "start_time": "2022-03-06T17:05:42.393Z"
   },
   {
    "duration": 6823,
    "start_time": "2022-03-06T17:05:49.060Z"
   },
   {
    "duration": 3582,
    "start_time": "2022-03-06T17:05:55.886Z"
   },
   {
    "duration": 7,
    "start_time": "2022-03-06T17:05:59.470Z"
   },
   {
    "duration": 10,
    "start_time": "2022-03-06T17:05:59.480Z"
   },
   {
    "duration": 14,
    "start_time": "2022-03-06T17:05:59.492Z"
   },
   {
    "duration": 46,
    "start_time": "2022-03-06T17:05:59.533Z"
   },
   {
    "duration": 17,
    "start_time": "2022-03-06T17:05:59.582Z"
   },
   {
    "duration": 35,
    "start_time": "2022-03-06T17:05:59.601Z"
   },
   {
    "duration": 34,
    "start_time": "2022-03-06T17:05:59.639Z"
   },
   {
    "duration": 5,
    "start_time": "2022-03-06T17:05:59.675Z"
   },
   {
    "duration": 61,
    "start_time": "2022-03-06T17:05:59.683Z"
   },
   {
    "duration": 5,
    "start_time": "2022-03-06T17:05:59.746Z"
   },
   {
    "duration": 38,
    "start_time": "2022-03-06T17:05:59.753Z"
   },
   {
    "duration": 39,
    "start_time": "2022-03-06T17:05:59.793Z"
   },
   {
    "duration": 23,
    "start_time": "2022-03-06T17:08:07.483Z"
   },
   {
    "duration": 14,
    "start_time": "2022-03-06T17:08:37.983Z"
   },
   {
    "duration": 116,
    "start_time": "2022-03-06T17:09:19.768Z"
   },
   {
    "duration": 11,
    "start_time": "2022-03-06T17:09:21.457Z"
   },
   {
    "duration": 428,
    "start_time": "2022-03-07T16:00:56.105Z"
   },
   {
    "duration": 894,
    "start_time": "2022-03-07T16:01:09.758Z"
   },
   {
    "duration": 15,
    "start_time": "2022-03-07T16:01:10.655Z"
   },
   {
    "duration": 68,
    "start_time": "2022-03-07T16:01:10.673Z"
   },
   {
    "duration": 5,
    "start_time": "2022-03-07T16:01:10.744Z"
   },
   {
    "duration": 15,
    "start_time": "2022-03-07T16:01:10.751Z"
   },
   {
    "duration": 9,
    "start_time": "2022-03-07T16:01:10.769Z"
   },
   {
    "duration": 12,
    "start_time": "2022-03-07T16:01:10.781Z"
   },
   {
    "duration": 10,
    "start_time": "2022-03-07T16:01:10.836Z"
   },
   {
    "duration": 10,
    "start_time": "2022-03-07T16:01:10.850Z"
   },
   {
    "duration": 6,
    "start_time": "2022-03-07T16:01:10.863Z"
   },
   {
    "duration": 62,
    "start_time": "2022-03-07T16:01:10.872Z"
   },
   {
    "duration": 22,
    "start_time": "2022-03-07T16:01:10.938Z"
   },
   {
    "duration": 94,
    "start_time": "2022-03-07T16:01:10.963Z"
   },
   {
    "duration": 9,
    "start_time": "2022-03-07T16:01:11.059Z"
   },
   {
    "duration": 7,
    "start_time": "2022-03-07T16:01:11.070Z"
   },
   {
    "duration": 13,
    "start_time": "2022-03-07T16:01:11.079Z"
   },
   {
    "duration": 44,
    "start_time": "2022-03-07T16:01:11.095Z"
   },
   {
    "duration": 5,
    "start_time": "2022-03-07T16:01:11.142Z"
   },
   {
    "duration": 20,
    "start_time": "2022-03-07T16:01:11.151Z"
   },
   {
    "duration": 15,
    "start_time": "2022-03-07T16:01:11.174Z"
   },
   {
    "duration": 84,
    "start_time": "2022-03-07T16:01:11.191Z"
   },
   {
    "duration": 12,
    "start_time": "2022-03-07T16:01:11.278Z"
   },
   {
    "duration": 46,
    "start_time": "2022-03-07T16:01:11.297Z"
   },
   {
    "duration": 13,
    "start_time": "2022-03-07T16:01:11.347Z"
   },
   {
    "duration": 13,
    "start_time": "2022-03-07T16:01:11.362Z"
   },
   {
    "duration": 15,
    "start_time": "2022-03-07T16:01:11.378Z"
   },
   {
    "duration": 43,
    "start_time": "2022-03-07T16:01:11.396Z"
   },
   {
    "duration": 10,
    "start_time": "2022-03-07T16:01:11.442Z"
   },
   {
    "duration": 11,
    "start_time": "2022-03-07T16:01:11.454Z"
   },
   {
    "duration": 9,
    "start_time": "2022-03-07T16:01:11.468Z"
   },
   {
    "duration": 79,
    "start_time": "2022-03-07T16:01:11.479Z"
   },
   {
    "duration": 46,
    "start_time": "2022-03-07T16:01:11.560Z"
   },
   {
    "duration": 39,
    "start_time": "2022-03-07T16:01:11.608Z"
   },
   {
    "duration": 48,
    "start_time": "2022-03-07T16:01:11.650Z"
   },
   {
    "duration": 35,
    "start_time": "2022-03-07T16:01:11.700Z"
   },
   {
    "duration": 16,
    "start_time": "2022-03-07T16:01:11.737Z"
   },
   {
    "duration": 79,
    "start_time": "2022-03-07T16:01:11.756Z"
   },
   {
    "duration": 53,
    "start_time": "2022-03-07T16:01:11.838Z"
   },
   {
    "duration": 95,
    "start_time": "2022-03-07T16:01:11.893Z"
   },
   {
    "duration": 15,
    "start_time": "2022-03-07T16:01:11.991Z"
   },
   {
    "duration": 33,
    "start_time": "2022-03-07T16:01:12.009Z"
   },
   {
    "duration": 23,
    "start_time": "2022-03-07T16:01:12.045Z"
   },
   {
    "duration": 9,
    "start_time": "2022-03-07T16:01:12.070Z"
   },
   {
    "duration": 18,
    "start_time": "2022-03-07T16:01:12.082Z"
   },
   {
    "duration": 51,
    "start_time": "2022-03-07T16:01:12.102Z"
   },
   {
    "duration": 5,
    "start_time": "2022-03-07T16:01:12.156Z"
   },
   {
    "duration": 10,
    "start_time": "2022-03-07T16:01:12.163Z"
   },
   {
    "duration": 80,
    "start_time": "2022-03-07T16:01:12.176Z"
   },
   {
    "duration": 12,
    "start_time": "2022-03-07T16:01:12.259Z"
   },
   {
    "duration": 4,
    "start_time": "2022-03-07T16:01:12.274Z"
   },
   {
    "duration": 10,
    "start_time": "2022-03-07T16:01:12.281Z"
   },
   {
    "duration": 10638,
    "start_time": "2022-03-07T16:01:12.294Z"
   },
   {
    "duration": 18353,
    "start_time": "2022-03-07T16:01:22.935Z"
   },
   {
    "duration": 2191,
    "start_time": "2022-03-07T16:01:41.292Z"
   },
   {
    "duration": 6266,
    "start_time": "2022-03-07T16:01:43.486Z"
   },
   {
    "duration": 6447,
    "start_time": "2022-03-07T16:01:49.755Z"
   },
   {
    "duration": 3403,
    "start_time": "2022-03-07T16:01:56.205Z"
   },
   {
    "duration": 7,
    "start_time": "2022-03-07T16:01:59.610Z"
   },
   {
    "duration": 18,
    "start_time": "2022-03-07T16:01:59.619Z"
   },
   {
    "duration": 8,
    "start_time": "2022-03-07T16:01:59.639Z"
   },
   {
    "duration": 14,
    "start_time": "2022-03-07T16:01:59.649Z"
   },
   {
    "duration": 31,
    "start_time": "2022-03-07T16:01:59.665Z"
   },
   {
    "duration": 47,
    "start_time": "2022-03-07T16:01:59.699Z"
   },
   {
    "duration": 10,
    "start_time": "2022-03-07T16:01:59.749Z"
   },
   {
    "duration": 37,
    "start_time": "2022-03-07T16:01:59.762Z"
   },
   {
    "duration": 33,
    "start_time": "2022-03-07T16:01:59.801Z"
   },
   {
    "duration": 37,
    "start_time": "2022-03-07T16:01:59.837Z"
   },
   {
    "duration": 5,
    "start_time": "2022-03-07T16:01:59.881Z"
   },
   {
    "duration": 64,
    "start_time": "2022-03-07T16:01:59.889Z"
   },
   {
    "duration": 13,
    "start_time": "2022-03-07T16:01:59.956Z"
   },
   {
    "duration": 26,
    "start_time": "2022-03-07T16:01:59.971Z"
   },
   {
    "duration": 9,
    "start_time": "2022-03-07T16:02:11.109Z"
   },
   {
    "duration": 6,
    "start_time": "2022-03-07T16:02:14.102Z"
   },
   {
    "duration": 7,
    "start_time": "2022-03-07T16:02:17.238Z"
   },
   {
    "duration": 5,
    "start_time": "2022-03-07T16:02:36.220Z"
   },
   {
    "duration": 6,
    "start_time": "2022-03-07T16:03:17.184Z"
   },
   {
    "duration": 660,
    "start_time": "2022-07-21T03:05:18.027Z"
   },
   {
    "duration": 15,
    "start_time": "2022-07-21T03:05:18.689Z"
   },
   {
    "duration": 45,
    "start_time": "2022-07-21T03:05:18.706Z"
   },
   {
    "duration": 4,
    "start_time": "2022-07-21T03:05:18.753Z"
   },
   {
    "duration": 15,
    "start_time": "2022-07-21T03:05:18.759Z"
   },
   {
    "duration": 18,
    "start_time": "2022-07-21T03:05:18.776Z"
   },
   {
    "duration": 11,
    "start_time": "2022-07-21T03:05:18.796Z"
   },
   {
    "duration": 17,
    "start_time": "2022-07-21T03:05:18.809Z"
   },
   {
    "duration": 21,
    "start_time": "2022-07-21T03:05:18.827Z"
   },
   {
    "duration": 16,
    "start_time": "2022-07-21T03:05:18.850Z"
   },
   {
    "duration": 37,
    "start_time": "2022-07-21T03:05:18.868Z"
   },
   {
    "duration": 35,
    "start_time": "2022-07-21T03:05:18.907Z"
   },
   {
    "duration": 41,
    "start_time": "2022-07-21T03:05:18.944Z"
   },
   {
    "duration": 6,
    "start_time": "2022-07-21T03:05:18.989Z"
   },
   {
    "duration": 23,
    "start_time": "2022-07-21T03:05:18.997Z"
   },
   {
    "duration": 19,
    "start_time": "2022-07-21T03:05:19.022Z"
   },
   {
    "duration": 21,
    "start_time": "2022-07-21T03:05:19.046Z"
   },
   {
    "duration": 11,
    "start_time": "2022-07-21T03:05:19.069Z"
   },
   {
    "duration": 24,
    "start_time": "2022-07-21T03:05:19.082Z"
   },
   {
    "duration": 7,
    "start_time": "2022-07-21T03:05:19.108Z"
   },
   {
    "duration": 38,
    "start_time": "2022-07-21T03:05:19.116Z"
   },
   {
    "duration": 9,
    "start_time": "2022-07-21T03:05:19.156Z"
   },
   {
    "duration": 18,
    "start_time": "2022-07-21T03:05:19.167Z"
   },
   {
    "duration": 16,
    "start_time": "2022-07-21T03:05:19.186Z"
   },
   {
    "duration": 21,
    "start_time": "2022-07-21T03:05:19.203Z"
   },
   {
    "duration": 5,
    "start_time": "2022-07-21T03:05:19.226Z"
   },
   {
    "duration": 14,
    "start_time": "2022-07-21T03:05:19.233Z"
   },
   {
    "duration": 11,
    "start_time": "2022-07-21T03:05:19.248Z"
   },
   {
    "duration": 20,
    "start_time": "2022-07-21T03:05:19.260Z"
   },
   {
    "duration": 13,
    "start_time": "2022-07-21T03:05:19.281Z"
   },
   {
    "duration": 36,
    "start_time": "2022-07-21T03:05:19.295Z"
   },
   {
    "duration": 30,
    "start_time": "2022-07-21T03:05:19.333Z"
   },
   {
    "duration": 13,
    "start_time": "2022-07-21T03:05:19.365Z"
   },
   {
    "duration": 29,
    "start_time": "2022-07-21T03:05:19.379Z"
   },
   {
    "duration": 9,
    "start_time": "2022-07-21T03:05:19.410Z"
   },
   {
    "duration": 31,
    "start_time": "2022-07-21T03:05:19.420Z"
   },
   {
    "duration": 48,
    "start_time": "2022-07-21T03:05:19.452Z"
   },
   {
    "duration": 45,
    "start_time": "2022-07-21T03:05:19.502Z"
   },
   {
    "duration": 69,
    "start_time": "2022-07-21T03:05:19.549Z"
   },
   {
    "duration": 26,
    "start_time": "2022-07-21T03:05:19.619Z"
   },
   {
    "duration": 11,
    "start_time": "2022-07-21T03:05:19.649Z"
   },
   {
    "duration": 18,
    "start_time": "2022-07-21T03:05:19.662Z"
   },
   {
    "duration": 7,
    "start_time": "2022-07-21T03:05:19.683Z"
   },
   {
    "duration": 32,
    "start_time": "2022-07-21T03:05:19.691Z"
   },
   {
    "duration": 23,
    "start_time": "2022-07-21T03:05:19.725Z"
   },
   {
    "duration": 4,
    "start_time": "2022-07-21T03:05:19.750Z"
   },
   {
    "duration": 16,
    "start_time": "2022-07-21T03:05:19.756Z"
   },
   {
    "duration": 28,
    "start_time": "2022-07-21T03:05:19.773Z"
   },
   {
    "duration": 11,
    "start_time": "2022-07-21T03:05:19.803Z"
   },
   {
    "duration": 13,
    "start_time": "2022-07-21T03:05:19.815Z"
   },
   {
    "duration": 4,
    "start_time": "2022-07-21T03:05:21.077Z"
   },
   {
    "duration": 89,
    "start_time": "2022-07-21T03:05:21.709Z"
   },
   {
    "duration": 10,
    "start_time": "2022-07-21T03:05:37.876Z"
   },
   {
    "duration": 6,
    "start_time": "2022-07-21T03:05:44.117Z"
   },
   {
    "duration": 6,
    "start_time": "2022-07-21T03:05:50.631Z"
   },
   {
    "duration": 7,
    "start_time": "2022-07-21T03:05:58.982Z"
   },
   {
    "duration": 8,
    "start_time": "2022-07-21T03:06:04.190Z"
   },
   {
    "duration": 612,
    "start_time": "2022-07-21T03:06:28.388Z"
   },
   {
    "duration": 20,
    "start_time": "2022-07-21T03:06:29.002Z"
   },
   {
    "duration": 273,
    "start_time": "2022-07-21T03:06:29.024Z"
   },
   {
    "duration": 547,
    "start_time": "2022-07-21T03:06:29.299Z"
   },
   {
    "duration": 689,
    "start_time": "2022-07-21T03:06:29.849Z"
   },
   {
    "duration": 271,
    "start_time": "2022-07-21T03:06:30.540Z"
   },
   {
    "duration": 405,
    "start_time": "2022-07-21T03:06:30.813Z"
   },
   {
    "duration": 285,
    "start_time": "2022-07-21T03:06:31.221Z"
   },
   {
    "duration": 23,
    "start_time": "2022-07-21T03:06:31.508Z"
   },
   {
    "duration": 23,
    "start_time": "2022-07-21T03:06:31.533Z"
   },
   {
    "duration": 10,
    "start_time": "2022-07-21T03:06:31.558Z"
   },
   {
    "duration": 13,
    "start_time": "2022-07-21T03:06:31.569Z"
   },
   {
    "duration": 36,
    "start_time": "2022-07-21T03:06:31.584Z"
   },
   {
    "duration": 6,
    "start_time": "2022-07-21T03:06:31.622Z"
   },
   {
    "duration": 5,
    "start_time": "2022-07-21T03:06:31.646Z"
   },
   {
    "duration": 22,
    "start_time": "2022-07-21T03:06:31.652Z"
   },
   {
    "duration": 8,
    "start_time": "2022-07-21T03:06:31.676Z"
   },
   {
    "duration": 13,
    "start_time": "2022-07-21T03:06:31.685Z"
   },
   {
    "duration": 13,
    "start_time": "2022-07-21T03:06:31.699Z"
   },
   {
    "duration": 7,
    "start_time": "2022-07-21T03:06:31.713Z"
   },
   {
    "duration": 44,
    "start_time": "2022-07-21T03:06:31.722Z"
   },
   {
    "duration": 10,
    "start_time": "2022-07-21T03:06:31.767Z"
   },
   {
    "duration": 16,
    "start_time": "2022-07-21T03:06:31.778Z"
   },
   {
    "duration": 6,
    "start_time": "2022-07-21T03:06:31.795Z"
   },
   {
    "duration": 10,
    "start_time": "2022-07-21T03:06:31.802Z"
   },
   {
    "duration": 33,
    "start_time": "2022-07-21T03:06:31.813Z"
   },
   {
    "duration": 5,
    "start_time": "2022-07-21T03:06:31.848Z"
   },
   {
    "duration": 9,
    "start_time": "2022-07-21T03:06:31.854Z"
   },
   {
    "duration": 10,
    "start_time": "2022-07-21T03:06:31.865Z"
   },
   {
    "duration": 8,
    "start_time": "2022-07-21T03:06:31.876Z"
   },
   {
    "duration": 26,
    "start_time": "2022-07-21T03:06:31.885Z"
   },
   {
    "duration": 60,
    "start_time": "2022-07-21T03:06:31.912Z"
   },
   {
    "duration": 12,
    "start_time": "2022-07-21T03:06:31.973Z"
   },
   {
    "duration": 27,
    "start_time": "2022-07-21T03:06:31.986Z"
   },
   {
    "duration": 33,
    "start_time": "2022-07-21T03:06:32.014Z"
   },
   {
    "duration": 10,
    "start_time": "2022-07-21T03:06:32.048Z"
   },
   {
    "duration": 49,
    "start_time": "2022-07-21T03:06:32.059Z"
   },
   {
    "duration": 65,
    "start_time": "2022-07-21T03:06:32.109Z"
   },
   {
    "duration": 52,
    "start_time": "2022-07-21T03:06:32.175Z"
   },
   {
    "duration": 21,
    "start_time": "2022-07-21T03:06:32.228Z"
   },
   {
    "duration": 8,
    "start_time": "2022-07-21T03:06:32.253Z"
   },
   {
    "duration": 14,
    "start_time": "2022-07-21T03:06:32.262Z"
   },
   {
    "duration": 6,
    "start_time": "2022-07-21T03:06:32.277Z"
   },
   {
    "duration": 8,
    "start_time": "2022-07-21T03:06:32.284Z"
   },
   {
    "duration": 59,
    "start_time": "2022-07-21T03:06:32.293Z"
   },
   {
    "duration": 4,
    "start_time": "2022-07-21T03:06:32.353Z"
   },
   {
    "duration": 7,
    "start_time": "2022-07-21T03:06:32.359Z"
   },
   {
    "duration": 24,
    "start_time": "2022-07-21T03:06:32.367Z"
   },
   {
    "duration": 6,
    "start_time": "2022-07-21T03:06:32.393Z"
   },
   {
    "duration": 5,
    "start_time": "2022-07-21T03:06:32.401Z"
   },
   {
    "duration": 38,
    "start_time": "2022-07-21T03:06:32.408Z"
   },
   {
    "duration": 11,
    "start_time": "2022-07-21T03:06:32.448Z"
   },
   {
    "duration": 8,
    "start_time": "2022-07-21T03:06:32.461Z"
   },
   {
    "duration": 5,
    "start_time": "2022-07-21T03:06:32.471Z"
   },
   {
    "duration": 10,
    "start_time": "2022-07-21T03:06:32.477Z"
   },
   {
    "duration": 21,
    "start_time": "2022-07-21T03:06:32.489Z"
   },
   {
    "duration": 35,
    "start_time": "2022-07-21T03:06:32.512Z"
   },
   {
    "duration": 8,
    "start_time": "2022-07-21T03:06:32.549Z"
   },
   {
    "duration": 23,
    "start_time": "2022-07-21T03:06:32.558Z"
   },
   {
    "duration": 3,
    "start_time": "2022-07-21T03:06:32.583Z"
   },
   {
    "duration": 23,
    "start_time": "2022-07-21T03:06:32.588Z"
   },
   {
    "duration": 35,
    "start_time": "2022-07-21T03:06:32.613Z"
   },
   {
    "duration": 28,
    "start_time": "2022-07-21T03:06:32.649Z"
   },
   {
    "duration": 8,
    "start_time": "2022-07-21T03:06:32.679Z"
   }
  ],
  "kernelspec": {
   "display_name": "Python 3 (ipykernel)",
   "language": "python",
   "name": "python3"
  },
  "language_info": {
   "codemirror_mode": {
    "name": "ipython",
    "version": 3
   },
   "file_extension": ".py",
   "mimetype": "text/x-python",
   "name": "python",
   "nbconvert_exporter": "python",
   "pygments_lexer": "ipython3",
   "version": "3.9.5"
  },
  "toc": {
   "base_numbering": 1,
   "nav_menu": {},
   "number_sections": true,
   "sideBar": true,
   "skip_h1_title": true,
   "title_cell": "Table of Contents",
   "title_sidebar": "Contents",
   "toc_cell": false,
   "toc_position": {
    "height": "calc(100% - 180px)",
    "left": "10px",
    "top": "150px",
    "width": "383px"
   },
   "toc_section_display": true,
   "toc_window_display": true
  }
 },
 "nbformat": 4,
 "nbformat_minor": 5
}
