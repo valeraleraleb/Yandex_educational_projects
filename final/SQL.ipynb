{
 "cells": [
  {
   "cell_type": "markdown",
   "id": "36d9b04a",
   "metadata": {},
   "source": [
    "<div style=\"border-radius: 15px; box-shadow: 2px 2px 4px; border: 1px solid; background:#bdc3c7; padding: 20px\"> <h7 style=\"color:black; margin-bottom:20px\"> Валерия, привет!) Это Михаил.\n",
    "\n",
    "Мои комментарии и замечания далее по тексту помечены различными цветами:\n",
    "    \n",
    "---    \n",
    "<div class=\"alert alert-block alert-danger\">\n",
    "❌ : Критическое замечание, которые следует исправить.\n",
    "</div> \n",
    "    \n",
    "---\n",
    "    \n",
    "<div class=\"alert alert-block alert-warning\">\n",
    "⚠️ : Замечание\\совет на будущее.\n",
    "</div>\n",
    "    \n",
    "---\n",
    "    \n",
    "<div class=\"alert alert-block alert-success\">\n",
    "✔️ : Когда всё сделано правильно.\n",
    "</div>\n",
    "\n",
    "---\n",
    "\n",
    "Если возникнут вопросы по проекту или вопросы общего характера, то не стесняйся - задавай!) Для того, чтобы мне было легче их найти, то выделяй их пожалуйста с помощью цвета, например вот так - <font color=#e17055>\"вопрос, который не останется незамеченным\"</font>\n",
    "        \n",
    "    \n",
    "p.s.: не удаляй мои замечания, если предстоит что то доработать в проекте.</h7>"
   ]
  },
  {
   "cell_type": "markdown",
   "id": "ac20a344",
   "metadata": {},
   "source": [
    "<div class=\"alert alert-success\" style=\"border-radius: 15px; box-shadow: 4px 4px 4px; border: 1px solid \" > <b>Комментарии от ревьюера ✔️ : </b> \n",
    "\n",
    "Итог ревью - ты проделала отличную работу! Все запросы корректные и дают правильный результат. Ты наглядно показала умение формировать запросы SQL для решения подобных задач. Так держать! \n",
    "    \n",
    "Поздравляю с завершением финального спринта! Особенно ценно, что ты полностью уложилась в дедлайн 👏\n",
    "    \n",
    "![](https://media.giphy.com/media/SkwbfLHO0a1lS/giphy.gif)\n",
    "    \n",
    "Остается дождаться финального созвона в ближайшее время)\n",
    "</div>"
   ]
  },
  {
   "cell_type": "markdown",
   "id": "8627eaa6",
   "metadata": {},
   "source": [
    "# <a href=\"https://concrete-web-bad.notion.site/SQL-d5462ca554014f1b9be3e6f78854750f\">SQL</a>"
   ]
  },
  {
   "cell_type": "markdown",
   "id": "327f0781",
   "metadata": {},
   "source": [
    "## Описание проекта\n",
    "\n",
    "Коронавирус застал мир врасплох, изменив привычный порядок вещей. В свободное время жители городов больше не выходят на улицу, не посещают кафе и торговые центры. Зато стало больше времени для книг. Это заметили стартаперы — и бросились создавать приложения для тех, кто любит читать.\n",
    "\n",
    "Ваша компания решила быть на волне и купила крупный сервис для чтения книг по подписке, где есть база данных с информацией о книгах, издательствах, авторах, а также пользовательские обзоры книг.\n",
    "\n",
    "Необходимо проанализировать базу данных и сформулировать ценностное предложение`*` для нового продукта.\n",
    "\n",
    "`*` Ценностное предложение — обещание ценности, которое вы даете потенциальному клиенту, чтобы убедить его приобрести товар или услугу именно у вас."
   ]
  },
  {
   "cell_type": "markdown",
   "id": "54669073",
   "metadata": {},
   "source": [
    "## Загрузка библиотек"
   ]
  },
  {
   "cell_type": "code",
   "execution_count": 2,
   "id": "76275caf",
   "metadata": {},
   "outputs": [],
   "source": [
    "import pandas as pd\n",
    "from sqlalchemy import create_engine\n",
    "import datetime as dt\n",
    "\n",
    "pd.options.display.max_colwidth = 130\n",
    "\n",
    "import warnings\n",
    "warnings.simplefilter('ignore')"
   ]
  },
  {
   "cell_type": "markdown",
   "id": "318ba355",
   "metadata": {},
   "source": [
    "## Подключение к БД"
   ]
  },
  {
   "cell_type": "code",
   "execution_count": 3,
   "id": "03f96807",
   "metadata": {},
   "outputs": [],
   "source": [
    "# устанавливаем параметры\n",
    "\n",
    "db_config = {'user': 'praktikum_student',                              # имя пользователя\n",
    "             'pwd': 'Sdf4$2;d-d30pp',                                  # пароль\n",
    "             'host': 'rc1b-wcoijxj3yxfsf3fs.mdb.yandexcloud.net',\n",
    "             'port': 6432,                                             # порт подключения\n",
    "             'db': 'data-analyst-final-project-db'}                    # название базы данных\n",
    "\n",
    "connection_string = 'postgresql://{}:{}@{}:{}/{}'.format(db_config['user'],\n",
    "                                                         db_config['pwd'],\n",
    "                                                         db_config['host'],\n",
    "                                                         db_config['port'],\n",
    "                                                         db_config['db'])\n",
    "\n",
    "# сохраняем коннектор\n",
    "\n",
    "con = create_engine(connection_string, connect_args={'sslmode':'require'}) "
   ]
  },
  {
   "cell_type": "code",
   "execution_count": 4,
   "id": "d10ebc95",
   "metadata": {},
   "outputs": [],
   "source": [
    "# функция для отображения запроса SQL\n",
    "\n",
    "def select(sql):\n",
    "    \n",
    "    ''' \n",
    "    Функция получает на вход SQL запрос и выводит результат\n",
    "    '''\n",
    "    \n",
    "    return pd.read_sql(sql, con)"
   ]
  },
  {
   "cell_type": "code",
   "execution_count": 5,
   "id": "7ef2ee77",
   "metadata": {},
   "outputs": [],
   "source": [
    "# функция для описательной статистики, вывода дубликатов и типов\n",
    "\n",
    "def describe(data, datetime_as_num=True):\n",
    "    \n",
    "    ''' \n",
    "    Функция получает на ввод dataframe (data) и условие как выводить данные (dt_is_numeric) для datetime: \n",
    "    - True - для подсчетов статистики как int\n",
    "    - False - для подсчетов статистики как object\n",
    "    После поочередно выводит описательную статистику для каждого типа объекта \n",
    "    Дальше функция выводит количество и виды типов данных, количество явных дубликатов\n",
    "    '''\n",
    "    \n",
    "    for t in data.dtypes.unique():\n",
    "        print('{:=^50}'.format(f' dtype = {t}'))\n",
    "        print(data.describe(include=t, datetime_is_numeric=datetime_as_num))\n",
    "        print('='*50, end='\\n\\n')\n",
    "    print(data.info())\n",
    "    print('='*50, end='\\n\\n')\n",
    "    print(f'Количество дубликатов {data.duplicated().sum()}')"
   ]
  },
  {
   "cell_type": "markdown",
   "id": "9bc02a1d",
   "metadata": {},
   "source": [
    "## Схема БД"
   ]
  },
  {
   "attachments": {
    "image.png": {
     "image/png": "[encoded data removed]"
    }
   },
   "cell_type": "markdown",
   "id": "f8bff257",
   "metadata": {},
   "source": [
    "![image.png](attachment:image.png)"
   ]
  },
  {
   "cell_type": "markdown",
   "id": "6768b288",
   "metadata": {},
   "source": [
    "## Описание данных"
   ]
  },
  {
   "cell_type": "markdown",
   "id": "e4807255",
   "metadata": {},
   "source": [
    "### **Таблица `books`**\n",
    "\n",
    "Содержит данные о книгах:\n",
    "\n",
    "- `book_id` — идентификатор книги;\n",
    "- `author_id` — идентификатор автора;\n",
    "- `title` — название книги;\n",
    "- `num_pages` — количество страниц;\n",
    "- `publication_date` — дата публикации книги;\n",
    "- `publisher_id` — идентификатор издателя."
   ]
  },
  {
   "cell_type": "code",
   "execution_count": 6,
   "id": "1701eaf0",
   "metadata": {},
   "outputs": [
    {
     "data": {
      "text/html": [
       "<div>\n",
       "<style scoped>\n",
       "    .dataframe tbody tr th:only-of-type {\n",
       "        vertical-align: middle;\n",
       "    }\n",
       "\n",
       "    .dataframe tbody tr th {\n",
       "        vertical-align: top;\n",
       "    }\n",
       "\n",
       "    .dataframe thead th {\n",
       "        text-align: right;\n",
       "    }\n",
       "</style>\n",
       "<table border=\"1\" class=\"dataframe\">\n",
       "  <thead>\n",
       "    <tr style=\"text-align: right;\">\n",
       "      <th></th>\n",
       "      <th>book_id</th>\n",
       "      <th>author_id</th>\n",
       "      <th>title</th>\n",
       "      <th>num_pages</th>\n",
       "      <th>publication_date</th>\n",
       "      <th>publisher_id</th>\n",
       "    </tr>\n",
       "  </thead>\n",
       "  <tbody>\n",
       "    <tr>\n",
       "      <th>0</th>\n",
       "      <td>1</td>\n",
       "      <td>546</td>\n",
       "      <td>'Salem's Lot</td>\n",
       "      <td>594</td>\n",
       "      <td>2005-11-01</td>\n",
       "      <td>93</td>\n",
       "    </tr>\n",
       "    <tr>\n",
       "      <th>1</th>\n",
       "      <td>2</td>\n",
       "      <td>465</td>\n",
       "      <td>1 000 Places to See Before You Die</td>\n",
       "      <td>992</td>\n",
       "      <td>2003-05-22</td>\n",
       "      <td>336</td>\n",
       "    </tr>\n",
       "    <tr>\n",
       "      <th>2</th>\n",
       "      <td>3</td>\n",
       "      <td>407</td>\n",
       "      <td>13 Little Blue Envelopes (Little Blue Envelope  #1)</td>\n",
       "      <td>322</td>\n",
       "      <td>2010-12-21</td>\n",
       "      <td>135</td>\n",
       "    </tr>\n",
       "    <tr>\n",
       "      <th>3</th>\n",
       "      <td>4</td>\n",
       "      <td>82</td>\n",
       "      <td>1491: New Revelations of the Americas Before Columbus</td>\n",
       "      <td>541</td>\n",
       "      <td>2006-10-10</td>\n",
       "      <td>309</td>\n",
       "    </tr>\n",
       "    <tr>\n",
       "      <th>4</th>\n",
       "      <td>5</td>\n",
       "      <td>125</td>\n",
       "      <td>1776</td>\n",
       "      <td>386</td>\n",
       "      <td>2006-07-04</td>\n",
       "      <td>268</td>\n",
       "    </tr>\n",
       "    <tr>\n",
       "      <th>5</th>\n",
       "      <td>6</td>\n",
       "      <td>257</td>\n",
       "      <td>1st to Die (Women's Murder Club  #1)</td>\n",
       "      <td>424</td>\n",
       "      <td>2005-05-20</td>\n",
       "      <td>116</td>\n",
       "    </tr>\n",
       "    <tr>\n",
       "      <th>6</th>\n",
       "      <td>7</td>\n",
       "      <td>258</td>\n",
       "      <td>2nd Chance (Women's Murder Club  #2)</td>\n",
       "      <td>400</td>\n",
       "      <td>2005-05-20</td>\n",
       "      <td>116</td>\n",
       "    </tr>\n",
       "    <tr>\n",
       "      <th>7</th>\n",
       "      <td>8</td>\n",
       "      <td>260</td>\n",
       "      <td>4th of July (Women's Murder Club  #4)</td>\n",
       "      <td>448</td>\n",
       "      <td>2006-06-01</td>\n",
       "      <td>318</td>\n",
       "    </tr>\n",
       "    <tr>\n",
       "      <th>8</th>\n",
       "      <td>9</td>\n",
       "      <td>563</td>\n",
       "      <td>A Beautiful Mind</td>\n",
       "      <td>461</td>\n",
       "      <td>2002-02-04</td>\n",
       "      <td>104</td>\n",
       "    </tr>\n",
       "    <tr>\n",
       "      <th>9</th>\n",
       "      <td>10</td>\n",
       "      <td>445</td>\n",
       "      <td>A Bend in the Road</td>\n",
       "      <td>341</td>\n",
       "      <td>2005-04-01</td>\n",
       "      <td>116</td>\n",
       "    </tr>\n",
       "  </tbody>\n",
       "</table>\n",
       "</div>"
      ],
      "text/plain": [
       "   book_id  author_id                                                  title  \\\n",
       "0        1        546                                           'Salem's Lot   \n",
       "1        2        465                     1 000 Places to See Before You Die   \n",
       "2        3        407    13 Little Blue Envelopes (Little Blue Envelope  #1)   \n",
       "3        4         82  1491: New Revelations of the Americas Before Columbus   \n",
       "4        5        125                                                   1776   \n",
       "5        6        257                   1st to Die (Women's Murder Club  #1)   \n",
       "6        7        258                   2nd Chance (Women's Murder Club  #2)   \n",
       "7        8        260                  4th of July (Women's Murder Club  #4)   \n",
       "8        9        563                                       A Beautiful Mind   \n",
       "9       10        445                                     A Bend in the Road   \n",
       "\n",
       "   num_pages publication_date  publisher_id  \n",
       "0        594       2005-11-01            93  \n",
       "1        992       2003-05-22           336  \n",
       "2        322       2010-12-21           135  \n",
       "3        541       2006-10-10           309  \n",
       "4        386       2006-07-04           268  \n",
       "5        424       2005-05-20           116  \n",
       "6        400       2005-05-20           116  \n",
       "7        448       2006-06-01           318  \n",
       "8        461       2002-02-04           104  \n",
       "9        341       2005-04-01           116  "
      ]
     },
     "execution_count": 6,
     "metadata": {},
     "output_type": "execute_result"
    }
   ],
   "source": [
    "sql = ''' \n",
    "\n",
    "SELECT * \n",
    "FROM books\n",
    "--LIMIT 10\n",
    "\n",
    "''' \n",
    "books = select(sql)\n",
    "\n",
    "select(sql).head(10)"
   ]
  },
  {
   "cell_type": "code",
   "execution_count": 7,
   "id": "e0399f4e",
   "metadata": {},
   "outputs": [],
   "source": [
    "books['publication_date'] = pd.to_datetime(books['publication_date'], format = '%Y-%m-%d')"
   ]
  },
  {
   "cell_type": "code",
   "execution_count": 8,
   "id": "ebe60e19",
   "metadata": {},
   "outputs": [
    {
     "name": "stdout",
     "output_type": "stream",
     "text": [
      "================== dtype = int64==================\n",
      "           book_id    author_id   num_pages  publisher_id\n",
      "count  1000.000000  1000.000000  1000.00000   1000.000000\n",
      "mean    500.500000   320.417000   389.11100    171.270000\n",
      "std     288.819436   181.620172   229.39014     99.082685\n",
      "min       1.000000     1.000000    14.00000      1.000000\n",
      "25%     250.750000   162.750000   249.00000     83.000000\n",
      "50%     500.500000   316.500000   352.00000    177.500000\n",
      "75%     750.250000   481.000000   453.00000    258.000000\n",
      "max    1000.000000   636.000000  2690.00000    340.000000\n",
      "==================================================\n",
      "\n",
      "================= dtype = object==================\n",
      "                      title\n",
      "count                  1000\n",
      "unique                  999\n",
      "top     Memoirs of a Geisha\n",
      "freq                      2\n",
      "==================================================\n",
      "\n",
      "============= dtype = datetime64[ns]==============\n",
      "           publication_date\n",
      "count                  1000\n",
      "unique                  618\n",
      "top     2006-08-29 00:00:00\n",
      "freq                     10\n",
      "first   1952-12-01 00:00:00\n",
      "last    2020-03-31 00:00:00\n",
      "==================================================\n",
      "\n",
      "<class 'pandas.core.frame.DataFrame'>\n",
      "RangeIndex: 1000 entries, 0 to 999\n",
      "Data columns (total 6 columns):\n",
      " #   Column            Non-Null Count  Dtype         \n",
      "---  ------            --------------  -----         \n",
      " 0   book_id           1000 non-null   int64         \n",
      " 1   author_id         1000 non-null   int64         \n",
      " 2   title             1000 non-null   object        \n",
      " 3   num_pages         1000 non-null   int64         \n",
      " 4   publication_date  1000 non-null   datetime64[ns]\n",
      " 5   publisher_id      1000 non-null   int64         \n",
      "dtypes: datetime64[ns](1), int64(4), object(1)\n",
      "memory usage: 47.0+ KB\n",
      "None\n",
      "==================================================\n",
      "\n",
      "Количество дубликатов 0\n"
     ]
    }
   ],
   "source": [
    "describe(books, False)"
   ]
  },
  {
   "cell_type": "markdown",
   "id": "59bb7364",
   "metadata": {},
   "source": [
    "<font color='orange'><b>*Наблюдение_*</b></font>\n",
    "\n",
    "- пустых значений нет\n",
    "- явных дубликатов нет\n",
    "- столбец publication_date содержит неверный формат даты - в запросах будем использовать форматы дат (timestamp, date)\n",
    "------------------------------------------\n",
    "- book_id - все id уникальны, от 1 до 1000 (PK), а значит уникальных книг 999    \n",
    "- author_id - всего авторов 636 (FK)  \n",
    "- num_pages  - мин количество страниц - 14, максимально 2690 \n",
    "- publisher_id - всего издателей 340 (FK) \n",
    "- title - одно название книги повторяется два раза, мб у нее разные авторы. всего уникальных названий - 999\n",
    "- publication_date - в 2006-08-29 сделали больше всего публикаций"
   ]
  },
  {
   "cell_type": "markdown",
   "id": "ed3c7466",
   "metadata": {},
   "source": [
    "### **Таблица `authors`**\n",
    "\n",
    "Содержит данные об авторах:\n",
    "\n",
    "- `author_id` — идентификатор автора;\n",
    "- `author` — имя автора."
   ]
  },
  {
   "cell_type": "code",
   "execution_count": 9,
   "id": "56d79275",
   "metadata": {},
   "outputs": [
    {
     "data": {
      "text/html": [
       "<div>\n",
       "<style scoped>\n",
       "    .dataframe tbody tr th:only-of-type {\n",
       "        vertical-align: middle;\n",
       "    }\n",
       "\n",
       "    .dataframe tbody tr th {\n",
       "        vertical-align: top;\n",
       "    }\n",
       "\n",
       "    .dataframe thead th {\n",
       "        text-align: right;\n",
       "    }\n",
       "</style>\n",
       "<table border=\"1\" class=\"dataframe\">\n",
       "  <thead>\n",
       "    <tr style=\"text-align: right;\">\n",
       "      <th></th>\n",
       "      <th>author_id</th>\n",
       "      <th>author</th>\n",
       "    </tr>\n",
       "  </thead>\n",
       "  <tbody>\n",
       "    <tr>\n",
       "      <th>0</th>\n",
       "      <td>1</td>\n",
       "      <td>A.S. Byatt</td>\n",
       "    </tr>\n",
       "    <tr>\n",
       "      <th>1</th>\n",
       "      <td>2</td>\n",
       "      <td>Aesop/Laura Harris/Laura Gibbs</td>\n",
       "    </tr>\n",
       "    <tr>\n",
       "      <th>2</th>\n",
       "      <td>3</td>\n",
       "      <td>Agatha Christie</td>\n",
       "    </tr>\n",
       "    <tr>\n",
       "      <th>3</th>\n",
       "      <td>4</td>\n",
       "      <td>Alan Brennert</td>\n",
       "    </tr>\n",
       "    <tr>\n",
       "      <th>4</th>\n",
       "      <td>5</td>\n",
       "      <td>Alan Moore/David   Lloyd</td>\n",
       "    </tr>\n",
       "    <tr>\n",
       "      <th>5</th>\n",
       "      <td>6</td>\n",
       "      <td>Alan Paton</td>\n",
       "    </tr>\n",
       "    <tr>\n",
       "      <th>6</th>\n",
       "      <td>7</td>\n",
       "      <td>Albert Camus/Justin O'Brien</td>\n",
       "    </tr>\n",
       "    <tr>\n",
       "      <th>7</th>\n",
       "      <td>8</td>\n",
       "      <td>Aldous Huxley</td>\n",
       "    </tr>\n",
       "    <tr>\n",
       "      <th>8</th>\n",
       "      <td>9</td>\n",
       "      <td>Aldous Huxley/Christopher Hitchens</td>\n",
       "    </tr>\n",
       "    <tr>\n",
       "      <th>9</th>\n",
       "      <td>10</td>\n",
       "      <td>Aleksandr Solzhenitsyn/H.T. Willetts</td>\n",
       "    </tr>\n",
       "  </tbody>\n",
       "</table>\n",
       "</div>"
      ],
      "text/plain": [
       "   author_id                                author\n",
       "0          1                            A.S. Byatt\n",
       "1          2        Aesop/Laura Harris/Laura Gibbs\n",
       "2          3                       Agatha Christie\n",
       "3          4                         Alan Brennert\n",
       "4          5              Alan Moore/David   Lloyd\n",
       "5          6                            Alan Paton\n",
       "6          7           Albert Camus/Justin O'Brien\n",
       "7          8                         Aldous Huxley\n",
       "8          9    Aldous Huxley/Christopher Hitchens\n",
       "9         10  Aleksandr Solzhenitsyn/H.T. Willetts"
      ]
     },
     "execution_count": 9,
     "metadata": {},
     "output_type": "execute_result"
    }
   ],
   "source": [
    "sql = ''' \n",
    "\n",
    "SELECT * \n",
    "FROM authors\n",
    "--LIMIT 10\n",
    "\n",
    "''' \n",
    "authors = select(sql)\n",
    "\n",
    "select(sql).head(10)"
   ]
  },
  {
   "cell_type": "code",
   "execution_count": 10,
   "id": "d4465944",
   "metadata": {},
   "outputs": [
    {
     "name": "stdout",
     "output_type": "stream",
     "text": [
      "================== dtype = int64==================\n",
      "        author_id\n",
      "count  636.000000\n",
      "mean   318.500000\n",
      "std    183.741666\n",
      "min      1.000000\n",
      "25%    159.750000\n",
      "50%    318.500000\n",
      "75%    477.250000\n",
      "max    636.000000\n",
      "==================================================\n",
      "\n",
      "================= dtype = object==================\n",
      "                 author\n",
      "count               636\n",
      "unique              636\n",
      "top     Joseph J. Ellis\n",
      "freq                  1\n",
      "==================================================\n",
      "\n",
      "<class 'pandas.core.frame.DataFrame'>\n",
      "RangeIndex: 636 entries, 0 to 635\n",
      "Data columns (total 2 columns):\n",
      " #   Column     Non-Null Count  Dtype \n",
      "---  ------     --------------  ----- \n",
      " 0   author_id  636 non-null    int64 \n",
      " 1   author     636 non-null    object\n",
      "dtypes: int64(1), object(1)\n",
      "memory usage: 10.1+ KB\n",
      "None\n",
      "==================================================\n",
      "\n",
      "Количество дубликатов 0\n"
     ]
    }
   ],
   "source": [
    "describe(authors, False)"
   ]
  },
  {
   "cell_type": "markdown",
   "id": "fa7f754d",
   "metadata": {},
   "source": [
    "<font color='orange'><b>*Наблюдение_*</b></font>\n",
    "\n",
    "- пустых значений нет\n",
    "- явных дубликатов нет"
   ]
  },
  {
   "cell_type": "markdown",
   "id": "17f7e050",
   "metadata": {},
   "source": [
    "### **Таблица `publishers`**\n",
    "\n",
    "Содержит данные об издательствах:\n",
    "\n",
    "- `publisher_id` — идентификатор издательства;\n",
    "- `publisher` — название издательства;"
   ]
  },
  {
   "cell_type": "code",
   "execution_count": 11,
   "id": "fdea92f2",
   "metadata": {},
   "outputs": [
    {
     "data": {
      "text/html": [
       "<div>\n",
       "<style scoped>\n",
       "    .dataframe tbody tr th:only-of-type {\n",
       "        vertical-align: middle;\n",
       "    }\n",
       "\n",
       "    .dataframe tbody tr th {\n",
       "        vertical-align: top;\n",
       "    }\n",
       "\n",
       "    .dataframe thead th {\n",
       "        text-align: right;\n",
       "    }\n",
       "</style>\n",
       "<table border=\"1\" class=\"dataframe\">\n",
       "  <thead>\n",
       "    <tr style=\"text-align: right;\">\n",
       "      <th></th>\n",
       "      <th>publisher_id</th>\n",
       "      <th>publisher</th>\n",
       "    </tr>\n",
       "  </thead>\n",
       "  <tbody>\n",
       "    <tr>\n",
       "      <th>0</th>\n",
       "      <td>1</td>\n",
       "      <td>Ace</td>\n",
       "    </tr>\n",
       "    <tr>\n",
       "      <th>1</th>\n",
       "      <td>2</td>\n",
       "      <td>Ace Book</td>\n",
       "    </tr>\n",
       "    <tr>\n",
       "      <th>2</th>\n",
       "      <td>3</td>\n",
       "      <td>Ace Books</td>\n",
       "    </tr>\n",
       "    <tr>\n",
       "      <th>3</th>\n",
       "      <td>4</td>\n",
       "      <td>Ace Hardcover</td>\n",
       "    </tr>\n",
       "    <tr>\n",
       "      <th>4</th>\n",
       "      <td>5</td>\n",
       "      <td>Addison Wesley Publishing Company</td>\n",
       "    </tr>\n",
       "    <tr>\n",
       "      <th>5</th>\n",
       "      <td>6</td>\n",
       "      <td>Aladdin</td>\n",
       "    </tr>\n",
       "    <tr>\n",
       "      <th>6</th>\n",
       "      <td>7</td>\n",
       "      <td>Aladdin Paperbacks</td>\n",
       "    </tr>\n",
       "    <tr>\n",
       "      <th>7</th>\n",
       "      <td>8</td>\n",
       "      <td>Albin Michel</td>\n",
       "    </tr>\n",
       "    <tr>\n",
       "      <th>8</th>\n",
       "      <td>9</td>\n",
       "      <td>Alfred A. Knopf</td>\n",
       "    </tr>\n",
       "    <tr>\n",
       "      <th>9</th>\n",
       "      <td>10</td>\n",
       "      <td>Alfred A. Knopf Books for Young Readers</td>\n",
       "    </tr>\n",
       "  </tbody>\n",
       "</table>\n",
       "</div>"
      ],
      "text/plain": [
       "   publisher_id                                publisher\n",
       "0             1                                      Ace\n",
       "1             2                                 Ace Book\n",
       "2             3                                Ace Books\n",
       "3             4                            Ace Hardcover\n",
       "4             5        Addison Wesley Publishing Company\n",
       "5             6                                  Aladdin\n",
       "6             7                       Aladdin Paperbacks\n",
       "7             8                             Albin Michel\n",
       "8             9                          Alfred A. Knopf\n",
       "9            10  Alfred A. Knopf Books for Young Readers"
      ]
     },
     "execution_count": 11,
     "metadata": {},
     "output_type": "execute_result"
    }
   ],
   "source": [
    "sql = ''' \n",
    "\n",
    "SELECT * \n",
    "FROM publishers\n",
    "--LIMIT 10\n",
    "\n",
    "''' \n",
    "publishers = select(sql)\n",
    "\n",
    "select(sql).head(10)"
   ]
  },
  {
   "cell_type": "code",
   "execution_count": 12,
   "id": "cf2fbcbf",
   "metadata": {},
   "outputs": [
    {
     "name": "stdout",
     "output_type": "stream",
     "text": [
      "================== dtype = int64==================\n",
      "       publisher_id\n",
      "count    340.000000\n",
      "mean     170.500000\n",
      "std       98.293777\n",
      "min        1.000000\n",
      "25%       85.750000\n",
      "50%      170.500000\n",
      "75%      255.250000\n",
      "max      340.000000\n",
      "==================================================\n",
      "\n",
      "================= dtype = object==================\n",
      "       publisher\n",
      "count        340\n",
      "unique       340\n",
      "top         Dell\n",
      "freq           1\n",
      "==================================================\n",
      "\n",
      "<class 'pandas.core.frame.DataFrame'>\n",
      "RangeIndex: 340 entries, 0 to 339\n",
      "Data columns (total 2 columns):\n",
      " #   Column        Non-Null Count  Dtype \n",
      "---  ------        --------------  ----- \n",
      " 0   publisher_id  340 non-null    int64 \n",
      " 1   publisher     340 non-null    object\n",
      "dtypes: int64(1), object(1)\n",
      "memory usage: 5.4+ KB\n",
      "None\n",
      "==================================================\n",
      "\n",
      "Количество дубликатов 0\n"
     ]
    }
   ],
   "source": [
    "describe(publishers, False)"
   ]
  },
  {
   "cell_type": "markdown",
   "id": "909fe505",
   "metadata": {},
   "source": [
    "<font color='orange'><b>*Наблюдение_*</b></font>\n",
    "\n",
    "- пустых значений нет\n",
    "- явных дубликатов нет"
   ]
  },
  {
   "cell_type": "markdown",
   "id": "b84f12ca",
   "metadata": {},
   "source": [
    "### **Таблица `ratings`**\n",
    "\n",
    "Содержит данные о пользовательских оценках книг:\n",
    "\n",
    "- `rating_id` — идентификатор оценки;\n",
    "- `book_id` — идентификатор книги;\n",
    "- `username` — имя пользователя, оставившего оценку;\n",
    "- `rating` — оценка книги."
   ]
  },
  {
   "cell_type": "code",
   "execution_count": 13,
   "id": "f0be9d28",
   "metadata": {},
   "outputs": [
    {
     "data": {
      "text/html": [
       "<div>\n",
       "<style scoped>\n",
       "    .dataframe tbody tr th:only-of-type {\n",
       "        vertical-align: middle;\n",
       "    }\n",
       "\n",
       "    .dataframe tbody tr th {\n",
       "        vertical-align: top;\n",
       "    }\n",
       "\n",
       "    .dataframe thead th {\n",
       "        text-align: right;\n",
       "    }\n",
       "</style>\n",
       "<table border=\"1\" class=\"dataframe\">\n",
       "  <thead>\n",
       "    <tr style=\"text-align: right;\">\n",
       "      <th></th>\n",
       "      <th>rating_id</th>\n",
       "      <th>book_id</th>\n",
       "      <th>username</th>\n",
       "      <th>rating</th>\n",
       "    </tr>\n",
       "  </thead>\n",
       "  <tbody>\n",
       "    <tr>\n",
       "      <th>0</th>\n",
       "      <td>1</td>\n",
       "      <td>1</td>\n",
       "      <td>ryanfranco</td>\n",
       "      <td>4</td>\n",
       "    </tr>\n",
       "    <tr>\n",
       "      <th>1</th>\n",
       "      <td>2</td>\n",
       "      <td>1</td>\n",
       "      <td>grantpatricia</td>\n",
       "      <td>2</td>\n",
       "    </tr>\n",
       "    <tr>\n",
       "      <th>2</th>\n",
       "      <td>3</td>\n",
       "      <td>1</td>\n",
       "      <td>brandtandrea</td>\n",
       "      <td>5</td>\n",
       "    </tr>\n",
       "    <tr>\n",
       "      <th>3</th>\n",
       "      <td>4</td>\n",
       "      <td>2</td>\n",
       "      <td>lorichen</td>\n",
       "      <td>3</td>\n",
       "    </tr>\n",
       "    <tr>\n",
       "      <th>4</th>\n",
       "      <td>5</td>\n",
       "      <td>2</td>\n",
       "      <td>mariokeller</td>\n",
       "      <td>2</td>\n",
       "    </tr>\n",
       "    <tr>\n",
       "      <th>5</th>\n",
       "      <td>6</td>\n",
       "      <td>3</td>\n",
       "      <td>johnsonamanda</td>\n",
       "      <td>4</td>\n",
       "    </tr>\n",
       "    <tr>\n",
       "      <th>6</th>\n",
       "      <td>7</td>\n",
       "      <td>3</td>\n",
       "      <td>scotttamara</td>\n",
       "      <td>5</td>\n",
       "    </tr>\n",
       "    <tr>\n",
       "      <th>7</th>\n",
       "      <td>8</td>\n",
       "      <td>3</td>\n",
       "      <td>lesliegibbs</td>\n",
       "      <td>5</td>\n",
       "    </tr>\n",
       "    <tr>\n",
       "      <th>8</th>\n",
       "      <td>9</td>\n",
       "      <td>4</td>\n",
       "      <td>abbottjames</td>\n",
       "      <td>5</td>\n",
       "    </tr>\n",
       "    <tr>\n",
       "      <th>9</th>\n",
       "      <td>10</td>\n",
       "      <td>4</td>\n",
       "      <td>valenciaanne</td>\n",
       "      <td>4</td>\n",
       "    </tr>\n",
       "  </tbody>\n",
       "</table>\n",
       "</div>"
      ],
      "text/plain": [
       "   rating_id  book_id       username  rating\n",
       "0          1        1     ryanfranco       4\n",
       "1          2        1  grantpatricia       2\n",
       "2          3        1   brandtandrea       5\n",
       "3          4        2       lorichen       3\n",
       "4          5        2    mariokeller       2\n",
       "5          6        3  johnsonamanda       4\n",
       "6          7        3    scotttamara       5\n",
       "7          8        3    lesliegibbs       5\n",
       "8          9        4    abbottjames       5\n",
       "9         10        4   valenciaanne       4"
      ]
     },
     "execution_count": 13,
     "metadata": {},
     "output_type": "execute_result"
    }
   ],
   "source": [
    "sql = ''' \n",
    "\n",
    "SELECT * \n",
    "FROM ratings\n",
    "--LIMIT 10\n",
    "\n",
    "''' \n",
    "ratings = select(sql)\n",
    "\n",
    "select(sql).head(10)"
   ]
  },
  {
   "cell_type": "code",
   "execution_count": 14,
   "id": "e0112f68",
   "metadata": {},
   "outputs": [
    {
     "name": "stdout",
     "output_type": "stream",
     "text": [
      "================== dtype = int64==================\n",
      "         rating_id      book_id       rating\n",
      "count  6456.000000  6456.000000  6456.000000\n",
      "mean   3228.500000   510.574195     3.928284\n",
      "std    1863.831001   284.141636     0.943303\n",
      "min       1.000000     1.000000     1.000000\n",
      "25%    1614.750000   291.000000     3.000000\n",
      "50%    3228.500000   506.000000     4.000000\n",
      "75%    4842.250000   750.000000     5.000000\n",
      "max    6456.000000  1000.000000     5.000000\n",
      "==================================================\n",
      "\n",
      "================= dtype = object==================\n",
      "       username\n",
      "count      6456\n",
      "unique      160\n",
      "top      paul88\n",
      "freq         56\n",
      "==================================================\n",
      "\n",
      "<class 'pandas.core.frame.DataFrame'>\n",
      "RangeIndex: 6456 entries, 0 to 6455\n",
      "Data columns (total 4 columns):\n",
      " #   Column     Non-Null Count  Dtype \n",
      "---  ------     --------------  ----- \n",
      " 0   rating_id  6456 non-null   int64 \n",
      " 1   book_id    6456 non-null   int64 \n",
      " 2   username   6456 non-null   object\n",
      " 3   rating     6456 non-null   int64 \n",
      "dtypes: int64(3), object(1)\n",
      "memory usage: 201.9+ KB\n",
      "None\n",
      "==================================================\n",
      "\n",
      "Количество дубликатов 0\n"
     ]
    }
   ],
   "source": [
    "describe(ratings, False)"
   ]
  },
  {
   "cell_type": "markdown",
   "id": "35f64a51",
   "metadata": {},
   "source": [
    "<font color='orange'><b>*Наблюдение_*</b></font>\n",
    "\n",
    "- пустых значений нет\n",
    "- явных дубликатов нет\n",
    "------------------------------------------\n",
    " - rating_id - всего 6456 оценок (PK)\n",
    " - book_id - всего книг 999 (FK)   \n",
    " - rating - максимальный рейтинг 5, мин 1. Половина книг имеют рейтинг 4\n",
    " - username - paul88 давал чаще всего оценки"
   ]
  },
  {
   "cell_type": "markdown",
   "id": "ce093f47",
   "metadata": {},
   "source": [
    "### **Таблица `reviews`**\n",
    "\n",
    "Содержит данные о пользовательских обзорах на книги:\n",
    "\n",
    "- `review_id` — идентификатор обзора;\n",
    "- `book_id` — идентификатор книги;\n",
    "- `username` — имя пользователя, написавшего обзор;\n",
    "- `text` — текст обзора."
   ]
  },
  {
   "cell_type": "code",
   "execution_count": 15,
   "id": "8aee4b9e",
   "metadata": {},
   "outputs": [
    {
     "data": {
      "text/html": [
       "<div>\n",
       "<style scoped>\n",
       "    .dataframe tbody tr th:only-of-type {\n",
       "        vertical-align: middle;\n",
       "    }\n",
       "\n",
       "    .dataframe tbody tr th {\n",
       "        vertical-align: top;\n",
       "    }\n",
       "\n",
       "    .dataframe thead th {\n",
       "        text-align: right;\n",
       "    }\n",
       "</style>\n",
       "<table border=\"1\" class=\"dataframe\">\n",
       "  <thead>\n",
       "    <tr style=\"text-align: right;\">\n",
       "      <th></th>\n",
       "      <th>review_id</th>\n",
       "      <th>book_id</th>\n",
       "      <th>username</th>\n",
       "      <th>text</th>\n",
       "    </tr>\n",
       "  </thead>\n",
       "  <tbody>\n",
       "    <tr>\n",
       "      <th>0</th>\n",
       "      <td>1</td>\n",
       "      <td>1</td>\n",
       "      <td>brandtandrea</td>\n",
       "      <td>Mention society tell send professor analysis. Over provide race technology continue these.</td>\n",
       "    </tr>\n",
       "    <tr>\n",
       "      <th>1</th>\n",
       "      <td>2</td>\n",
       "      <td>1</td>\n",
       "      <td>ryanfranco</td>\n",
       "      <td>Foot glass pretty audience hit themselves. Among admit investment argue security.</td>\n",
       "    </tr>\n",
       "    <tr>\n",
       "      <th>2</th>\n",
       "      <td>3</td>\n",
       "      <td>2</td>\n",
       "      <td>lorichen</td>\n",
       "      <td>Listen treat keep worry. Miss husband tax but person sport treatment industry. Kitchen decision deep the. Social party body the.</td>\n",
       "    </tr>\n",
       "    <tr>\n",
       "      <th>3</th>\n",
       "      <td>4</td>\n",
       "      <td>3</td>\n",
       "      <td>johnsonamanda</td>\n",
       "      <td>Finally month interesting blue could nature cultural bit. Prepare beat finish grow that smile teach. Dream me play near.</td>\n",
       "    </tr>\n",
       "    <tr>\n",
       "      <th>4</th>\n",
       "      <td>5</td>\n",
       "      <td>3</td>\n",
       "      <td>scotttamara</td>\n",
       "      <td>Nation purpose heavy give wait song will. List dinner another whole positive radio fast. Music staff many green.</td>\n",
       "    </tr>\n",
       "    <tr>\n",
       "      <th>5</th>\n",
       "      <td>6</td>\n",
       "      <td>3</td>\n",
       "      <td>lesliegibbs</td>\n",
       "      <td>Analysis no several cause international.</td>\n",
       "    </tr>\n",
       "    <tr>\n",
       "      <th>6</th>\n",
       "      <td>7</td>\n",
       "      <td>4</td>\n",
       "      <td>valenciaanne</td>\n",
       "      <td>One there cost another. Say type save. With personal where occur direction foot. Half sit role want.</td>\n",
       "    </tr>\n",
       "    <tr>\n",
       "      <th>7</th>\n",
       "      <td>8</td>\n",
       "      <td>4</td>\n",
       "      <td>abbottjames</td>\n",
       "      <td>Within enough mother. There at system full recent play recognize.</td>\n",
       "    </tr>\n",
       "    <tr>\n",
       "      <th>8</th>\n",
       "      <td>9</td>\n",
       "      <td>5</td>\n",
       "      <td>npowers</td>\n",
       "      <td>Thank now focus realize economy focus fly. Item step fine war. Western service history anything.</td>\n",
       "    </tr>\n",
       "    <tr>\n",
       "      <th>9</th>\n",
       "      <td>10</td>\n",
       "      <td>5</td>\n",
       "      <td>staylor</td>\n",
       "      <td>Game push lot reduce where remember. Including song travel hair foot. Director always myself past story chance reason.</td>\n",
       "    </tr>\n",
       "  </tbody>\n",
       "</table>\n",
       "</div>"
      ],
      "text/plain": [
       "   review_id  book_id       username  \\\n",
       "0          1        1   brandtandrea   \n",
       "1          2        1     ryanfranco   \n",
       "2          3        2       lorichen   \n",
       "3          4        3  johnsonamanda   \n",
       "4          5        3    scotttamara   \n",
       "5          6        3    lesliegibbs   \n",
       "6          7        4   valenciaanne   \n",
       "7          8        4    abbottjames   \n",
       "8          9        5        npowers   \n",
       "9         10        5        staylor   \n",
       "\n",
       "                                                                                                                               text  \n",
       "0                                        Mention society tell send professor analysis. Over provide race technology continue these.  \n",
       "1                                                 Foot glass pretty audience hit themselves. Among admit investment argue security.  \n",
       "2  Listen treat keep worry. Miss husband tax but person sport treatment industry. Kitchen decision deep the. Social party body the.  \n",
       "3          Finally month interesting blue could nature cultural bit. Prepare beat finish grow that smile teach. Dream me play near.  \n",
       "4                  Nation purpose heavy give wait song will. List dinner another whole positive radio fast. Music staff many green.  \n",
       "5                                                                                          Analysis no several cause international.  \n",
       "6                              One there cost another. Say type save. With personal where occur direction foot. Half sit role want.  \n",
       "7                                                                 Within enough mother. There at system full recent play recognize.  \n",
       "8                                  Thank now focus realize economy focus fly. Item step fine war. Western service history anything.  \n",
       "9            Game push lot reduce where remember. Including song travel hair foot. Director always myself past story chance reason.  "
      ]
     },
     "execution_count": 15,
     "metadata": {},
     "output_type": "execute_result"
    }
   ],
   "source": [
    "sql = ''' \n",
    "\n",
    "SELECT * \n",
    "FROM reviews\n",
    "--LIMIT 10\n",
    "\n",
    "''' \n",
    "\n",
    "reviews = select(sql)\n",
    "\n",
    "select(sql).head(10)"
   ]
  },
  {
   "cell_type": "code",
   "execution_count": 16,
   "id": "0a91746e",
   "metadata": {},
   "outputs": [
    {
     "name": "stdout",
     "output_type": "stream",
     "text": [
      "================== dtype = int64==================\n",
      "         review_id      book_id\n",
      "count  2793.000000  2793.000000\n",
      "mean   1397.000000   504.693161\n",
      "std     806.413976   288.472931\n",
      "min       1.000000     1.000000\n",
      "25%     699.000000   259.000000\n",
      "50%    1397.000000   505.000000\n",
      "75%    2095.000000   753.000000\n",
      "max    2793.000000  1000.000000\n",
      "==================================================\n",
      "\n",
      "================= dtype = object==================\n",
      "       username  \\\n",
      "count      2793   \n",
      "unique      160   \n",
      "top     susan85   \n",
      "freq         29   \n",
      "\n",
      "                                                                               text  \n",
      "count                                                                          2793  \n",
      "unique                                                                         2793  \n",
      "top     Parent about able Mr however. Issue with inside among. Nothing visit eight.  \n",
      "freq                                                                              1  \n",
      "==================================================\n",
      "\n",
      "<class 'pandas.core.frame.DataFrame'>\n",
      "RangeIndex: 2793 entries, 0 to 2792\n",
      "Data columns (total 4 columns):\n",
      " #   Column     Non-Null Count  Dtype \n",
      "---  ------     --------------  ----- \n",
      " 0   review_id  2793 non-null   int64 \n",
      " 1   book_id    2793 non-null   int64 \n",
      " 2   username   2793 non-null   object\n",
      " 3   text       2793 non-null   object\n",
      "dtypes: int64(2), object(2)\n",
      "memory usage: 87.4+ KB\n",
      "None\n",
      "==================================================\n",
      "\n",
      "Количество дубликатов 0\n"
     ]
    }
   ],
   "source": [
    "describe(reviews, False)"
   ]
  },
  {
   "cell_type": "markdown",
   "id": "ac034cec",
   "metadata": {},
   "source": [
    "<font color='orange'><b>*Наблюдение_*</b></font>\n",
    "\n",
    "- пустых значений нет\n",
    "- явных дубликатов нет\n",
    "------------------------------------------\n",
    "- review_id - всего 2793 обзора (PK)   \n",
    "- username - наибольшее число обзоров написал susan85 \n",
    "- text - каждый текст обзора уникален, что означает, что среди пользователей нет ботов"
   ]
  },
  {
   "cell_type": "markdown",
   "id": "3dcafd3b",
   "metadata": {},
   "source": [
    "### Вывод\n",
    "\n",
    "Мы описали данные, выявили интересные моменты и увидели ключи, с помощью которых можно связать данные и точно описать данные в таблицах.  \n",
    "Можем дальше работать с БД."
   ]
  },
  {
   "cell_type": "markdown",
   "id": "d990360e",
   "metadata": {},
   "source": [
    "<div class=\"alert alert-success\" style=\"border-radius: 15px; box-shadow: 4px 4px 4px; border: 1px solid \" > <b>Комментарии от ревьюера ✔️ : </b> \n",
    "\n",
    "Здесь всё хорошо. Ты корректно выгрузила данные и посмотрела их содержимое. Вывела информацию  о размерности датасетов. Теперь можем приступать к выполнению заданий\n",
    "</div>"
   ]
  },
  {
   "cell_type": "markdown",
   "id": "858e7a95",
   "metadata": {},
   "source": [
    "## Задания"
   ]
  },
  {
   "cell_type": "markdown",
   "id": "a19bae90",
   "metadata": {},
   "source": [
    "### Задание 1\n",
    "\n",
    "- Посчитайте, сколько книг вышло после 1 января 2000 года"
   ]
  },
  {
   "cell_type": "code",
   "execution_count": 25,
   "id": "49fee29c",
   "metadata": {
    "scrolled": false
   },
   "outputs": [
    {
     "data": {
      "text/html": [
       "<div>\n",
       "<style scoped>\n",
       "    .dataframe tbody tr th:only-of-type {\n",
       "        vertical-align: middle;\n",
       "    }\n",
       "\n",
       "    .dataframe tbody tr th {\n",
       "        vertical-align: top;\n",
       "    }\n",
       "\n",
       "    .dataframe thead th {\n",
       "        text-align: right;\n",
       "    }\n",
       "</style>\n",
       "<table border=\"1\" class=\"dataframe\">\n",
       "  <thead>\n",
       "    <tr style=\"text-align: right;\">\n",
       "      <th></th>\n",
       "      <th>date_trunc</th>\n",
       "    </tr>\n",
       "  </thead>\n",
       "  <tbody>\n",
       "    <tr>\n",
       "      <th>0</th>\n",
       "      <td>2022-07-31 21:00:00+00:00</td>\n",
       "    </tr>\n",
       "  </tbody>\n",
       "</table>\n",
       "</div>"
      ],
      "text/plain": [
       "                 date_trunc\n",
       "0 2022-07-31 21:00:00+00:00"
      ]
     },
     "execution_count": 25,
     "metadata": {},
     "output_type": "execute_result"
    }
   ],
   "source": [
    "sql = ''' \n",
    "\n",
    "SELECT date_trunc('month', NOW())\n",
    "\n",
    "\n",
    "''' \n",
    "\n",
    "select(sql)"
   ]
  },
  {
   "cell_type": "markdown",
   "id": "e64e8a16",
   "metadata": {},
   "source": [
    "<div class=\"alert alert-success\" style=\"border-radius: 15px; box-shadow: 4px 4px 4px; border: 1px solid \" > <b>Комментарии от ревьюера ✔️ : </b> \n",
    "    \n",
    "Всё верно. Это правильный ответ\n",
    "\n",
    "</div>"
   ]
  },
  {
   "cell_type": "markdown",
   "id": "86989060",
   "metadata": {},
   "source": [
    "#### Вывод\n",
    "\n",
    "> 819 книг опубликовали после 2000-01-01"
   ]
  },
  {
   "cell_type": "markdown",
   "id": "6af188c6",
   "metadata": {},
   "source": [
    "### Задание 2\n",
    "\n",
    "- Для каждой книги посчитайте количество обзоров и среднюю оценку"
   ]
  },
  {
   "cell_type": "code",
   "execution_count": 18,
   "id": "97c55ed0",
   "metadata": {},
   "outputs": [
    {
     "data": {
      "text/html": [
       "<div>\n",
       "<style scoped>\n",
       "    .dataframe tbody tr th:only-of-type {\n",
       "        vertical-align: middle;\n",
       "    }\n",
       "\n",
       "    .dataframe tbody tr th {\n",
       "        vertical-align: top;\n",
       "    }\n",
       "\n",
       "    .dataframe thead th {\n",
       "        text-align: right;\n",
       "    }\n",
       "</style>\n",
       "<table border=\"1\" class=\"dataframe\">\n",
       "  <thead>\n",
       "    <tr style=\"text-align: right;\">\n",
       "      <th></th>\n",
       "      <th>book_id</th>\n",
       "      <th>title</th>\n",
       "      <th>cnt_rev</th>\n",
       "      <th>avg_rat</th>\n",
       "    </tr>\n",
       "  </thead>\n",
       "  <tbody>\n",
       "    <tr>\n",
       "      <th>0</th>\n",
       "      <td>948</td>\n",
       "      <td>Twilight (Twilight  #1)</td>\n",
       "      <td>7</td>\n",
       "      <td>3.7</td>\n",
       "    </tr>\n",
       "    <tr>\n",
       "      <th>1</th>\n",
       "      <td>302</td>\n",
       "      <td>Harry Potter and the Prisoner of Azkaban (Harry Potter  #3)</td>\n",
       "      <td>6</td>\n",
       "      <td>4.4</td>\n",
       "    </tr>\n",
       "    <tr>\n",
       "      <th>2</th>\n",
       "      <td>656</td>\n",
       "      <td>The Book Thief</td>\n",
       "      <td>6</td>\n",
       "      <td>4.3</td>\n",
       "    </tr>\n",
       "    <tr>\n",
       "      <th>3</th>\n",
       "      <td>299</td>\n",
       "      <td>Harry Potter and the Chamber of Secrets (Harry Potter  #2)</td>\n",
       "      <td>6</td>\n",
       "      <td>4.3</td>\n",
       "    </tr>\n",
       "    <tr>\n",
       "      <th>4</th>\n",
       "      <td>734</td>\n",
       "      <td>The Glass Castle</td>\n",
       "      <td>6</td>\n",
       "      <td>4.2</td>\n",
       "    </tr>\n",
       "    <tr>\n",
       "      <th>...</th>\n",
       "      <td>...</td>\n",
       "      <td>...</td>\n",
       "      <td>...</td>\n",
       "      <td>...</td>\n",
       "    </tr>\n",
       "    <tr>\n",
       "      <th>995</th>\n",
       "      <td>191</td>\n",
       "      <td>Disney's Beauty and the Beast (A Little Golden Book)</td>\n",
       "      <td>0</td>\n",
       "      <td>4.0</td>\n",
       "    </tr>\n",
       "    <tr>\n",
       "      <th>996</th>\n",
       "      <td>387</td>\n",
       "      <td>Leonardo's Notebooks</td>\n",
       "      <td>0</td>\n",
       "      <td>4.0</td>\n",
       "    </tr>\n",
       "    <tr>\n",
       "      <th>997</th>\n",
       "      <td>221</td>\n",
       "      <td>Essential Tales and Poems</td>\n",
       "      <td>0</td>\n",
       "      <td>4.0</td>\n",
       "    </tr>\n",
       "    <tr>\n",
       "      <th>998</th>\n",
       "      <td>83</td>\n",
       "      <td>Anne Rice's The Vampire Lestat: A Graphic Novel</td>\n",
       "      <td>0</td>\n",
       "      <td>3.7</td>\n",
       "    </tr>\n",
       "    <tr>\n",
       "      <th>999</th>\n",
       "      <td>808</td>\n",
       "      <td>The Natural Way to Draw</td>\n",
       "      <td>0</td>\n",
       "      <td>3.0</td>\n",
       "    </tr>\n",
       "  </tbody>\n",
       "</table>\n",
       "<p>1000 rows × 4 columns</p>\n",
       "</div>"
      ],
      "text/plain": [
       "     book_id                                                        title  \\\n",
       "0        948                                      Twilight (Twilight  #1)   \n",
       "1        302  Harry Potter and the Prisoner of Azkaban (Harry Potter  #3)   \n",
       "2        656                                               The Book Thief   \n",
       "3        299   Harry Potter and the Chamber of Secrets (Harry Potter  #2)   \n",
       "4        734                                             The Glass Castle   \n",
       "..       ...                                                          ...   \n",
       "995      191         Disney's Beauty and the Beast (A Little Golden Book)   \n",
       "996      387                                         Leonardo's Notebooks   \n",
       "997      221                                    Essential Tales and Poems   \n",
       "998       83              Anne Rice's The Vampire Lestat: A Graphic Novel   \n",
       "999      808                                      The Natural Way to Draw   \n",
       "\n",
       "     cnt_rev  avg_rat  \n",
       "0          7      3.7  \n",
       "1          6      4.4  \n",
       "2          6      4.3  \n",
       "3          6      4.3  \n",
       "4          6      4.2  \n",
       "..       ...      ...  \n",
       "995        0      4.0  \n",
       "996        0      4.0  \n",
       "997        0      4.0  \n",
       "998        0      3.7  \n",
       "999        0      3.0  \n",
       "\n",
       "[1000 rows x 4 columns]"
      ]
     },
     "execution_count": 18,
     "metadata": {},
     "output_type": "execute_result"
    }
   ],
   "source": [
    "# вариант с CTE\n",
    "\n",
    "sql = ''' \n",
    "\n",
    "WITH\n",
    "\n",
    "cnt_rev_table AS    -- количество обзоров на книгу\n",
    "\n",
    "(\n",
    "    SELECT DISTINCT b.book_id, \n",
    "            title, \n",
    "            COUNT(rev.review_id) OVER (PARTITION BY b.book_id) AS cnt_rev\n",
    "    FROM books b\n",
    "    LEFT JOIN reviews rev ON b.book_id = rev.book_id  \n",
    "    ORDER BY 3 DESC\n",
    "),\n",
    "\n",
    "mean_rat_table AS    -- средняя оценка по книгам\n",
    "\n",
    "(\n",
    "    SELECT DISTINCT b.book_id, \n",
    "            title, \n",
    "            ROUND(AVG(rating) OVER (PARTITION BY b.book_id), 1) AS avg_rat\n",
    "    FROM books b\n",
    "    JOIN ratings rat ON b.book_id = rat.book_id \n",
    "    ORDER BY 3 DESC\n",
    ")\n",
    "\n",
    "-- основной запрос\n",
    "\n",
    "SELECT cr.book_id, \n",
    "    cr.title,  \n",
    "    cnt_rev,\n",
    "    avg_rat\n",
    "FROM cnt_rev_table cr\n",
    "JOIN mean_rat_table mr ON cr.book_id=mr.book_id\n",
    "ORDER BY 3 DESC, 4 DESC\n",
    "\n",
    "''' \n",
    "\n",
    "select(sql)"
   ]
  },
  {
   "cell_type": "code",
   "execution_count": 35,
   "id": "e5d70953",
   "metadata": {},
   "outputs": [
    {
     "data": {
      "text/html": [
       "<div>\n",
       "<style scoped>\n",
       "    .dataframe tbody tr th:only-of-type {\n",
       "        vertical-align: middle;\n",
       "    }\n",
       "\n",
       "    .dataframe tbody tr th {\n",
       "        vertical-align: top;\n",
       "    }\n",
       "\n",
       "    .dataframe thead th {\n",
       "        text-align: right;\n",
       "    }\n",
       "</style>\n",
       "<table border=\"1\" class=\"dataframe\">\n",
       "  <thead>\n",
       "    <tr style=\"text-align: right;\">\n",
       "      <th></th>\n",
       "      <th>book_id</th>\n",
       "      <th>title</th>\n",
       "      <th>cnt_rev</th>\n",
       "      <th>evg_rat</th>\n",
       "    </tr>\n",
       "  </thead>\n",
       "  <tbody>\n",
       "    <tr>\n",
       "      <th>0</th>\n",
       "      <td>426</td>\n",
       "      <td>Memoirs of a Geisha</td>\n",
       "      <td>8</td>\n",
       "      <td>4.2</td>\n",
       "    </tr>\n",
       "    <tr>\n",
       "      <th>1</th>\n",
       "      <td>427</td>\n",
       "      <td>Memoirs of a Geisha</td>\n",
       "      <td>8</td>\n",
       "      <td>3.7</td>\n",
       "    </tr>\n",
       "    <tr>\n",
       "      <th>2</th>\n",
       "      <td>948</td>\n",
       "      <td>Twilight (Twilight  #1)</td>\n",
       "      <td>7</td>\n",
       "      <td>3.7</td>\n",
       "    </tr>\n",
       "    <tr>\n",
       "      <th>3</th>\n",
       "      <td>302</td>\n",
       "      <td>Harry Potter and the Prisoner of Azkaban (Harry Potter  #3)</td>\n",
       "      <td>6</td>\n",
       "      <td>4.4</td>\n",
       "    </tr>\n",
       "    <tr>\n",
       "      <th>4</th>\n",
       "      <td>299</td>\n",
       "      <td>Harry Potter and the Chamber of Secrets (Harry Potter  #2)</td>\n",
       "      <td>6</td>\n",
       "      <td>4.3</td>\n",
       "    </tr>\n",
       "    <tr>\n",
       "      <th>...</th>\n",
       "      <td>...</td>\n",
       "      <td>...</td>\n",
       "      <td>...</td>\n",
       "      <td>...</td>\n",
       "    </tr>\n",
       "    <tr>\n",
       "      <th>995</th>\n",
       "      <td>191</td>\n",
       "      <td>Disney's Beauty and the Beast (A Little Golden Book)</td>\n",
       "      <td>0</td>\n",
       "      <td>4.0</td>\n",
       "    </tr>\n",
       "    <tr>\n",
       "      <th>996</th>\n",
       "      <td>221</td>\n",
       "      <td>Essential Tales and Poems</td>\n",
       "      <td>0</td>\n",
       "      <td>4.0</td>\n",
       "    </tr>\n",
       "    <tr>\n",
       "      <th>997</th>\n",
       "      <td>387</td>\n",
       "      <td>Leonardo's Notebooks</td>\n",
       "      <td>0</td>\n",
       "      <td>4.0</td>\n",
       "    </tr>\n",
       "    <tr>\n",
       "      <th>998</th>\n",
       "      <td>83</td>\n",
       "      <td>Anne Rice's The Vampire Lestat: A Graphic Novel</td>\n",
       "      <td>0</td>\n",
       "      <td>3.7</td>\n",
       "    </tr>\n",
       "    <tr>\n",
       "      <th>999</th>\n",
       "      <td>808</td>\n",
       "      <td>The Natural Way to Draw</td>\n",
       "      <td>0</td>\n",
       "      <td>3.0</td>\n",
       "    </tr>\n",
       "  </tbody>\n",
       "</table>\n",
       "<p>1000 rows × 4 columns</p>\n",
       "</div>"
      ],
      "text/plain": [
       "     book_id                                                        title  \\\n",
       "0        426                                          Memoirs of a Geisha   \n",
       "1        427                                          Memoirs of a Geisha   \n",
       "2        948                                      Twilight (Twilight  #1)   \n",
       "3        302  Harry Potter and the Prisoner of Azkaban (Harry Potter  #3)   \n",
       "4        299   Harry Potter and the Chamber of Secrets (Harry Potter  #2)   \n",
       "..       ...                                                          ...   \n",
       "995      191         Disney's Beauty and the Beast (A Little Golden Book)   \n",
       "996      221                                    Essential Tales and Poems   \n",
       "997      387                                         Leonardo's Notebooks   \n",
       "998       83              Anne Rice's The Vampire Lestat: A Graphic Novel   \n",
       "999      808                                      The Natural Way to Draw   \n",
       "\n",
       "     cnt_rev  evg_rat  \n",
       "0          8      4.2  \n",
       "1          8      3.7  \n",
       "2          7      3.7  \n",
       "3          6      4.4  \n",
       "4          6      4.3  \n",
       "..       ...      ...  \n",
       "995        0      4.0  \n",
       "996        0      4.0  \n",
       "997        0      4.0  \n",
       "998        0      3.7  \n",
       "999        0      3.0  \n",
       "\n",
       "[1000 rows x 4 columns]"
      ]
     },
     "execution_count": 35,
     "metadata": {},
     "output_type": "execute_result"
    }
   ],
   "source": [
    "# вариант с оконной функцией\n",
    "\n",
    "sql = ''' \n",
    "\n",
    "SELECT DISTINCT b.book_id, title, \n",
    "    COUNT(review_id) OVER (PARTITION BY title) AS cnt_rev,   \n",
    "    ROUND(AVG(rating), 1) AS evg_rat\n",
    "FROM books b\n",
    "LEFT JOIN reviews rev ON b.book_id = rev.book_id\n",
    "JOIN ratings rat ON b.book_id = rat.book_id\n",
    "GROUP BY b.book_id, review_id\n",
    "ORDER BY cnt_rev DESC, evg_rat DESC\n",
    "    \n",
    "''' \n",
    "\n",
    "select(sql)"
   ]
  },
  {
   "cell_type": "markdown",
   "id": "60ac6e1c",
   "metadata": {},
   "source": [
    "<div class=\"alert alert-success\" style=\"border-radius: 15px; box-shadow: 4px 4px 4px; border: 1px solid \" > <b>Комментарии от ревьюера ✔️ : </b> \n",
    "    \n",
    "Здорово. Это один из самых коварных запросов, как показывает практика, но ты справилась успешно. Причем можешь решить разными способами. Молодец!)\n",
    "\n",
    "</div>"
   ]
  },
  {
   "cell_type": "markdown",
   "id": "0a05b5b4",
   "metadata": {},
   "source": [
    "#### Вывод\n",
    "\n",
    "> Максимальное количество обзоров на книгу - 7, средняя оценка около 4"
   ]
  },
  {
   "attachments": {
    "image.png": {
     "image/png": "[encoded data removed]"
    }
   },
   "cell_type": "markdown",
   "id": "1037c89a",
   "metadata": {},
   "source": [
    "![image.png](attachment:image.png)\n",
    "__________________________________________\n",
    "Сначала я делала как ниже, но почему-то после присоединения вторым джоином (и не важно каким) book_id размножаются и считает в итоге количество ревью неверно. Подскажите, почему так происходит?"
   ]
  },
  {
   "cell_type": "markdown",
   "id": "42777b1a",
   "metadata": {},
   "source": [
    "<div class=\"alert alert-warning\" style=\"border-radius: 15px; box-shadow: 4px 4px 4px; border: 1px solid \" > <b>Комментарии от ревьюера ⚠️ : </b> \n",
    "\n",
    "Происходит дублирование денных. Ниже пример после объединения, где можно увидеть например, что колонки username не соответствуют друг другу и другие накладки\n",
    "</div>"
   ]
  },
  {
   "cell_type": "code",
   "execution_count": 20,
   "id": "ecb272d6",
   "metadata": {},
   "outputs": [
    {
     "data": {
      "text/html": [
       "<div>\n",
       "<style scoped>\n",
       "    .dataframe tbody tr th:only-of-type {\n",
       "        vertical-align: middle;\n",
       "    }\n",
       "\n",
       "    .dataframe tbody tr th {\n",
       "        vertical-align: top;\n",
       "    }\n",
       "\n",
       "    .dataframe thead th {\n",
       "        text-align: right;\n",
       "    }\n",
       "</style>\n",
       "<table border=\"1\" class=\"dataframe\">\n",
       "  <thead>\n",
       "    <tr style=\"text-align: right;\">\n",
       "      <th></th>\n",
       "      <th>book_id</th>\n",
       "      <th>author_id</th>\n",
       "      <th>title</th>\n",
       "      <th>num_pages</th>\n",
       "      <th>publication_date</th>\n",
       "      <th>publisher_id</th>\n",
       "      <th>review_id</th>\n",
       "      <th>book_id</th>\n",
       "      <th>username</th>\n",
       "      <th>text</th>\n",
       "      <th>rating_id</th>\n",
       "      <th>book_id</th>\n",
       "      <th>username</th>\n",
       "      <th>rating</th>\n",
       "    </tr>\n",
       "  </thead>\n",
       "  <tbody>\n",
       "    <tr>\n",
       "      <th>0</th>\n",
       "      <td>1</td>\n",
       "      <td>546</td>\n",
       "      <td>'Salem's Lot</td>\n",
       "      <td>594</td>\n",
       "      <td>2005-11-01</td>\n",
       "      <td>93</td>\n",
       "      <td>2.0</td>\n",
       "      <td>1.0</td>\n",
       "      <td>ryanfranco</td>\n",
       "      <td>Foot glass pretty audience hit themselves. Among admit investment argue security.</td>\n",
       "      <td>1</td>\n",
       "      <td>1</td>\n",
       "      <td>ryanfranco</td>\n",
       "      <td>4</td>\n",
       "    </tr>\n",
       "    <tr>\n",
       "      <th>1</th>\n",
       "      <td>1</td>\n",
       "      <td>546</td>\n",
       "      <td>'Salem's Lot</td>\n",
       "      <td>594</td>\n",
       "      <td>2005-11-01</td>\n",
       "      <td>93</td>\n",
       "      <td>1.0</td>\n",
       "      <td>1.0</td>\n",
       "      <td>brandtandrea</td>\n",
       "      <td>Mention society tell send professor analysis. Over provide race technology continue these.</td>\n",
       "      <td>1</td>\n",
       "      <td>1</td>\n",
       "      <td>ryanfranco</td>\n",
       "      <td>4</td>\n",
       "    </tr>\n",
       "    <tr>\n",
       "      <th>2</th>\n",
       "      <td>1</td>\n",
       "      <td>546</td>\n",
       "      <td>'Salem's Lot</td>\n",
       "      <td>594</td>\n",
       "      <td>2005-11-01</td>\n",
       "      <td>93</td>\n",
       "      <td>2.0</td>\n",
       "      <td>1.0</td>\n",
       "      <td>ryanfranco</td>\n",
       "      <td>Foot glass pretty audience hit themselves. Among admit investment argue security.</td>\n",
       "      <td>2</td>\n",
       "      <td>1</td>\n",
       "      <td>grantpatricia</td>\n",
       "      <td>2</td>\n",
       "    </tr>\n",
       "    <tr>\n",
       "      <th>3</th>\n",
       "      <td>1</td>\n",
       "      <td>546</td>\n",
       "      <td>'Salem's Lot</td>\n",
       "      <td>594</td>\n",
       "      <td>2005-11-01</td>\n",
       "      <td>93</td>\n",
       "      <td>1.0</td>\n",
       "      <td>1.0</td>\n",
       "      <td>brandtandrea</td>\n",
       "      <td>Mention society tell send professor analysis. Over provide race technology continue these.</td>\n",
       "      <td>2</td>\n",
       "      <td>1</td>\n",
       "      <td>grantpatricia</td>\n",
       "      <td>2</td>\n",
       "    </tr>\n",
       "    <tr>\n",
       "      <th>4</th>\n",
       "      <td>1</td>\n",
       "      <td>546</td>\n",
       "      <td>'Salem's Lot</td>\n",
       "      <td>594</td>\n",
       "      <td>2005-11-01</td>\n",
       "      <td>93</td>\n",
       "      <td>2.0</td>\n",
       "      <td>1.0</td>\n",
       "      <td>ryanfranco</td>\n",
       "      <td>Foot glass pretty audience hit themselves. Among admit investment argue security.</td>\n",
       "      <td>3</td>\n",
       "      <td>1</td>\n",
       "      <td>brandtandrea</td>\n",
       "      <td>5</td>\n",
       "    </tr>\n",
       "    <tr>\n",
       "      <th>...</th>\n",
       "      <td>...</td>\n",
       "      <td>...</td>\n",
       "      <td>...</td>\n",
       "      <td>...</td>\n",
       "      <td>...</td>\n",
       "      <td>...</td>\n",
       "      <td>...</td>\n",
       "      <td>...</td>\n",
       "      <td>...</td>\n",
       "      <td>...</td>\n",
       "      <td>...</td>\n",
       "      <td>...</td>\n",
       "      <td>...</td>\n",
       "      <td>...</td>\n",
       "    </tr>\n",
       "    <tr>\n",
       "      <th>26175</th>\n",
       "      <td>1000</td>\n",
       "      <td>509</td>\n",
       "      <td>Zen and the Art of Motorcycle Maintenance: An Inquiry Into Values (Phaedrus  #1)</td>\n",
       "      <td>540</td>\n",
       "      <td>2006-04-25</td>\n",
       "      <td>143</td>\n",
       "      <td>2790.0</td>\n",
       "      <td>1000.0</td>\n",
       "      <td>wknight</td>\n",
       "      <td>Change lose answer close pressure. Spend so now.</td>\n",
       "      <td>6455</td>\n",
       "      <td>1000</td>\n",
       "      <td>zross</td>\n",
       "      <td>2</td>\n",
       "    </tr>\n",
       "    <tr>\n",
       "      <th>26176</th>\n",
       "      <td>1000</td>\n",
       "      <td>509</td>\n",
       "      <td>Zen and the Art of Motorcycle Maintenance: An Inquiry Into Values (Phaedrus  #1)</td>\n",
       "      <td>540</td>\n",
       "      <td>2006-04-25</td>\n",
       "      <td>143</td>\n",
       "      <td>2793.0</td>\n",
       "      <td>1000.0</td>\n",
       "      <td>jarvispaul</td>\n",
       "      <td>Republican staff bit eat material measure plan. Pretty issue claim rate push energy couple bit.</td>\n",
       "      <td>6456</td>\n",
       "      <td>1000</td>\n",
       "      <td>fharris</td>\n",
       "      <td>5</td>\n",
       "    </tr>\n",
       "    <tr>\n",
       "      <th>26177</th>\n",
       "      <td>1000</td>\n",
       "      <td>509</td>\n",
       "      <td>Zen and the Art of Motorcycle Maintenance: An Inquiry Into Values (Phaedrus  #1)</td>\n",
       "      <td>540</td>\n",
       "      <td>2006-04-25</td>\n",
       "      <td>143</td>\n",
       "      <td>2792.0</td>\n",
       "      <td>1000.0</td>\n",
       "      <td>wendy18</td>\n",
       "      <td>Or western offer wonder ask. More hear phone foreign amount within cell. Ball poor hot that kid.</td>\n",
       "      <td>6456</td>\n",
       "      <td>1000</td>\n",
       "      <td>fharris</td>\n",
       "      <td>5</td>\n",
       "    </tr>\n",
       "    <tr>\n",
       "      <th>26178</th>\n",
       "      <td>1000</td>\n",
       "      <td>509</td>\n",
       "      <td>Zen and the Art of Motorcycle Maintenance: An Inquiry Into Values (Phaedrus  #1)</td>\n",
       "      <td>540</td>\n",
       "      <td>2006-04-25</td>\n",
       "      <td>143</td>\n",
       "      <td>2791.0</td>\n",
       "      <td>1000.0</td>\n",
       "      <td>carolrodriguez</td>\n",
       "      <td>Authority go who television entire hair guy population. Pm vote take. Long born close thought person old. Visit ever school ma...</td>\n",
       "      <td>6456</td>\n",
       "      <td>1000</td>\n",
       "      <td>fharris</td>\n",
       "      <td>5</td>\n",
       "    </tr>\n",
       "    <tr>\n",
       "      <th>26179</th>\n",
       "      <td>1000</td>\n",
       "      <td>509</td>\n",
       "      <td>Zen and the Art of Motorcycle Maintenance: An Inquiry Into Values (Phaedrus  #1)</td>\n",
       "      <td>540</td>\n",
       "      <td>2006-04-25</td>\n",
       "      <td>143</td>\n",
       "      <td>2790.0</td>\n",
       "      <td>1000.0</td>\n",
       "      <td>wknight</td>\n",
       "      <td>Change lose answer close pressure. Spend so now.</td>\n",
       "      <td>6456</td>\n",
       "      <td>1000</td>\n",
       "      <td>fharris</td>\n",
       "      <td>5</td>\n",
       "    </tr>\n",
       "  </tbody>\n",
       "</table>\n",
       "<p>26180 rows × 14 columns</p>\n",
       "</div>"
      ],
      "text/plain": [
       "       book_id  author_id  \\\n",
       "0            1        546   \n",
       "1            1        546   \n",
       "2            1        546   \n",
       "3            1        546   \n",
       "4            1        546   \n",
       "...        ...        ...   \n",
       "26175     1000        509   \n",
       "26176     1000        509   \n",
       "26177     1000        509   \n",
       "26178     1000        509   \n",
       "26179     1000        509   \n",
       "\n",
       "                                                                                  title  \\\n",
       "0                                                                          'Salem's Lot   \n",
       "1                                                                          'Salem's Lot   \n",
       "2                                                                          'Salem's Lot   \n",
       "3                                                                          'Salem's Lot   \n",
       "4                                                                          'Salem's Lot   \n",
       "...                                                                                 ...   \n",
       "26175  Zen and the Art of Motorcycle Maintenance: An Inquiry Into Values (Phaedrus  #1)   \n",
       "26176  Zen and the Art of Motorcycle Maintenance: An Inquiry Into Values (Phaedrus  #1)   \n",
       "26177  Zen and the Art of Motorcycle Maintenance: An Inquiry Into Values (Phaedrus  #1)   \n",
       "26178  Zen and the Art of Motorcycle Maintenance: An Inquiry Into Values (Phaedrus  #1)   \n",
       "26179  Zen and the Art of Motorcycle Maintenance: An Inquiry Into Values (Phaedrus  #1)   \n",
       "\n",
       "       num_pages publication_date  publisher_id  review_id  book_id  \\\n",
       "0            594       2005-11-01            93        2.0      1.0   \n",
       "1            594       2005-11-01            93        1.0      1.0   \n",
       "2            594       2005-11-01            93        2.0      1.0   \n",
       "3            594       2005-11-01            93        1.0      1.0   \n",
       "4            594       2005-11-01            93        2.0      1.0   \n",
       "...          ...              ...           ...        ...      ...   \n",
       "26175        540       2006-04-25           143     2790.0   1000.0   \n",
       "26176        540       2006-04-25           143     2793.0   1000.0   \n",
       "26177        540       2006-04-25           143     2792.0   1000.0   \n",
       "26178        540       2006-04-25           143     2791.0   1000.0   \n",
       "26179        540       2006-04-25           143     2790.0   1000.0   \n",
       "\n",
       "             username  \\\n",
       "0          ryanfranco   \n",
       "1        brandtandrea   \n",
       "2          ryanfranco   \n",
       "3        brandtandrea   \n",
       "4          ryanfranco   \n",
       "...               ...   \n",
       "26175         wknight   \n",
       "26176      jarvispaul   \n",
       "26177         wendy18   \n",
       "26178  carolrodriguez   \n",
       "26179         wknight   \n",
       "\n",
       "                                                                                                                                    text  \\\n",
       "0                                                      Foot glass pretty audience hit themselves. Among admit investment argue security.   \n",
       "1                                             Mention society tell send professor analysis. Over provide race technology continue these.   \n",
       "2                                                      Foot glass pretty audience hit themselves. Among admit investment argue security.   \n",
       "3                                             Mention society tell send professor analysis. Over provide race technology continue these.   \n",
       "4                                                      Foot glass pretty audience hit themselves. Among admit investment argue security.   \n",
       "...                                                                                                                                  ...   \n",
       "26175                                                                                   Change lose answer close pressure. Spend so now.   \n",
       "26176                                    Republican staff bit eat material measure plan. Pretty issue claim rate push energy couple bit.   \n",
       "26177                                   Or western offer wonder ask. More hear phone foreign amount within cell. Ball poor hot that kid.   \n",
       "26178  Authority go who television entire hair guy population. Pm vote take. Long born close thought person old. Visit ever school ma...   \n",
       "26179                                                                                   Change lose answer close pressure. Spend so now.   \n",
       "\n",
       "       rating_id  book_id       username  rating  \n",
       "0              1        1     ryanfranco       4  \n",
       "1              1        1     ryanfranco       4  \n",
       "2              2        1  grantpatricia       2  \n",
       "3              2        1  grantpatricia       2  \n",
       "4              3        1   brandtandrea       5  \n",
       "...          ...      ...            ...     ...  \n",
       "26175       6455     1000          zross       2  \n",
       "26176       6456     1000        fharris       5  \n",
       "26177       6456     1000        fharris       5  \n",
       "26178       6456     1000        fharris       5  \n",
       "26179       6456     1000        fharris       5  \n",
       "\n",
       "[26180 rows x 14 columns]"
      ]
     },
     "execution_count": 20,
     "metadata": {},
     "output_type": "execute_result"
    }
   ],
   "source": [
    "# КОД РЕВЬЮЕРА\n",
    "\n",
    "sql = ''' \n",
    "\n",
    "SELECT *\n",
    "FROM books b\n",
    "LEFT JOIN reviews rev ON b.book_id = rev.book_id\n",
    "JOIN ratings rat ON b.book_id = rat.book_id\n",
    "\n",
    "''' \n",
    "\n",
    "select(sql)"
   ]
  },
  {
   "cell_type": "code",
   "execution_count": 21,
   "id": "3c569885",
   "metadata": {
    "scrolled": false
   },
   "outputs": [
    {
     "data": {
      "text/html": [
       "<div>\n",
       "<style scoped>\n",
       "    .dataframe tbody tr th:only-of-type {\n",
       "        vertical-align: middle;\n",
       "    }\n",
       "\n",
       "    .dataframe tbody tr th {\n",
       "        vertical-align: top;\n",
       "    }\n",
       "\n",
       "    .dataframe thead th {\n",
       "        text-align: right;\n",
       "    }\n",
       "</style>\n",
       "<table border=\"1\" class=\"dataframe\">\n",
       "  <thead>\n",
       "    <tr style=\"text-align: right;\">\n",
       "      <th></th>\n",
       "      <th>book_id</th>\n",
       "      <th>title</th>\n",
       "      <th>cnt_rev</th>\n",
       "      <th>evg_rat</th>\n",
       "    </tr>\n",
       "  </thead>\n",
       "  <tbody>\n",
       "    <tr>\n",
       "      <th>0</th>\n",
       "      <td>948</td>\n",
       "      <td>Twilight (Twilight  #1)</td>\n",
       "      <td>1120</td>\n",
       "      <td>3.7</td>\n",
       "    </tr>\n",
       "    <tr>\n",
       "      <th>1</th>\n",
       "      <td>750</td>\n",
       "      <td>The Hobbit  or There and Back Again</td>\n",
       "      <td>528</td>\n",
       "      <td>4.1</td>\n",
       "    </tr>\n",
       "    <tr>\n",
       "      <th>2</th>\n",
       "      <td>673</td>\n",
       "      <td>The Catcher in the Rye</td>\n",
       "      <td>516</td>\n",
       "      <td>3.8</td>\n",
       "    </tr>\n",
       "    <tr>\n",
       "      <th>3</th>\n",
       "      <td>302</td>\n",
       "      <td>Harry Potter and the Prisoner of Azkaban (Harry Potter  #3)</td>\n",
       "      <td>492</td>\n",
       "      <td>4.4</td>\n",
       "    </tr>\n",
       "    <tr>\n",
       "      <th>4</th>\n",
       "      <td>299</td>\n",
       "      <td>Harry Potter and the Chamber of Secrets (Harry Potter  #2)</td>\n",
       "      <td>480</td>\n",
       "      <td>4.3</td>\n",
       "    </tr>\n",
       "    <tr>\n",
       "      <th>...</th>\n",
       "      <td>...</td>\n",
       "      <td>...</td>\n",
       "      <td>...</td>\n",
       "      <td>...</td>\n",
       "    </tr>\n",
       "    <tr>\n",
       "      <th>995</th>\n",
       "      <td>387</td>\n",
       "      <td>Leonardo's Notebooks</td>\n",
       "      <td>0</td>\n",
       "      <td>4.0</td>\n",
       "    </tr>\n",
       "    <tr>\n",
       "      <th>996</th>\n",
       "      <td>191</td>\n",
       "      <td>Disney's Beauty and the Beast (A Little Golden Book)</td>\n",
       "      <td>0</td>\n",
       "      <td>4.0</td>\n",
       "    </tr>\n",
       "    <tr>\n",
       "      <th>997</th>\n",
       "      <td>221</td>\n",
       "      <td>Essential Tales and Poems</td>\n",
       "      <td>0</td>\n",
       "      <td>4.0</td>\n",
       "    </tr>\n",
       "    <tr>\n",
       "      <th>998</th>\n",
       "      <td>83</td>\n",
       "      <td>Anne Rice's The Vampire Lestat: A Graphic Novel</td>\n",
       "      <td>0</td>\n",
       "      <td>3.7</td>\n",
       "    </tr>\n",
       "    <tr>\n",
       "      <th>999</th>\n",
       "      <td>808</td>\n",
       "      <td>The Natural Way to Draw</td>\n",
       "      <td>0</td>\n",
       "      <td>3.0</td>\n",
       "    </tr>\n",
       "  </tbody>\n",
       "</table>\n",
       "<p>1000 rows × 4 columns</p>\n",
       "</div>"
      ],
      "text/plain": [
       "     book_id                                                        title  \\\n",
       "0        948                                      Twilight (Twilight  #1)   \n",
       "1        750                          The Hobbit  or There and Back Again   \n",
       "2        673                                       The Catcher in the Rye   \n",
       "3        302  Harry Potter and the Prisoner of Azkaban (Harry Potter  #3)   \n",
       "4        299   Harry Potter and the Chamber of Secrets (Harry Potter  #2)   \n",
       "..       ...                                                          ...   \n",
       "995      387                                         Leonardo's Notebooks   \n",
       "996      191         Disney's Beauty and the Beast (A Little Golden Book)   \n",
       "997      221                                    Essential Tales and Poems   \n",
       "998       83              Anne Rice's The Vampire Lestat: A Graphic Novel   \n",
       "999      808                                      The Natural Way to Draw   \n",
       "\n",
       "     cnt_rev  evg_rat  \n",
       "0       1120      3.7  \n",
       "1        528      4.1  \n",
       "2        516      3.8  \n",
       "3        492      4.4  \n",
       "4        480      4.3  \n",
       "..       ...      ...  \n",
       "995        0      4.0  \n",
       "996        0      4.0  \n",
       "997        0      4.0  \n",
       "998        0      3.7  \n",
       "999        0      3.0  \n",
       "\n",
       "[1000 rows x 4 columns]"
      ]
     },
     "execution_count": 21,
     "metadata": {},
     "output_type": "execute_result"
    }
   ],
   "source": [
    "# неверный код\n",
    "\n",
    "sql = ''' \n",
    "\n",
    "SELECT b.book_id, title, \n",
    "    COUNT(review_id) AS cnt_rev,   \n",
    "    ROUND(AVG(rating), 1) AS evg_rat\n",
    "FROM books b\n",
    "LEFT JOIN reviews rev ON b.book_id = rev.book_id\n",
    "JOIN ratings rat ON b.book_id = rat.book_id\n",
    "GROUP BY 1, 2\n",
    "ORDER BY cnt_rev DESC, evg_rat DESC\n",
    "\n",
    "''' \n",
    "\n",
    "select(sql)"
   ]
  },
  {
   "cell_type": "markdown",
   "id": "fd45488b",
   "metadata": {},
   "source": [
    "### Задание 3\n",
    "\n",
    "- Определите издательство, которое выпустило наибольшее число книг толще 50 страниц — так вы исключите из анализа брошюры"
   ]
  },
  {
   "cell_type": "code",
   "execution_count": 22,
   "id": "7ccc9893",
   "metadata": {
    "scrolled": false
   },
   "outputs": [
    {
     "data": {
      "text/html": [
       "<div>\n",
       "<style scoped>\n",
       "    .dataframe tbody tr th:only-of-type {\n",
       "        vertical-align: middle;\n",
       "    }\n",
       "\n",
       "    .dataframe tbody tr th {\n",
       "        vertical-align: top;\n",
       "    }\n",
       "\n",
       "    .dataframe thead th {\n",
       "        text-align: right;\n",
       "    }\n",
       "</style>\n",
       "<table border=\"1\" class=\"dataframe\">\n",
       "  <thead>\n",
       "    <tr style=\"text-align: right;\">\n",
       "      <th></th>\n",
       "      <th>publisher</th>\n",
       "      <th>cnt_book</th>\n",
       "    </tr>\n",
       "  </thead>\n",
       "  <tbody>\n",
       "    <tr>\n",
       "      <th>0</th>\n",
       "      <td>Penguin Books</td>\n",
       "      <td>42</td>\n",
       "    </tr>\n",
       "  </tbody>\n",
       "</table>\n",
       "</div>"
      ],
      "text/plain": [
       "       publisher  cnt_book\n",
       "0  Penguin Books        42"
      ]
     },
     "execution_count": 22,
     "metadata": {},
     "output_type": "execute_result"
    }
   ],
   "source": [
    "sql = ''' \n",
    "\n",
    "SELECT DISTINCT publisher, \n",
    "    COUNT(book_id) OVER (PARTITION BY publisher) AS cnt_book\n",
    "FROM publishers p\n",
    "LEFT JOIN books b ON b.publisher_id=p.publisher_id\n",
    "WHERE num_pages > 50\n",
    "ORDER BY cnt_book DESC\n",
    "LIMIT 1\n",
    "\n",
    "''' \n",
    "\n",
    "select(sql)"
   ]
  },
  {
   "cell_type": "markdown",
   "id": "4755538f",
   "metadata": {},
   "source": [
    "<div class=\"alert alert-success\" style=\"border-radius: 15px; box-shadow: 4px 4px 4px; border: 1px solid \" > <b>Комментарии от ревьюера ✔️ : </b> \n",
    "    \n",
    "\n",
    "Согласен с результатом. Действительно данное издательство является лидером по выпущенным книгам\n",
    "\n",
    "</div>"
   ]
  },
  {
   "cell_type": "code",
   "execution_count": 23,
   "id": "9dbf33d2",
   "metadata": {},
   "outputs": [
    {
     "data": {
      "text/html": [
       "<div>\n",
       "<style scoped>\n",
       "    .dataframe tbody tr th:only-of-type {\n",
       "        vertical-align: middle;\n",
       "    }\n",
       "\n",
       "    .dataframe tbody tr th {\n",
       "        vertical-align: top;\n",
       "    }\n",
       "\n",
       "    .dataframe thead th {\n",
       "        text-align: right;\n",
       "    }\n",
       "</style>\n",
       "<table border=\"1\" class=\"dataframe\">\n",
       "  <thead>\n",
       "    <tr style=\"text-align: right;\">\n",
       "      <th></th>\n",
       "      <th>publisher_id</th>\n",
       "      <th>publisher</th>\n",
       "    </tr>\n",
       "  </thead>\n",
       "  <tbody>\n",
       "    <tr>\n",
       "      <th>0</th>\n",
       "      <td>212</td>\n",
       "      <td>Penguin Books</td>\n",
       "    </tr>\n",
       "  </tbody>\n",
       "</table>\n",
       "</div>"
      ],
      "text/plain": [
       "   publisher_id      publisher\n",
       "0           212  Penguin Books"
      ]
     },
     "execution_count": 23,
     "metadata": {},
     "output_type": "execute_result"
    }
   ],
   "source": [
    "# вариант с CTE\n",
    "\n",
    "sql = ''' \n",
    "\n",
    "WITH\n",
    "\n",
    "pages AS  -- таблица с издательствами, которые выпускали толстые книги чаще всего\n",
    "\n",
    "(                  \n",
    "\n",
    "    SELECT p.publisher_id, \n",
    "        publisher, \n",
    "        COUNT(book_id) AS cnt_book\n",
    "    FROM publishers p\n",
    "    LEFT JOIN books b ON b.publisher_id=p.publisher_id\n",
    "    WHERE num_pages > 50\n",
    "    GROUP BY 1, 2\n",
    "    ORDER BY cnt_book DESC\n",
    "    \n",
    ")\n",
    "\n",
    "-- основной запрос\n",
    "\n",
    "SELECT publisher_id, \n",
    "       publisher \n",
    "FROM pages\n",
    "LIMIT 1\n",
    "\n",
    "''' \n",
    "\n",
    "select(sql)"
   ]
  },
  {
   "cell_type": "markdown",
   "id": "cc8cbd83",
   "metadata": {},
   "source": [
    "#### Вывод\n",
    "\n",
    "> Penguin Books - издательство, которое выпустило наибольшее число книг толще 50 страниц"
   ]
  },
  {
   "cell_type": "markdown",
   "id": "9e1aaa61",
   "metadata": {},
   "source": [
    "### Задание 4\n",
    "\n",
    "- Определите автора с самой высокой средней оценкой книг — учитывайте только книги с 50 и более оценками"
   ]
  },
  {
   "cell_type": "code",
   "execution_count": 25,
   "id": "00216a3a",
   "metadata": {},
   "outputs": [
    {
     "data": {
      "text/html": [
       "<div>\n",
       "<style scoped>\n",
       "    .dataframe tbody tr th:only-of-type {\n",
       "        vertical-align: middle;\n",
       "    }\n",
       "\n",
       "    .dataframe tbody tr th {\n",
       "        vertical-align: top;\n",
       "    }\n",
       "\n",
       "    .dataframe thead th {\n",
       "        text-align: right;\n",
       "    }\n",
       "</style>\n",
       "<table border=\"1\" class=\"dataframe\">\n",
       "  <thead>\n",
       "    <tr style=\"text-align: right;\">\n",
       "      <th></th>\n",
       "      <th>author_id</th>\n",
       "      <th>author</th>\n",
       "      <th>cnt_rat</th>\n",
       "      <th>mean_rat</th>\n",
       "    </tr>\n",
       "  </thead>\n",
       "  <tbody>\n",
       "    <tr>\n",
       "      <th>0</th>\n",
       "      <td>236</td>\n",
       "      <td>J.K. Rowling/Mary GrandPré</td>\n",
       "      <td>310</td>\n",
       "      <td>4.29</td>\n",
       "    </tr>\n",
       "  </tbody>\n",
       "</table>\n",
       "</div>"
      ],
      "text/plain": [
       "   author_id                      author  cnt_rat  mean_rat\n",
       "0        236  J.K. Rowling/Mary GrandPré      310      4.29"
      ]
     },
     "execution_count": 25,
     "metadata": {},
     "output_type": "execute_result"
    }
   ],
   "source": [
    "# CTE\n",
    "\n",
    "sql = ''' \n",
    "\n",
    "WITH \n",
    "\n",
    "book_table AS    -- таблица с id книг, где у них больше 50 оценок \n",
    "\n",
    "(\n",
    "    SELECT b.book_id, \n",
    "           b.author_id \n",
    "    FROM books b\n",
    "    LEFT JOIN ratings rat ON b.book_id = rat.book_id   \n",
    "    GROUP BY b.book_id\n",
    "    HAVING COUNT(rat.book_id) >= 50\n",
    "),\n",
    "\n",
    "table_rat as   -- таблица со средним рейтингом по авторам\n",
    "\n",
    "(\n",
    "    SELECT bt.author_id, \n",
    "           COUNT(r.book_id) as cnt_rat, \n",
    "           AVG(rating) as mean_rat\n",
    "    FROM book_table as bt\n",
    "    JOIN ratings r ON bt.book_id=r.book_id \n",
    "    GROUP BY 1\n",
    ")\n",
    "\n",
    "-- основной запрос\n",
    "\n",
    "SELECT tr.author_id, \n",
    "       author, \n",
    "       cnt_rat, \n",
    "       ROUND(mean_rat, 2) mean_rat\n",
    "FROM table_rat tr\n",
    "JOIN authors a ON tr.author_id = a.author_id \n",
    "ORDER BY cnt_rat DESC, mean_rat DESC\n",
    "LIMIT 1\n",
    "\n",
    "''' \n",
    "\n",
    "select(sql)"
   ]
  },
  {
   "cell_type": "code",
   "execution_count": 27,
   "id": "65d456ab",
   "metadata": {
    "scrolled": false
   },
   "outputs": [
    {
     "data": {
      "text/html": [
       "<div>\n",
       "<style scoped>\n",
       "    .dataframe tbody tr th:only-of-type {\n",
       "        vertical-align: middle;\n",
       "    }\n",
       "\n",
       "    .dataframe tbody tr th {\n",
       "        vertical-align: top;\n",
       "    }\n",
       "\n",
       "    .dataframe thead th {\n",
       "        text-align: right;\n",
       "    }\n",
       "</style>\n",
       "<table border=\"1\" class=\"dataframe\">\n",
       "  <thead>\n",
       "    <tr style=\"text-align: right;\">\n",
       "      <th></th>\n",
       "      <th>author_id</th>\n",
       "      <th>author</th>\n",
       "      <th>cnt_rat</th>\n",
       "      <th>mean_rat</th>\n",
       "    </tr>\n",
       "  </thead>\n",
       "  <tbody>\n",
       "    <tr>\n",
       "      <th>0</th>\n",
       "      <td>236</td>\n",
       "      <td>J.K. Rowling/Mary GrandPré</td>\n",
       "      <td>310</td>\n",
       "      <td>4.29</td>\n",
       "    </tr>\n",
       "  </tbody>\n",
       "</table>\n",
       "</div>"
      ],
      "text/plain": [
       "   author_id                      author  cnt_rat  mean_rat\n",
       "0        236  J.K. Rowling/Mary GrandPré      310      4.29"
      ]
     },
     "execution_count": 27,
     "metadata": {},
     "output_type": "execute_result"
    }
   ],
   "source": [
    "# оконная и подзапрос\n",
    "\n",
    "sql = ''' \n",
    "\n",
    "SELECT DISTINCT a.author_id, author,\n",
    "    COUNT(rat.book_id) OVER (PARTITION BY author) cnt_rat,\n",
    "    ROUND(AVG(rating) OVER (PARTITION BY author), 2) mean_rat\n",
    "FROM \n",
    "\n",
    "(\n",
    "    SELECT b.book_id,     -- выделяем книги, где 50 или болеее оценок\n",
    "           b.author_id\n",
    "    FROM books b\n",
    "    LEFT JOIN ratings rat ON b.book_id = rat.book_id   \n",
    "    GROUP BY b.book_id\n",
    "    HAVING COUNT(rat.book_id) >= 50\n",
    "    \n",
    ") as b\n",
    "    \n",
    "LEFT JOIN authors a ON b.author_id = a.author_id   -- таблица с книгами\n",
    "LEFT JOIN ratings rat ON b.book_id = rat.book_id   -- таблица с оценками\n",
    "ORDER BY 3 DESC\n",
    "LIMIT 1\n",
    "\n",
    "''' \n",
    "\n",
    "select(sql)"
   ]
  },
  {
   "cell_type": "markdown",
   "id": "dd7c2281",
   "metadata": {},
   "source": [
    "<div class=\"alert alert-success\" style=\"border-radius: 15px; box-shadow: 4px 4px 4px; border: 1px solid \" > <b>Комментарии от ревьюера ✔️ : </b> \n",
    "    \n",
    "\n",
    "И здесь ты не ошиблась. Ты верно отфильтровала книги и рассчитала средний рейтинг авторов. \n",
    "    \n",
    "Только почему сортировка по количеству оценок, а не по рейтингу?\n",
    "\n",
    "</div>"
   ]
  },
  {
   "cell_type": "code",
   "execution_count": 34,
   "id": "78cbab4f",
   "metadata": {
    "scrolled": false
   },
   "outputs": [
    {
     "data": {
      "text/html": [
       "<div>\n",
       "<style scoped>\n",
       "    .dataframe tbody tr th:only-of-type {\n",
       "        vertical-align: middle;\n",
       "    }\n",
       "\n",
       "    .dataframe tbody tr th {\n",
       "        vertical-align: top;\n",
       "    }\n",
       "\n",
       "    .dataframe thead th {\n",
       "        text-align: right;\n",
       "    }\n",
       "</style>\n",
       "<table border=\"1\" class=\"dataframe\">\n",
       "  <thead>\n",
       "    <tr style=\"text-align: right;\">\n",
       "      <th></th>\n",
       "      <th>book_id</th>\n",
       "      <th>author_id</th>\n",
       "      <th>count</th>\n",
       "    </tr>\n",
       "  </thead>\n",
       "  <tbody>\n",
       "    <tr>\n",
       "      <th>0</th>\n",
       "      <td>399</td>\n",
       "      <td>376</td>\n",
       "      <td>52</td>\n",
       "    </tr>\n",
       "  </tbody>\n",
       "</table>\n",
       "</div>"
      ],
      "text/plain": [
       "   book_id  author_id  count\n",
       "0      399        376     52"
      ]
     },
     "execution_count": 34,
     "metadata": {},
     "output_type": "execute_result"
    }
   ],
   "source": [
    "# проверим данные - выведем сумму всех книг для J.K. Rowling/Mary GrandPré\n",
    "\n",
    "sql = ''' \n",
    "\n",
    "\n",
    "SELECT b.book_id,     \n",
    "        b.author_id, \n",
    "        COUNT(rat.book_id)\n",
    "    FROM books b\n",
    "    LEFT JOIN ratings rat ON b.book_id = rat.book_id   \n",
    "    GROUP BY b.book_id\n",
    "    HAVING COUNT(rat.book_id) >= 50 and title LIKE 'Little Women'\n",
    "    \n",
    "\n",
    "''' \n",
    "\n",
    "select(sql)"
   ]
  },
  {
   "cell_type": "code",
   "execution_count": 25,
   "id": "a5f598e4",
   "metadata": {},
   "outputs": [
    {
     "data": {
      "text/html": [
       "<div>\n",
       "<style scoped>\n",
       "    .dataframe tbody tr th:only-of-type {\n",
       "        vertical-align: middle;\n",
       "    }\n",
       "\n",
       "    .dataframe tbody tr th {\n",
       "        vertical-align: top;\n",
       "    }\n",
       "\n",
       "    .dataframe thead th {\n",
       "        text-align: right;\n",
       "    }\n",
       "</style>\n",
       "<table border=\"1\" class=\"dataframe\">\n",
       "  <thead>\n",
       "    <tr style=\"text-align: right;\">\n",
       "      <th></th>\n",
       "      <th>sum</th>\n",
       "    </tr>\n",
       "  </thead>\n",
       "  <tbody>\n",
       "    <tr>\n",
       "      <th>0</th>\n",
       "      <td>310.0</td>\n",
       "    </tr>\n",
       "  </tbody>\n",
       "</table>\n",
       "</div>"
      ],
      "text/plain": [
       "     sum\n",
       "0  310.0"
      ]
     },
     "execution_count": 25,
     "metadata": {},
     "output_type": "execute_result"
    }
   ],
   "source": [
    "# проверим данные - выведем сумму всех книг для J.K. Rowling/Mary GrandPré\n",
    "\n",
    "sql = ''' \n",
    "\n",
    "\n",
    "SELECT SUM(count)\n",
    "FROM \n",
    "(\n",
    "    SELECT b.book_id,     \n",
    "        b.author_id, \n",
    "        COUNT(rat.book_id)\n",
    "    FROM books b\n",
    "    LEFT JOIN ratings rat ON b.book_id = rat.book_id   \n",
    "    GROUP BY b.book_id\n",
    "    HAVING COUNT(rat.book_id) >= 50 and author_id = 236\n",
    ") as a\n",
    "    \n",
    "\n",
    "''' \n",
    "\n",
    "select(sql)"
   ]
  },
  {
   "cell_type": "markdown",
   "id": "72805d5f",
   "metadata": {},
   "source": [
    "#### Вывод\n",
    "\n",
    "> J.K. Rowling - автор с самой высокой средней оценкой книг"
   ]
  },
  {
   "cell_type": "markdown",
   "id": "1461d842",
   "metadata": {},
   "source": [
    "### Задание 5\n",
    "\n",
    "- Посчитайте среднее количество обзоров от пользователей, которые поставили больше 50 оценок"
   ]
  },
  {
   "cell_type": "code",
   "execution_count": 26,
   "id": "8e70eccd",
   "metadata": {},
   "outputs": [
    {
     "data": {
      "text/html": [
       "<div>\n",
       "<style scoped>\n",
       "    .dataframe tbody tr th:only-of-type {\n",
       "        vertical-align: middle;\n",
       "    }\n",
       "\n",
       "    .dataframe tbody tr th {\n",
       "        vertical-align: top;\n",
       "    }\n",
       "\n",
       "    .dataframe thead th {\n",
       "        text-align: right;\n",
       "    }\n",
       "</style>\n",
       "<table border=\"1\" class=\"dataframe\">\n",
       "  <thead>\n",
       "    <tr style=\"text-align: right;\">\n",
       "      <th></th>\n",
       "      <th>mean_rev</th>\n",
       "    </tr>\n",
       "  </thead>\n",
       "  <tbody>\n",
       "    <tr>\n",
       "      <th>0</th>\n",
       "      <td>24</td>\n",
       "    </tr>\n",
       "  </tbody>\n",
       "</table>\n",
       "</div>"
      ],
      "text/plain": [
       "   mean_rev\n",
       "0        24"
      ]
     },
     "execution_count": 26,
     "metadata": {},
     "output_type": "execute_result"
    }
   ],
   "source": [
    "sql = ''' \n",
    "\n",
    "WITH\n",
    "\n",
    "cnt_re_table AS -- таблица с количеством обзоров по пользователям, оставивших больше 50 оценок\n",
    "\n",
    "(\n",
    "    SELECT username, \n",
    "        COUNT(review_id) AS cnt_rev\n",
    "    FROM reviews\n",
    "    GROUP BY username\n",
    "    HAVING username IN (\n",
    "        SELECT username   -- таблица с юзерами, которые оставили больше 50 оценок\n",
    "        FROM ratings\n",
    "        GROUP BY username\n",
    "        HAVING COUNT(rating_id) > 50)\n",
    "        )\n",
    "        \n",
    "-- основной запрос\n",
    "\n",
    "SELECT AVG(cnt_rev)::int AS mean_rev\n",
    "FROM cnt_re_table\n",
    "\n",
    "''' \n",
    "\n",
    "select(sql)"
   ]
  },
  {
   "cell_type": "markdown",
   "id": "2053b610",
   "metadata": {},
   "source": [
    "<div class=\"alert alert-success\" style=\"border-radius: 15px; box-shadow: 4px 4px 4px; border: 1px solid \" > <b>Комментарии от ревьюера ✔️ : </b> \n",
    "    \n",
    "\n",
    "И это .. правильный ответ! Ты корректно отобрала пользователей и рассчитала их показатели.\n",
    "\n",
    "\n",
    "В итоге, 5\\5 с первой попытки - это сильный результат)\n",
    "\n",
    "</div>"
   ]
  },
  {
   "cell_type": "markdown",
   "id": "da6ac8f8",
   "metadata": {},
   "source": [
    "#### Вывод\n",
    "\n",
    "> В среднем, активные пользователи оставляют 24 обзора"
   ]
  },
  {
   "cell_type": "markdown",
   "id": "f6c0a498",
   "metadata": {},
   "source": [
    "## Общий вывод и рекомендации"
   ]
  },
  {
   "cell_type": "markdown",
   "id": "9f5c90df",
   "metadata": {},
   "source": [
    "Наш ресурс был пополнен новыми книгами в количество 819 шт после 2000 года;  \n",
    "Содержит книги с большим количеством обзоворов (до 7 шт) и высоки оценками (в среднем 4);  \n",
    "В нашей библиоткеке есть много книг от знаменитых издательств - например Penguin Books;  \n",
    "Книги есть от самы популрных авторов, таких как J.K. Rowling/Mary GrandPré, J.R.R. Tolkien и тд;  \n",
    "В среднем, активные люди в нашем приложении оставляют 24 обзора  "
   ]
  }
 ],
 "metadata": {
  "ExecuteTimeLog": [
   {
    "duration": 454,
    "start_time": "2022-07-29T13:38:12.959Z"
   },
   {
    "duration": 3,
    "start_time": "2022-07-29T13:38:15.828Z"
   },
   {
    "duration": 9497,
    "start_time": "2022-07-29T13:38:54.259Z"
   },
   {
    "duration": 3,
    "start_time": "2022-07-29T13:41:25.914Z"
   },
   {
    "duration": 4,
    "start_time": "2022-07-29T13:41:26.271Z"
   },
   {
    "duration": 85,
    "start_time": "2022-07-29T13:41:26.661Z"
   },
   {
    "duration": 134,
    "start_time": "2022-07-29T13:41:27.918Z"
   },
   {
    "duration": 25,
    "start_time": "2022-07-29T13:41:55.160Z"
   },
   {
    "duration": 15,
    "start_time": "2022-07-29T13:43:06.494Z"
   },
   {
    "duration": 19,
    "start_time": "2022-07-29T13:43:17.211Z"
   },
   {
    "duration": 29,
    "start_time": "2022-07-29T13:43:55.854Z"
   },
   {
    "duration": 2,
    "start_time": "2022-07-29T13:44:45.118Z"
   },
   {
    "duration": 63,
    "start_time": "2022-07-29T13:44:56.384Z"
   },
   {
    "duration": 3,
    "start_time": "2022-07-29T13:45:08.793Z"
   },
   {
    "duration": 25,
    "start_time": "2022-07-29T13:45:09.117Z"
   },
   {
    "duration": 4,
    "start_time": "2022-07-29T13:45:15.681Z"
   },
   {
    "duration": 24,
    "start_time": "2022-07-29T13:45:16.098Z"
   },
   {
    "duration": 5,
    "start_time": "2022-07-29T13:47:02.206Z"
   },
   {
    "duration": 76,
    "start_time": "2022-07-29T13:47:06.663Z"
   },
   {
    "duration": 483,
    "start_time": "2022-07-29T13:48:04.135Z"
   },
   {
    "duration": 8156,
    "start_time": "2022-07-29T13:48:04.620Z"
   },
   {
    "duration": 67,
    "start_time": "2022-07-29T13:48:12.777Z"
   },
   {
    "duration": 0,
    "start_time": "2022-07-29T13:48:12.846Z"
   },
   {
    "duration": 0,
    "start_time": "2022-07-29T13:48:12.847Z"
   },
   {
    "duration": 0,
    "start_time": "2022-07-29T13:48:12.847Z"
   },
   {
    "duration": 0,
    "start_time": "2022-07-29T13:48:12.848Z"
   },
   {
    "duration": 2,
    "start_time": "2022-07-29T13:48:48.180Z"
   },
   {
    "duration": 9,
    "start_time": "2022-07-29T13:48:48.700Z"
   },
   {
    "duration": 74,
    "start_time": "2022-07-29T13:49:02.132Z"
   },
   {
    "duration": 20,
    "start_time": "2022-07-29T13:50:20.226Z"
   },
   {
    "duration": 16,
    "start_time": "2022-07-29T13:50:20.726Z"
   },
   {
    "duration": 442,
    "start_time": "2022-07-29T13:50:28.377Z"
   },
   {
    "duration": 8337,
    "start_time": "2022-07-29T13:50:29.026Z"
   },
   {
    "duration": 67,
    "start_time": "2022-07-29T13:50:37.365Z"
   },
   {
    "duration": 4,
    "start_time": "2022-07-29T13:50:51.327Z"
   },
   {
    "duration": 94,
    "start_time": "2022-07-29T13:50:51.754Z"
   },
   {
    "duration": 17,
    "start_time": "2022-07-29T13:50:59.258Z"
   },
   {
    "duration": 21,
    "start_time": "2022-07-29T13:51:02.435Z"
   },
   {
    "duration": 27,
    "start_time": "2022-07-29T13:51:05.224Z"
   },
   {
    "duration": 25,
    "start_time": "2022-07-29T13:51:07.563Z"
   },
   {
    "duration": 467,
    "start_time": "2022-07-29T13:52:12.579Z"
   },
   {
    "duration": 8018,
    "start_time": "2022-07-29T13:52:13.048Z"
   },
   {
    "duration": 116,
    "start_time": "2022-07-29T13:52:21.068Z"
   },
   {
    "duration": 14,
    "start_time": "2022-07-29T13:52:21.186Z"
   },
   {
    "duration": 14,
    "start_time": "2022-07-29T13:52:21.202Z"
   },
   {
    "duration": 30,
    "start_time": "2022-07-29T13:52:21.217Z"
   },
   {
    "duration": 19,
    "start_time": "2022-07-29T13:52:21.249Z"
   },
   {
    "duration": 13,
    "start_time": "2022-07-29T14:02:18.978Z"
   },
   {
    "duration": 87,
    "start_time": "2022-07-29T14:03:23.641Z"
   },
   {
    "duration": 2,
    "start_time": "2022-07-29T14:03:30.025Z"
   },
   {
    "duration": 76,
    "start_time": "2022-07-29T14:04:01.966Z"
   },
   {
    "duration": 3,
    "start_time": "2022-07-29T14:04:06.276Z"
   },
   {
    "duration": 7,
    "start_time": "2022-07-29T14:04:06.689Z"
   },
   {
    "duration": 7,
    "start_time": "2022-07-29T14:07:45.152Z"
   },
   {
    "duration": 8,
    "start_time": "2022-07-29T14:08:38.432Z"
   },
   {
    "duration": 30,
    "start_time": "2022-07-29T14:08:38.811Z"
   },
   {
    "duration": 151,
    "start_time": "2022-07-29T14:31:44.467Z"
   },
   {
    "duration": 14,
    "start_time": "2022-07-29T14:32:08.047Z"
   },
   {
    "duration": 121,
    "start_time": "2022-07-29T14:32:29.852Z"
   },
   {
    "duration": 131,
    "start_time": "2022-07-29T14:33:03.596Z"
   },
   {
    "duration": 127,
    "start_time": "2022-07-29T14:33:15.387Z"
   },
   {
    "duration": 12,
    "start_time": "2022-07-29T14:36:07.194Z"
   },
   {
    "duration": 9,
    "start_time": "2022-07-29T14:36:39.169Z"
   },
   {
    "duration": 35,
    "start_time": "2022-07-29T14:37:14.928Z"
   },
   {
    "duration": 17,
    "start_time": "2022-07-29T14:37:24.177Z"
   },
   {
    "duration": 27,
    "start_time": "2022-07-29T14:37:27.930Z"
   },
   {
    "duration": 3,
    "start_time": "2022-07-29T14:38:33.724Z"
   },
   {
    "duration": 3,
    "start_time": "2022-07-29T14:38:59.624Z"
   },
   {
    "duration": 30,
    "start_time": "2022-07-29T14:38:59.939Z"
   },
   {
    "duration": 4,
    "start_time": "2022-07-29T14:40:04.857Z"
   },
   {
    "duration": 11,
    "start_time": "2022-07-29T14:40:05.283Z"
   },
   {
    "duration": 6,
    "start_time": "2022-07-29T14:40:59.050Z"
   },
   {
    "duration": 21,
    "start_time": "2022-07-29T14:40:59.458Z"
   },
   {
    "duration": 4,
    "start_time": "2022-07-29T14:41:06.057Z"
   },
   {
    "duration": 21,
    "start_time": "2022-07-29T14:41:06.378Z"
   },
   {
    "duration": 5,
    "start_time": "2022-07-29T14:41:15.957Z"
   },
   {
    "duration": 22,
    "start_time": "2022-07-29T14:41:16.255Z"
   },
   {
    "duration": 4,
    "start_time": "2022-07-29T14:41:24.108Z"
   },
   {
    "duration": 33,
    "start_time": "2022-07-29T14:41:24.553Z"
   },
   {
    "duration": 4,
    "start_time": "2022-07-29T14:41:56.262Z"
   },
   {
    "duration": 27,
    "start_time": "2022-07-29T14:41:56.556Z"
   },
   {
    "duration": 3,
    "start_time": "2022-07-29T14:43:36.500Z"
   },
   {
    "duration": 14,
    "start_time": "2022-07-29T14:44:31.914Z"
   },
   {
    "duration": 23,
    "start_time": "2022-07-29T14:44:35.355Z"
   },
   {
    "duration": 16,
    "start_time": "2022-07-29T14:45:10.106Z"
   },
   {
    "duration": 31,
    "start_time": "2022-07-29T14:45:10.326Z"
   },
   {
    "duration": 33,
    "start_time": "2022-07-29T14:45:17.134Z"
   },
   {
    "duration": 31,
    "start_time": "2022-07-29T14:45:20.723Z"
   },
   {
    "duration": 18,
    "start_time": "2022-07-29T14:45:28.985Z"
   },
   {
    "duration": 24,
    "start_time": "2022-07-29T14:45:33.068Z"
   },
   {
    "duration": 3,
    "start_time": "2022-07-29T14:45:55.910Z"
   },
   {
    "duration": 17,
    "start_time": "2022-07-29T14:45:58.684Z"
   },
   {
    "duration": 32,
    "start_time": "2022-07-29T14:45:58.989Z"
   },
   {
    "duration": 17,
    "start_time": "2022-07-29T14:45:59.162Z"
   },
   {
    "duration": 23,
    "start_time": "2022-07-29T14:45:59.351Z"
   },
   {
    "duration": 14,
    "start_time": "2022-07-29T14:45:59.513Z"
   },
   {
    "duration": 20,
    "start_time": "2022-07-29T14:46:00.074Z"
   },
   {
    "duration": 21,
    "start_time": "2022-07-29T14:46:00.095Z"
   },
   {
    "duration": 30,
    "start_time": "2022-07-29T14:46:00.118Z"
   },
   {
    "duration": 18,
    "start_time": "2022-07-29T14:46:00.190Z"
   },
   {
    "duration": 23,
    "start_time": "2022-07-29T14:46:00.373Z"
   },
   {
    "duration": 5,
    "start_time": "2022-07-29T14:46:56.667Z"
   },
   {
    "duration": 17,
    "start_time": "2022-07-29T14:46:57.189Z"
   },
   {
    "duration": 54,
    "start_time": "2022-07-29T14:46:57.718Z"
   },
   {
    "duration": 4,
    "start_time": "2022-07-29T14:47:13.219Z"
   },
   {
    "duration": 16,
    "start_time": "2022-07-29T14:47:13.412Z"
   },
   {
    "duration": 28,
    "start_time": "2022-07-29T14:47:13.683Z"
   },
   {
    "duration": 23,
    "start_time": "2022-07-29T14:48:48.509Z"
   },
   {
    "duration": 31,
    "start_time": "2022-07-29T14:49:08.255Z"
   },
   {
    "duration": 31,
    "start_time": "2022-07-29T14:49:27.546Z"
   },
   {
    "duration": 30,
    "start_time": "2022-07-29T14:49:29.666Z"
   },
   {
    "duration": 526,
    "start_time": "2022-07-29T14:50:08.909Z"
   },
   {
    "duration": 10038,
    "start_time": "2022-07-29T14:50:09.437Z"
   },
   {
    "duration": 4,
    "start_time": "2022-07-29T14:50:19.476Z"
   },
   {
    "duration": 106,
    "start_time": "2022-07-29T14:50:19.482Z"
   },
   {
    "duration": 32,
    "start_time": "2022-07-29T14:50:19.590Z"
   },
   {
    "duration": 42,
    "start_time": "2022-07-29T14:50:19.623Z"
   },
   {
    "duration": 20,
    "start_time": "2022-07-29T14:50:19.666Z"
   },
   {
    "duration": 14,
    "start_time": "2022-07-29T14:50:19.687Z"
   },
   {
    "duration": 19,
    "start_time": "2022-07-29T14:50:19.702Z"
   },
   {
    "duration": 59,
    "start_time": "2022-07-29T14:50:19.723Z"
   },
   {
    "duration": 29,
    "start_time": "2022-07-29T14:50:19.783Z"
   },
   {
    "duration": 58,
    "start_time": "2022-07-29T14:50:19.813Z"
   },
   {
    "duration": 27,
    "start_time": "2022-07-29T14:50:19.873Z"
   },
   {
    "duration": 8,
    "start_time": "2022-07-29T14:55:46.157Z"
   },
   {
    "duration": 6,
    "start_time": "2022-07-29T14:55:48.054Z"
   },
   {
    "duration": 4,
    "start_time": "2022-07-29T14:55:49.817Z"
   },
   {
    "duration": 5,
    "start_time": "2022-07-29T14:55:57.930Z"
   },
   {
    "duration": 282,
    "start_time": "2022-07-29T15:06:11.605Z"
   },
   {
    "duration": 121,
    "start_time": "2022-07-29T15:08:19.443Z"
   },
   {
    "duration": 119,
    "start_time": "2022-07-29T15:09:07.460Z"
   },
   {
    "duration": 122,
    "start_time": "2022-07-29T15:09:29.586Z"
   },
   {
    "duration": 10,
    "start_time": "2022-07-29T15:09:36.913Z"
   },
   {
    "duration": 10,
    "start_time": "2022-07-29T15:09:55.367Z"
   },
   {
    "duration": 3,
    "start_time": "2022-07-29T15:13:24.424Z"
   },
   {
    "duration": 4,
    "start_time": "2022-07-29T15:13:25.347Z"
   },
   {
    "duration": 8,
    "start_time": "2022-07-29T15:13:31.872Z"
   },
   {
    "duration": 102,
    "start_time": "2022-07-29T15:13:57.028Z"
   },
   {
    "duration": 4,
    "start_time": "2022-07-29T15:14:03.242Z"
   },
   {
    "duration": 3,
    "start_time": "2022-07-29T15:14:10.855Z"
   },
   {
    "duration": 5,
    "start_time": "2022-07-29T15:14:11.229Z"
   },
   {
    "duration": 79,
    "start_time": "2022-07-29T15:14:12.974Z"
   },
   {
    "duration": 32,
    "start_time": "2022-07-29T15:14:13.255Z"
   },
   {
    "duration": 15,
    "start_time": "2022-07-29T15:14:25.044Z"
   },
   {
    "duration": 17,
    "start_time": "2022-07-29T15:14:28.366Z"
   },
   {
    "duration": 4,
    "start_time": "2022-07-29T15:15:50.916Z"
   },
   {
    "duration": 128,
    "start_time": "2022-07-29T15:19:25.181Z"
   },
   {
    "duration": 141,
    "start_time": "2022-07-29T15:19:48.673Z"
   },
   {
    "duration": 187,
    "start_time": "2022-07-29T15:20:28.543Z"
   },
   {
    "duration": 43,
    "start_time": "2022-07-29T15:20:36.479Z"
   },
   {
    "duration": 51,
    "start_time": "2022-07-29T15:21:07.618Z"
   },
   {
    "duration": 62,
    "start_time": "2022-07-29T15:21:28.899Z"
   },
   {
    "duration": 65,
    "start_time": "2022-07-29T15:21:36.515Z"
   },
   {
    "duration": 58,
    "start_time": "2022-07-29T15:21:41.343Z"
   },
   {
    "duration": 27,
    "start_time": "2022-07-29T15:23:39.813Z"
   },
   {
    "duration": 532,
    "start_time": "2022-07-29T16:06:16.379Z"
   },
   {
    "duration": 14964,
    "start_time": "2022-07-29T16:06:16.913Z"
   },
   {
    "duration": 4,
    "start_time": "2022-07-29T16:06:31.879Z"
   },
   {
    "duration": 9,
    "start_time": "2022-07-29T16:06:31.886Z"
   },
   {
    "duration": 128,
    "start_time": "2022-07-29T16:06:31.897Z"
   },
   {
    "duration": 56,
    "start_time": "2022-07-29T16:06:32.027Z"
   },
   {
    "duration": 23,
    "start_time": "2022-07-29T16:06:32.084Z"
   },
   {
    "duration": 31,
    "start_time": "2022-07-29T16:06:32.108Z"
   },
   {
    "duration": 54,
    "start_time": "2022-07-29T16:06:32.141Z"
   },
   {
    "duration": 19,
    "start_time": "2022-07-29T16:06:32.197Z"
   },
   {
    "duration": 83,
    "start_time": "2022-07-29T16:06:32.217Z"
   },
   {
    "duration": 28,
    "start_time": "2022-07-29T16:06:32.301Z"
   },
   {
    "duration": 90,
    "start_time": "2022-07-29T16:06:32.331Z"
   },
   {
    "duration": 44,
    "start_time": "2022-07-29T16:06:32.423Z"
   },
   {
    "duration": 31,
    "start_time": "2022-07-29T16:06:32.469Z"
   },
   {
    "duration": 86,
    "start_time": "2022-07-29T16:06:32.502Z"
   },
   {
    "duration": 25,
    "start_time": "2022-07-29T16:06:32.590Z"
   },
   {
    "duration": 88,
    "start_time": "2022-07-29T16:06:32.616Z"
   },
   {
    "duration": 22,
    "start_time": "2022-07-29T16:06:32.706Z"
   },
   {
    "duration": 81,
    "start_time": "2022-07-29T16:06:32.731Z"
   },
   {
    "duration": 63,
    "start_time": "2022-07-29T16:09:48.830Z"
   },
   {
    "duration": 32,
    "start_time": "2022-07-29T16:09:49.353Z"
   },
   {
    "duration": 6,
    "start_time": "2022-07-29T16:10:09.244Z"
   },
   {
    "duration": 75,
    "start_time": "2022-07-29T16:10:14.550Z"
   },
   {
    "duration": 10,
    "start_time": "2022-07-29T16:10:18.125Z"
   },
   {
    "duration": 8,
    "start_time": "2022-07-29T16:10:27.413Z"
   },
   {
    "duration": 6,
    "start_time": "2022-07-29T16:10:32.569Z"
   },
   {
    "duration": 10,
    "start_time": "2022-07-29T16:10:37.525Z"
   },
   {
    "duration": 11,
    "start_time": "2022-07-29T16:14:09.725Z"
   },
   {
    "duration": 4,
    "start_time": "2022-07-29T16:14:19.583Z"
   },
   {
    "duration": 10,
    "start_time": "2022-07-29T16:14:25.065Z"
   },
   {
    "duration": 15,
    "start_time": "2022-07-29T16:47:05.776Z"
   },
   {
    "duration": 10,
    "start_time": "2022-07-29T16:47:10.669Z"
   },
   {
    "duration": 17,
    "start_time": "2022-07-29T16:59:04.918Z"
   },
   {
    "duration": 20,
    "start_time": "2022-07-29T17:01:34.194Z"
   },
   {
    "duration": 16,
    "start_time": "2022-07-29T17:01:45.001Z"
   },
   {
    "duration": 166,
    "start_time": "2022-07-29T17:02:24.856Z"
   },
   {
    "duration": 58,
    "start_time": "2022-07-29T17:02:38.633Z"
   },
   {
    "duration": 13,
    "start_time": "2022-07-29T17:03:14.956Z"
   },
   {
    "duration": 13,
    "start_time": "2022-07-29T17:04:19.760Z"
   },
   {
    "duration": 120,
    "start_time": "2022-07-29T17:04:31.124Z"
   },
   {
    "duration": 14,
    "start_time": "2022-07-29T17:04:45.207Z"
   },
   {
    "duration": 125,
    "start_time": "2022-07-29T17:05:07.915Z"
   },
   {
    "duration": 131,
    "start_time": "2022-07-29T17:05:41.222Z"
   },
   {
    "duration": 164,
    "start_time": "2022-07-29T17:05:49.056Z"
   },
   {
    "duration": 20,
    "start_time": "2022-07-29T17:05:56.652Z"
   },
   {
    "duration": 12,
    "start_time": "2022-07-29T17:06:01.561Z"
   },
   {
    "duration": 139,
    "start_time": "2022-07-29T17:07:32.464Z"
   },
   {
    "duration": 11,
    "start_time": "2022-07-29T17:07:55.561Z"
   },
   {
    "duration": 119,
    "start_time": "2022-07-29T17:09:03.885Z"
   },
   {
    "duration": 12,
    "start_time": "2022-07-29T17:09:32.962Z"
   },
   {
    "duration": 1199,
    "start_time": "2022-07-29T17:15:01.968Z"
   },
   {
    "duration": 129,
    "start_time": "2022-07-29T17:16:50.123Z"
   },
   {
    "duration": 25,
    "start_time": "2022-07-29T17:17:03.348Z"
   },
   {
    "duration": 17,
    "start_time": "2022-07-29T17:17:56.465Z"
   },
   {
    "duration": 21,
    "start_time": "2022-07-29T17:18:12.197Z"
   },
   {
    "duration": 18,
    "start_time": "2022-07-29T17:18:27.284Z"
   },
   {
    "duration": 17,
    "start_time": "2022-07-29T17:19:00.371Z"
   },
   {
    "duration": 17,
    "start_time": "2022-07-29T17:19:06.878Z"
   },
   {
    "duration": 16,
    "start_time": "2022-07-29T17:19:13.607Z"
   },
   {
    "duration": 70,
    "start_time": "2022-07-29T17:19:55.957Z"
   },
   {
    "duration": 14,
    "start_time": "2022-07-29T17:24:25.510Z"
   },
   {
    "duration": 105,
    "start_time": "2022-07-29T17:26:21.769Z"
   },
   {
    "duration": 155,
    "start_time": "2022-07-29T17:26:30.378Z"
   },
   {
    "duration": 11,
    "start_time": "2022-07-29T17:26:51.460Z"
   },
   {
    "duration": 105,
    "start_time": "2022-07-29T17:27:26.680Z"
   },
   {
    "duration": 13,
    "start_time": "2022-07-29T17:27:53.489Z"
   },
   {
    "duration": 15,
    "start_time": "2022-07-29T17:28:05.875Z"
   },
   {
    "duration": 105,
    "start_time": "2022-07-29T17:28:17.242Z"
   },
   {
    "duration": 99,
    "start_time": "2022-07-29T17:28:44.838Z"
   },
   {
    "duration": 27,
    "start_time": "2022-07-29T17:29:42.029Z"
   },
   {
    "duration": 13,
    "start_time": "2022-07-29T17:31:34.545Z"
   },
   {
    "duration": 13,
    "start_time": "2022-07-29T17:31:44.450Z"
   },
   {
    "duration": 13,
    "start_time": "2022-07-29T17:33:38.456Z"
   },
   {
    "duration": 12,
    "start_time": "2022-07-29T17:34:17.296Z"
   },
   {
    "duration": 12,
    "start_time": "2022-07-29T17:37:16.365Z"
   },
   {
    "duration": 30,
    "start_time": "2022-07-29T17:40:15.364Z"
   },
   {
    "duration": 4,
    "start_time": "2022-07-29T17:41:47.793Z"
   },
   {
    "duration": 35,
    "start_time": "2022-07-29T17:41:49.041Z"
   },
   {
    "duration": 47,
    "start_time": "2022-07-29T17:42:33.699Z"
   },
   {
    "duration": 34,
    "start_time": "2022-07-29T17:42:56.451Z"
   },
   {
    "duration": 27,
    "start_time": "2022-07-29T17:52:37.550Z"
   },
   {
    "duration": 28,
    "start_time": "2022-07-29T17:52:58.238Z"
   },
   {
    "duration": 36,
    "start_time": "2022-07-29T17:53:09.740Z"
   },
   {
    "duration": 27,
    "start_time": "2022-07-29T17:53:14.286Z"
   },
   {
    "duration": 14,
    "start_time": "2022-07-29T17:53:27.840Z"
   },
   {
    "duration": 64,
    "start_time": "2022-07-29T17:53:44.857Z"
   },
   {
    "duration": 12,
    "start_time": "2022-07-29T17:54:30.239Z"
   },
   {
    "duration": 12,
    "start_time": "2022-07-29T17:54:38.191Z"
   },
   {
    "duration": 16,
    "start_time": "2022-07-29T17:54:49.398Z"
   },
   {
    "duration": 15,
    "start_time": "2022-07-29T17:55:13.461Z"
   },
   {
    "duration": 16,
    "start_time": "2022-07-29T17:55:21.683Z"
   },
   {
    "duration": 20,
    "start_time": "2022-07-29T17:55:38.384Z"
   },
   {
    "duration": 15,
    "start_time": "2022-07-29T17:55:54.657Z"
   },
   {
    "duration": 16,
    "start_time": "2022-07-29T17:55:57.331Z"
   },
   {
    "duration": 14,
    "start_time": "2022-07-29T17:56:12.596Z"
   },
   {
    "duration": 11,
    "start_time": "2022-07-29T17:56:23.963Z"
   },
   {
    "duration": 13,
    "start_time": "2022-07-29T17:56:38.689Z"
   },
   {
    "duration": 12,
    "start_time": "2022-07-29T17:56:39.144Z"
   },
   {
    "duration": 504,
    "start_time": "2022-07-30T05:03:26.467Z"
   },
   {
    "duration": 6134,
    "start_time": "2022-07-30T05:03:26.973Z"
   },
   {
    "duration": 3,
    "start_time": "2022-07-30T05:03:33.109Z"
   },
   {
    "duration": 11,
    "start_time": "2022-07-30T05:03:33.113Z"
   },
   {
    "duration": 65,
    "start_time": "2022-07-30T05:04:08.555Z"
   },
   {
    "duration": 309,
    "start_time": "2022-07-30T05:04:11.790Z"
   },
   {
    "duration": 4,
    "start_time": "2022-07-30T05:04:13.220Z"
   },
   {
    "duration": 6,
    "start_time": "2022-07-30T05:04:26.459Z"
   },
   {
    "duration": 145,
    "start_time": "2022-07-30T05:04:41.279Z"
   },
   {
    "duration": 10,
    "start_time": "2022-07-30T05:04:53.287Z"
   },
   {
    "duration": 4,
    "start_time": "2022-07-30T05:05:12.410Z"
   },
   {
    "duration": 5,
    "start_time": "2022-07-30T05:25:52.959Z"
   },
   {
    "duration": 36,
    "start_time": "2022-07-30T05:25:53.500Z"
   },
   {
    "duration": 65,
    "start_time": "2022-07-30T06:09:11.981Z"
   },
   {
    "duration": 115,
    "start_time": "2022-07-30T07:38:57.636Z"
   },
   {
    "duration": 121,
    "start_time": "2022-07-30T07:39:22.206Z"
   },
   {
    "duration": 140,
    "start_time": "2022-07-30T07:39:29.335Z"
   },
   {
    "duration": 140,
    "start_time": "2022-07-30T07:39:43.934Z"
   },
   {
    "duration": 129,
    "start_time": "2022-07-30T07:40:23.456Z"
   },
   {
    "duration": 208,
    "start_time": "2022-07-30T07:43:32.132Z"
   },
   {
    "duration": 139,
    "start_time": "2022-07-30T07:44:01.379Z"
   },
   {
    "duration": 3,
    "start_time": "2022-07-30T07:44:13.865Z"
   },
   {
    "duration": 8,
    "start_time": "2022-07-30T07:44:13.869Z"
   },
   {
    "duration": 9,
    "start_time": "2022-07-30T07:44:13.878Z"
   },
   {
    "duration": 9,
    "start_time": "2022-07-30T07:44:13.889Z"
   },
   {
    "duration": 346,
    "start_time": "2022-07-30T07:44:13.899Z"
   },
   {
    "duration": 4,
    "start_time": "2022-07-30T07:44:14.247Z"
   },
   {
    "duration": 37,
    "start_time": "2022-07-30T07:44:14.252Z"
   },
   {
    "duration": 128,
    "start_time": "2022-07-30T07:44:14.291Z"
   },
   {
    "duration": 22,
    "start_time": "2022-07-30T07:44:14.421Z"
   },
   {
    "duration": 128,
    "start_time": "2022-07-30T07:44:14.445Z"
   },
   {
    "duration": 21,
    "start_time": "2022-07-30T07:44:14.575Z"
   },
   {
    "duration": 170,
    "start_time": "2022-07-30T07:44:14.597Z"
   },
   {
    "duration": 28,
    "start_time": "2022-07-30T07:44:14.769Z"
   },
   {
    "duration": 182,
    "start_time": "2022-07-30T07:44:14.799Z"
   },
   {
    "duration": 31,
    "start_time": "2022-07-30T07:44:14.982Z"
   },
   {
    "duration": 80,
    "start_time": "2022-07-30T07:44:15.015Z"
   },
   {
    "duration": 136,
    "start_time": "2022-07-30T07:46:35.756Z"
   },
   {
    "duration": 136,
    "start_time": "2022-07-30T07:52:07.648Z"
   },
   {
    "duration": 264,
    "start_time": "2022-07-30T07:52:18.800Z"
   },
   {
    "duration": 111,
    "start_time": "2022-07-30T07:52:33.773Z"
   },
   {
    "duration": 131,
    "start_time": "2022-07-30T07:52:41.350Z"
   },
   {
    "duration": 72,
    "start_time": "2022-07-30T07:54:50.364Z"
   },
   {
    "duration": 73,
    "start_time": "2022-07-30T07:59:03.368Z"
   },
   {
    "duration": 117,
    "start_time": "2022-07-30T08:00:14.107Z"
   },
   {
    "duration": 131,
    "start_time": "2022-07-30T08:00:39.810Z"
   },
   {
    "duration": 129,
    "start_time": "2022-07-30T08:00:56.116Z"
   },
   {
    "duration": 108,
    "start_time": "2022-07-30T08:04:07.385Z"
   },
   {
    "duration": 130,
    "start_time": "2022-07-30T08:04:42.076Z"
   },
   {
    "duration": 102,
    "start_time": "2022-07-30T08:05:14.516Z"
   },
   {
    "duration": 134,
    "start_time": "2022-07-30T08:06:51.477Z"
   },
   {
    "duration": 127,
    "start_time": "2022-07-30T08:07:04.755Z"
   },
   {
    "duration": 133,
    "start_time": "2022-07-30T08:10:48.302Z"
   },
   {
    "duration": 68,
    "start_time": "2022-07-30T08:11:50.769Z"
   },
   {
    "duration": 67,
    "start_time": "2022-07-30T08:11:59.983Z"
   },
   {
    "duration": 70,
    "start_time": "2022-07-30T08:12:57.460Z"
   },
   {
    "duration": 70,
    "start_time": "2022-07-30T08:13:39.948Z"
   },
   {
    "duration": 72,
    "start_time": "2022-07-30T08:13:46.399Z"
   },
   {
    "duration": 97,
    "start_time": "2022-07-30T08:14:17.405Z"
   },
   {
    "duration": 102,
    "start_time": "2022-07-30T08:14:33.297Z"
   },
   {
    "duration": 101,
    "start_time": "2022-07-30T08:15:09.503Z"
   },
   {
    "duration": 106,
    "start_time": "2022-07-30T08:15:58.162Z"
   },
   {
    "duration": 103,
    "start_time": "2022-07-30T08:16:06.318Z"
   },
   {
    "duration": 106,
    "start_time": "2022-07-30T08:16:16.100Z"
   },
   {
    "duration": 101,
    "start_time": "2022-07-30T08:16:22.123Z"
   },
   {
    "duration": 91,
    "start_time": "2022-07-30T08:17:21.945Z"
   },
   {
    "duration": 93,
    "start_time": "2022-07-30T08:17:35.696Z"
   },
   {
    "duration": 92,
    "start_time": "2022-07-30T08:17:39.198Z"
   },
   {
    "duration": 109,
    "start_time": "2022-07-30T08:19:51.907Z"
   },
   {
    "duration": 110,
    "start_time": "2022-07-30T08:20:24.825Z"
   },
   {
    "duration": 93,
    "start_time": "2022-07-30T08:20:53.527Z"
   },
   {
    "duration": 112,
    "start_time": "2022-07-30T08:21:58.190Z"
   },
   {
    "duration": 112,
    "start_time": "2022-07-30T08:22:56.976Z"
   },
   {
    "duration": 112,
    "start_time": "2022-07-30T08:23:15.049Z"
   },
   {
    "duration": 93,
    "start_time": "2022-07-30T08:23:28.231Z"
   },
   {
    "duration": 100,
    "start_time": "2022-07-30T08:24:12.347Z"
   },
   {
    "duration": 99,
    "start_time": "2022-07-30T08:24:33.238Z"
   },
   {
    "duration": 100,
    "start_time": "2022-07-30T08:24:38.811Z"
   },
   {
    "duration": 103,
    "start_time": "2022-07-30T08:26:36.873Z"
   },
   {
    "duration": 104,
    "start_time": "2022-07-30T08:27:00.599Z"
   },
   {
    "duration": 115,
    "start_time": "2022-07-30T08:27:20.721Z"
   },
   {
    "duration": 102,
    "start_time": "2022-07-30T08:27:42.784Z"
   },
   {
    "duration": 103,
    "start_time": "2022-07-30T08:29:28.872Z"
   },
   {
    "duration": 105,
    "start_time": "2022-07-30T08:29:48.101Z"
   },
   {
    "duration": 106,
    "start_time": "2022-07-30T08:29:54.253Z"
   },
   {
    "duration": 107,
    "start_time": "2022-07-30T08:30:04.265Z"
   },
   {
    "duration": 124,
    "start_time": "2022-07-30T08:34:39.248Z"
   },
   {
    "duration": 166,
    "start_time": "2022-07-30T08:36:29.354Z"
   },
   {
    "duration": 124,
    "start_time": "2022-07-30T08:36:37.188Z"
   },
   {
    "duration": 133,
    "start_time": "2022-07-30T08:36:46.808Z"
   },
   {
    "duration": 160,
    "start_time": "2022-07-30T08:36:50.929Z"
   },
   {
    "duration": 130,
    "start_time": "2022-07-30T08:36:57.685Z"
   },
   {
    "duration": 133,
    "start_time": "2022-07-30T08:38:24.348Z"
   },
   {
    "duration": 108,
    "start_time": "2022-07-30T08:38:44.756Z"
   },
   {
    "duration": 130,
    "start_time": "2022-07-30T08:40:20.512Z"
   },
   {
    "duration": 131,
    "start_time": "2022-07-30T08:40:26.235Z"
   },
   {
    "duration": 140,
    "start_time": "2022-07-30T08:43:21.413Z"
   },
   {
    "duration": 140,
    "start_time": "2022-07-30T08:43:26.012Z"
   },
   {
    "duration": 145,
    "start_time": "2022-07-30T08:43:34.710Z"
   },
   {
    "duration": 95,
    "start_time": "2022-07-30T08:43:44.348Z"
   },
   {
    "duration": 102,
    "start_time": "2022-07-30T08:43:53.139Z"
   },
   {
    "duration": 98,
    "start_time": "2022-07-30T08:44:34.913Z"
   },
   {
    "duration": 164,
    "start_time": "2022-07-30T08:45:47.760Z"
   },
   {
    "duration": 109,
    "start_time": "2022-07-30T08:46:06.041Z"
   },
   {
    "duration": 138,
    "start_time": "2022-07-30T08:46:24.653Z"
   },
   {
    "duration": 110,
    "start_time": "2022-07-30T08:46:29.450Z"
   },
   {
    "duration": 144,
    "start_time": "2022-07-30T08:46:39.922Z"
   },
   {
    "duration": 213,
    "start_time": "2022-07-30T08:46:48.617Z"
   },
   {
    "duration": 174,
    "start_time": "2022-07-30T08:47:12.075Z"
   },
   {
    "duration": 241,
    "start_time": "2022-07-30T08:47:18.393Z"
   },
   {
    "duration": 122,
    "start_time": "2022-07-30T08:47:28.655Z"
   },
   {
    "duration": 98,
    "start_time": "2022-07-30T08:47:28.779Z"
   },
   {
    "duration": 188,
    "start_time": "2022-07-30T08:47:56.840Z"
   },
   {
    "duration": 133,
    "start_time": "2022-07-30T08:48:01.011Z"
   },
   {
    "duration": 140,
    "start_time": "2022-07-30T08:48:09.609Z"
   },
   {
    "duration": 183,
    "start_time": "2022-07-30T08:48:24.272Z"
   },
   {
    "duration": 129,
    "start_time": "2022-07-30T08:48:52.159Z"
   },
   {
    "duration": 123,
    "start_time": "2022-07-30T08:48:58.386Z"
   },
   {
    "duration": 149,
    "start_time": "2022-07-30T08:49:05.472Z"
   },
   {
    "duration": 129,
    "start_time": "2022-07-30T08:54:56.567Z"
   },
   {
    "duration": 104,
    "start_time": "2022-07-30T08:54:56.749Z"
   },
   {
    "duration": 149,
    "start_time": "2022-07-30T08:56:35.161Z"
   },
   {
    "duration": 110,
    "start_time": "2022-07-30T08:56:43.973Z"
   },
   {
    "duration": 108,
    "start_time": "2022-07-30T08:56:52.040Z"
   },
   {
    "duration": 118,
    "start_time": "2022-07-30T08:59:10.115Z"
   },
   {
    "duration": 151,
    "start_time": "2022-07-30T08:59:31.022Z"
   },
   {
    "duration": 105,
    "start_time": "2022-07-30T08:59:38.695Z"
   },
   {
    "duration": 142,
    "start_time": "2022-07-30T09:00:07.699Z"
   },
   {
    "duration": 116,
    "start_time": "2022-07-30T09:00:12.251Z"
   },
   {
    "duration": 91,
    "start_time": "2022-07-30T09:01:20.914Z"
   },
   {
    "duration": 89,
    "start_time": "2022-07-30T09:01:33.649Z"
   },
   {
    "duration": 90,
    "start_time": "2022-07-30T09:01:49.600Z"
   },
   {
    "duration": 77,
    "start_time": "2022-07-30T09:02:00.181Z"
   },
   {
    "duration": 82,
    "start_time": "2022-07-30T09:02:11.551Z"
   },
   {
    "duration": 200,
    "start_time": "2022-07-30T09:02:26.815Z"
   },
   {
    "duration": 164,
    "start_time": "2022-07-30T09:02:31.414Z"
   },
   {
    "duration": 90,
    "start_time": "2022-07-30T09:02:37.695Z"
   },
   {
    "duration": 282,
    "start_time": "2022-07-30T09:02:43.343Z"
   },
   {
    "duration": 95,
    "start_time": "2022-07-30T09:02:46.918Z"
   },
   {
    "duration": 119,
    "start_time": "2022-07-30T09:03:31.784Z"
   },
   {
    "duration": 109,
    "start_time": "2022-07-30T09:03:36.924Z"
   },
   {
    "duration": 145,
    "start_time": "2022-07-30T09:04:19.514Z"
   },
   {
    "duration": 111,
    "start_time": "2022-07-30T09:04:47.443Z"
   },
   {
    "duration": 129,
    "start_time": "2022-07-30T09:05:08.530Z"
   },
   {
    "duration": 121,
    "start_time": "2022-07-30T09:05:35.285Z"
   },
   {
    "duration": 117,
    "start_time": "2022-07-30T09:06:08.719Z"
   },
   {
    "duration": 123,
    "start_time": "2022-07-30T09:06:17.161Z"
   },
   {
    "duration": 195,
    "start_time": "2022-07-30T09:06:51.339Z"
   },
   {
    "duration": 137,
    "start_time": "2022-07-30T09:06:55.534Z"
   },
   {
    "duration": 128,
    "start_time": "2022-07-30T09:07:38.508Z"
   },
   {
    "duration": 153,
    "start_time": "2022-07-30T09:07:54.179Z"
   },
   {
    "duration": 116,
    "start_time": "2022-07-30T09:11:49.353Z"
   },
   {
    "duration": 153,
    "start_time": "2022-07-30T09:15:49.943Z"
   },
   {
    "duration": 152,
    "start_time": "2022-07-30T09:16:42.878Z"
   },
   {
    "duration": 191,
    "start_time": "2022-07-30T09:17:26.421Z"
   },
   {
    "duration": 187,
    "start_time": "2022-07-30T09:17:34.297Z"
   },
   {
    "duration": 1413,
    "start_time": "2022-07-30T09:17:51.453Z"
   },
   {
    "duration": 177,
    "start_time": "2022-07-30T09:19:04.493Z"
   },
   {
    "duration": 90,
    "start_time": "2022-07-30T09:19:10.933Z"
   },
   {
    "duration": 785,
    "start_time": "2022-07-30T09:19:31.803Z"
   },
   {
    "duration": 1430,
    "start_time": "2022-07-30T09:20:49.574Z"
   },
   {
    "duration": 531,
    "start_time": "2022-07-30T09:21:21.373Z"
   },
   {
    "duration": 356,
    "start_time": "2022-07-30T09:22:03.437Z"
   },
   {
    "duration": 2861,
    "start_time": "2022-07-30T09:22:26.303Z"
   },
   {
    "duration": 79,
    "start_time": "2022-07-30T09:23:23.003Z"
   },
   {
    "duration": 2602,
    "start_time": "2022-07-30T09:23:32.444Z"
   },
   {
    "duration": 85,
    "start_time": "2022-07-30T09:25:57.329Z"
   },
   {
    "duration": 195,
    "start_time": "2022-07-30T09:26:47.182Z"
   },
   {
    "duration": 128,
    "start_time": "2022-07-30T09:27:02.997Z"
   },
   {
    "duration": 76,
    "start_time": "2022-07-30T09:27:17.436Z"
   },
   {
    "duration": 79,
    "start_time": "2022-07-30T09:27:47.407Z"
   },
   {
    "duration": 70,
    "start_time": "2022-07-30T09:29:57.882Z"
   },
   {
    "duration": 149,
    "start_time": "2022-07-30T09:33:17.525Z"
   },
   {
    "duration": 182,
    "start_time": "2022-07-30T09:33:24.599Z"
   },
   {
    "duration": 594,
    "start_time": "2022-07-30T09:33:32.177Z"
   },
   {
    "duration": 150,
    "start_time": "2022-07-30T09:33:49.184Z"
   },
   {
    "duration": 120,
    "start_time": "2022-07-30T09:34:01.322Z"
   },
   {
    "duration": 198,
    "start_time": "2022-07-30T09:43:25.503Z"
   },
   {
    "duration": 139,
    "start_time": "2022-07-30T09:43:35.486Z"
   },
   {
    "duration": 82,
    "start_time": "2022-07-30T09:43:47.660Z"
   },
   {
    "duration": 72,
    "start_time": "2022-07-30T09:43:56.973Z"
   },
   {
    "duration": 76,
    "start_time": "2022-07-30T09:44:34.904Z"
   },
   {
    "duration": 71,
    "start_time": "2022-07-30T09:44:57.183Z"
   },
   {
    "duration": 81,
    "start_time": "2022-07-30T09:45:16.896Z"
   },
   {
    "duration": 100,
    "start_time": "2022-07-30T09:45:49.857Z"
   },
   {
    "duration": 110,
    "start_time": "2022-07-30T09:45:57.954Z"
   },
   {
    "duration": 164,
    "start_time": "2022-07-30T09:47:17.540Z"
   },
   {
    "duration": 98,
    "start_time": "2022-07-30T09:47:27.155Z"
   },
   {
    "duration": 173,
    "start_time": "2022-07-30T09:47:57.073Z"
   },
   {
    "duration": 78,
    "start_time": "2022-07-30T09:50:31.340Z"
   },
   {
    "duration": 134,
    "start_time": "2022-07-30T09:51:31.683Z"
   },
   {
    "duration": 75,
    "start_time": "2022-07-30T09:51:50.478Z"
   },
   {
    "duration": 75,
    "start_time": "2022-07-30T09:52:08.373Z"
   },
   {
    "duration": 84,
    "start_time": "2022-07-30T09:52:32.205Z"
   },
   {
    "duration": 145,
    "start_time": "2022-07-30T09:53:47.589Z"
   },
   {
    "duration": 73,
    "start_time": "2022-07-30T09:54:07.574Z"
   },
   {
    "duration": 82,
    "start_time": "2022-07-30T09:54:18.244Z"
   },
   {
    "duration": 85,
    "start_time": "2022-07-30T09:54:47.851Z"
   },
   {
    "duration": 87,
    "start_time": "2022-07-30T09:54:51.609Z"
   },
   {
    "duration": 85,
    "start_time": "2022-07-30T09:55:16.373Z"
   },
   {
    "duration": 87,
    "start_time": "2022-07-30T09:57:23.620Z"
   },
   {
    "duration": 141,
    "start_time": "2022-07-30T10:00:26.936Z"
   },
   {
    "duration": 73,
    "start_time": "2022-07-30T10:00:35.383Z"
   },
   {
    "duration": 136,
    "start_time": "2022-07-30T10:01:06.511Z"
   },
   {
    "duration": 73,
    "start_time": "2022-07-30T10:01:11.293Z"
   },
   {
    "duration": 80,
    "start_time": "2022-07-30T10:01:25.639Z"
   },
   {
    "duration": 148,
    "start_time": "2022-07-30T10:01:35.245Z"
   },
   {
    "duration": 76,
    "start_time": "2022-07-30T10:01:42.011Z"
   },
   {
    "duration": 69,
    "start_time": "2022-07-30T10:01:58.088Z"
   },
   {
    "duration": 86,
    "start_time": "2022-07-30T10:03:16.419Z"
   },
   {
    "duration": 84,
    "start_time": "2022-07-30T10:04:02.729Z"
   },
   {
    "duration": 73,
    "start_time": "2022-07-30T10:05:14.357Z"
   },
   {
    "duration": 74,
    "start_time": "2022-07-30T10:05:33.071Z"
   },
   {
    "duration": 124,
    "start_time": "2022-07-30T10:06:41.045Z"
   },
   {
    "duration": 93,
    "start_time": "2022-07-30T10:06:52.388Z"
   },
   {
    "duration": 179,
    "start_time": "2022-07-30T10:07:49.907Z"
   },
   {
    "duration": 75,
    "start_time": "2022-07-30T10:08:00.391Z"
   },
   {
    "duration": 137,
    "start_time": "2022-07-30T10:08:07.662Z"
   },
   {
    "duration": 71,
    "start_time": "2022-07-30T10:08:20.806Z"
   },
   {
    "duration": 131,
    "start_time": "2022-07-30T10:08:54.363Z"
   },
   {
    "duration": 73,
    "start_time": "2022-07-30T10:15:29.097Z"
   },
   {
    "duration": 141,
    "start_time": "2022-07-30T10:15:36.665Z"
   },
   {
    "duration": 135,
    "start_time": "2022-07-30T10:15:46.579Z"
   },
   {
    "duration": 71,
    "start_time": "2022-07-30T10:15:51.198Z"
   },
   {
    "duration": 175,
    "start_time": "2022-07-30T10:16:02.854Z"
   },
   {
    "duration": 71,
    "start_time": "2022-07-30T10:16:09.713Z"
   },
   {
    "duration": 70,
    "start_time": "2022-07-30T10:16:25.370Z"
   },
   {
    "duration": 126,
    "start_time": "2022-07-30T10:17:10.453Z"
   },
   {
    "duration": 136,
    "start_time": "2022-07-30T10:17:25.341Z"
   },
   {
    "duration": 71,
    "start_time": "2022-07-30T10:17:43.812Z"
   },
   {
    "duration": 70,
    "start_time": "2022-07-30T10:18:34.464Z"
   },
   {
    "duration": 118,
    "start_time": "2022-07-30T10:18:43.268Z"
   },
   {
    "duration": 71,
    "start_time": "2022-07-30T10:18:48.177Z"
   },
   {
    "duration": 85,
    "start_time": "2022-07-30T10:21:01.504Z"
   },
   {
    "duration": 123,
    "start_time": "2022-07-30T10:21:19.187Z"
   },
   {
    "duration": 74,
    "start_time": "2022-07-30T10:21:23.853Z"
   },
   {
    "duration": 72,
    "start_time": "2022-07-30T10:22:16.956Z"
   },
   {
    "duration": 72,
    "start_time": "2022-07-30T10:23:57.823Z"
   },
   {
    "duration": 72,
    "start_time": "2022-07-30T10:24:13.203Z"
   },
   {
    "duration": 74,
    "start_time": "2022-07-30T10:24:21.869Z"
   },
   {
    "duration": 72,
    "start_time": "2022-07-30T10:25:37.720Z"
   },
   {
    "duration": 71,
    "start_time": "2022-07-30T10:25:46.147Z"
   },
   {
    "duration": 139,
    "start_time": "2022-07-30T10:28:22.676Z"
   },
   {
    "duration": 72,
    "start_time": "2022-07-30T10:28:34.154Z"
   },
   {
    "duration": 74,
    "start_time": "2022-07-30T10:28:44.619Z"
   },
   {
    "duration": 177,
    "start_time": "2022-07-30T10:30:55.833Z"
   },
   {
    "duration": 130,
    "start_time": "2022-07-30T10:31:23.343Z"
   },
   {
    "duration": 131,
    "start_time": "2022-07-30T10:31:47.121Z"
   },
   {
    "duration": 121,
    "start_time": "2022-07-30T10:31:56.705Z"
   },
   {
    "duration": 73,
    "start_time": "2022-07-30T10:32:09.028Z"
   },
   {
    "duration": 73,
    "start_time": "2022-07-30T10:32:24.912Z"
   },
   {
    "duration": 72,
    "start_time": "2022-07-30T10:32:59.029Z"
   },
   {
    "duration": 91,
    "start_time": "2022-07-30T10:37:02.258Z"
   },
   {
    "duration": 74,
    "start_time": "2022-07-30T10:37:09.323Z"
   },
   {
    "duration": 73,
    "start_time": "2022-07-30T10:37:31.563Z"
   },
   {
    "duration": 85,
    "start_time": "2022-07-30T10:37:36.142Z"
   },
   {
    "duration": 76,
    "start_time": "2022-07-30T10:37:40.879Z"
   },
   {
    "duration": 120,
    "start_time": "2022-07-30T10:39:48.523Z"
   },
   {
    "duration": 136,
    "start_time": "2022-07-30T10:40:24.085Z"
   },
   {
    "duration": 107,
    "start_time": "2022-07-30T10:40:41.610Z"
   },
   {
    "duration": 110,
    "start_time": "2022-07-30T10:41:54.546Z"
   },
   {
    "duration": 119,
    "start_time": "2022-07-30T10:43:13.857Z"
   },
   {
    "duration": 130,
    "start_time": "2022-07-30T10:43:28.252Z"
   },
   {
    "duration": 122,
    "start_time": "2022-07-30T10:43:39.925Z"
   },
   {
    "duration": 134,
    "start_time": "2022-07-30T10:43:47.412Z"
   },
   {
    "duration": 118,
    "start_time": "2022-07-30T10:44:00.457Z"
   },
   {
    "duration": 116,
    "start_time": "2022-07-30T10:45:53.526Z"
   },
   {
    "duration": 119,
    "start_time": "2022-07-30T10:46:07.590Z"
   },
   {
    "duration": 132,
    "start_time": "2022-07-30T10:46:25.736Z"
   },
   {
    "duration": 112,
    "start_time": "2022-07-30T10:46:44.527Z"
   },
   {
    "duration": 126,
    "start_time": "2022-07-30T10:47:57.853Z"
   },
   {
    "duration": 100,
    "start_time": "2022-07-30T10:48:05.833Z"
   },
   {
    "duration": 106,
    "start_time": "2022-07-30T10:48:14.714Z"
   },
   {
    "duration": 145,
    "start_time": "2022-07-30T10:48:50.675Z"
   },
   {
    "duration": 119,
    "start_time": "2022-07-30T10:49:00.625Z"
   },
   {
    "duration": 112,
    "start_time": "2022-07-30T10:49:22.906Z"
   },
   {
    "duration": 115,
    "start_time": "2022-07-30T10:49:28.648Z"
   },
   {
    "duration": 102,
    "start_time": "2022-07-30T10:51:00.260Z"
   },
   {
    "duration": 126,
    "start_time": "2022-07-30T10:53:48.461Z"
   },
   {
    "duration": 114,
    "start_time": "2022-07-30T10:53:52.123Z"
   },
   {
    "duration": 126,
    "start_time": "2022-07-30T10:54:31.464Z"
   },
   {
    "duration": 135,
    "start_time": "2022-07-30T10:57:01.074Z"
   },
   {
    "duration": 124,
    "start_time": "2022-07-30T10:57:12.091Z"
   },
   {
    "duration": 74,
    "start_time": "2022-07-30T10:58:16.489Z"
   },
   {
    "duration": 147,
    "start_time": "2022-07-30T11:01:15.901Z"
   },
   {
    "duration": 73,
    "start_time": "2022-07-30T11:01:25.844Z"
   },
   {
    "duration": 73,
    "start_time": "2022-07-30T11:06:41.381Z"
   },
   {
    "duration": 123,
    "start_time": "2022-07-30T11:10:29.578Z"
   },
   {
    "duration": 73,
    "start_time": "2022-07-30T11:10:40.565Z"
   },
   {
    "duration": 124,
    "start_time": "2022-07-30T11:11:00.517Z"
   },
   {
    "duration": 168,
    "start_time": "2022-07-30T11:11:17.652Z"
   },
   {
    "duration": 74,
    "start_time": "2022-07-30T11:11:24.491Z"
   },
   {
    "duration": 115,
    "start_time": "2022-07-30T11:11:41.284Z"
   },
   {
    "duration": 86,
    "start_time": "2022-07-30T11:11:50.712Z"
   },
   {
    "duration": 85,
    "start_time": "2022-07-30T11:12:24.903Z"
   },
   {
    "duration": 85,
    "start_time": "2022-07-30T11:12:28.971Z"
   },
   {
    "duration": 156,
    "start_time": "2022-07-30T11:14:14.565Z"
   },
   {
    "duration": 202,
    "start_time": "2022-07-30T11:17:42.539Z"
   },
   {
    "duration": 141,
    "start_time": "2022-07-30T11:17:55.360Z"
   },
   {
    "duration": 87,
    "start_time": "2022-07-30T11:18:02.093Z"
   },
   {
    "duration": 154,
    "start_time": "2022-07-30T11:18:44.908Z"
   },
   {
    "duration": 147,
    "start_time": "2022-07-30T11:18:51.098Z"
   },
   {
    "duration": 1004,
    "start_time": "2022-07-30T11:18:57.852Z"
   },
   {
    "duration": 133,
    "start_time": "2022-07-30T11:19:29.847Z"
   },
   {
    "duration": 123,
    "start_time": "2022-07-30T11:19:42.432Z"
   },
   {
    "duration": 75,
    "start_time": "2022-07-30T11:19:46.424Z"
   },
   {
    "duration": 71,
    "start_time": "2022-07-30T11:19:58.144Z"
   },
   {
    "duration": 138,
    "start_time": "2022-07-30T11:20:35.907Z"
   },
   {
    "duration": 1145,
    "start_time": "2022-07-30T11:20:51.789Z"
   },
   {
    "duration": 131,
    "start_time": "2022-07-30T11:21:08.422Z"
   },
   {
    "duration": 74,
    "start_time": "2022-07-30T11:21:15.861Z"
   },
   {
    "duration": 148,
    "start_time": "2022-07-30T11:22:01.614Z"
   },
   {
    "duration": 78,
    "start_time": "2022-07-30T11:22:11.736Z"
   },
   {
    "duration": 177,
    "start_time": "2022-07-30T11:22:11.816Z"
   },
   {
    "duration": 0,
    "start_time": "2022-07-30T11:22:11.996Z"
   },
   {
    "duration": 149,
    "start_time": "2022-07-30T11:22:49.551Z"
   },
   {
    "duration": 194,
    "start_time": "2022-07-30T11:23:05.417Z"
   },
   {
    "duration": 77,
    "start_time": "2022-07-30T11:23:13.563Z"
   },
   {
    "duration": 132,
    "start_time": "2022-07-30T11:23:13.643Z"
   },
   {
    "duration": 142,
    "start_time": "2022-07-30T11:24:30.133Z"
   },
   {
    "duration": 186,
    "start_time": "2022-07-30T11:24:41.973Z"
   },
   {
    "duration": 73,
    "start_time": "2022-07-30T11:25:22.893Z"
   },
   {
    "duration": 77,
    "start_time": "2022-07-30T11:26:04.688Z"
   },
   {
    "duration": 91,
    "start_time": "2022-07-30T11:26:12.711Z"
   },
   {
    "duration": 74,
    "start_time": "2022-07-30T11:27:17.094Z"
   },
   {
    "duration": 77,
    "start_time": "2022-07-30T11:27:35.334Z"
   },
   {
    "duration": 74,
    "start_time": "2022-07-30T11:28:28.924Z"
   },
   {
    "duration": 83,
    "start_time": "2022-07-30T11:28:46.135Z"
   },
   {
    "duration": 81,
    "start_time": "2022-07-30T11:28:53.446Z"
   },
   {
    "duration": 128,
    "start_time": "2022-07-30T11:29:04.892Z"
   },
   {
    "duration": 134,
    "start_time": "2022-07-30T11:29:12.261Z"
   },
   {
    "duration": 80,
    "start_time": "2022-07-30T11:29:19.693Z"
   },
   {
    "duration": 85,
    "start_time": "2022-07-30T11:30:01.292Z"
   },
   {
    "duration": 77,
    "start_time": "2022-07-30T11:30:19.021Z"
   },
   {
    "duration": 183,
    "start_time": "2022-07-30T11:30:26.189Z"
   },
   {
    "duration": 75,
    "start_time": "2022-07-30T11:30:37.163Z"
   },
   {
    "duration": 75,
    "start_time": "2022-07-30T11:30:48.066Z"
   },
   {
    "duration": 132,
    "start_time": "2022-07-30T11:31:12.223Z"
   },
   {
    "duration": 128,
    "start_time": "2022-07-30T11:31:17.256Z"
   },
   {
    "duration": 96,
    "start_time": "2022-07-30T11:31:24.173Z"
   },
   {
    "duration": 76,
    "start_time": "2022-07-30T11:31:30.298Z"
   },
   {
    "duration": 75,
    "start_time": "2022-07-30T11:32:33.826Z"
   },
   {
    "duration": 154,
    "start_time": "2022-07-30T11:33:10.933Z"
   },
   {
    "duration": 75,
    "start_time": "2022-07-30T11:33:16.494Z"
   },
   {
    "duration": 127,
    "start_time": "2022-07-30T11:33:33.820Z"
   },
   {
    "duration": 136,
    "start_time": "2022-07-30T11:33:42.795Z"
   },
   {
    "duration": 150,
    "start_time": "2022-07-30T11:33:50.221Z"
   },
   {
    "duration": 153,
    "start_time": "2022-07-30T11:33:58.689Z"
   },
   {
    "duration": 127,
    "start_time": "2022-07-30T11:34:05.656Z"
   },
   {
    "duration": 73,
    "start_time": "2022-07-30T11:34:31.496Z"
   },
   {
    "duration": 79,
    "start_time": "2022-07-30T11:34:36.368Z"
   },
   {
    "duration": 126,
    "start_time": "2022-07-30T11:35:19.747Z"
   },
   {
    "duration": 159,
    "start_time": "2022-07-30T11:35:28.200Z"
   },
   {
    "duration": 132,
    "start_time": "2022-07-30T11:35:37.118Z"
   },
   {
    "duration": 76,
    "start_time": "2022-07-30T11:35:45.983Z"
   },
   {
    "duration": 124,
    "start_time": "2022-07-30T11:36:02.991Z"
   },
   {
    "duration": 170,
    "start_time": "2022-07-30T11:36:13.011Z"
   },
   {
    "duration": 78,
    "start_time": "2022-07-30T11:36:26.820Z"
   },
   {
    "duration": 74,
    "start_time": "2022-07-30T11:39:16.011Z"
   },
   {
    "duration": 74,
    "start_time": "2022-07-30T11:39:50.712Z"
   },
   {
    "duration": 72,
    "start_time": "2022-07-30T11:39:57.119Z"
   },
   {
    "duration": 73,
    "start_time": "2022-07-30T11:40:19.096Z"
   },
   {
    "duration": 75,
    "start_time": "2022-07-30T11:40:27.324Z"
   },
   {
    "duration": 73,
    "start_time": "2022-07-30T11:40:56.976Z"
   },
   {
    "duration": 127,
    "start_time": "2022-07-30T11:41:09.321Z"
   },
   {
    "duration": 74,
    "start_time": "2022-07-30T11:41:22.944Z"
   },
   {
    "duration": 126,
    "start_time": "2022-07-30T11:42:13.269Z"
   },
   {
    "duration": 126,
    "start_time": "2022-07-30T11:42:18.370Z"
   },
   {
    "duration": 148,
    "start_time": "2022-07-30T11:42:22.342Z"
   },
   {
    "duration": 71,
    "start_time": "2022-07-30T11:42:25.307Z"
   },
   {
    "duration": 79,
    "start_time": "2022-07-30T11:42:58.668Z"
   },
   {
    "duration": 73,
    "start_time": "2022-07-30T11:43:10.907Z"
   },
   {
    "duration": 82,
    "start_time": "2022-07-30T11:43:23.351Z"
   },
   {
    "duration": 72,
    "start_time": "2022-07-30T11:44:17.264Z"
   },
   {
    "duration": 73,
    "start_time": "2022-07-30T11:44:29.148Z"
   },
   {
    "duration": 79,
    "start_time": "2022-07-30T11:45:08.691Z"
   },
   {
    "duration": 73,
    "start_time": "2022-07-30T11:46:21.885Z"
   },
   {
    "duration": 74,
    "start_time": "2022-07-30T11:46:47.439Z"
   },
   {
    "duration": 74,
    "start_time": "2022-07-30T11:47:38.891Z"
   },
   {
    "duration": 152,
    "start_time": "2022-07-30T11:48:29.236Z"
   },
   {
    "duration": 78,
    "start_time": "2022-07-30T11:48:34.559Z"
   },
   {
    "duration": 134,
    "start_time": "2022-07-30T11:49:25.879Z"
   },
   {
    "duration": 75,
    "start_time": "2022-07-30T11:50:04.692Z"
   },
   {
    "duration": 73,
    "start_time": "2022-07-30T11:50:54.297Z"
   },
   {
    "duration": 74,
    "start_time": "2022-07-30T11:50:55.381Z"
   },
   {
    "duration": 79,
    "start_time": "2022-07-30T11:52:32.861Z"
   },
   {
    "duration": 78,
    "start_time": "2022-07-30T11:52:39.471Z"
   },
   {
    "duration": 71,
    "start_time": "2022-07-30T11:53:22.308Z"
   },
   {
    "duration": 72,
    "start_time": "2022-07-30T11:53:27.753Z"
   },
   {
    "duration": 136,
    "start_time": "2022-07-30T11:54:05.660Z"
   },
   {
    "duration": 80,
    "start_time": "2022-07-30T11:54:10.237Z"
   },
   {
    "duration": 228,
    "start_time": "2022-07-30T11:54:33.380Z"
   },
   {
    "duration": 75,
    "start_time": "2022-07-30T11:54:39.366Z"
   },
   {
    "duration": 100,
    "start_time": "2022-07-30T11:54:46.368Z"
   },
   {
    "duration": 55,
    "start_time": "2022-07-30T12:09:57.581Z"
   },
   {
    "duration": 7,
    "start_time": "2022-07-30T12:10:13.730Z"
   },
   {
    "duration": 3,
    "start_time": "2022-07-30T12:10:40.002Z"
   },
   {
    "duration": 10,
    "start_time": "2022-07-30T12:10:55.559Z"
   },
   {
    "duration": 75,
    "start_time": "2022-07-30T12:15:33.323Z"
   },
   {
    "duration": 66,
    "start_time": "2022-07-30T12:17:01.159Z"
   },
   {
    "duration": 156,
    "start_time": "2022-07-30T12:19:09.184Z"
   },
   {
    "duration": 70,
    "start_time": "2022-07-30T12:19:17.796Z"
   },
   {
    "duration": 69,
    "start_time": "2022-07-30T12:20:56.674Z"
   },
   {
    "duration": 70,
    "start_time": "2022-07-30T12:21:23.737Z"
   },
   {
    "duration": 68,
    "start_time": "2022-07-30T12:21:52.089Z"
   },
   {
    "duration": 77,
    "start_time": "2022-07-30T12:21:56.604Z"
   },
   {
    "duration": 228,
    "start_time": "2022-07-30T12:22:34.871Z"
   },
   {
    "duration": 68,
    "start_time": "2022-07-30T12:22:49.259Z"
   },
   {
    "duration": 65,
    "start_time": "2022-07-30T15:27:26.736Z"
   },
   {
    "duration": 550,
    "start_time": "2022-08-12T14:28:12.522Z"
   },
   {
    "duration": 7471,
    "start_time": "2022-08-12T14:28:13.074Z"
   },
   {
    "duration": 4,
    "start_time": "2022-08-12T14:28:20.546Z"
   },
   {
    "duration": 6,
    "start_time": "2022-08-12T14:28:20.552Z"
   },
   {
    "duration": 369,
    "start_time": "2022-08-12T14:28:20.559Z"
   },
   {
    "duration": 5,
    "start_time": "2022-08-12T14:28:20.929Z"
   },
   {
    "duration": 45,
    "start_time": "2022-08-12T14:28:20.936Z"
   },
   {
    "duration": 149,
    "start_time": "2022-08-12T14:28:20.983Z"
   },
   {
    "duration": 20,
    "start_time": "2022-08-12T14:28:21.134Z"
   },
   {
    "duration": 147,
    "start_time": "2022-08-12T14:28:21.157Z"
   },
   {
    "duration": 20,
    "start_time": "2022-08-12T14:28:21.306Z"
   },
   {
    "duration": 191,
    "start_time": "2022-08-12T14:28:21.327Z"
   },
   {
    "duration": 28,
    "start_time": "2022-08-12T14:28:21.519Z"
   },
   {
    "duration": 158,
    "start_time": "2022-08-12T14:28:21.548Z"
   },
   {
    "duration": 35,
    "start_time": "2022-08-12T14:28:21.707Z"
   },
   {
    "duration": 74,
    "start_time": "2022-08-12T14:28:21.744Z"
   },
   {
    "duration": 97,
    "start_time": "2022-08-12T14:28:21.820Z"
   },
   {
    "duration": 106,
    "start_time": "2022-08-12T14:28:21.919Z"
   },
   {
    "duration": 91,
    "start_time": "2022-08-12T14:28:22.027Z"
   },
   {
    "duration": 78,
    "start_time": "2022-08-12T14:28:22.120Z"
   },
   {
    "duration": 78,
    "start_time": "2022-08-12T14:28:22.200Z"
   },
   {
    "duration": 81,
    "start_time": "2022-08-12T14:28:22.280Z"
   },
   {
    "duration": 82,
    "start_time": "2022-08-12T14:28:22.363Z"
   },
   {
    "duration": 78,
    "start_time": "2022-08-12T14:28:22.447Z"
   },
   {
    "duration": 77,
    "start_time": "2022-08-12T14:28:22.527Z"
   },
   {
    "duration": 84,
    "start_time": "2022-08-12T14:31:27.517Z"
   },
   {
    "duration": 83,
    "start_time": "2022-08-12T14:31:43.251Z"
   },
   {
    "duration": 486,
    "start_time": "2022-08-13T08:56:18.034Z"
   },
   {
    "duration": 9759,
    "start_time": "2022-08-13T08:56:18.522Z"
   },
   {
    "duration": 3,
    "start_time": "2022-08-13T08:56:28.283Z"
   },
   {
    "duration": 8,
    "start_time": "2022-08-13T08:56:28.288Z"
   },
   {
    "duration": 374,
    "start_time": "2022-08-13T08:56:28.298Z"
   },
   {
    "duration": 5,
    "start_time": "2022-08-13T08:56:28.673Z"
   },
   {
    "duration": 40,
    "start_time": "2022-08-13T08:56:28.680Z"
   },
   {
    "duration": 150,
    "start_time": "2022-08-13T08:56:28.722Z"
   },
   {
    "duration": 22,
    "start_time": "2022-08-13T08:56:28.874Z"
   },
   {
    "duration": 149,
    "start_time": "2022-08-13T08:56:28.900Z"
   },
   {
    "duration": 22,
    "start_time": "2022-08-13T08:56:29.051Z"
   },
   {
    "duration": 180,
    "start_time": "2022-08-13T08:56:29.075Z"
   },
   {
    "duration": 30,
    "start_time": "2022-08-13T08:56:29.257Z"
   },
   {
    "duration": 159,
    "start_time": "2022-08-13T08:56:29.288Z"
   },
   {
    "duration": 27,
    "start_time": "2022-08-13T08:56:29.448Z"
   },
   {
    "duration": 75,
    "start_time": "2022-08-13T08:56:29.477Z"
   },
   {
    "duration": 96,
    "start_time": "2022-08-13T08:56:29.554Z"
   },
   {
    "duration": 102,
    "start_time": "2022-08-13T08:56:29.652Z"
   },
   {
    "duration": 91,
    "start_time": "2022-08-13T08:56:29.755Z"
   },
   {
    "duration": 78,
    "start_time": "2022-08-13T08:56:29.847Z"
   },
   {
    "duration": 79,
    "start_time": "2022-08-13T08:56:29.927Z"
   },
   {
    "duration": 82,
    "start_time": "2022-08-13T08:56:30.008Z"
   },
   {
    "duration": 83,
    "start_time": "2022-08-13T08:56:30.091Z"
   },
   {
    "duration": 76,
    "start_time": "2022-08-13T08:56:30.176Z"
   },
   {
    "duration": 80,
    "start_time": "2022-08-13T08:56:30.254Z"
   },
   {
    "duration": 228,
    "start_time": "2022-08-13T08:58:49.723Z"
   },
   {
    "duration": 409,
    "start_time": "2022-08-13T08:58:57.177Z"
   },
   {
    "duration": 317,
    "start_time": "2022-08-13T09:00:48.433Z"
   },
   {
    "duration": 191,
    "start_time": "2022-08-13T09:01:07.692Z"
   },
   {
    "duration": 1891,
    "start_time": "2022-08-13T09:02:14.048Z"
   },
   {
    "duration": 572,
    "start_time": "2022-08-13T09:02:47.432Z"
   },
   {
    "duration": 3100,
    "start_time": "2022-08-13T09:03:00.616Z"
   },
   {
    "duration": 1525,
    "start_time": "2022-08-13T09:03:15.510Z"
   },
   {
    "duration": 84,
    "start_time": "2022-08-13T09:04:25.827Z"
   },
   {
    "duration": 82,
    "start_time": "2022-08-13T09:04:29.383Z"
   },
   {
    "duration": 83,
    "start_time": "2022-08-13T09:04:32.870Z"
   },
   {
    "duration": 83,
    "start_time": "2022-08-13T09:04:42.219Z"
   },
   {
    "duration": 5153,
    "start_time": "2022-08-13T09:04:45.345Z"
   },
   {
    "duration": 81,
    "start_time": "2022-08-13T09:05:03.358Z"
   },
   {
    "duration": 667,
    "start_time": "2022-08-15T09:38:39.024Z"
   },
   {
    "duration": 6829,
    "start_time": "2022-08-15T09:38:39.694Z"
   },
   {
    "duration": 4,
    "start_time": "2022-08-15T09:38:46.526Z"
   },
   {
    "duration": 11,
    "start_time": "2022-08-15T09:38:46.532Z"
   },
   {
    "duration": 410,
    "start_time": "2022-08-15T09:38:46.546Z"
   },
   {
    "duration": 7,
    "start_time": "2022-08-15T09:38:46.959Z"
   },
   {
    "duration": 70,
    "start_time": "2022-08-15T09:38:46.968Z"
   },
   {
    "duration": 158,
    "start_time": "2022-08-15T09:38:47.041Z"
   },
   {
    "duration": 35,
    "start_time": "2022-08-15T09:38:47.201Z"
   },
   {
    "duration": 174,
    "start_time": "2022-08-15T09:38:47.238Z"
   },
   {
    "duration": 26,
    "start_time": "2022-08-15T09:38:47.414Z"
   },
   {
    "duration": 310,
    "start_time": "2022-08-15T09:38:47.442Z"
   },
   {
    "duration": 47,
    "start_time": "2022-08-15T09:38:47.754Z"
   },
   {
    "duration": 182,
    "start_time": "2022-08-15T09:38:47.805Z"
   },
   {
    "duration": 40,
    "start_time": "2022-08-15T09:38:47.989Z"
   },
   {
    "duration": 100,
    "start_time": "2022-08-15T09:38:48.037Z"
   },
   {
    "duration": 120,
    "start_time": "2022-08-15T09:38:48.139Z"
   },
   {
    "duration": 108,
    "start_time": "2022-08-15T09:38:48.262Z"
   },
   {
    "duration": 505,
    "start_time": "2022-08-15T09:38:48.372Z"
   },
   {
    "duration": 97,
    "start_time": "2022-08-15T09:38:48.879Z"
   },
   {
    "duration": 86,
    "start_time": "2022-08-15T09:38:48.978Z"
   },
   {
    "duration": 83,
    "start_time": "2022-08-15T09:38:49.067Z"
   },
   {
    "duration": 105,
    "start_time": "2022-08-15T09:38:49.152Z"
   },
   {
    "duration": 90,
    "start_time": "2022-08-15T09:38:49.259Z"
   },
   {
    "duration": 88,
    "start_time": "2022-08-15T09:38:49.352Z"
   },
   {
    "duration": 81,
    "start_time": "2022-08-15T09:38:49.442Z"
   },
   {
    "duration": 271,
    "start_time": "2022-08-15T09:39:06.833Z"
   },
   {
    "duration": 204,
    "start_time": "2022-08-15T09:39:37.066Z"
   },
   {
    "duration": 167,
    "start_time": "2022-08-15T09:40:26.908Z"
   },
   {
    "duration": 160,
    "start_time": "2022-08-15T09:40:43.047Z"
   },
   {
    "duration": 108,
    "start_time": "2022-08-15T09:42:07.164Z"
   },
   {
    "duration": 46,
    "start_time": "2022-08-17T17:30:17.771Z"
   },
   {
    "duration": 502,
    "start_time": "2022-08-17T17:30:20.263Z"
   },
   {
    "duration": 9426,
    "start_time": "2022-08-17T17:30:20.766Z"
   },
   {
    "duration": 2,
    "start_time": "2022-08-17T17:30:30.194Z"
   },
   {
    "duration": 16,
    "start_time": "2022-08-17T17:30:30.198Z"
   },
   {
    "duration": 87,
    "start_time": "2022-08-17T17:30:30.216Z"
   },
   {
    "duration": 4,
    "start_time": "2022-08-17T17:30:30.305Z"
   },
   {
    "duration": 45,
    "start_time": "2022-08-17T17:30:30.310Z"
   },
   {
    "duration": 16,
    "start_time": "2022-08-17T17:30:30.357Z"
   },
   {
    "duration": 20,
    "start_time": "2022-08-17T17:30:30.375Z"
   },
   {
    "duration": 21,
    "start_time": "2022-08-17T17:30:30.398Z"
   },
   {
    "duration": 21,
    "start_time": "2022-08-17T17:30:30.421Z"
   },
   {
    "duration": 44,
    "start_time": "2022-08-17T17:30:30.456Z"
   },
   {
    "duration": 29,
    "start_time": "2022-08-17T17:30:30.502Z"
   },
   {
    "duration": 44,
    "start_time": "2022-08-17T17:30:30.533Z"
   },
   {
    "duration": 29,
    "start_time": "2022-08-17T17:30:30.578Z"
   },
   {
    "duration": 10,
    "start_time": "2022-08-17T17:30:30.608Z"
   },
   {
    "duration": 35,
    "start_time": "2022-08-17T17:30:30.620Z"
   },
   {
    "duration": 36,
    "start_time": "2022-08-17T17:30:30.657Z"
   },
   {
    "duration": 264,
    "start_time": "2022-08-17T17:30:30.695Z"
   },
   {
    "duration": 25,
    "start_time": "2022-08-17T17:30:30.960Z"
   },
   {
    "duration": 13,
    "start_time": "2022-08-17T17:30:30.986Z"
   },
   {
    "duration": 11,
    "start_time": "2022-08-17T17:30:31.001Z"
   },
   {
    "duration": 16,
    "start_time": "2022-08-17T17:30:31.030Z"
   },
   {
    "duration": 126,
    "start_time": "2022-08-17T17:30:31.048Z"
   },
   {
    "duration": 17,
    "start_time": "2022-08-17T17:30:51.953Z"
   },
   {
    "duration": 116,
    "start_time": "2022-08-17T17:47:03.949Z"
   },
   {
    "duration": 14,
    "start_time": "2022-08-17T17:47:32.625Z"
   },
   {
    "duration": 97,
    "start_time": "2022-08-17T17:47:43.874Z"
   },
   {
    "duration": 97,
    "start_time": "2022-08-17T17:48:14.076Z"
   },
   {
    "duration": 14,
    "start_time": "2022-08-17T17:48:22.641Z"
   },
   {
    "duration": 17,
    "start_time": "2022-08-17T17:48:51.682Z"
   },
   {
    "duration": 11,
    "start_time": "2022-08-17T17:48:57.757Z"
   },
   {
    "duration": 34,
    "start_time": "2022-08-17T17:51:00.751Z"
   },
   {
    "duration": 55,
    "start_time": "2022-08-17T21:47:44.564Z"
   },
   {
    "duration": 557,
    "start_time": "2022-08-17T21:47:53.836Z"
   },
   {
    "duration": 5717,
    "start_time": "2022-08-17T21:47:54.396Z"
   },
   {
    "duration": 3,
    "start_time": "2022-08-17T21:48:00.118Z"
   },
   {
    "duration": 40,
    "start_time": "2022-08-17T21:48:00.123Z"
   },
   {
    "duration": 431,
    "start_time": "2022-08-17T21:48:00.166Z"
   },
   {
    "duration": 5,
    "start_time": "2022-08-17T21:48:00.599Z"
   },
   {
    "duration": 73,
    "start_time": "2022-08-17T21:48:00.605Z"
   },
   {
    "duration": 142,
    "start_time": "2022-08-17T21:48:00.680Z"
   },
   {
    "duration": 25,
    "start_time": "2022-08-17T21:48:00.823Z"
   },
   {
    "duration": 185,
    "start_time": "2022-08-17T21:48:00.850Z"
   },
   {
    "duration": 25,
    "start_time": "2022-08-17T21:48:01.037Z"
   },
   {
    "duration": 221,
    "start_time": "2022-08-17T21:48:01.064Z"
   },
   {
    "duration": 34,
    "start_time": "2022-08-17T21:48:01.287Z"
   },
   {
    "duration": 179,
    "start_time": "2022-08-17T21:48:01.324Z"
   },
   {
    "duration": 34,
    "start_time": "2022-08-17T21:48:01.505Z"
   },
   {
    "duration": 84,
    "start_time": "2022-08-17T21:48:02.201Z"
   },
   {
    "duration": 83,
    "start_time": "2022-08-17T21:50:47.136Z"
   },
   {
    "duration": 78,
    "start_time": "2022-08-17T21:52:10.973Z"
   },
   {
    "duration": 74,
    "start_time": "2022-08-17T21:52:15.726Z"
   },
   {
    "duration": 84,
    "start_time": "2022-08-17T21:53:01.892Z"
   },
   {
    "duration": 204,
    "start_time": "2022-08-17T21:53:13.150Z"
   },
   {
    "duration": 73,
    "start_time": "2022-08-17T21:53:17.921Z"
   },
   {
    "duration": 84,
    "start_time": "2022-08-17T21:53:55.248Z"
   },
   {
    "duration": 81,
    "start_time": "2022-08-17T21:55:06.281Z"
   }
  ],
  "kernelspec": {
   "display_name": "Python 3 (ipykernel)",
   "language": "python",
   "name": "python3"
  },
  "language_info": {
   "codemirror_mode": {
    "name": "ipython",
    "version": 3
   },
   "file_extension": ".py",
   "mimetype": "text/x-python",
   "name": "python",
   "nbconvert_exporter": "python",
   "pygments_lexer": "ipython3",
   "version": "3.9.5"
  },
  "toc": {
   "base_numbering": 1,
   "nav_menu": {},
   "number_sections": true,
   "sideBar": true,
   "skip_h1_title": true,
   "title_cell": "Table of Contents",
   "title_sidebar": "Contents",
   "toc_cell": false,
   "toc_position": {
    "height": "calc(100% - 180px)",
    "left": "10px",
    "top": "150px",
    "width": "278.494px"
   },
   "toc_section_display": true,
   "toc_window_display": true
  }
 },
 "nbformat": 4,
 "nbformat_minor": 5
}
